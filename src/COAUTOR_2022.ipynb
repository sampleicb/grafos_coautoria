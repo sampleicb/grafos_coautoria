{
 "cells": [
  {
   "cell_type": "code",
   "execution_count": 0,
   "metadata": {
    "application/vnd.databricks.v1+cell": {
     "cellMetadata": {
      "byteLimit": 2048000,
      "implicitDf": true,
      "rowLimit": 10000
     },
     "inputWidgets": {},
     "nuid": "937fada3-93b1-4a9c-932c-dad96da63055",
     "showTitle": false,
     "tableResultSettingsMap": {},
     "title": ""
    }
   },
   "outputs": [
    {
     "output_type": "display_data",
     "data": {
      "text/html": [
       "<style scoped>\n",
       "  .table-result-container {\n",
       "    max-height: 300px;\n",
       "    overflow: auto;\n",
       "  }\n",
       "  table, th, td {\n",
       "    border: 1px solid black;\n",
       "    border-collapse: collapse;\n",
       "  }\n",
       "  th, td {\n",
       "    padding: 5px;\n",
       "  }\n",
       "  th {\n",
       "    text-align: left;\n",
       "  }\n",
       "</style><div class='table-result-container'><table class='table-result'><thead style='background-color: white'><tr><th>num_affected_rows</th><th>num_inserted_rows</th></tr></thead><tbody></tbody></table></div>"
      ]
     },
     "metadata": {
      "application/vnd.databricks.v1+output": {
       "addedWidgets": {},
       "aggData": [],
       "aggError": "",
       "aggOverflow": false,
       "aggSchema": [],
       "aggSeriesLimitReached": false,
       "aggType": "",
       "arguments": {},
       "columnCustomDisplayInfos": {},
       "data": [],
       "datasetInfos": [
        {
         "name": "_sqldf",
         "schema": {
          "fields": [
           {
            "metadata": {},
            "name": "num_affected_rows",
            "nullable": true,
            "type": "long"
           },
           {
            "metadata": {},
            "name": "num_inserted_rows",
            "nullable": true,
            "type": "long"
           }
          ],
          "type": "struct"
         },
         "tableIdentifier": null,
         "typeStr": "pyspark.sql.dataframe.DataFrame"
        }
       ],
       "dbfsResultPath": null,
       "isJsonSchema": true,
       "metadata": {
        "createTempViewForImplicitDf": true,
        "dataframeName": "_sqldf",
        "executionCount": 1
       },
       "overflow": false,
       "plotOptions": {
        "customPlotOptions": {},
        "displayType": "table",
        "pivotAggregation": null,
        "pivotColumns": null,
        "xColumns": null,
        "yColumns": null
       },
       "removedWidgets": [],
       "schema": [
        {
         "metadata": "{}",
         "name": "num_affected_rows",
         "type": "\"long\""
        },
        {
         "metadata": "{}",
         "name": "num_inserted_rows",
         "type": "\"long\""
        }
       ],
       "type": "table"
      }
     },
     "output_type": "display_data"
    }
   ],
   "source": [
    "%sql\n",
    "create or replace table pubmed_db.coautor_2022\n",
    "select distinct pmid, substr(year, 1, 4) AS year, authors from pubmed_temp_filtrado\n",
    "where  substr(year,1,4) = 2022 and authors.orcid is not null\n"
   ]
  },
  {
   "cell_type": "markdown",
   "metadata": {
    "application/vnd.databricks.v1+cell": {
     "cellMetadata": {
      "byteLimit": 2048000,
      "rowLimit": 10000
     },
     "inputWidgets": {},
     "nuid": "f07960f2-1505-46b7-9bd4-c925bc1f6c09",
     "showTitle": false,
     "tableResultSettingsMap": {},
     "title": ""
    }
   },
   "source": [
    "## CREAR ARISTAS Y NODOS"
   ]
  },
  {
   "cell_type": "code",
   "execution_count": 0,
   "metadata": {
    "application/vnd.databricks.v1+cell": {
     "cellMetadata": {
      "byteLimit": 2048000,
      "rowLimit": 10000
     },
     "inputWidgets": {},
     "nuid": "7ffea072-9d4b-49d9-9df1-ef45afb4bfd1",
     "showTitle": false,
     "tableResultSettingsMap": {},
     "title": ""
    }
   },
   "outputs": [
    {
     "output_type": "display_data",
     "data": {
      "text/html": [
       "<style scoped>\n",
       "  .table-result-container {\n",
       "    max-height: 300px;\n",
       "    overflow: auto;\n",
       "  }\n",
       "  table, th, td {\n",
       "    border: 1px solid black;\n",
       "    border-collapse: collapse;\n",
       "  }\n",
       "  th, td {\n",
       "    padding: 5px;\n",
       "  }\n",
       "  th {\n",
       "    text-align: left;\n",
       "  }\n",
       "</style><div class='table-result-container'><table class='table-result'><thead style='background-color: white'><tr><th>orcid</th><th>author_name</th><th>degree</th></tr></thead><tbody><tr><td>0000-0001-6827-8330</td><td>Anna Roberts</td><td>6</td></tr><tr><td>0000-0003-0290-9034</td><td>Ning Jiao</td><td>2</td></tr><tr><td>0000-0002-9292-3261</td><td>Lisa I Pilkington</td><td>16</td></tr><tr><td>0000-0002-6380-0414</td><td>Heeyeop Chae</td><td>5</td></tr><tr><td>0000-0002-9442-8301</td><td>Carlos Galhano</td><td>21</td></tr><tr><td>0000-0002-6181-7298</td><td>Bin Dong</td><td>1</td></tr><tr><td>0000-0003-4357-4269</td><td>João Paulo Brito</td><td>26</td></tr><tr><td>0000-0003-4357-4269</td><td>João Brito</td><td>26</td></tr><tr><td>0000-0001-9190-6913</td><td>Joanna Bojarska</td><td>19</td></tr><tr><td>0000-0001-7014-9095</td><td>Fumio Otsuka</td><td>17</td></tr><tr><td>0000-0001-7014-9095</td><td>F Otsuka</td><td>17</td></tr><tr><td>0000-0002-7779-5740</td><td>Sven Dekeyzer</td><td>4</td></tr><tr><td>0000-0002-7779-5740</td><td>S Dekeyzer</td><td>4</td></tr><tr><td>0000-0003-3095-2988</td><td>Nicole Indran</td><td>1</td></tr><tr><td>0000-0001-7168-5906</td><td>Ana C Medeiros-Ribeiro</td><td>6</td></tr><tr><td>0000-0001-6038-5131</td><td>Peder Af Geijerstam</td><td>1</td></tr><tr><td>0000-0003-1119-7980</td><td>Giacomo Angelini</td><td>6</td></tr><tr><td>0000-0003-3005-3317</td><td>Daren Mueller</td><td>10</td></tr><tr><td>0000-0002-0298-1012</td><td>Pascal Stammet</td><td>13</td></tr><tr><td>0000-0001-7443-0458</td><td>Azra Pašić</td><td>5</td></tr><tr><td>0000-0002-9549-3746</td><td>Ali Khosronejad</td><td>1</td></tr><tr><td>0000-0001-9732-0606</td><td>Jenny Lövdahl</td><td>1</td></tr><tr><td>0000-0002-7237-7654</td><td>Khanyaluck Subkrajang</td><td>3</td></tr><tr><td>0000-0001-6395-7422</td><td>Shaojie Song</td><td>9</td></tr><tr><td>0000-0002-2099-4714</td><td>Vicki S Helgeson</td><td>7</td></tr><tr><td>0000-0002-7117-0547</td><td>Adonis A Protopapas</td><td>6</td></tr><tr><td>0000-0002-7117-0547</td><td>Adonis Protopapas</td><td>6</td></tr><tr><td>0000-0003-0739-3735</td><td>Baojun Xu</td><td>30</td></tr><tr><td>0000-0003-1431-4054</td><td>Andrew T Trout</td><td>11</td></tr><tr><td>0000-0001-6133-7318</td><td>Cornelia Blume</td><td>9</td></tr><tr><td>0000-0002-2614-5027</td><td>Dan Yi</td><td>10</td></tr><tr><td>0000-0002-1297-6938</td><td>Iago Neira</td><td>3</td></tr><tr><td>0000-0002-2140-9732</td><td>Michal Pruc</td><td>42</td></tr><tr><td>0000-0002-2140-9732</td><td>Michał Pruc</td><td>42</td></tr><tr><td>0000-0002-8096-4277</td><td>Polina Trachuk</td><td>0</td></tr><tr><td>0000-0002-0185-6260</td><td>Lionel Blanc</td><td>16</td></tr><tr><td>0000-0002-1052-8605</td><td>Puy Hoon Tan</td><td>27</td></tr><tr><td>0000-0002-0861-6569</td><td>Jonne Åkerla</td><td>0</td></tr><tr><td>0000-0002-1052-8605</td><td>Puay Hoon Tan</td><td>27</td></tr><tr><td>0000-0001-6400-9600</td><td>Anatoliy Maslyukov</td><td>5</td></tr><tr><td>0000-0003-4905-6948</td><td>Riccardo Di Fiore</td><td>10</td></tr><tr><td>0000-0003-3878-2143</td><td>Olubanke Dzahini</td><td>4</td></tr><tr><td>0000-0003-1236-3047</td><td>Wei He</td><td>4</td></tr><tr><td>0000-0002-8707-6627</td><td>Rania El Lababidi</td><td>2</td></tr><tr><td>0000-0001-5284-8976</td><td>Zhengyun Ren</td><td>2</td></tr><tr><td>0000-0002-3484-3423</td><td>Shahryar Alavi</td><td>13</td></tr><tr><td>0000-0003-3923-0797</td><td>Curtis Deutsch</td><td>19</td></tr><tr><td>0000-0003-3923-0797</td><td>Curtis A Deutsch</td><td>19</td></tr><tr><td>0000-0001-5640-0458</td><td>Fan Xu</td><td>1</td></tr><tr><td>0000-0003-1745-4642</td><td>Shuang Zhang</td><td>15</td></tr><tr><td>0000-0002-2683-0366</td><td>Shutong Wei</td><td>1</td></tr><tr><td>0000-0002-1776-7844</td><td>Marlene Vuillemin</td><td>3</td></tr><tr><td>0000-0002-6211-5888</td><td>Mercedes Boronat</td><td>5</td></tr><tr><td>0000-0002-7290-5154</td><td>Parvesh Wadhwani</td><td>5</td></tr><tr><td>0000-0002-5553-0186</td><td>Junliang Yang</td><td>6</td></tr><tr><td>0000-0002-6659-6930</td><td>Benjamin D Thomas</td><td>27</td></tr><tr><td>0000-0002-6659-6930</td><td>Benjamin David Thomas</td><td>27</td></tr><tr><td>0000-0001-9527-0115</td><td>Yasutsugu Akasaki</td><td>15</td></tr><tr><td>0000-0002-0528-9531</td><td>Christine S Hopp</td><td>8</td></tr><tr><td>0000-0002-0528-9531</td><td>Christine Sarah Hopp</td><td>8</td></tr><tr><td>0000-0002-4248-0730</td><td>Dominik Martin-Creuzburg</td><td>2</td></tr><tr><td>0000-0003-1096-7779</td><td>Jacek Tomków</td><td>15</td></tr><tr><td>0000-0001-6449-5290</td><td>Enshuang Wang</td><td>3</td></tr><tr><td>0000-0002-6013-0785</td><td>Ya Zhang</td><td>0</td></tr><tr><td>0000-0003-2408-0781</td><td>Kazunobu Une</td><td>0</td></tr><tr><td>0000-0002-7715-3764</td><td>Olaia Lucas-Jiménez</td><td>12</td></tr><tr><td>0000-0001-7836-3360</td><td>Bu-Min Kim</td><td>3</td></tr><tr><td>0000-0002-0089-9314</td><td>Shengyong Mao</td><td>0</td></tr><tr><td>0000-0002-3607-6889</td><td>Jonathan Cools-Lartigue</td><td>2</td></tr><tr><td>0000-0003-3074-7175</td><td>Krzysztof Lewiński</td><td>5</td></tr><tr><td>0000-0002-9704-6579</td><td>Ana Paula Rodrigues</td><td>24</td></tr><tr><td>0000-0001-5332-6774</td><td>Simona Paladino</td><td>16</td></tr><tr><td>0000-0002-9704-6579</td><td>Ana P Rodrigues</td><td>24</td></tr><tr><td>0000-0002-3884-7720</td><td>Christopher M Grochowski</td><td>22</td></tr><tr><td>0000-0002-9190-3568</td><td>Olga L Sarmiento</td><td>26</td></tr><tr><td>0000-0002-9190-3568</td><td>Olga Lucia Sarmiento</td><td>26</td></tr><tr><td>0000-0002-9190-3568</td><td>Olga Lucía Sarmiento</td><td>26</td></tr><tr><td>0000-0002-5333-7286</td><td>Inês Carmo Luís</td><td>22</td></tr><tr><td>0000-0002-5333-7286</td><td>Inês Luis</td><td>22</td></tr><tr><td>0000-0003-3676-1568</td><td>Andrew Hacket-Pain</td><td>130</td></tr><tr><td>0000-0003-3372-5940</td><td>Victor Boutin</td><td>2</td></tr><tr><td>0000-0003-4597-5963</td><td>Daniel Goldhill</td><td>12</td></tr><tr><td>0000-0003-4597-5963</td><td>Daniel H Goldhill</td><td>12</td></tr><tr><td>0000-0002-2224-7456</td><td>Zhenbin Zhang</td><td>1</td></tr><tr><td>0000-0002-2454-4753</td><td>Adrián Salazar-Sánchez</td><td>3</td></tr><tr><td>0000-0002-5288-5037</td><td>Zhaopei Liu</td><td>4</td></tr><tr><td>0000-0002-4492-8383</td><td>Zsuzsa Kalmár</td><td>17</td></tr><tr><td>0000-0003-1750-3395</td><td>Rainer Kaiser</td><td>16</td></tr><tr><td>0000-0002-1466-5746</td><td>Incilay Lay</td><td>6</td></tr><tr><td>0000-0002-5614-0737</td><td>Yawei Li</td><td>2</td></tr><tr><td>0000-0002-8195-1267</td><td>Hirohisa Fujikawa</td><td>7</td></tr><tr><td>0000-0002-3477-9986</td><td>Geunwon Kim</td><td>4</td></tr><tr><td>0000-0001-9792-5971</td><td>Weiwei Xiao</td><td>6</td></tr><tr><td>0000-0001-9498-1505</td><td>Kunal Masania</td><td>8</td></tr><tr><td>0000-0002-4140-9959</td><td>Shin-Ichi Kawaguchi</td><td>1</td></tr><tr><td>0000-0001-6138-2338</td><td>Anna-Liisa Elorinne</td><td>3</td></tr><tr><td>0000-0001-9323-2035</td><td>Z Lin</td><td>10</td></tr><tr><td>0000-0001-9323-2035</td><td>Zhimiao Lin</td><td>10</td></tr><tr><td>0000-0001-5979-3082</td><td>Bei Liu</td><td>8</td></tr><tr><td>0000-0001-9685-9220</td><td>Chuansheng Hu</td><td>2</td></tr><tr><td>0000-0003-1521-7520</td><td>Alejandro P Comellas</td><td>22</td></tr><tr><td>0000-0002-0340-4487</td><td>Fethi Emre Ustabaşioğlu</td><td>4</td></tr><tr><td>0000-0001-6422-6103</td><td>Can Zhao</td><td>2</td></tr><tr><td>0000-0002-0340-4487</td><td>Fethi Emre Ustabaşıoğlu</td><td>4</td></tr><tr><td>0000-0002-4001-1615</td><td>O Bruno</td><td>4</td></tr><tr><td>0000-0003-4923-9410</td><td>Maznah Dahlui</td><td>17</td></tr><tr><td>0000-0002-1478-2424</td><td>Scott J B Nimmons</td><td>3</td></tr><tr><td>0000-0002-1478-2424</td><td>Scott Nimmons</td><td>3</td></tr><tr><td>0000-0002-1478-2424</td><td>Scott J Nimmons</td><td>3</td></tr><tr><td>0000-0002-1047-6227</td><td>Nicole Weisschuh</td><td>6</td></tr><tr><td>0000-0003-3368-5053</td><td>Rui Pedro Galão</td><td>8</td></tr><tr><td>0000-0002-6289-6872</td><td>Yangfan Zhuang</td><td>0</td></tr><tr><td>0000-0003-1699-5842</td><td>Magdalena Rys</td><td>8</td></tr><tr><td>0000-0002-1492-8710</td><td>David G Bourne</td><td>8</td></tr><tr><td>0000-0002-1469-0757</td><td>Yong Liu</td><td>0</td></tr><tr><td>0000-0003-0776-5885</td><td>Leo Nicolai</td><td>18</td></tr><tr><td>0000-0001-6031-9783</td><td>Valentin Weisse</td><td>1</td></tr><tr><td>0000-0002-5287-6608</td><td>Xuan Yi</td><td>4</td></tr></tbody></table></div>"
      ]
     },
     "metadata": {
      "application/vnd.databricks.v1+output": {
       "addedWidgets": {},
       "aggData": [],
       "aggError": "",
       "aggOverflow": false,
       "aggSchema": [],
       "aggSeriesLimitReached": false,
       "aggType": "",
       "arguments": {},
       "columnCustomDisplayInfos": {},
       "data": [
        [
         "0000-0001-6827-8330",
         "Anna Roberts",
         6
        ],
        [
         "0000-0003-0290-9034",
         "Ning Jiao",
         2
        ],
        [
         "0000-0002-9292-3261",
         "Lisa I Pilkington",
         16
        ],
        [
         "0000-0002-6380-0414",
         "Heeyeop Chae",
         5
        ],
        [
         "0000-0002-9442-8301",
         "Carlos Galhano",
         21
        ],
        [
         "0000-0002-6181-7298",
         "Bin Dong",
         1
        ],
        [
         "0000-0003-4357-4269",
         "João Paulo Brito",
         26
        ],
        [
         "0000-0003-4357-4269",
         "João Brito",
         26
        ],
        [
         "0000-0001-9190-6913",
         "Joanna Bojarska",
         19
        ],
        [
         "0000-0001-7014-9095",
         "Fumio Otsuka",
         17
        ],
        [
         "0000-0001-7014-9095",
         "F Otsuka",
         17
        ],
        [
         "0000-0002-7779-5740",
         "Sven Dekeyzer",
         4
        ],
        [
         "0000-0002-7779-5740",
         "S Dekeyzer",
         4
        ],
        [
         "0000-0003-3095-2988",
         "Nicole Indran",
         1
        ],
        [
         "0000-0001-7168-5906",
         "Ana C Medeiros-Ribeiro",
         6
        ],
        [
         "0000-0001-6038-5131",
         "Peder Af Geijerstam",
         1
        ],
        [
         "0000-0003-1119-7980",
         "Giacomo Angelini",
         6
        ],
        [
         "0000-0003-3005-3317",
         "Daren Mueller",
         10
        ],
        [
         "0000-0002-0298-1012",
         "Pascal Stammet",
         13
        ],
        [
         "0000-0001-7443-0458",
         "Azra Pašić",
         5
        ],
        [
         "0000-0002-9549-3746",
         "Ali Khosronejad",
         1
        ],
        [
         "0000-0001-9732-0606",
         "Jenny Lövdahl",
         1
        ],
        [
         "0000-0002-7237-7654",
         "Khanyaluck Subkrajang",
         3
        ],
        [
         "0000-0001-6395-7422",
         "Shaojie Song",
         9
        ],
        [
         "0000-0002-2099-4714",
         "Vicki S Helgeson",
         7
        ],
        [
         "0000-0002-7117-0547",
         "Adonis A Protopapas",
         6
        ],
        [
         "0000-0002-7117-0547",
         "Adonis Protopapas",
         6
        ],
        [
         "0000-0003-0739-3735",
         "Baojun Xu",
         30
        ],
        [
         "0000-0003-1431-4054",
         "Andrew T Trout",
         11
        ],
        [
         "0000-0001-6133-7318",
         "Cornelia Blume",
         9
        ],
        [
         "0000-0002-2614-5027",
         "Dan Yi",
         10
        ],
        [
         "0000-0002-1297-6938",
         "Iago Neira",
         3
        ],
        [
         "0000-0002-2140-9732",
         "Michal Pruc",
         42
        ],
        [
         "0000-0002-2140-9732",
         "Michał Pruc",
         42
        ],
        [
         "0000-0002-8096-4277",
         "Polina Trachuk",
         0
        ],
        [
         "0000-0002-0185-6260",
         "Lionel Blanc",
         16
        ],
        [
         "0000-0002-1052-8605",
         "Puy Hoon Tan",
         27
        ],
        [
         "0000-0002-0861-6569",
         "Jonne Åkerla",
         0
        ],
        [
         "0000-0002-1052-8605",
         "Puay Hoon Tan",
         27
        ],
        [
         "0000-0001-6400-9600",
         "Anatoliy Maslyukov",
         5
        ],
        [
         "0000-0003-4905-6948",
         "Riccardo Di Fiore",
         10
        ],
        [
         "0000-0003-3878-2143",
         "Olubanke Dzahini",
         4
        ],
        [
         "0000-0003-1236-3047",
         "Wei He",
         4
        ],
        [
         "0000-0002-8707-6627",
         "Rania El Lababidi",
         2
        ],
        [
         "0000-0001-5284-8976",
         "Zhengyun Ren",
         2
        ],
        [
         "0000-0002-3484-3423",
         "Shahryar Alavi",
         13
        ],
        [
         "0000-0003-3923-0797",
         "Curtis Deutsch",
         19
        ],
        [
         "0000-0003-3923-0797",
         "Curtis A Deutsch",
         19
        ],
        [
         "0000-0001-5640-0458",
         "Fan Xu",
         1
        ],
        [
         "0000-0003-1745-4642",
         "Shuang Zhang",
         15
        ],
        [
         "0000-0002-2683-0366",
         "Shutong Wei",
         1
        ],
        [
         "0000-0002-1776-7844",
         "Marlene Vuillemin",
         3
        ],
        [
         "0000-0002-6211-5888",
         "Mercedes Boronat",
         5
        ],
        [
         "0000-0002-7290-5154",
         "Parvesh Wadhwani",
         5
        ],
        [
         "0000-0002-5553-0186",
         "Junliang Yang",
         6
        ],
        [
         "0000-0002-6659-6930",
         "Benjamin D Thomas",
         27
        ],
        [
         "0000-0002-6659-6930",
         "Benjamin David Thomas",
         27
        ],
        [
         "0000-0001-9527-0115",
         "Yasutsugu Akasaki",
         15
        ],
        [
         "0000-0002-0528-9531",
         "Christine S Hopp",
         8
        ],
        [
         "0000-0002-0528-9531",
         "Christine Sarah Hopp",
         8
        ],
        [
         "0000-0002-4248-0730",
         "Dominik Martin-Creuzburg",
         2
        ],
        [
         "0000-0003-1096-7779",
         "Jacek Tomków",
         15
        ],
        [
         "0000-0001-6449-5290",
         "Enshuang Wang",
         3
        ],
        [
         "0000-0002-6013-0785",
         "Ya Zhang",
         0
        ],
        [
         "0000-0003-2408-0781",
         "Kazunobu Une",
         0
        ],
        [
         "0000-0002-7715-3764",
         "Olaia Lucas-Jiménez",
         12
        ],
        [
         "0000-0001-7836-3360",
         "Bu-Min Kim",
         3
        ],
        [
         "0000-0002-0089-9314",
         "Shengyong Mao",
         0
        ],
        [
         "0000-0002-3607-6889",
         "Jonathan Cools-Lartigue",
         2
        ],
        [
         "0000-0003-3074-7175",
         "Krzysztof Lewiński",
         5
        ],
        [
         "0000-0002-9704-6579",
         "Ana Paula Rodrigues",
         24
        ],
        [
         "0000-0001-5332-6774",
         "Simona Paladino",
         16
        ],
        [
         "0000-0002-9704-6579",
         "Ana P Rodrigues",
         24
        ],
        [
         "0000-0002-3884-7720",
         "Christopher M Grochowski",
         22
        ],
        [
         "0000-0002-9190-3568",
         "Olga L Sarmiento",
         26
        ],
        [
         "0000-0002-9190-3568",
         "Olga Lucia Sarmiento",
         26
        ],
        [
         "0000-0002-9190-3568",
         "Olga Lucía Sarmiento",
         26
        ],
        [
         "0000-0002-5333-7286",
         "Inês Carmo Luís",
         22
        ],
        [
         "0000-0002-5333-7286",
         "Inês Luis",
         22
        ],
        [
         "0000-0003-3676-1568",
         "Andrew Hacket-Pain",
         130
        ],
        [
         "0000-0003-3372-5940",
         "Victor Boutin",
         2
        ],
        [
         "0000-0003-4597-5963",
         "Daniel Goldhill",
         12
        ],
        [
         "0000-0003-4597-5963",
         "Daniel H Goldhill",
         12
        ],
        [
         "0000-0002-2224-7456",
         "Zhenbin Zhang",
         1
        ],
        [
         "0000-0002-2454-4753",
         "Adrián Salazar-Sánchez",
         3
        ],
        [
         "0000-0002-5288-5037",
         "Zhaopei Liu",
         4
        ],
        [
         "0000-0002-4492-8383",
         "Zsuzsa Kalmár",
         17
        ],
        [
         "0000-0003-1750-3395",
         "Rainer Kaiser",
         16
        ],
        [
         "0000-0002-1466-5746",
         "Incilay Lay",
         6
        ],
        [
         "0000-0002-5614-0737",
         "Yawei Li",
         2
        ],
        [
         "0000-0002-8195-1267",
         "Hirohisa Fujikawa",
         7
        ],
        [
         "0000-0002-3477-9986",
         "Geunwon Kim",
         4
        ],
        [
         "0000-0001-9792-5971",
         "Weiwei Xiao",
         6
        ],
        [
         "0000-0001-9498-1505",
         "Kunal Masania",
         8
        ],
        [
         "0000-0002-4140-9959",
         "Shin-Ichi Kawaguchi",
         1
        ],
        [
         "0000-0001-6138-2338",
         "Anna-Liisa Elorinne",
         3
        ],
        [
         "0000-0001-9323-2035",
         "Z Lin",
         10
        ],
        [
         "0000-0001-9323-2035",
         "Zhimiao Lin",
         10
        ],
        [
         "0000-0001-5979-3082",
         "Bei Liu",
         8
        ],
        [
         "0000-0001-9685-9220",
         "Chuansheng Hu",
         2
        ],
        [
         "0000-0003-1521-7520",
         "Alejandro P Comellas",
         22
        ],
        [
         "0000-0002-0340-4487",
         "Fethi Emre Ustabaşioğlu",
         4
        ],
        [
         "0000-0001-6422-6103",
         "Can Zhao",
         2
        ],
        [
         "0000-0002-0340-4487",
         "Fethi Emre Ustabaşıoğlu",
         4
        ],
        [
         "0000-0002-4001-1615",
         "O Bruno",
         4
        ],
        [
         "0000-0003-4923-9410",
         "Maznah Dahlui",
         17
        ],
        [
         "0000-0002-1478-2424",
         "Scott J B Nimmons",
         3
        ],
        [
         "0000-0002-1478-2424",
         "Scott Nimmons",
         3
        ],
        [
         "0000-0002-1478-2424",
         "Scott J Nimmons",
         3
        ],
        [
         "0000-0002-1047-6227",
         "Nicole Weisschuh",
         6
        ],
        [
         "0000-0003-3368-5053",
         "Rui Pedro Galão",
         8
        ],
        [
         "0000-0002-6289-6872",
         "Yangfan Zhuang",
         0
        ],
        [
         "0000-0003-1699-5842",
         "Magdalena Rys",
         8
        ],
        [
         "0000-0002-1492-8710",
         "David G Bourne",
         8
        ],
        [
         "0000-0002-1469-0757",
         "Yong Liu",
         0
        ],
        [
         "0000-0003-0776-5885",
         "Leo Nicolai",
         18
        ],
        [
         "0000-0001-6031-9783",
         "Valentin Weisse",
         1
        ],
        [
         "0000-0002-5287-6608",
         "Xuan Yi",
         4
        ]
       ],
       "datasetInfos": [],
       "dbfsResultPath": null,
       "isJsonSchema": true,
       "metadata": {},
       "overflow": false,
       "plotOptions": {
        "customPlotOptions": {},
        "displayType": "table",
        "pivotAggregation": null,
        "pivotColumns": null,
        "xColumns": null,
        "yColumns": null
       },
       "removedWidgets": [],
       "schema": [
        {
         "metadata": "{}",
         "name": "orcid",
         "type": "\"string\""
        },
        {
         "metadata": "{}",
         "name": "author_name",
         "type": "\"string\""
        },
        {
         "metadata": "{}",
         "name": "degree",
         "type": "\"long\""
        }
       ],
       "type": "table"
      }
     },
     "output_type": "display_data"
    },
    {
     "output_type": "display_data",
     "data": {
      "text/html": [
       "<style scoped>\n",
       "  .table-result-container {\n",
       "    max-height: 300px;\n",
       "    overflow: auto;\n",
       "  }\n",
       "  table, th, td {\n",
       "    border: 1px solid black;\n",
       "    border-collapse: collapse;\n",
       "  }\n",
       "  th, td {\n",
       "    padding: 5px;\n",
       "  }\n",
       "  th {\n",
       "    text-align: left;\n",
       "  }\n",
       "</style><div class='table-result-container'><table class='table-result'><thead style='background-color: white'><tr><th>src</th><th>dst</th><th>weight</th></tr></thead><tbody><tr><td>0000-0002-5333-7286</td><td>0000-0002-9442-8301</td><td>4</td></tr><tr><td>0000-0001-6400-9600</td><td>0000-0002-2140-9732</td><td>2</td></tr><tr><td>0000-0002-9442-8301</td><td>0000-0002-9704-6579</td><td>4</td></tr><tr><td>0000-0002-3484-3423</td><td>0000-0002-3884-7720</td><td>1</td></tr><tr><td>0000-0002-5333-7286</td><td>0000-0002-9704-6579</td><td>4</td></tr><tr><td>0000-0003-3368-5053</td><td>0000-0003-4597-5963</td><td>1</td></tr><tr><td>0000-0003-0776-5885</td><td>0000-0003-1750-3395</td><td>2</td></tr></tbody></table></div>"
      ]
     },
     "metadata": {
      "application/vnd.databricks.v1+output": {
       "addedWidgets": {},
       "aggData": [],
       "aggError": "",
       "aggOverflow": false,
       "aggSchema": [],
       "aggSeriesLimitReached": false,
       "aggType": "",
       "arguments": {},
       "columnCustomDisplayInfos": {},
       "data": [
        [
         "0000-0002-5333-7286",
         "0000-0002-9442-8301",
         4
        ],
        [
         "0000-0001-6400-9600",
         "0000-0002-2140-9732",
         2
        ],
        [
         "0000-0002-9442-8301",
         "0000-0002-9704-6579",
         4
        ],
        [
         "0000-0002-3484-3423",
         "0000-0002-3884-7720",
         1
        ],
        [
         "0000-0002-5333-7286",
         "0000-0002-9704-6579",
         4
        ],
        [
         "0000-0003-3368-5053",
         "0000-0003-4597-5963",
         1
        ],
        [
         "0000-0003-0776-5885",
         "0000-0003-1750-3395",
         2
        ]
       ],
       "datasetInfos": [],
       "dbfsResultPath": null,
       "isJsonSchema": true,
       "metadata": {},
       "overflow": false,
       "plotOptions": {
        "customPlotOptions": {},
        "displayType": "table",
        "pivotAggregation": null,
        "pivotColumns": null,
        "xColumns": null,
        "yColumns": null
       },
       "removedWidgets": [],
       "schema": [
        {
         "metadata": "{}",
         "name": "src",
         "type": "\"string\""
        },
        {
         "metadata": "{}",
         "name": "dst",
         "type": "\"string\""
        },
        {
         "metadata": "{}",
         "name": "weight",
         "type": "\"long\""
        }
       ],
       "type": "table"
      }
     },
     "output_type": "display_data"
    }
   ],
   "source": [
    "\n",
    "\n",
    "from pyspark.sql.functions import explode, col, regexp_replace, count, coalesce\n",
    "\n",
    "# 1. Leer tabla con autores\n",
    "df_pubmed = spark.table(\"pubmed_db.coautor_2022\")\n",
    "\n",
    "# 2. Explode autores, filtrar ORCID válido\n",
    "df_authors = df_pubmed.select(\"pmid\", explode(\"authors\").alias(\"author\")) \\\n",
    "    .select(\n",
    "        \"pmid\",\n",
    "        regexp_replace(col(\"author.orcid\"), \"https://orcid.org/\", \"\").alias(\"orcid\"),\n",
    "        col(\"author.fullname\").alias(\"author_name\")\n",
    "    ).filter(col(\"orcid\").rlike(\"^[0-9]{4}-[0-9]{4}-[0-9]{4}-[0-9]{4}$\"))\n",
    "\n",
    "# 3. Crear aristas de coautoría (pares de ORCID por artículo)\n",
    "df_edges = df_authors.alias(\"a1\").join(df_authors.alias(\"a2\"), on=\"pmid\") \\\n",
    "    .filter(col(\"a1.orcid\") < col(\"a2.orcid\")) \\\n",
    "    .select(col(\"a1.orcid\").alias(\"src\"), col(\"a2.orcid\").alias(\"dst\"))\n",
    "\n",
    "# 4. Calcular peso (número de colaboraciones)\n",
    "df_weighted_edges = df_edges.groupBy(\"src\", \"dst\").count().withColumnRenamed(\"count\", \"weight\")\n",
    "\n",
    "# 5. Calcular grado para cada autor\n",
    "df_degree_src = df_weighted_edges.groupBy(\"src\").agg(count(\"*\").alias(\"degree_src\"))\n",
    "df_degree_dst = df_weighted_edges.groupBy(\"dst\").agg(count(\"*\").alias(\"degree_dst\"))\n",
    "\n",
    "df_degree = df_degree_src.join(df_degree_dst, df_degree_src.src == df_degree_dst.dst, \"full_outer\") \\\n",
    "    .selectExpr(\n",
    "        \"coalesce(src, dst) as orcid\",\n",
    "        \"coalesce(degree_src, 0) + coalesce(degree_dst, 0) as degree\"\n",
    "    )\n",
    "\n",
    "# 6. Unir nombres y grado\n",
    "df_authors_unique = df_authors.select(\"orcid\", \"author_name\").distinct()\n",
    "\n",
    "df_nodes = df_authors_unique.join(df_degree, on=\"orcid\", how=\"left\").fillna(0)\n",
    "\n",
    "# 7. Guardar tablas en Delta (reemplaza rutas según tu workspace)\n",
    "df_nodes.write.format(\"delta\").mode(\"overwrite\").saveAsTable(\"pubmed_coauthor_nodes_2022\")\n",
    "df_weighted_edges.write.format(\"delta\").mode(\"overwrite\").saveAsTable(\"pubmed_coauthor_edges_2022\")\n",
    "\n",
    "# 8. Mostrar muestra pequeña para visualización (100 nodos + aristas relacionadas)\n",
    "sample_nodes = df_nodes.limit(100).select(\"orcid\").collect()\n",
    "sample_ids = [row[\"orcid\"] for row in sample_nodes]\n",
    "\n",
    "sample_edges = df_weighted_edges \\\n",
    "    .filter((col(\"src\").isin(sample_ids)) & (col(\"dst\").isin(sample_ids)))\n",
    "\n",
    "display(df_nodes.filter(col(\"orcid\").isin(sample_ids)))\n",
    "display(sample_edges)"
   ]
  },
  {
   "cell_type": "markdown",
   "metadata": {
    "application/vnd.databricks.v1+cell": {
     "cellMetadata": {
      "byteLimit": 2048000,
      "rowLimit": 10000
     },
     "inputWidgets": {},
     "nuid": "f4884242-40e5-4a04-9597-fbf80b96b0db",
     "showTitle": false,
     "tableResultSettingsMap": {},
     "title": ""
    }
   },
   "source": [
    "## Crear **visualizaacion**"
   ]
  },
  {
   "cell_type": "code",
   "execution_count": 0,
   "metadata": {
    "application/vnd.databricks.v1+cell": {
     "cellMetadata": {
      "byteLimit": 2048000,
      "rowLimit": 10000
     },
     "inputWidgets": {},
     "nuid": "c5baff90-fde4-4376-9074-ffdb55873273",
     "showTitle": false,
     "tableResultSettingsMap": {},
     "title": ""
    }
   },
   "outputs": [
    {
     "output_type": "stream",
     "name": "stderr",
     "output_type": "stream",
     "text": [
      "/root/.ipykernel/7631/command-4367526046110863-3581928096:28: MatplotlibDeprecationWarning: The get_cmap function was deprecated in Matplotlib 3.7 and will be removed two minor releases later. Use ``matplotlib.colormaps[name]`` or ``matplotlib.colormaps.get_cmap(obj)`` instead.\n  cmap_nodes = cm.get_cmap('viridis')\n/root/.ipykernel/7631/command-4367526046110863-3581928096:45: MatplotlibDeprecationWarning: The get_cmap function was deprecated in Matplotlib 3.7 and will be removed two minor releases later. Use ``matplotlib.colormaps[name]`` or ``matplotlib.colormaps.get_cmap(obj)`` instead.\n  cmap_edges = cm.get_cmap('plasma')\n"
     ]
    },
    {
     "output_type": "stream",
     "name": "stdout",
     "output_type": "stream",
     "text": [
      "✅ GEXF exportado: /dbfs/FileStore/pubmed/sample_graph_topN_viz_2022.gexf\n"
     ]
    }
   ],
   "source": [
    "\n",
    "\n",
    "# ------------------------------\n",
    "# 0) Librerías\n",
    "# ------------------------------\n",
    "import networkx as nx\n",
    "import pandas as pd\n",
    "import matplotlib.cm as cm\n",
    "import matplotlib.colors as mcolors\n",
    "from pyspark.sql.functions import col\n",
    "\n",
    "# ------------------------------\n",
    "# 1) Pasa muestra a Pandas\n",
    "# ------------------------------\n",
    "# Filtra solo los nodos en la muestra (por ejemplo ORCID)\n",
    "nodes_pd = df_nodes.filter(col(\"orcid\").isin(sample_ids)).toPandas()\n",
    "\n",
    "# Filtra TOP N coautorías (mayores pesos)\n",
    "TOP_N = 20\n",
    "edges_pd = sample_edges.orderBy(col(\"weight\").desc()).limit(TOP_N).toPandas()\n",
    "\n",
    "# ------------------------------\n",
    "# 2) Normalizar degree → tamaño y color de nodos\n",
    "# ------------------------------\n",
    "max_degree = nodes_pd[\"degree\"].max()\n",
    "nodes_pd[\"viz_size\"] = nodes_pd[\"degree\"] / max_degree * 30  # Tamaño máx ajusta a gusto (p.ej. 30)\n",
    "\n",
    "# Paleta viridis para nodos\n",
    "norm_degree = mcolors.Normalize(vmin=0, vmax=max_degree)\n",
    "cmap_nodes = cm.get_cmap('viridis')\n",
    "\n",
    "def degree_to_color(degree):\n",
    "    rgba = cmap_nodes(norm_degree(degree))\n",
    "    r, g, b, a = [int(255*x) if i < 3 else x for i, x in enumerate(rgba)]\n",
    "    return {'r': r, 'g': g, 'b': b, 'a': a}\n",
    "\n",
    "nodes_pd[\"viz_color\"] = nodes_pd[\"degree\"].apply(degree_to_color)\n",
    "\n",
    "# ------------------------------\n",
    "# 3) Normalizar weight → grosor y color de aristas\n",
    "# ------------------------------\n",
    "max_weight = edges_pd[\"weight\"].max()\n",
    "edges_pd[\"viz_thickness\"] = edges_pd[\"weight\"] / max_weight * 10  # Grosor máx 10\n",
    "\n",
    "# Paleta plasma para aristas\n",
    "norm_weight = mcolors.Normalize(vmin=0, vmax=max_weight)\n",
    "cmap_edges = cm.get_cmap('plasma')\n",
    "\n",
    "def weight_to_color(weight):\n",
    "    rgba = cmap_edges(norm_weight(weight))\n",
    "    r, g, b, a = [int(255*x) if i < 3 else x for i, x in enumerate(rgba)]\n",
    "    return {'r': r, 'g': g, 'b': b, 'a': a}\n",
    "\n",
    "edges_pd[\"viz_color\"] = edges_pd[\"weight\"].apply(weight_to_color)\n",
    "\n",
    "# ------------------------------\n",
    "# 4) Crear grafo con viz\n",
    "# ------------------------------\n",
    "G = nx.Graph()\n",
    "\n",
    "# Añadir nodos con label y tamaño\n",
    "for idx, row in nodes_pd.iterrows():\n",
    "    G.add_node(\n",
    "        row[\"orcid\"],\n",
    "        label=row[\"author_name\"],\n",
    "        degree=row[\"degree\"],\n",
    "        viz={'size': row[\"viz_size\"], 'color': row[\"viz_color\"]}\n",
    "    )\n",
    "\n",
    "# Añadir solo aristas TOP N\n",
    "for idx, row in edges_pd.iterrows():\n",
    "    G.add_edge(\n",
    "        row[\"src\"],\n",
    "        row[\"dst\"],\n",
    "        weight=row[\"weight\"],\n",
    "        viz={'thickness': row[\"viz_thickness\"], 'color': row[\"viz_color\"]}\n",
    "    )\n",
    "\n",
    "# ------------------------------\n",
    "# 5) Guardar GEXF listo para Gephi\n",
    "# ------------------------------\n",
    "nx.write_gexf(G, \"/dbfs/FileStore/pubmed/sample_graph_topN_viz_2022.gexf\")\n",
    "\n",
    "print(\"✅ GEXF exportado: /dbfs/FileStore/pubmed/sample_graph_topN_viz_2022.gexf\")\n",
    "\n",
    "\n",
    "## https://3132215626649366.6.gcp.databricks.com/files/pubmed/sample_graph_topN_viz_2022.gexf"
   ]
  }
 ],
 "metadata": {
  "application/vnd.databricks.v1+notebook": {
   "computePreferences": null,
   "dashboards": [],
   "environmentMetadata": {
    "base_environment": "",
    "environment_version": "2"
   },
   "inputWidgetPreferences": null,
   "language": "python",
   "notebookMetadata": {
    "mostRecentlyExecutedCommandWithImplicitDF": {
     "commandId": 4367526046110859,
     "dataframes": [
      "_sqldf"
     ]
    },
    "pythonIndentUnit": 4
   },
   "notebookName": "COAUTOR_2022",
   "widgets": {}
  },
  "language_info": {
   "name": "python"
  }
 },
 "nbformat": 4,
 "nbformat_minor": 0
}