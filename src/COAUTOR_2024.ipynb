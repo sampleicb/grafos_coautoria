{
 "cells": [
  {
   "cell_type": "code",
   "execution_count": 0,
   "metadata": {
    "application/vnd.databricks.v1+cell": {
     "cellMetadata": {
      "byteLimit": 2048000,
      "implicitDf": true,
      "rowLimit": 10000
     },
     "inputWidgets": {},
     "nuid": "7ed557d4-17f2-4668-bd61-cb40414d1f79",
     "showTitle": false,
     "tableResultSettingsMap": {},
     "title": ""
    }
   },
   "outputs": [
    {
     "output_type": "display_data",
     "data": {
      "text/html": [
       "<style scoped>\n",
       "  .table-result-container {\n",
       "    max-height: 300px;\n",
       "    overflow: auto;\n",
       "  }\n",
       "  table, th, td {\n",
       "    border: 1px solid black;\n",
       "    border-collapse: collapse;\n",
       "  }\n",
       "  th, td {\n",
       "    padding: 5px;\n",
       "  }\n",
       "  th {\n",
       "    text-align: left;\n",
       "  }\n",
       "</style><div class='table-result-container'><table class='table-result'><thead style='background-color: white'><tr><th>pmid</th><th>count(DISTINCT author.orcid)</th></tr></thead><tbody><tr><td>35178824</td><td>1</td></tr><tr><td>38000386</td><td>1</td></tr><tr><td>38260283</td><td>1</td></tr><tr><td>35639768</td><td>1</td></tr><tr><td>34940725</td><td>1</td></tr><tr><td>32660516</td><td>1</td></tr><tr><td>35872606</td><td>1</td></tr><tr><td>38712026</td><td>1</td></tr><tr><td>39345458</td><td>1</td></tr><tr><td>37953324</td><td>1</td></tr><tr><td>38854034</td><td>1</td></tr><tr><td>37196000</td><td>1</td></tr><tr><td>38913850</td><td>1</td></tr><tr><td>35524573</td><td>1</td></tr><tr><td>34240108</td><td>1</td></tr><tr><td>34117224</td><td>1</td></tr><tr><td>37684057</td><td>1</td></tr><tr><td>38915571</td><td>1</td></tr><tr><td>38001031</td><td>1</td></tr><tr><td>38383067</td><td>1</td></tr><tr><td>37647632</td><td>1</td></tr><tr><td>39228707</td><td>1</td></tr><tr><td>38242839</td><td>1</td></tr><tr><td>35391505</td><td>1</td></tr><tr><td>35570298</td><td>1</td></tr><tr><td>32019583</td><td>1</td></tr><tr><td>39108510</td><td>1</td></tr><tr><td>36380762</td><td>1</td></tr><tr><td>37503093</td><td>1</td></tr><tr><td>35484572</td><td>1</td></tr><tr><td>38617362</td><td>1</td></tr><tr><td>35665012</td><td>1</td></tr><tr><td>32340307</td><td>1</td></tr><tr><td>39005436</td><td>1</td></tr><tr><td>39082680</td><td>1</td></tr><tr><td>36929917</td><td>1</td></tr><tr><td>34758253</td><td>1</td></tr><tr><td>37389415</td><td>1</td></tr><tr><td>33471061</td><td>1</td></tr><tr><td>33949685</td><td>1</td></tr></tbody></table></div>"
      ]
     },
     "metadata": {
      "application/vnd.databricks.v1+output": {
       "addedWidgets": {},
       "aggData": [],
       "aggError": "",
       "aggOverflow": false,
       "aggSchema": [],
       "aggSeriesLimitReached": false,
       "aggType": "",
       "arguments": {},
       "columnCustomDisplayInfos": {},
       "data": [
        [
         "35178824",
         1
        ],
        [
         "38000386",
         1
        ],
        [
         "38260283",
         1
        ],
        [
         "35639768",
         1
        ],
        [
         "34940725",
         1
        ],
        [
         "32660516",
         1
        ],
        [
         "35872606",
         1
        ],
        [
         "38712026",
         1
        ],
        [
         "39345458",
         1
        ],
        [
         "37953324",
         1
        ],
        [
         "38854034",
         1
        ],
        [
         "37196000",
         1
        ],
        [
         "38913850",
         1
        ],
        [
         "35524573",
         1
        ],
        [
         "34240108",
         1
        ],
        [
         "34117224",
         1
        ],
        [
         "37684057",
         1
        ],
        [
         "38915571",
         1
        ],
        [
         "38001031",
         1
        ],
        [
         "38383067",
         1
        ],
        [
         "37647632",
         1
        ],
        [
         "39228707",
         1
        ],
        [
         "38242839",
         1
        ],
        [
         "35391505",
         1
        ],
        [
         "35570298",
         1
        ],
        [
         "32019583",
         1
        ],
        [
         "39108510",
         1
        ],
        [
         "36380762",
         1
        ],
        [
         "37503093",
         1
        ],
        [
         "35484572",
         1
        ],
        [
         "38617362",
         1
        ],
        [
         "35665012",
         1
        ],
        [
         "32340307",
         1
        ],
        [
         "39005436",
         1
        ],
        [
         "39082680",
         1
        ],
        [
         "36929917",
         1
        ],
        [
         "34758253",
         1
        ],
        [
         "37389415",
         1
        ],
        [
         "33471061",
         1
        ],
        [
         "33949685",
         1
        ]
       ],
       "datasetInfos": [
        {
         "name": "_sqldf",
         "schema": {
          "fields": [
           {
            "metadata": {},
            "name": "pmid",
            "nullable": true,
            "type": "string"
           },
           {
            "metadata": {
             "__autoGeneratedAlias": "true"
            },
            "name": "count(DISTINCT author.orcid)",
            "nullable": false,
            "type": "long"
           }
          ],
          "type": "struct"
         },
         "tableIdentifier": null,
         "typeStr": "pyspark.sql.dataframe.DataFrame"
        }
       ],
       "dbfsResultPath": null,
       "isJsonSchema": true,
       "metadata": {
        "createTempViewForImplicitDf": true,
        "dataframeName": "_sqldf",
        "executionCount": 1
       },
       "overflow": false,
       "plotOptions": {
        "customPlotOptions": {},
        "displayType": "table",
        "pivotAggregation": null,
        "pivotColumns": null,
        "xColumns": null,
        "yColumns": null
       },
       "removedWidgets": [],
       "schema": [
        {
         "metadata": "{}",
         "name": "pmid",
         "type": "\"string\""
        },
        {
         "metadata": "{\"__autoGeneratedAlias\":\"true\"}",
         "name": "count(DISTINCT author.orcid)",
         "type": "\"long\""
        }
       ],
       "type": "table"
      }
     },
     "output_type": "display_data"
    }
   ],
   "source": [
    "%sql\n",
    "SELECT pmid, count(distinct author.orcid)\n",
    "FROM pubmed_temp_filtrado\n",
    "LATERAL VIEW EXPLODE(authors) AS author\n",
    "WHERE --substr(year, 1, 4) = '2024'\n",
    "  author.orcid in (  '0000-0002-0736-9199' )\n",
    "group by pmid\n",
    "\n",
    "\n",
    "  \n"
   ]
  },
  {
   "cell_type": "code",
   "execution_count": 0,
   "metadata": {
    "application/vnd.databricks.v1+cell": {
     "cellMetadata": {
      "byteLimit": 2048000,
      "implicitDf": true,
      "rowLimit": 10000
     },
     "inputWidgets": {},
     "nuid": "937fada3-93b1-4a9c-932c-dad96da63055",
     "showTitle": false,
     "tableResultSettingsMap": {},
     "title": ""
    }
   },
   "outputs": [
    {
     "output_type": "display_data",
     "data": {
      "text/html": [
       "<style scoped>\n",
       "  .table-result-container {\n",
       "    max-height: 300px;\n",
       "    overflow: auto;\n",
       "  }\n",
       "  table, th, td {\n",
       "    border: 1px solid black;\n",
       "    border-collapse: collapse;\n",
       "  }\n",
       "  th, td {\n",
       "    padding: 5px;\n",
       "  }\n",
       "  th {\n",
       "    text-align: left;\n",
       "  }\n",
       "</style><div class='table-result-container'><table class='table-result'><thead style='background-color: white'><tr><th>num_affected_rows</th><th>num_inserted_rows</th></tr></thead><tbody></tbody></table></div>"
      ]
     },
     "metadata": {
      "application/vnd.databricks.v1+output": {
       "addedWidgets": {},
       "aggData": [],
       "aggError": "",
       "aggOverflow": false,
       "aggSchema": [],
       "aggSeriesLimitReached": false,
       "aggType": "",
       "arguments": {},
       "columnCustomDisplayInfos": {},
       "data": [],
       "datasetInfos": [
        {
         "name": "_sqldf",
         "schema": {
          "fields": [
           {
            "metadata": {},
            "name": "num_affected_rows",
            "nullable": true,
            "type": "long"
           },
           {
            "metadata": {},
            "name": "num_inserted_rows",
            "nullable": true,
            "type": "long"
           }
          ],
          "type": "struct"
         },
         "tableIdentifier": null,
         "typeStr": "pyspark.sql.dataframe.DataFrame"
        }
       ],
       "dbfsResultPath": null,
       "isJsonSchema": true,
       "metadata": {
        "createTempViewForImplicitDf": true,
        "dataframeName": "_sqldf",
        "executionCount": 2
       },
       "overflow": false,
       "plotOptions": {
        "customPlotOptions": {},
        "displayType": "table",
        "pivotAggregation": null,
        "pivotColumns": null,
        "xColumns": null,
        "yColumns": null
       },
       "removedWidgets": [],
       "schema": [
        {
         "metadata": "{}",
         "name": "num_affected_rows",
         "type": "\"long\""
        },
        {
         "metadata": "{}",
         "name": "num_inserted_rows",
         "type": "\"long\""
        }
       ],
       "type": "table"
      }
     },
     "output_type": "display_data"
    }
   ],
   "source": [
    "%sql\n",
    "create or replace table pubmed_db.coautor_2024\n",
    "select distinct pmid, substr(year, 1, 4) AS year, authors from pubmed_temp_filtrado\n",
    "where  substr(year,1,4) = 2024 and authors.orcid is not null\n"
   ]
  },
  {
   "cell_type": "markdown",
   "metadata": {
    "application/vnd.databricks.v1+cell": {
     "cellMetadata": {
      "byteLimit": 2048000,
      "rowLimit": 10000
     },
     "inputWidgets": {},
     "nuid": "f07960f2-1505-46b7-9bd4-c925bc1f6c09",
     "showTitle": false,
     "tableResultSettingsMap": {},
     "title": ""
    }
   },
   "source": [
    "## CREAR ARISTAS Y NODOS"
   ]
  },
  {
   "cell_type": "code",
   "execution_count": 0,
   "metadata": {
    "application/vnd.databricks.v1+cell": {
     "cellMetadata": {
      "byteLimit": 2048000,
      "rowLimit": 10000
     },
     "inputWidgets": {},
     "nuid": "7ffea072-9d4b-49d9-9df1-ef45afb4bfd1",
     "showTitle": false,
     "tableResultSettingsMap": {},
     "title": ""
    }
   },
   "outputs": [
    {
     "output_type": "display_data",
     "data": {
      "text/html": [
       "<style scoped>\n",
       "  .table-result-container {\n",
       "    max-height: 300px;\n",
       "    overflow: auto;\n",
       "  }\n",
       "  table, th, td {\n",
       "    border: 1px solid black;\n",
       "    border-collapse: collapse;\n",
       "  }\n",
       "  th, td {\n",
       "    padding: 5px;\n",
       "  }\n",
       "  th {\n",
       "    text-align: left;\n",
       "  }\n",
       "</style><div class='table-result-container'><table class='table-result'><thead style='background-color: white'><tr><th>orcid</th><th>author_name</th><th>degree</th></tr></thead><tbody><tr><td>0000-0003-3797-5883</td><td>Francesco Inchingolo</td><td>65</td></tr><tr><td>0000-0001-9663-3088</td><td>Zhiping Deng</td><td>27</td></tr><tr><td>0000-0001-7101-3288</td><td>Anne Vaajoki</td><td>2</td></tr><tr><td>0009-0006-7739-4396</td><td>Liping Zhang</td><td>8</td></tr><tr><td>0000-0002-3390-9697</td><td>Meijuan Huang</td><td>27</td></tr><tr><td>0000-0002-8181-6452</td><td>Esther M Leerkes</td><td>0</td></tr><tr><td>0000-0002-9738-3479</td><td>Elsa Vitale</td><td>26</td></tr><tr><td>0000-0003-0849-5098</td><td>Sai Ho Ling</td><td>1</td></tr><tr><td>0009-0004-9591-9331</td><td>Renlong Liu</td><td>1</td></tr><tr><td>0000-0001-8378-8494</td><td>Elise Constance Fodstad</td><td>2</td></tr><tr><td>0000-0002-1428-4353</td><td>José Ángel Rufián-Henares</td><td>24</td></tr><tr><td>0000-0002-1508-4927</td><td>Claudio Sanfilippo</td><td>8</td></tr><tr><td>0000-0002-8958-4270</td><td>Gerardo Ruiz-Ares</td><td>14</td></tr><tr><td>0000-0002-7178-1225</td><td>Kang Wang</td><td>19</td></tr><tr><td>0000-0002-5855-2778</td><td>Elias Kourkoutas</td><td>6</td></tr><tr><td>0000-0002-1716-2925</td><td>Ying Bian</td><td>1</td></tr><tr><td>0000-0002-2496-0538</td><td>Dakota M Hunter</td><td>0</td></tr><tr><td>0000-0001-8522-9047</td><td>Massimo Delle Piane</td><td>7</td></tr><tr><td>0000-0002-5025-7010</td><td>Maram A AlGhamdi</td><td>6</td></tr><tr><td>0000-0003-4903-3180</td><td>Katja Schladitz</td><td>2</td></tr><tr><td>0000-0002-3319-0352</td><td>Yiqun Zheng</td><td>4</td></tr><tr><td>0000-0001-7708-9208</td><td>Enrico Ravera</td><td>8</td></tr><tr><td>0000-0002-1562-0945</td><td>Evgeny Z Kvon</td><td>4</td></tr><tr><td>0000-0003-0659-0139</td><td>Lily Hui-Ching Wang</td><td>9</td></tr><tr><td>0000-0001-7855-1302</td><td>Soyoung Park</td><td>3</td></tr><tr><td>0000-0002-3298-2112</td><td>Jing Li</td><td>28</td></tr><tr><td>0000-0001-5741-7139</td><td>Simona Zaami</td><td>27</td></tr><tr><td>0000-0001-9130-8286</td><td>Elisabeth Garanger</td><td>9</td></tr><tr><td>0000-0001-7577-0032</td><td>Ross M Sonnenblick</td><td>5</td></tr><tr><td>0000-0001-6395-7422</td><td>Shaojie Song</td><td>24</td></tr><tr><td>0000-0002-0399-5395</td><td>Yuqing Niu</td><td>8</td></tr><tr><td>0000-0002-9943-1091</td><td>Mohammad Alghouti</td><td>15</td></tr><tr><td>0000-0002-9943-1091</td><td>Mohammad A Al-Ghouti</td><td>15</td></tr><tr><td>0000-0002-9943-1091</td><td>Mohammad Ahmed Al-Ghouti</td><td>15</td></tr><tr><td>0000-0002-9943-1091</td><td>Mohammad Al-Ghouti</td><td>15</td></tr><tr><td>0000-0002-0688-5781</td><td>Norbert G Campeau</td><td>14</td></tr><tr><td>0000-0001-9076-1441</td><td>Jonas Klingström</td><td>10</td></tr><tr><td>0000-0002-4896-4090</td><td>Damian Augustyn</td><td>3</td></tr><tr><td>0009-0009-8841-1181</td><td>Nandini Kulasegaran</td><td>0</td></tr><tr><td>0000-0002-2106-1166</td><td>Nidia S Trovão</td><td>24</td></tr><tr><td>0000-0002-2106-1166</td><td>Nidia S Trovao</td><td>24</td></tr><tr><td>0000-0002-2106-1166</td><td>Nídia Sequeira Trovão</td><td>24</td></tr><tr><td>0009-0004-9444-9112</td><td>Hideki Matsumoto</td><td>12</td></tr><tr><td>0000-0003-0957-3764</td><td>Masayuki Endo</td><td>3</td></tr><tr><td>0000-0002-1085-5163</td><td>Ghulam Mustafa</td><td>3</td></tr><tr><td>0000-0001-5567-3083</td><td>Hao Fan</td><td>1</td></tr><tr><td>0000-0002-0009-2991</td><td>Jane Hvarregaard Christensen</td><td>17</td></tr><tr><td>0000-0002-0018-1804</td><td>Stefan Terjung</td><td>15</td></tr><tr><td>0000-0002-3597-5444</td><td>Philip Quirke</td><td>26</td></tr><tr><td>0000-0003-4230-5753</td><td>Nicolai J Wewer Albrechtsen</td><td>58</td></tr><tr><td>0000-0003-4230-5753</td><td>Nicolai Wewer Albrechtsen</td><td>58</td></tr><tr><td>0000-0002-3597-5444</td><td>Phil Quirke</td><td>26</td></tr><tr><td>0000-0002-3286-0035</td><td>Xiaosong Chen</td><td>17</td></tr><tr><td>0000-0003-2434-3887</td><td>Marco Iosa</td><td>31</td></tr><tr><td>0009-0007-3597-6870</td><td>Sheetal Bhatara</td><td>22</td></tr><tr><td>0000-0002-0930-1139</td><td>Chengchun Zhang</td><td>1</td></tr><tr><td>0000-0002-9654-1674</td><td>Heng Xu</td><td>8</td></tr><tr><td>0000-0001-9270-3982</td><td>Ana Luisa Fernando</td><td>13</td></tr><tr><td>0000-0001-9270-3982</td><td>Ana Luísa Fernando</td><td>13</td></tr><tr><td>0000-0003-3149-6873</td><td>Wei Wang</td><td>1</td></tr><tr><td>0000-0001-7328-5068</td><td>Young Ho Kim</td><td>1</td></tr><tr><td>0000-0002-7816-9610</td><td>Cathy E McNamee</td><td>0</td></tr><tr><td>0000-0003-1786-6858</td><td>Ping He</td><td>2</td></tr><tr><td>0000-0003-4500-5545</td><td>Jennifer Teshera-Levye</td><td>1</td></tr><tr><td>0000-0003-0319-0308</td><td>Fu Li</td><td>2</td></tr><tr><td>0000-0002-6857-2860</td><td>Cecilia Raccagni</td><td>2</td></tr><tr><td>0000-0001-9524-2835</td><td>Susanne Heinzel</td><td>13</td></tr><tr><td>0000-0001-5148-3178</td><td>Elena Perrin</td><td>7</td></tr><tr><td>0000-0001-5287-8323</td><td>Praveen N Birur</td><td>9</td></tr><tr><td>0000-0001-5287-8323</td><td>Praveen Birur</td><td>9</td></tr><tr><td>0000-0002-3704-4619</td><td>Amit Kumar Nayak</td><td>3</td></tr><tr><td>0000-0002-3704-4619</td><td>Subrata Mallick</td><td>3</td></tr><tr><td>0009-0007-0146-8843</td><td>Anthony Myhill</td><td>5</td></tr><tr><td>0000-0002-8700-9010</td><td>Celma de Oliveira Barbosa</td><td>5</td></tr><tr><td>0000-0003-4804-3774</td><td>Ziyaad Valley-Omar</td><td>3</td></tr><tr><td>0000-0003-0277-9866</td><td>Shinsuke Nagami</td><td>3</td></tr><tr><td>0000-0002-9903-8812</td><td>Muhammad Aminu</td><td>16</td></tr><tr><td>0009-0008-7290-1402</td><td>Dayana Nascimento Dari</td><td>5</td></tr><tr><td>0000-0002-0538-2664</td><td>Hi-Joon Park</td><td>11</td></tr><tr><td>0000-0003-0187-6680</td><td>Oliver Renaud</td><td>3</td></tr><tr><td>0000-0002-0254-6141</td><td>Katia Koelle</td><td>2</td></tr><tr><td>0000-0003-1899-6558</td><td>Ann M Decker</td><td>6</td></tr><tr><td>0000-0003-2842-7500</td><td>Ji-Yong Jang</td><td>17</td></tr><tr><td>0000-0002-9473-6443</td><td>Veerendra Dhyani</td><td>4</td></tr><tr><td>0000-0003-0708-7762</td><td>Liang Li</td><td>13</td></tr><tr><td>0000-0001-9032-1841</td><td>Utkarsh Shashank</td><td>3</td></tr><tr><td>0000-0001-8742-8816</td><td>Sandra Diminic</td><td>8</td></tr><tr><td>0000-0002-7348-1939</td><td>Gualtiero I Colombo</td><td>17</td></tr><tr><td>0000-0002-0368-8176</td><td>Zhicheng Cao</td><td>7</td></tr><tr><td>0000-0002-3852-2096</td><td>Laís Ferreira Dias</td><td>2</td></tr><tr><td>0000-0003-4787-1754</td><td>Wanyun Xu</td><td>19</td></tr><tr><td>0000-0001-9257-8739</td><td>Inmaculada Bautista-Castaño</td><td>23</td></tr><tr><td>0000-0001-9257-8739</td><td>Inmaculada Bautista</td><td>23</td></tr><tr><td>0000-0003-3692-5235</td><td>Kenneth F Ferraro</td><td>6</td></tr><tr><td>0000-0003-4499-8653</td><td>Chiara Nadai</td><td>0</td></tr><tr><td>0000-0001-6166-8109</td><td>Yi Li</td><td>10</td></tr><tr><td>0000-0003-2866-8574</td><td>Cristalle Soman</td><td>2</td></tr><tr><td>0000-0002-5316-1399</td><td>Sebastian Köhler</td><td>167</td></tr><tr><td>0000-0001-6840-7403</td><td>Monica Virginia Biondo</td><td>2</td></tr><tr><td>0000-0003-0951-5804</td><td>Messoud Ashina</td><td>6</td></tr><tr><td>0000-0003-0326-6296</td><td>Fan Yang</td><td>3</td></tr><tr><td>0000-0001-9493-9120</td><td>Chiheng Chu</td><td>10</td></tr><tr><td>0000-0001-6564-1130</td><td>Vanesa Núñez-Gómez</td><td>3</td></tr><tr><td>0000-0001-9807-1875</td><td>Kristen A Engevik</td><td>8</td></tr><tr><td>0000-0002-3594-1754</td><td>Nicholas V Coleman</td><td>1</td></tr><tr><td>0000-0003-0285-6622</td><td>Yogish C Kudva</td><td>20</td></tr><tr><td>0000-0003-0285-6622</td><td>Yogish Kudva</td><td>20</td></tr><tr><td>0000-0001-6420-9733</td><td>Firda Aushi</td><td>3</td></tr><tr><td>0000-0001-7256-2246</td><td>Yuning Peng</td><td>0</td></tr><tr><td>0000-0002-0736-9199</td><td>Peter N Robinson</td><td>288</td></tr><tr><td>0000-0002-9803-8335</td><td>David A McCormick</td><td>1</td></tr><tr><td>0000-0002-6951-1648</td><td>M Teague O'Mara</td><td>55</td></tr><tr><td>0000-0002-6951-1648</td><td>Teague O'Mara</td><td>55</td></tr></tbody></table></div>"
      ]
     },
     "metadata": {
      "application/vnd.databricks.v1+output": {
       "addedWidgets": {},
       "aggData": [],
       "aggError": "",
       "aggOverflow": false,
       "aggSchema": [],
       "aggSeriesLimitReached": false,
       "aggType": "",
       "arguments": {},
       "columnCustomDisplayInfos": {},
       "data": [
        [
         "0000-0003-3797-5883",
         "Francesco Inchingolo",
         65
        ],
        [
         "0000-0001-9663-3088",
         "Zhiping Deng",
         27
        ],
        [
         "0000-0001-7101-3288",
         "Anne Vaajoki",
         2
        ],
        [
         "0009-0006-7739-4396",
         "Liping Zhang",
         8
        ],
        [
         "0000-0002-3390-9697",
         "Meijuan Huang",
         27
        ],
        [
         "0000-0002-8181-6452",
         "Esther M Leerkes",
         0
        ],
        [
         "0000-0002-9738-3479",
         "Elsa Vitale",
         26
        ],
        [
         "0000-0003-0849-5098",
         "Sai Ho Ling",
         1
        ],
        [
         "0009-0004-9591-9331",
         "Renlong Liu",
         1
        ],
        [
         "0000-0001-8378-8494",
         "Elise Constance Fodstad",
         2
        ],
        [
         "0000-0002-1428-4353",
         "José Ángel Rufián-Henares",
         24
        ],
        [
         "0000-0002-1508-4927",
         "Claudio Sanfilippo",
         8
        ],
        [
         "0000-0002-8958-4270",
         "Gerardo Ruiz-Ares",
         14
        ],
        [
         "0000-0002-7178-1225",
         "Kang Wang",
         19
        ],
        [
         "0000-0002-5855-2778",
         "Elias Kourkoutas",
         6
        ],
        [
         "0000-0002-1716-2925",
         "Ying Bian",
         1
        ],
        [
         "0000-0002-2496-0538",
         "Dakota M Hunter",
         0
        ],
        [
         "0000-0001-8522-9047",
         "Massimo Delle Piane",
         7
        ],
        [
         "0000-0002-5025-7010",
         "Maram A AlGhamdi",
         6
        ],
        [
         "0000-0003-4903-3180",
         "Katja Schladitz",
         2
        ],
        [
         "0000-0002-3319-0352",
         "Yiqun Zheng",
         4
        ],
        [
         "0000-0001-7708-9208",
         "Enrico Ravera",
         8
        ],
        [
         "0000-0002-1562-0945",
         "Evgeny Z Kvon",
         4
        ],
        [
         "0000-0003-0659-0139",
         "Lily Hui-Ching Wang",
         9
        ],
        [
         "0000-0001-7855-1302",
         "Soyoung Park",
         3
        ],
        [
         "0000-0002-3298-2112",
         "Jing Li",
         28
        ],
        [
         "0000-0001-5741-7139",
         "Simona Zaami",
         27
        ],
        [
         "0000-0001-9130-8286",
         "Elisabeth Garanger",
         9
        ],
        [
         "0000-0001-7577-0032",
         "Ross M Sonnenblick",
         5
        ],
        [
         "0000-0001-6395-7422",
         "Shaojie Song",
         24
        ],
        [
         "0000-0002-0399-5395",
         "Yuqing Niu",
         8
        ],
        [
         "0000-0002-9943-1091",
         "Mohammad Alghouti",
         15
        ],
        [
         "0000-0002-9943-1091",
         "Mohammad A Al-Ghouti",
         15
        ],
        [
         "0000-0002-9943-1091",
         "Mohammad Ahmed Al-Ghouti",
         15
        ],
        [
         "0000-0002-9943-1091",
         "Mohammad Al-Ghouti",
         15
        ],
        [
         "0000-0002-0688-5781",
         "Norbert G Campeau",
         14
        ],
        [
         "0000-0001-9076-1441",
         "Jonas Klingström",
         10
        ],
        [
         "0000-0002-4896-4090",
         "Damian Augustyn",
         3
        ],
        [
         "0009-0009-8841-1181",
         "Nandini Kulasegaran",
         0
        ],
        [
         "0000-0002-2106-1166",
         "Nidia S Trovão",
         24
        ],
        [
         "0000-0002-2106-1166",
         "Nidia S Trovao",
         24
        ],
        [
         "0000-0002-2106-1166",
         "Nídia Sequeira Trovão",
         24
        ],
        [
         "0009-0004-9444-9112",
         "Hideki Matsumoto",
         12
        ],
        [
         "0000-0003-0957-3764",
         "Masayuki Endo",
         3
        ],
        [
         "0000-0002-1085-5163",
         "Ghulam Mustafa",
         3
        ],
        [
         "0000-0001-5567-3083",
         "Hao Fan",
         1
        ],
        [
         "0000-0002-0009-2991",
         "Jane Hvarregaard Christensen",
         17
        ],
        [
         "0000-0002-0018-1804",
         "Stefan Terjung",
         15
        ],
        [
         "0000-0002-3597-5444",
         "Philip Quirke",
         26
        ],
        [
         "0000-0003-4230-5753",
         "Nicolai J Wewer Albrechtsen",
         58
        ],
        [
         "0000-0003-4230-5753",
         "Nicolai Wewer Albrechtsen",
         58
        ],
        [
         "0000-0002-3597-5444",
         "Phil Quirke",
         26
        ],
        [
         "0000-0002-3286-0035",
         "Xiaosong Chen",
         17
        ],
        [
         "0000-0003-2434-3887",
         "Marco Iosa",
         31
        ],
        [
         "0009-0007-3597-6870",
         "Sheetal Bhatara",
         22
        ],
        [
         "0000-0002-0930-1139",
         "Chengchun Zhang",
         1
        ],
        [
         "0000-0002-9654-1674",
         "Heng Xu",
         8
        ],
        [
         "0000-0001-9270-3982",
         "Ana Luisa Fernando",
         13
        ],
        [
         "0000-0001-9270-3982",
         "Ana Luísa Fernando",
         13
        ],
        [
         "0000-0003-3149-6873",
         "Wei Wang",
         1
        ],
        [
         "0000-0001-7328-5068",
         "Young Ho Kim",
         1
        ],
        [
         "0000-0002-7816-9610",
         "Cathy E McNamee",
         0
        ],
        [
         "0000-0003-1786-6858",
         "Ping He",
         2
        ],
        [
         "0000-0003-4500-5545",
         "Jennifer Teshera-Levye",
         1
        ],
        [
         "0000-0003-0319-0308",
         "Fu Li",
         2
        ],
        [
         "0000-0002-6857-2860",
         "Cecilia Raccagni",
         2
        ],
        [
         "0000-0001-9524-2835",
         "Susanne Heinzel",
         13
        ],
        [
         "0000-0001-5148-3178",
         "Elena Perrin",
         7
        ],
        [
         "0000-0001-5287-8323",
         "Praveen N Birur",
         9
        ],
        [
         "0000-0001-5287-8323",
         "Praveen Birur",
         9
        ],
        [
         "0000-0002-3704-4619",
         "Amit Kumar Nayak",
         3
        ],
        [
         "0000-0002-3704-4619",
         "Subrata Mallick",
         3
        ],
        [
         "0009-0007-0146-8843",
         "Anthony Myhill",
         5
        ],
        [
         "0000-0002-8700-9010",
         "Celma de Oliveira Barbosa",
         5
        ],
        [
         "0000-0003-4804-3774",
         "Ziyaad Valley-Omar",
         3
        ],
        [
         "0000-0003-0277-9866",
         "Shinsuke Nagami",
         3
        ],
        [
         "0000-0002-9903-8812",
         "Muhammad Aminu",
         16
        ],
        [
         "0009-0008-7290-1402",
         "Dayana Nascimento Dari",
         5
        ],
        [
         "0000-0002-0538-2664",
         "Hi-Joon Park",
         11
        ],
        [
         "0000-0003-0187-6680",
         "Oliver Renaud",
         3
        ],
        [
         "0000-0002-0254-6141",
         "Katia Koelle",
         2
        ],
        [
         "0000-0003-1899-6558",
         "Ann M Decker",
         6
        ],
        [
         "0000-0003-2842-7500",
         "Ji-Yong Jang",
         17
        ],
        [
         "0000-0002-9473-6443",
         "Veerendra Dhyani",
         4
        ],
        [
         "0000-0003-0708-7762",
         "Liang Li",
         13
        ],
        [
         "0000-0001-9032-1841",
         "Utkarsh Shashank",
         3
        ],
        [
         "0000-0001-8742-8816",
         "Sandra Diminic",
         8
        ],
        [
         "0000-0002-7348-1939",
         "Gualtiero I Colombo",
         17
        ],
        [
         "0000-0002-0368-8176",
         "Zhicheng Cao",
         7
        ],
        [
         "0000-0002-3852-2096",
         "Laís Ferreira Dias",
         2
        ],
        [
         "0000-0003-4787-1754",
         "Wanyun Xu",
         19
        ],
        [
         "0000-0001-9257-8739",
         "Inmaculada Bautista-Castaño",
         23
        ],
        [
         "0000-0001-9257-8739",
         "Inmaculada Bautista",
         23
        ],
        [
         "0000-0003-3692-5235",
         "Kenneth F Ferraro",
         6
        ],
        [
         "0000-0003-4499-8653",
         "Chiara Nadai",
         0
        ],
        [
         "0000-0001-6166-8109",
         "Yi Li",
         10
        ],
        [
         "0000-0003-2866-8574",
         "Cristalle Soman",
         2
        ],
        [
         "0000-0002-5316-1399",
         "Sebastian Köhler",
         167
        ],
        [
         "0000-0001-6840-7403",
         "Monica Virginia Biondo",
         2
        ],
        [
         "0000-0003-0951-5804",
         "Messoud Ashina",
         6
        ],
        [
         "0000-0003-0326-6296",
         "Fan Yang",
         3
        ],
        [
         "0000-0001-9493-9120",
         "Chiheng Chu",
         10
        ],
        [
         "0000-0001-6564-1130",
         "Vanesa Núñez-Gómez",
         3
        ],
        [
         "0000-0001-9807-1875",
         "Kristen A Engevik",
         8
        ],
        [
         "0000-0002-3594-1754",
         "Nicholas V Coleman",
         1
        ],
        [
         "0000-0003-0285-6622",
         "Yogish C Kudva",
         20
        ],
        [
         "0000-0003-0285-6622",
         "Yogish Kudva",
         20
        ],
        [
         "0000-0001-6420-9733",
         "Firda Aushi",
         3
        ],
        [
         "0000-0001-7256-2246",
         "Yuning Peng",
         0
        ],
        [
         "0000-0002-0736-9199",
         "Peter N Robinson",
         288
        ],
        [
         "0000-0002-9803-8335",
         "David A McCormick",
         1
        ],
        [
         "0000-0002-6951-1648",
         "M Teague O'Mara",
         55
        ],
        [
         "0000-0002-6951-1648",
         "Teague O'Mara",
         55
        ]
       ],
       "datasetInfos": [],
       "dbfsResultPath": null,
       "isJsonSchema": true,
       "metadata": {},
       "overflow": false,
       "plotOptions": {
        "customPlotOptions": {},
        "displayType": "table",
        "pivotAggregation": null,
        "pivotColumns": null,
        "xColumns": null,
        "yColumns": null
       },
       "removedWidgets": [],
       "schema": [
        {
         "metadata": "{}",
         "name": "orcid",
         "type": "\"string\""
        },
        {
         "metadata": "{}",
         "name": "author_name",
         "type": "\"string\""
        },
        {
         "metadata": "{}",
         "name": "degree",
         "type": "\"long\""
        }
       ],
       "type": "table"
      }
     },
     "output_type": "display_data"
    },
    {
     "output_type": "display_data",
     "data": {
      "text/html": [
       "<style scoped>\n",
       "  .table-result-container {\n",
       "    max-height: 300px;\n",
       "    overflow: auto;\n",
       "  }\n",
       "  table, th, td {\n",
       "    border: 1px solid black;\n",
       "    border-collapse: collapse;\n",
       "  }\n",
       "  th, td {\n",
       "    padding: 5px;\n",
       "  }\n",
       "  th {\n",
       "    text-align: left;\n",
       "  }\n",
       "</style><div class='table-result-container'><table class='table-result'><thead style='background-color: white'><tr><th>src</th><th>dst</th><th>weight</th></tr></thead><tbody><tr><td>0000-0002-0736-9199</td><td>0000-0002-5316-1399</td><td>2</td></tr><tr><td>0000-0001-6395-7422</td><td>0000-0003-4787-1754</td><td>1</td></tr><tr><td>0000-0001-7855-1302</td><td>0000-0003-0957-3764</td><td>1</td></tr><tr><td>0000-0002-3597-5444</td><td>0009-0006-7739-4396</td><td>1</td></tr><tr><td>0000-0002-0018-1804</td><td>0000-0003-0187-6680</td><td>1</td></tr><tr><td>0000-0002-0399-5395</td><td>0000-0002-9654-1674</td><td>1</td></tr></tbody></table></div>"
      ]
     },
     "metadata": {
      "application/vnd.databricks.v1+output": {
       "addedWidgets": {},
       "aggData": [],
       "aggError": "",
       "aggOverflow": false,
       "aggSchema": [],
       "aggSeriesLimitReached": false,
       "aggType": "",
       "arguments": {},
       "columnCustomDisplayInfos": {},
       "data": [
        [
         "0000-0002-0736-9199",
         "0000-0002-5316-1399",
         2
        ],
        [
         "0000-0001-6395-7422",
         "0000-0003-4787-1754",
         1
        ],
        [
         "0000-0001-7855-1302",
         "0000-0003-0957-3764",
         1
        ],
        [
         "0000-0002-3597-5444",
         "0009-0006-7739-4396",
         1
        ],
        [
         "0000-0002-0018-1804",
         "0000-0003-0187-6680",
         1
        ],
        [
         "0000-0002-0399-5395",
         "0000-0002-9654-1674",
         1
        ]
       ],
       "datasetInfos": [],
       "dbfsResultPath": null,
       "isJsonSchema": true,
       "metadata": {},
       "overflow": false,
       "plotOptions": {
        "customPlotOptions": {},
        "displayType": "table",
        "pivotAggregation": null,
        "pivotColumns": null,
        "xColumns": null,
        "yColumns": null
       },
       "removedWidgets": [],
       "schema": [
        {
         "metadata": "{}",
         "name": "src",
         "type": "\"string\""
        },
        {
         "metadata": "{}",
         "name": "dst",
         "type": "\"string\""
        },
        {
         "metadata": "{}",
         "name": "weight",
         "type": "\"long\""
        }
       ],
       "type": "table"
      }
     },
     "output_type": "display_data"
    }
   ],
   "source": [
    "\n",
    "\n",
    "from pyspark.sql.functions import explode, col, regexp_replace, count, coalesce\n",
    "\n",
    "# 1. Leer tabla con autores\n",
    "df_pubmed = spark.table(\"pubmed_db.coautor_2024\")\n",
    "\n",
    "# 2. Explode autores, filtrar ORCID válido\n",
    "df_authors = df_pubmed.select(\"pmid\", explode(\"authors\").alias(\"author\")) \\\n",
    "    .select(\n",
    "        \"pmid\",\n",
    "        regexp_replace(col(\"author.orcid\"), \"https://orcid.org/\", \"\").alias(\"orcid\"),\n",
    "        col(\"author.fullname\").alias(\"author_name\")\n",
    "    ).filter(col(\"orcid\").rlike(\"^[0-9]{4}-[0-9]{4}-[0-9]{4}-[0-9]{4}$\"))\n",
    "\n",
    "# 3. Crear aristas de coautoría (pares de ORCID por artículo)\n",
    "df_edges = df_authors.alias(\"a1\").join(df_authors.alias(\"a2\"), on=\"pmid\") \\\n",
    "    .filter(col(\"a1.orcid\") < col(\"a2.orcid\")) \\\n",
    "    .select(col(\"a1.orcid\").alias(\"src\"), col(\"a2.orcid\").alias(\"dst\"))\n",
    "\n",
    "# 4. Calcular peso (número de colaboraciones)\n",
    "df_weighted_edges = df_edges.groupBy(\"src\", \"dst\").count().withColumnRenamed(\"count\", \"weight\")\n",
    "\n",
    "# 5. Calcular grado para cada autor\n",
    "df_degree_src = df_weighted_edges.groupBy(\"src\").agg(count(\"*\").alias(\"degree_src\"))\n",
    "df_degree_dst = df_weighted_edges.groupBy(\"dst\").agg(count(\"*\").alias(\"degree_dst\"))\n",
    "\n",
    "df_degree = df_degree_src.join(df_degree_dst, df_degree_src.src == df_degree_dst.dst, \"full_outer\") \\\n",
    "    .selectExpr(\n",
    "        \"coalesce(src, dst) as orcid\",\n",
    "        \"coalesce(degree_src, 0) + coalesce(degree_dst, 0) as degree\"\n",
    "    )\n",
    "\n",
    "# 6. Unir nombres y grado\n",
    "df_authors_unique = df_authors.select(\"orcid\", \"author_name\").distinct()\n",
    "\n",
    "df_nodes = df_authors_unique.join(df_degree, on=\"orcid\", how=\"left\").fillna(0)\n",
    "\n",
    "# 7. Guardar tablas en Delta (reemplaza rutas según tu workspace)\n",
    "df_nodes.write.format(\"delta\").mode(\"overwrite\").saveAsTable(\"pubmed_coauthor_nodes_2024\")\n",
    "df_weighted_edges.write.format(\"delta\").mode(\"overwrite\").saveAsTable(\"pubmed_coauthor_edges_2024\")\n",
    "\n",
    "# 8. Mostrar muestra pequeña para visualización (100 nodos + aristas relacionadas)\n",
    "sample_nodes = df_nodes.limit(100).select(\"orcid\").collect()\n",
    "sample_ids = [row[\"orcid\"] for row in sample_nodes]\n",
    "\n",
    "sample_edges = df_weighted_edges \\\n",
    "    .filter((col(\"src\").isin(sample_ids)) & (col(\"dst\").isin(sample_ids)))\n",
    "\n",
    "display(df_nodes.filter(col(\"orcid\").isin(sample_ids)))\n",
    "display(sample_edges)"
   ]
  },
  {
   "cell_type": "markdown",
   "metadata": {
    "application/vnd.databricks.v1+cell": {
     "cellMetadata": {
      "byteLimit": 2048000,
      "rowLimit": 10000
     },
     "inputWidgets": {},
     "nuid": "f4884242-40e5-4a04-9597-fbf80b96b0db",
     "showTitle": false,
     "tableResultSettingsMap": {},
     "title": ""
    }
   },
   "source": [
    "## Crear **visualizaacion**"
   ]
  },
  {
   "cell_type": "code",
   "execution_count": 0,
   "metadata": {
    "application/vnd.databricks.v1+cell": {
     "cellMetadata": {
      "byteLimit": 2048000,
      "rowLimit": 10000
     },
     "inputWidgets": {},
     "nuid": "c5baff90-fde4-4376-9074-ffdb55873273",
     "showTitle": false,
     "tableResultSettingsMap": {},
     "title": ""
    }
   },
   "outputs": [
    {
     "output_type": "stream",
     "name": "stderr",
     "output_type": "stream",
     "text": [
      "/root/.ipykernel/5906/command-8734885697465680-3239681238:28: MatplotlibDeprecationWarning: The get_cmap function was deprecated in Matplotlib 3.7 and will be removed two minor releases later. Use ``matplotlib.colormaps[name]`` or ``matplotlib.colormaps.get_cmap(obj)`` instead.\n  cmap_nodes = cm.get_cmap('viridis')\n/root/.ipykernel/5906/command-8734885697465680-3239681238:45: MatplotlibDeprecationWarning: The get_cmap function was deprecated in Matplotlib 3.7 and will be removed two minor releases later. Use ``matplotlib.colormaps[name]`` or ``matplotlib.colormaps.get_cmap(obj)`` instead.\n  cmap_edges = cm.get_cmap('plasma')\n"
     ]
    },
    {
     "output_type": "stream",
     "name": "stdout",
     "output_type": "stream",
     "text": [
      "✅ GEXF exportado: /dbfs/FileStore/pubmed/sample_graph_topN_viz_2024.gexf\n"
     ]
    }
   ],
   "source": [
    "\n",
    "\n",
    "# ------------------------------\n",
    "# 0) Librerías\n",
    "# ------------------------------\n",
    "import networkx as nx\n",
    "import pandas as pd\n",
    "import matplotlib.cm as cm\n",
    "import matplotlib.colors as mcolors\n",
    "from pyspark.sql.functions import col\n",
    "\n",
    "# ------------------------------\n",
    "# 1) Pasa muestra a Pandas\n",
    "# ------------------------------\n",
    "# Filtra solo los nodos en la muestra (por ejemplo ORCID)\n",
    "nodes_pd = df_nodes.filter(col(\"orcid\").isin(sample_ids)).toPandas()\n",
    "\n",
    "# Filtra TOP N coautorías (mayores pesos)\n",
    "TOP_N = 20\n",
    "edges_pd = sample_edges.orderBy(col(\"weight\").desc()).limit(TOP_N).toPandas()\n",
    "\n",
    "# ------------------------------\n",
    "# 2) Normalizar degree → tamaño y color de nodos\n",
    "# ------------------------------\n",
    "max_degree = nodes_pd[\"degree\"].max()\n",
    "nodes_pd[\"viz_size\"] = nodes_pd[\"degree\"] / max_degree * 30  # Tamaño máx ajusta a gusto (p.ej. 30)\n",
    "\n",
    "# Paleta viridis para nodos\n",
    "norm_degree = mcolors.Normalize(vmin=0, vmax=max_degree)\n",
    "cmap_nodes = cm.get_cmap('viridis')\n",
    "\n",
    "def degree_to_color(degree):\n",
    "    rgba = cmap_nodes(norm_degree(degree))\n",
    "    r, g, b, a = [int(255*x) if i < 3 else x for i, x in enumerate(rgba)]\n",
    "    return {'r': r, 'g': g, 'b': b, 'a': a}\n",
    "\n",
    "nodes_pd[\"viz_color\"] = nodes_pd[\"degree\"].apply(degree_to_color)\n",
    "\n",
    "# ------------------------------\n",
    "# 3) Normalizar weight → grosor y color de aristas\n",
    "# ------------------------------\n",
    "max_weight = edges_pd[\"weight\"].max()\n",
    "edges_pd[\"viz_thickness\"] = edges_pd[\"weight\"] / max_weight * 10  # Grosor máx 10\n",
    "\n",
    "# Paleta plasma para aristas\n",
    "norm_weight = mcolors.Normalize(vmin=0, vmax=max_weight)\n",
    "cmap_edges = cm.get_cmap('plasma')\n",
    "\n",
    "def weight_to_color(weight):\n",
    "    rgba = cmap_edges(norm_weight(weight))\n",
    "    r, g, b, a = [int(255*x) if i < 3 else x for i, x in enumerate(rgba)]\n",
    "    return {'r': r, 'g': g, 'b': b, 'a': a}\n",
    "\n",
    "edges_pd[\"viz_color\"] = edges_pd[\"weight\"].apply(weight_to_color)\n",
    "\n",
    "# ------------------------------\n",
    "# 4) Crear grafo con viz\n",
    "# ------------------------------\n",
    "G = nx.Graph()\n",
    "\n",
    "# Añadir nodos con label y tamaño\n",
    "for idx, row in nodes_pd.iterrows():\n",
    "    G.add_node(\n",
    "        row[\"orcid\"],\n",
    "        label=row[\"author_name\"],\n",
    "        degree=row[\"degree\"],\n",
    "        viz={'size': row[\"viz_size\"], 'color': row[\"viz_color\"]}\n",
    "    )\n",
    "\n",
    "# Añadir solo aristas TOP N\n",
    "for idx, row in edges_pd.iterrows():\n",
    "    G.add_edge(\n",
    "        row[\"src\"],\n",
    "        row[\"dst\"],\n",
    "        weight=row[\"weight\"],\n",
    "        viz={'thickness': row[\"viz_thickness\"], 'color': row[\"viz_color\"]}\n",
    "    )\n",
    "\n",
    "# ------------------------------\n",
    "# 5) Guardar GEXF listo para Gephi\n",
    "# ------------------------------\n",
    "nx.write_gexf(G, \"/dbfs/FileStore/pubmed/sample_graph_topN_viz_2024.gexf\")\n",
    "\n",
    "print(\"✅ GEXF exportado: /dbfs/FileStore/pubmed/sample_graph_topN_viz_2024.gexf\")\n",
    "## https://3132215626649366.6.gcp.databricks.com/files/pubmed/sample_graph_topN_viz_2024.gexf"
   ]
  }
 ],
 "metadata": {
  "application/vnd.databricks.v1+notebook": {
   "computePreferences": null,
   "dashboards": [],
   "environmentMetadata": {
    "base_environment": "",
    "environment_version": "2"
   },
   "inputWidgetPreferences": null,
   "language": "python",
   "notebookMetadata": {
    "mostRecentlyExecutedCommandWithImplicitDF": {
     "commandId": 8734885697465675,
     "dataframes": [
      "_sqldf"
     ]
    },
    "pythonIndentUnit": 4
   },
   "notebookName": "COAUTOR_2024",
   "widgets": {}
  },
  "language_info": {
   "name": "python"
  }
 },
 "nbformat": 4,
 "nbformat_minor": 0
}