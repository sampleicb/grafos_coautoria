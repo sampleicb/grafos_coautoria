{
 "cells": [
  {
   "cell_type": "code",
   "execution_count": 0,
   "metadata": {
    "application/vnd.databricks.v1+cell": {
     "cellMetadata": {
      "byteLimit": 2048000,
      "implicitDf": true,
      "rowLimit": 10000
     },
     "inputWidgets": {},
     "nuid": "937fada3-93b1-4a9c-932c-dad96da63055",
     "showTitle": false,
     "tableResultSettingsMap": {},
     "title": ""
    }
   },
   "outputs": [
    {
     "output_type": "display_data",
     "data": {
      "text/html": [
       "<style scoped>\n",
       "  .table-result-container {\n",
       "    max-height: 300px;\n",
       "    overflow: auto;\n",
       "  }\n",
       "  table, th, td {\n",
       "    border: 1px solid black;\n",
       "    border-collapse: collapse;\n",
       "  }\n",
       "  th, td {\n",
       "    padding: 5px;\n",
       "  }\n",
       "  th {\n",
       "    text-align: left;\n",
       "  }\n",
       "</style><div class='table-result-container'><table class='table-result'><thead style='background-color: white'><tr><th>num_affected_rows</th><th>num_inserted_rows</th></tr></thead><tbody></tbody></table></div>"
      ]
     },
     "metadata": {
      "application/vnd.databricks.v1+output": {
       "addedWidgets": {},
       "aggData": [],
       "aggError": "",
       "aggOverflow": false,
       "aggSchema": [],
       "aggSeriesLimitReached": false,
       "aggType": "",
       "arguments": {},
       "columnCustomDisplayInfos": {},
       "data": [],
       "datasetInfos": [
        {
         "name": "_sqldf",
         "schema": {
          "fields": [
           {
            "metadata": {},
            "name": "num_affected_rows",
            "nullable": true,
            "type": "long"
           },
           {
            "metadata": {},
            "name": "num_inserted_rows",
            "nullable": true,
            "type": "long"
           }
          ],
          "type": "struct"
         },
         "tableIdentifier": null,
         "typeStr": "pyspark.sql.dataframe.DataFrame"
        }
       ],
       "dbfsResultPath": null,
       "isJsonSchema": true,
       "metadata": {
        "createTempViewForImplicitDf": true,
        "dataframeName": "_sqldf",
        "executionCount": 1
       },
       "overflow": false,
       "plotOptions": {
        "customPlotOptions": {},
        "displayType": "table",
        "pivotAggregation": null,
        "pivotColumns": null,
        "xColumns": null,
        "yColumns": null
       },
       "removedWidgets": [],
       "schema": [
        {
         "metadata": "{}",
         "name": "num_affected_rows",
         "type": "\"long\""
        },
        {
         "metadata": "{}",
         "name": "num_inserted_rows",
         "type": "\"long\""
        }
       ],
       "type": "table"
      }
     },
     "output_type": "display_data"
    }
   ],
   "source": [
    "%sql\n",
    "create or replace table pubmed_db.coautor_all\n",
    "select distinct pmid, substr(year, 1, 4) AS year, authors from pubmed_temp_filtrado\n",
    "where  substr(year,1,4) in (  2020 , 2021, 2022, 2023, 2024 , 2025) and authors.orcid is not null\n"
   ]
  },
  {
   "cell_type": "markdown",
   "metadata": {
    "application/vnd.databricks.v1+cell": {
     "cellMetadata": {},
     "inputWidgets": {},
     "nuid": "f07960f2-1505-46b7-9bd4-c925bc1f6c09",
     "showTitle": false,
     "tableResultSettingsMap": {},
     "title": ""
    }
   },
   "source": [
    "## CREAR ARISTAS Y NODOS"
   ]
  },
  {
   "cell_type": "code",
   "execution_count": 0,
   "metadata": {
    "application/vnd.databricks.v1+cell": {
     "cellMetadata": {
      "byteLimit": 2048000,
      "rowLimit": 10000
     },
     "inputWidgets": {},
     "nuid": "7ffea072-9d4b-49d9-9df1-ef45afb4bfd1",
     "showTitle": false,
     "tableResultSettingsMap": {},
     "title": ""
    }
   },
   "outputs": [
    {
     "output_type": "display_data",
     "data": {
      "text/html": [
       "<style scoped>\n",
       "  .table-result-container {\n",
       "    max-height: 300px;\n",
       "    overflow: auto;\n",
       "  }\n",
       "  table, th, td {\n",
       "    border: 1px solid black;\n",
       "    border-collapse: collapse;\n",
       "  }\n",
       "  th, td {\n",
       "    padding: 5px;\n",
       "  }\n",
       "  th {\n",
       "    text-align: left;\n",
       "  }\n",
       "</style><div class='table-result-container'><table class='table-result'><thead style='background-color: white'><tr><th>orcid</th><th>author_name</th><th>degree</th></tr></thead><tbody><tr><td>0000-0003-2008-3328</td><td>Douwe de Boer</td><td>1</td></tr><tr><td>0000-0001-9175-2678</td><td>Marek Kretowski</td><td>3</td></tr><tr><td>0000-0002-2161-6934</td><td>Zhanshan Wang</td><td>29</td></tr><tr><td>0000-0002-7333-4883</td><td>Fatih Kılıç</td><td>63</td></tr><tr><td>0000-0002-7333-4883</td><td>Fatih Kilic</td><td>63</td></tr><tr><td>0000-0002-7333-4883</td><td>Fatih Kiliç</td><td>63</td></tr><tr><td>0000-0003-3508-2563</td><td>Başak Kayhan</td><td>9</td></tr><tr><td>0000-0001-5113-7929</td><td>Martina Turk</td><td>4</td></tr><tr><td>0000-0002-7557-3124</td><td>David L Sacks</td><td>9</td></tr><tr><td>0000-0002-7557-3124</td><td>David Sacks</td><td>9</td></tr><tr><td>0000-0001-7320-9612</td><td>Graham Ladds</td><td>27</td></tr><tr><td>0000-0003-4428-8256</td><td>Angela Dibenedetto</td><td>3</td></tr><tr><td>0009-0003-8527-1511</td><td>Chi-Chun Lin</td><td>10</td></tr><tr><td>0000-0003-1576-0486</td><td>Kathrin Braun</td><td>14</td></tr><tr><td>0000-0001-7729-6768</td><td>Marcin Stawarz</td><td>10</td></tr><tr><td>0000-0001-9479-0143</td><td>R A Armstrong</td><td>26</td></tr><tr><td>0000-0001-9479-0143</td><td>Richard A Armstrong</td><td>26</td></tr><tr><td>0000-0001-5504-9766</td><td>Magdalena Łuniewska</td><td>17</td></tr><tr><td>0000-0002-2218-5718</td><td>Liaoliang Ke</td><td>0</td></tr><tr><td>0000-0002-1150-2140</td><td>Estelí Jiménez-Soto</td><td>3</td></tr><tr><td>0000-0003-2164-0077</td><td>Kulashekar R Nandalur</td><td>10</td></tr><tr><td>0000-0003-2164-0077</td><td>Nandalur Kulashekar Reddy</td><td>10</td></tr><tr><td>0000-0003-0973-5890</td><td>Robert P Lennon</td><td>34</td></tr><tr><td>0000-0003-1137-4043</td><td>Vlad Stolojan</td><td>11</td></tr><tr><td>0000-0001-9870-2315</td><td>Tal Ben-Ari</td><td>17</td></tr><tr><td>0000-0002-2940-9235</td><td>Andreas L Lopata</td><td>126</td></tr><tr><td>0000-0002-2940-9235</td><td>Andreas Lopata</td><td>126</td></tr><tr><td>0000-0002-2940-9235</td><td>Andreas Ludwig Lopata</td><td>126</td></tr><tr><td>0000-0001-7437-4855</td><td>Carlos Alberto Jurado</td><td>57</td></tr><tr><td>0000-0001-7437-4855</td><td>Carlos A Jurado</td><td>57</td></tr><tr><td>0000-0002-5046-0414</td><td>C L Schollaert</td><td>4</td></tr><tr><td>0000-0002-8251-5280</td><td>Xiuzhu Yu</td><td>0</td></tr><tr><td>0000-0001-5710-7421</td><td>Mehak M Khan</td><td>3</td></tr><tr><td>0000-0002-5046-0414</td><td>Claire Schollaert</td><td>4</td></tr><tr><td>0000-0001-6788-4398</td><td>Y Tseng</td><td>18</td></tr><tr><td>0000-0003-3122-4851</td><td>Chris D Richardson</td><td>10</td></tr><tr><td>0000-0001-6788-4398</td><td>Yi Tseng</td><td>18</td></tr><tr><td>0009-0001-9862-9354</td><td>Melanie Neumeier</td><td>1</td></tr><tr><td>0000-0002-7970-3643</td><td>Paul Welsh</td><td>148</td></tr><tr><td>0000-0002-2261-7875</td><td>Cheryl L Knott</td><td>30</td></tr><tr><td>0000-0003-4135-5695</td><td>Daniela Poenaru</td><td>8</td></tr><tr><td>0000-0002-7970-3643</td><td>Paul I Welsh</td><td>148</td></tr><tr><td>0009-0004-3523-8083</td><td>Anand Jaiswal</td><td>17</td></tr><tr><td>0000-0002-7788-6079</td><td>Yardena Tenenbaum-Rakover</td><td>17</td></tr><tr><td>0000-0001-5254-1405</td><td>Hee-Jung Kim</td><td>27</td></tr><tr><td>0000-0003-0307-2862</td><td>Bratislav Misic</td><td>118</td></tr><tr><td>0000-0001-5254-1405</td><td>Hee Jung Kim</td><td>27</td></tr><tr><td>0000-0003-0307-2862</td><td>Bratislav Mišić</td><td>118</td></tr><tr><td>0000-0002-7788-6079</td><td>Yardena Tenenbaum Rakover</td><td>17</td></tr><tr><td>0000-0001-5254-1405</td><td>Jae Won Lee</td><td>27</td></tr><tr><td>0000-0002-1374-0783</td><td>Mehmet Gül</td><td>38</td></tr><tr><td>0000-0003-3905-0251</td><td>Marion Subklewe</td><td>214</td></tr><tr><td>0000-0003-3905-0251</td><td>Kai Rejeski</td><td>214</td></tr><tr><td>0000-0002-1374-0783</td><td>Mehmet Gul</td><td>38</td></tr><tr><td>0000-0003-2203-3092</td><td>Guido Maria Macaluso</td><td>23</td></tr><tr><td>0000-0003-2203-3092</td><td>Guido M Macaluso</td><td>23</td></tr><tr><td>0000-0002-8195-9381</td><td>Yuan Le</td><td>6</td></tr><tr><td>0000-0002-8538-6971</td><td>Gergely Kali</td><td>11</td></tr><tr><td>0000-0003-3612-5334</td><td>Evangelia Grammatikaki</td><td>22</td></tr><tr><td>0000-0001-7534-7154</td><td>K Petoumenos</td><td>9</td></tr><tr><td>0000-0001-7534-7154</td><td>Kathy Petoumenos</td><td>9</td></tr><tr><td>0000-0002-6532-5856</td><td>Petr Karlovsky</td><td>24</td></tr><tr><td>0000-0003-2257-8906</td><td>Yuen Yee Yen</td><td>2</td></tr><tr><td>0000-0002-4962-2957</td><td>Jeffrey S Weber</td><td>157</td></tr><tr><td>0009-0002-3625-7759</td><td>Hang Yuan</td><td>5</td></tr><tr><td>0000-0002-4962-2957</td><td>Jeffrey Weber</td><td>157</td></tr><tr><td>0000-0001-9936-9139</td><td>Rodrigo Zerbinati</td><td>18</td></tr><tr><td>0000-0001-9936-9139</td><td>Rodrigo Melim Zerbinati</td><td>18</td></tr><tr><td>0000-0001-7626-0034</td><td>Steven P Gygi</td><td>191</td></tr><tr><td>0000-0001-7626-0034</td><td>Steve P Gygi</td><td>191</td></tr><tr><td>0000-0001-7626-0034</td><td>Steven Gygi</td><td>191</td></tr><tr><td>0000-0003-3491-5738</td><td>Jonghwan Suhr</td><td>12</td></tr><tr><td>0000-0001-6852-8942</td><td>Vadim V Negrebetsky</td><td>17</td></tr><tr><td>0000-0002-2863-8335</td><td>Karen E Moeller</td><td>10</td></tr><tr><td>0000-0002-1695-5202</td><td>Kripa Chitre</td><td>8</td></tr><tr><td>0000-0002-0071-4068</td><td>Saurabh Jain</td><td>31</td></tr><tr><td>0000-0002-3664-7311</td><td>Tina Tomazic</td><td>1</td></tr><tr><td>0000-0002-2082-2429</td><td>Nikita G Nikiforov</td><td>16</td></tr><tr><td>0000-0002-7089-8173</td><td>Siene Swinnen</td><td>2</td></tr><tr><td>0000-0002-3664-7311</td><td>Tina Tomažič</td><td>1</td></tr><tr><td>0000-0002-5884-6231</td><td>David B Beck</td><td>72</td></tr><tr><td>0000-0002-5884-6231</td><td>David Beck</td><td>72</td></tr><tr><td>0000-0003-3353-2188</td><td>Francisco M Gutierrez-Mariscal</td><td>35</td></tr><tr><td>0000-0003-3353-2188</td><td>Francisco Miguel Gutierrez-Mariscal</td><td>35</td></tr><tr><td>0000-0003-3353-2188</td><td>Francisco M Gutiérrez-Mariscal</td><td>35</td></tr><tr><td>0000-0002-5196-1448</td><td>Laura E R Blok</td><td>8</td></tr><tr><td>0000-0002-9005-3872</td><td>Emma Nichols</td><td>7</td></tr><tr><td>0000-0002-3423-1830</td><td>John V Peter</td><td>38</td></tr><tr><td>0000-0002-2733-2270</td><td>Mantas Šimėnas</td><td>29</td></tr><tr><td>0000-0002-3423-1830</td><td>John Victor Peter</td><td>38</td></tr><tr><td>0000-0002-9005-3872</td><td>E Nichols</td><td>7</td></tr><tr><td>0000-0002-2733-2270</td><td>Mantas Simenas</td><td>29</td></tr><tr><td>0000-0002-2733-2270</td><td>M Šimėnas</td><td>29</td></tr><tr><td>0000-0002-2568-2664</td><td>Sumant Pargaonkar</td><td>18</td></tr><tr><td>0000-0001-6268-0636</td><td>William van Gaal</td><td>5</td></tr><tr><td>0000-0001-8443-7880</td><td>Marcello Candelli</td><td>48</td></tr><tr><td>0000-0002-7203-5048</td><td>Lei Sheng</td><td>3</td></tr><tr><td>0000-0002-4766-6040</td><td>Aikaterini Kanellopoulou</td><td>11</td></tr><tr><td>0000-0001-5955-2748</td><td>Sonia Mirabet</td><td>58</td></tr><tr><td>0000-0001-5955-2748</td><td>Sonia Mirabet-Pérez</td><td>58</td></tr><tr><td>0000-0001-5955-2748</td><td>Sònia Mirabet</td><td>58</td></tr><tr><td>0000-0001-5955-2748</td><td>Sónia Mirabet-Pérez</td><td>58</td></tr><tr><td>0000-0001-5955-2748</td><td>Sonia Mirabet Perez</td><td>58</td></tr><tr><td>0000-0003-4839-6123</td><td>Chengfu Yu</td><td>3</td></tr><tr><td>0000-0002-7235-2721</td><td>Thien Thanh Dang-Vu</td><td>30</td></tr><tr><td>0000-0002-0735-4704</td><td>Sahar Obeid</td><td>28</td></tr><tr><td>0000-0002-5401-8324</td><td>Juan Delgado</td><td>62</td></tr><tr><td>0000-0002-5401-8324</td><td>Juan F Delgado</td><td>62</td></tr><tr><td>0000-0002-5401-8324</td><td>Juan F Delgado-Jiménez</td><td>62</td></tr><tr><td>0000-0002-5401-8324</td><td>Juan F Delgado Jimenez</td><td>62</td></tr><tr><td>0000-0002-5401-8324</td><td>Juan F Delgado Jiménez</td><td>62</td></tr><tr><td>0000-0002-5401-8324</td><td>Juan Delgado Jiménez</td><td>62</td></tr><tr><td>0000-0002-5401-8324</td><td>Juan Francisco Delgado</td><td>62</td></tr><tr><td>0000-0002-2126-6663</td><td>Nicholas R Lenze</td><td>26</td></tr><tr><td>0000-0003-0905-0322</td><td>M Z Kabir</td><td>0</td></tr><tr><td>0000-0002-2126-6663</td><td>Nicholas Lenze</td><td>26</td></tr><tr><td>0000-0002-1944-0263</td><td>Alessandra Maiuro</td><td>6</td></tr><tr><td>0000-0001-7090-6156</td><td>Gabriela Olędzka</td><td>20</td></tr><tr><td>0000-0002-0792-4631</td><td>Yasushi Hirose</td><td>6</td></tr><tr><td>0000-0001-7090-6156</td><td>Gabriela Oledzka</td><td>20</td></tr><tr><td>0000-0002-0856-3452</td><td>Thimo Ruethers</td><td>32</td></tr><tr><td>0000-0001-8372-9937</td><td>Jason T Weir</td><td>12</td></tr><tr><td>0000-0001-9015-7690</td><td>Ignacio Cristóbal-Verdejo</td><td>4</td></tr><tr><td>0000-0001-9213-2067</td><td>Matthew M Y Lee</td><td>67</td></tr><tr><td>0000-0001-9213-2067</td><td>Matthew My Lee</td><td>67</td></tr><tr><td>0000-0001-9015-7690</td><td>José Ignacio Cristobal-Verdejo</td><td>4</td></tr><tr><td>0000-0001-9213-2067</td><td>Mathew M Y Lee</td><td>67</td></tr><tr><td>0000-0001-8167-3837</td><td>Özlem Moraloğlu Tekin</td><td>121</td></tr><tr><td>0000-0001-8167-3837</td><td>Ozlem Moraloglu Tekin</td><td>121</td></tr><tr><td>0000-0001-8167-3837</td><td>Ozlem Moraloğlu Tekin</td><td>121</td></tr><tr><td>0000-0001-8167-3837</td><td>Ozlem M Tekin</td><td>121</td></tr><tr><td>0000-0001-8167-3837</td><td>Özlem Moraloğlu-Tekin</td><td>121</td></tr><tr><td>0000-0001-8167-3837</td><td>Özlem Moraloğlu Tekın</td><td>121</td></tr><tr><td>0000-0001-8167-3837</td><td>Ozlem T Moraloglu</td><td>121</td></tr><tr><td>0000-0001-8167-3837</td><td>O Moraloglu Tekin</td><td>121</td></tr><tr><td>0000-0001-7789-4100</td><td>Tanya K Shivacheva</td><td>10</td></tr><tr><td>0000-0001-7789-4100</td><td>Zhaklin Apostolova</td><td>10</td></tr><tr><td>0000-0001-7789-4100</td><td>Tanya Shivacheva</td><td>10</td></tr><tr><td>0000-0001-7789-4100</td><td>Tanya Kirilova Shivacheva</td><td>10</td></tr><tr><td>0000-0001-8780-0876</td><td>C R Maganha</td><td>5</td></tr><tr><td>0000-0001-5209-7842</td><td>Irene Ying</td><td>1</td></tr><tr><td>0000-0001-6130-8533</td><td>Sara Bernardi</td><td>25</td></tr><tr><td>0000-0001-5470-5717</td><td>Justin L Poklis</td><td>11</td></tr><tr><td>0000-0001-8411-3325</td><td>Martina Teichert</td><td>26</td></tr><tr><td>0000-0001-7811-6255</td><td>Angelo Roberto Raccagni</td><td>15</td></tr><tr><td>0000-0001-7084-5293</td><td>C O'Connor</td><td>43</td></tr><tr><td>0000-0001-7084-5293</td><td>Cathal O'Connor</td><td>43</td></tr><tr><td>0000-0001-8511-9139</td><td>M S Anantha</td><td>0</td></tr><tr><td>0000-0001-7575-0867</td><td>Yingying Chen</td><td>11</td></tr><tr><td>0000-0001-5990-6892</td><td>Katherine L Guyon-Harris</td><td>10</td></tr><tr><td>0000-0001-7353-8774</td><td>Kelsey V Stuart</td><td>8</td></tr><tr><td>0000-0001-7353-8774</td><td>Kelsey Stuart</td><td>8</td></tr><tr><td>0000-0001-7353-8774</td><td>Kelsey Vernon Stuart</td><td>8</td></tr><tr><td>0000-0001-8418-9549</td><td>Sachchida Nand Rai</td><td>36</td></tr><tr><td>0000-0001-7714-4799</td><td>Alon Tiosano</td><td>12</td></tr><tr><td>0000-0001-7290-7996</td><td>Zachary M Klaver</td><td>6</td></tr><tr><td>0000-0001-8463-1675</td><td>Rob Patro</td><td>39</td></tr><tr><td>0000-0002-1629-2648</td><td>Shakti P Pattanayak</td><td>3</td></tr><tr><td>0000-0002-1629-2648</td><td>Shakti Prasad Pattanayak</td><td>3</td></tr><tr><td>0000-0001-7290-7996</td><td>Zachary Klaver</td><td>6</td></tr><tr><td>0000-0002-1251-7192</td><td>Irma Podolak</td><td>29</td></tr></tbody></table></div>"
      ]
     },
     "metadata": {
      "application/vnd.databricks.v1+output": {
       "addedWidgets": {},
       "aggData": [],
       "aggError": "",
       "aggOverflow": false,
       "aggSchema": [],
       "aggSeriesLimitReached": false,
       "aggType": "",
       "arguments": {},
       "columnCustomDisplayInfos": {},
       "data": [
        [
         "0000-0003-2008-3328",
         "Douwe de Boer",
         1
        ],
        [
         "0000-0001-9175-2678",
         "Marek Kretowski",
         3
        ],
        [
         "0000-0002-2161-6934",
         "Zhanshan Wang",
         29
        ],
        [
         "0000-0002-7333-4883",
         "Fatih Kılıç",
         63
        ],
        [
         "0000-0002-7333-4883",
         "Fatih Kilic",
         63
        ],
        [
         "0000-0002-7333-4883",
         "Fatih Kiliç",
         63
        ],
        [
         "0000-0003-3508-2563",
         "Başak Kayhan",
         9
        ],
        [
         "0000-0001-5113-7929",
         "Martina Turk",
         4
        ],
        [
         "0000-0002-7557-3124",
         "David L Sacks",
         9
        ],
        [
         "0000-0002-7557-3124",
         "David Sacks",
         9
        ],
        [
         "0000-0001-7320-9612",
         "Graham Ladds",
         27
        ],
        [
         "0000-0003-4428-8256",
         "Angela Dibenedetto",
         3
        ],
        [
         "0009-0003-8527-1511",
         "Chi-Chun Lin",
         10
        ],
        [
         "0000-0003-1576-0486",
         "Kathrin Braun",
         14
        ],
        [
         "0000-0001-7729-6768",
         "Marcin Stawarz",
         10
        ],
        [
         "0000-0001-9479-0143",
         "R A Armstrong",
         26
        ],
        [
         "0000-0001-9479-0143",
         "Richard A Armstrong",
         26
        ],
        [
         "0000-0001-5504-9766",
         "Magdalena Łuniewska",
         17
        ],
        [
         "0000-0002-2218-5718",
         "Liaoliang Ke",
         0
        ],
        [
         "0000-0002-1150-2140",
         "Estelí Jiménez-Soto",
         3
        ],
        [
         "0000-0003-2164-0077",
         "Kulashekar R Nandalur",
         10
        ],
        [
         "0000-0003-2164-0077",
         "Nandalur Kulashekar Reddy",
         10
        ],
        [
         "0000-0003-0973-5890",
         "Robert P Lennon",
         34
        ],
        [
         "0000-0003-1137-4043",
         "Vlad Stolojan",
         11
        ],
        [
         "0000-0001-9870-2315",
         "Tal Ben-Ari",
         17
        ],
        [
         "0000-0002-2940-9235",
         "Andreas L Lopata",
         126
        ],
        [
         "0000-0002-2940-9235",
         "Andreas Lopata",
         126
        ],
        [
         "0000-0002-2940-9235",
         "Andreas Ludwig Lopata",
         126
        ],
        [
         "0000-0001-7437-4855",
         "Carlos Alberto Jurado",
         57
        ],
        [
         "0000-0001-7437-4855",
         "Carlos A Jurado",
         57
        ],
        [
         "0000-0002-5046-0414",
         "C L Schollaert",
         4
        ],
        [
         "0000-0002-8251-5280",
         "Xiuzhu Yu",
         0
        ],
        [
         "0000-0001-5710-7421",
         "Mehak M Khan",
         3
        ],
        [
         "0000-0002-5046-0414",
         "Claire Schollaert",
         4
        ],
        [
         "0000-0001-6788-4398",
         "Y Tseng",
         18
        ],
        [
         "0000-0003-3122-4851",
         "Chris D Richardson",
         10
        ],
        [
         "0000-0001-6788-4398",
         "Yi Tseng",
         18
        ],
        [
         "0009-0001-9862-9354",
         "Melanie Neumeier",
         1
        ],
        [
         "0000-0002-7970-3643",
         "Paul Welsh",
         148
        ],
        [
         "0000-0002-2261-7875",
         "Cheryl L Knott",
         30
        ],
        [
         "0000-0003-4135-5695",
         "Daniela Poenaru",
         8
        ],
        [
         "0000-0002-7970-3643",
         "Paul I Welsh",
         148
        ],
        [
         "0009-0004-3523-8083",
         "Anand Jaiswal",
         17
        ],
        [
         "0000-0002-7788-6079",
         "Yardena Tenenbaum-Rakover",
         17
        ],
        [
         "0000-0001-5254-1405",
         "Hee-Jung Kim",
         27
        ],
        [
         "0000-0003-0307-2862",
         "Bratislav Misic",
         118
        ],
        [
         "0000-0001-5254-1405",
         "Hee Jung Kim",
         27
        ],
        [
         "0000-0003-0307-2862",
         "Bratislav Mišić",
         118
        ],
        [
         "0000-0002-7788-6079",
         "Yardena Tenenbaum Rakover",
         17
        ],
        [
         "0000-0001-5254-1405",
         "Jae Won Lee",
         27
        ],
        [
         "0000-0002-1374-0783",
         "Mehmet Gül",
         38
        ],
        [
         "0000-0003-3905-0251",
         "Marion Subklewe",
         214
        ],
        [
         "0000-0003-3905-0251",
         "Kai Rejeski",
         214
        ],
        [
         "0000-0002-1374-0783",
         "Mehmet Gul",
         38
        ],
        [
         "0000-0003-2203-3092",
         "Guido Maria Macaluso",
         23
        ],
        [
         "0000-0003-2203-3092",
         "Guido M Macaluso",
         23
        ],
        [
         "0000-0002-8195-9381",
         "Yuan Le",
         6
        ],
        [
         "0000-0002-8538-6971",
         "Gergely Kali",
         11
        ],
        [
         "0000-0003-3612-5334",
         "Evangelia Grammatikaki",
         22
        ],
        [
         "0000-0001-7534-7154",
         "K Petoumenos",
         9
        ],
        [
         "0000-0001-7534-7154",
         "Kathy Petoumenos",
         9
        ],
        [
         "0000-0002-6532-5856",
         "Petr Karlovsky",
         24
        ],
        [
         "0000-0003-2257-8906",
         "Yuen Yee Yen",
         2
        ],
        [
         "0000-0002-4962-2957",
         "Jeffrey S Weber",
         157
        ],
        [
         "0009-0002-3625-7759",
         "Hang Yuan",
         5
        ],
        [
         "0000-0002-4962-2957",
         "Jeffrey Weber",
         157
        ],
        [
         "0000-0001-9936-9139",
         "Rodrigo Zerbinati",
         18
        ],
        [
         "0000-0001-9936-9139",
         "Rodrigo Melim Zerbinati",
         18
        ],
        [
         "0000-0001-7626-0034",
         "Steven P Gygi",
         191
        ],
        [
         "0000-0001-7626-0034",
         "Steve P Gygi",
         191
        ],
        [
         "0000-0001-7626-0034",
         "Steven Gygi",
         191
        ],
        [
         "0000-0003-3491-5738",
         "Jonghwan Suhr",
         12
        ],
        [
         "0000-0001-6852-8942",
         "Vadim V Negrebetsky",
         17
        ],
        [
         "0000-0002-2863-8335",
         "Karen E Moeller",
         10
        ],
        [
         "0000-0002-1695-5202",
         "Kripa Chitre",
         8
        ],
        [
         "0000-0002-0071-4068",
         "Saurabh Jain",
         31
        ],
        [
         "0000-0002-3664-7311",
         "Tina Tomazic",
         1
        ],
        [
         "0000-0002-2082-2429",
         "Nikita G Nikiforov",
         16
        ],
        [
         "0000-0002-7089-8173",
         "Siene Swinnen",
         2
        ],
        [
         "0000-0002-3664-7311",
         "Tina Tomažič",
         1
        ],
        [
         "0000-0002-5884-6231",
         "David B Beck",
         72
        ],
        [
         "0000-0002-5884-6231",
         "David Beck",
         72
        ],
        [
         "0000-0003-3353-2188",
         "Francisco M Gutierrez-Mariscal",
         35
        ],
        [
         "0000-0003-3353-2188",
         "Francisco Miguel Gutierrez-Mariscal",
         35
        ],
        [
         "0000-0003-3353-2188",
         "Francisco M Gutiérrez-Mariscal",
         35
        ],
        [
         "0000-0002-5196-1448",
         "Laura E R Blok",
         8
        ],
        [
         "0000-0002-9005-3872",
         "Emma Nichols",
         7
        ],
        [
         "0000-0002-3423-1830",
         "John V Peter",
         38
        ],
        [
         "0000-0002-2733-2270",
         "Mantas Šimėnas",
         29
        ],
        [
         "0000-0002-3423-1830",
         "John Victor Peter",
         38
        ],
        [
         "0000-0002-9005-3872",
         "E Nichols",
         7
        ],
        [
         "0000-0002-2733-2270",
         "Mantas Simenas",
         29
        ],
        [
         "0000-0002-2733-2270",
         "M Šimėnas",
         29
        ],
        [
         "0000-0002-2568-2664",
         "Sumant Pargaonkar",
         18
        ],
        [
         "0000-0001-6268-0636",
         "William van Gaal",
         5
        ],
        [
         "0000-0001-8443-7880",
         "Marcello Candelli",
         48
        ],
        [
         "0000-0002-7203-5048",
         "Lei Sheng",
         3
        ],
        [
         "0000-0002-4766-6040",
         "Aikaterini Kanellopoulou",
         11
        ],
        [
         "0000-0001-5955-2748",
         "Sonia Mirabet",
         58
        ],
        [
         "0000-0001-5955-2748",
         "Sonia Mirabet-Pérez",
         58
        ],
        [
         "0000-0001-5955-2748",
         "Sònia Mirabet",
         58
        ],
        [
         "0000-0001-5955-2748",
         "Sónia Mirabet-Pérez",
         58
        ],
        [
         "0000-0001-5955-2748",
         "Sonia Mirabet Perez",
         58
        ],
        [
         "0000-0003-4839-6123",
         "Chengfu Yu",
         3
        ],
        [
         "0000-0002-7235-2721",
         "Thien Thanh Dang-Vu",
         30
        ],
        [
         "0000-0002-0735-4704",
         "Sahar Obeid",
         28
        ],
        [
         "0000-0002-5401-8324",
         "Juan Delgado",
         62
        ],
        [
         "0000-0002-5401-8324",
         "Juan F Delgado",
         62
        ],
        [
         "0000-0002-5401-8324",
         "Juan F Delgado-Jiménez",
         62
        ],
        [
         "0000-0002-5401-8324",
         "Juan F Delgado Jimenez",
         62
        ],
        [
         "0000-0002-5401-8324",
         "Juan F Delgado Jiménez",
         62
        ],
        [
         "0000-0002-5401-8324",
         "Juan Delgado Jiménez",
         62
        ],
        [
         "0000-0002-5401-8324",
         "Juan Francisco Delgado",
         62
        ],
        [
         "0000-0002-2126-6663",
         "Nicholas R Lenze",
         26
        ],
        [
         "0000-0003-0905-0322",
         "M Z Kabir",
         0
        ],
        [
         "0000-0002-2126-6663",
         "Nicholas Lenze",
         26
        ],
        [
         "0000-0002-1944-0263",
         "Alessandra Maiuro",
         6
        ],
        [
         "0000-0001-7090-6156",
         "Gabriela Olędzka",
         20
        ],
        [
         "0000-0002-0792-4631",
         "Yasushi Hirose",
         6
        ],
        [
         "0000-0001-7090-6156",
         "Gabriela Oledzka",
         20
        ],
        [
         "0000-0002-0856-3452",
         "Thimo Ruethers",
         32
        ],
        [
         "0000-0001-8372-9937",
         "Jason T Weir",
         12
        ],
        [
         "0000-0001-9015-7690",
         "Ignacio Cristóbal-Verdejo",
         4
        ],
        [
         "0000-0001-9213-2067",
         "Matthew M Y Lee",
         67
        ],
        [
         "0000-0001-9213-2067",
         "Matthew My Lee",
         67
        ],
        [
         "0000-0001-9015-7690",
         "José Ignacio Cristobal-Verdejo",
         4
        ],
        [
         "0000-0001-9213-2067",
         "Mathew M Y Lee",
         67
        ],
        [
         "0000-0001-8167-3837",
         "Özlem Moraloğlu Tekin",
         121
        ],
        [
         "0000-0001-8167-3837",
         "Ozlem Moraloglu Tekin",
         121
        ],
        [
         "0000-0001-8167-3837",
         "Ozlem Moraloğlu Tekin",
         121
        ],
        [
         "0000-0001-8167-3837",
         "Ozlem M Tekin",
         121
        ],
        [
         "0000-0001-8167-3837",
         "Özlem Moraloğlu-Tekin",
         121
        ],
        [
         "0000-0001-8167-3837",
         "Özlem Moraloğlu Tekın",
         121
        ],
        [
         "0000-0001-8167-3837",
         "Ozlem T Moraloglu",
         121
        ],
        [
         "0000-0001-8167-3837",
         "O Moraloglu Tekin",
         121
        ],
        [
         "0000-0001-7789-4100",
         "Tanya K Shivacheva",
         10
        ],
        [
         "0000-0001-7789-4100",
         "Zhaklin Apostolova",
         10
        ],
        [
         "0000-0001-7789-4100",
         "Tanya Shivacheva",
         10
        ],
        [
         "0000-0001-7789-4100",
         "Tanya Kirilova Shivacheva",
         10
        ],
        [
         "0000-0001-8780-0876",
         "C R Maganha",
         5
        ],
        [
         "0000-0001-5209-7842",
         "Irene Ying",
         1
        ],
        [
         "0000-0001-6130-8533",
         "Sara Bernardi",
         25
        ],
        [
         "0000-0001-5470-5717",
         "Justin L Poklis",
         11
        ],
        [
         "0000-0001-8411-3325",
         "Martina Teichert",
         26
        ],
        [
         "0000-0001-7811-6255",
         "Angelo Roberto Raccagni",
         15
        ],
        [
         "0000-0001-7084-5293",
         "C O'Connor",
         43
        ],
        [
         "0000-0001-7084-5293",
         "Cathal O'Connor",
         43
        ],
        [
         "0000-0001-8511-9139",
         "M S Anantha",
         0
        ],
        [
         "0000-0001-7575-0867",
         "Yingying Chen",
         11
        ],
        [
         "0000-0001-5990-6892",
         "Katherine L Guyon-Harris",
         10
        ],
        [
         "0000-0001-7353-8774",
         "Kelsey V Stuart",
         8
        ],
        [
         "0000-0001-7353-8774",
         "Kelsey Stuart",
         8
        ],
        [
         "0000-0001-7353-8774",
         "Kelsey Vernon Stuart",
         8
        ],
        [
         "0000-0001-8418-9549",
         "Sachchida Nand Rai",
         36
        ],
        [
         "0000-0001-7714-4799",
         "Alon Tiosano",
         12
        ],
        [
         "0000-0001-7290-7996",
         "Zachary M Klaver",
         6
        ],
        [
         "0000-0001-8463-1675",
         "Rob Patro",
         39
        ],
        [
         "0000-0002-1629-2648",
         "Shakti P Pattanayak",
         3
        ],
        [
         "0000-0002-1629-2648",
         "Shakti Prasad Pattanayak",
         3
        ],
        [
         "0000-0001-7290-7996",
         "Zachary Klaver",
         6
        ],
        [
         "0000-0002-1251-7192",
         "Irma Podolak",
         29
        ]
       ],
       "datasetInfos": [],
       "dbfsResultPath": null,
       "isJsonSchema": true,
       "metadata": {},
       "overflow": false,
       "plotOptions": {
        "customPlotOptions": {},
        "displayType": "table",
        "pivotAggregation": null,
        "pivotColumns": null,
        "xColumns": null,
        "yColumns": null
       },
       "removedWidgets": [],
       "schema": [
        {
         "metadata": "{}",
         "name": "orcid",
         "type": "\"string\""
        },
        {
         "metadata": "{}",
         "name": "author_name",
         "type": "\"string\""
        },
        {
         "metadata": "{}",
         "name": "degree",
         "type": "\"long\""
        }
       ],
       "type": "table"
      }
     },
     "output_type": "display_data"
    },
    {
     "output_type": "display_data",
     "data": {
      "text/html": [
       "<style scoped>\n",
       "  .table-result-container {\n",
       "    max-height: 300px;\n",
       "    overflow: auto;\n",
       "  }\n",
       "  table, th, td {\n",
       "    border: 1px solid black;\n",
       "    border-collapse: collapse;\n",
       "  }\n",
       "  th, td {\n",
       "    padding: 5px;\n",
       "  }\n",
       "  th {\n",
       "    text-align: left;\n",
       "  }\n",
       "</style><div class='table-result-container'><table class='table-result'><thead style='background-color: white'><tr><th>src</th><th>dst</th><th>weight</th></tr></thead><tbody><tr><td>0000-0001-9213-2067</td><td>0000-0002-7970-3643</td><td>2</td></tr><tr><td>0000-0002-3423-1830</td><td>0009-0004-3523-8083</td><td>1</td></tr><tr><td>0000-0001-9870-2315</td><td>0000-0002-7788-6079</td><td>1</td></tr><tr><td>0000-0002-0856-3452</td><td>0000-0002-2940-9235</td><td>12</td></tr><tr><td>0000-0001-8167-3837</td><td>0000-0002-7333-4883</td><td>7</td></tr><tr><td>0000-0001-5955-2748</td><td>0000-0002-5401-8324</td><td>2</td></tr><tr><td>0000-0002-1374-0783</td><td>0000-0003-3508-2563</td><td>2</td></tr></tbody></table></div>"
      ]
     },
     "metadata": {
      "application/vnd.databricks.v1+output": {
       "addedWidgets": {},
       "aggData": [],
       "aggError": "",
       "aggOverflow": false,
       "aggSchema": [],
       "aggSeriesLimitReached": false,
       "aggType": "",
       "arguments": {},
       "columnCustomDisplayInfos": {},
       "data": [
        [
         "0000-0001-9213-2067",
         "0000-0002-7970-3643",
         2
        ],
        [
         "0000-0002-3423-1830",
         "0009-0004-3523-8083",
         1
        ],
        [
         "0000-0001-9870-2315",
         "0000-0002-7788-6079",
         1
        ],
        [
         "0000-0002-0856-3452",
         "0000-0002-2940-9235",
         12
        ],
        [
         "0000-0001-8167-3837",
         "0000-0002-7333-4883",
         7
        ],
        [
         "0000-0001-5955-2748",
         "0000-0002-5401-8324",
         2
        ],
        [
         "0000-0002-1374-0783",
         "0000-0003-3508-2563",
         2
        ]
       ],
       "datasetInfos": [],
       "dbfsResultPath": null,
       "isJsonSchema": true,
       "metadata": {},
       "overflow": false,
       "plotOptions": {
        "customPlotOptions": {},
        "displayType": "table",
        "pivotAggregation": null,
        "pivotColumns": null,
        "xColumns": null,
        "yColumns": null
       },
       "removedWidgets": [],
       "schema": [
        {
         "metadata": "{}",
         "name": "src",
         "type": "\"string\""
        },
        {
         "metadata": "{}",
         "name": "dst",
         "type": "\"string\""
        },
        {
         "metadata": "{}",
         "name": "weight",
         "type": "\"long\""
        }
       ],
       "type": "table"
      }
     },
     "output_type": "display_data"
    }
   ],
   "source": [
    "\n",
    "\n",
    "from pyspark.sql.functions import explode, col, regexp_replace, count, coalesce\n",
    "\n",
    "# 1. Leer tabla con autores\n",
    "df_pubmed = spark.table(\"pubmed_db.coautor_all\")\n",
    "\n",
    "# 2. Explode autores, filtrar ORCID válido\n",
    "df_authors = df_pubmed.select(\"pmid\", explode(\"authors\").alias(\"author\")) \\\n",
    "    .select(\n",
    "        \"pmid\",\n",
    "        regexp_replace(col(\"author.orcid\"), \"https://orcid.org/\", \"\").alias(\"orcid\"),\n",
    "        col(\"author.fullname\").alias(\"author_name\")\n",
    "    ).filter(col(\"orcid\").rlike(\"^[0-9]{4}-[0-9]{4}-[0-9]{4}-[0-9]{4}$\"))\n",
    "\n",
    "# 3. Crear aristas de coautoría (pares de ORCID por artículo)\n",
    "df_edges = df_authors.alias(\"a1\").join(df_authors.alias(\"a2\"), on=\"pmid\") \\\n",
    "    .filter(col(\"a1.orcid\") < col(\"a2.orcid\")) \\\n",
    "    .select(col(\"a1.orcid\").alias(\"src\"), col(\"a2.orcid\").alias(\"dst\"))\n",
    "\n",
    "# 4. Calcular peso (número de colaboraciones)\n",
    "df_weighted_edges = df_edges.groupBy(\"src\", \"dst\").count().withColumnRenamed(\"count\", \"weight\")\n",
    "\n",
    "# 5. Calcular grado para cada autor\n",
    "df_degree_src = df_weighted_edges.groupBy(\"src\").agg(count(\"*\").alias(\"degree_src\"))\n",
    "df_degree_dst = df_weighted_edges.groupBy(\"dst\").agg(count(\"*\").alias(\"degree_dst\"))\n",
    "\n",
    "df_degree = df_degree_src.join(df_degree_dst, df_degree_src.src == df_degree_dst.dst, \"full_outer\") \\\n",
    "    .selectExpr(\n",
    "        \"coalesce(src, dst) as orcid\",\n",
    "        \"coalesce(degree_src, 0) + coalesce(degree_dst, 0) as degree\"\n",
    "    )\n",
    "\n",
    "# 6. Unir nombres y grado\n",
    "df_authors_unique = df_authors.select(\"orcid\", \"author_name\").distinct()\n",
    "\n",
    "df_nodes = df_authors_unique.join(df_degree, on=\"orcid\", how=\"left\").fillna(0)\n",
    "\n",
    "# 7. Guardar tablas en Delta (reemplaza rutas según tu workspace)\n",
    "df_nodes.write.format(\"delta\").mode(\"overwrite\").saveAsTable(\"pubmed_coauthor_nodes_all\")\n",
    "df_weighted_edges.write.format(\"delta\").mode(\"overwrite\").saveAsTable(\"pubmed_coauthor_edges_all\")\n",
    "\n",
    "# 8. Mostrar muestra pequeña para visualización (100 nodos + aristas relacionadas)\n",
    "sample_nodes = df_nodes.limit(100).select(\"orcid\").collect()\n",
    "sample_ids = [row[\"orcid\"] for row in sample_nodes]\n",
    "\n",
    "sample_edges = df_weighted_edges \\\n",
    "    .filter((col(\"src\").isin(sample_ids)) & (col(\"dst\").isin(sample_ids)))\n",
    "\n",
    "display(df_nodes.filter(col(\"orcid\").isin(sample_ids)))\n",
    "display(sample_edges)"
   ]
  },
  {
   "cell_type": "markdown",
   "metadata": {
    "application/vnd.databricks.v1+cell": {
     "cellMetadata": {},
     "inputWidgets": {},
     "nuid": "f4884242-40e5-4a04-9597-fbf80b96b0db",
     "showTitle": false,
     "tableResultSettingsMap": {},
     "title": ""
    }
   },
   "source": [
    "## Crear **visualizaacion**"
   ]
  },
  {
   "cell_type": "code",
   "execution_count": 0,
   "metadata": {
    "application/vnd.databricks.v1+cell": {
     "cellMetadata": {
      "byteLimit": 2048000,
      "rowLimit": 10000
     },
     "inputWidgets": {},
     "nuid": "c5baff90-fde4-4376-9074-ffdb55873273",
     "showTitle": false,
     "tableResultSettingsMap": {},
     "title": ""
    }
   },
   "outputs": [
    {
     "output_type": "stream",
     "name": "stderr",
     "output_type": "stream",
     "text": [
      "/root/.ipykernel/16285/command-4367526046110884-1631951305:28: MatplotlibDeprecationWarning: The get_cmap function was deprecated in Matplotlib 3.7 and will be removed two minor releases later. Use ``matplotlib.colormaps[name]`` or ``matplotlib.colormaps.get_cmap(obj)`` instead.\n  cmap_nodes = cm.get_cmap('viridis')\n/root/.ipykernel/16285/command-4367526046110884-1631951305:45: MatplotlibDeprecationWarning: The get_cmap function was deprecated in Matplotlib 3.7 and will be removed two minor releases later. Use ``matplotlib.colormaps[name]`` or ``matplotlib.colormaps.get_cmap(obj)`` instead.\n  cmap_edges = cm.get_cmap('plasma')\n"
     ]
    },
    {
     "output_type": "stream",
     "name": "stdout",
     "output_type": "stream",
     "text": [
      "✅ GEXF exportado: /dbfs/FileStore/pubmed/sample_graph_topN_viz_all.gexf\n"
     ]
    }
   ],
   "source": [
    "\n",
    "\n",
    "# ------------------------------\n",
    "# 0) Librerías\n",
    "# ------------------------------\n",
    "import networkx as nx\n",
    "import pandas as pd\n",
    "import matplotlib.cm as cm\n",
    "import matplotlib.colors as mcolors\n",
    "from pyspark.sql.functions import col\n",
    "\n",
    "# ------------------------------\n",
    "# 1) Pasa muestra a Pandas\n",
    "# ------------------------------\n",
    "# Filtra solo los nodos en la muestra (por ejemplo ORCID)\n",
    "nodes_pd = df_nodes.filter(col(\"orcid\").isin(sample_ids)).toPandas()\n",
    "\n",
    "# Filtra TOP N coautorías (mayores pesos)\n",
    "TOP_N = 20\n",
    "edges_pd = sample_edges.orderBy(col(\"weight\").desc()).limit(TOP_N).toPandas()\n",
    "\n",
    "# ------------------------------\n",
    "# 2) Normalizar degree → tamaño y color de nodos\n",
    "# ------------------------------\n",
    "max_degree = nodes_pd[\"degree\"].max()\n",
    "nodes_pd[\"viz_size\"] = nodes_pd[\"degree\"] / max_degree * 30  # Tamaño máx ajusta a gusto (p.ej. 30)\n",
    "\n",
    "# Paleta viridis para nodos\n",
    "norm_degree = mcolors.Normalize(vmin=0, vmax=max_degree)\n",
    "cmap_nodes = cm.get_cmap('viridis')\n",
    "\n",
    "def degree_to_color(degree):\n",
    "    rgba = cmap_nodes(norm_degree(degree))\n",
    "    r, g, b, a = [int(255*x) if i < 3 else x for i, x in enumerate(rgba)]\n",
    "    return {'r': r, 'g': g, 'b': b, 'a': a}\n",
    "\n",
    "nodes_pd[\"viz_color\"] = nodes_pd[\"degree\"].apply(degree_to_color)\n",
    "\n",
    "# ------------------------------\n",
    "# 3) Normalizar weight → grosor y color de aristas\n",
    "# ------------------------------\n",
    "max_weight = edges_pd[\"weight\"].max()\n",
    "edges_pd[\"viz_thickness\"] = edges_pd[\"weight\"] / max_weight * 10  # Grosor máx 10\n",
    "\n",
    "# Paleta plasma para aristas\n",
    "norm_weight = mcolors.Normalize(vmin=0, vmax=max_weight)\n",
    "cmap_edges = cm.get_cmap('plasma')\n",
    "\n",
    "def weight_to_color(weight):\n",
    "    rgba = cmap_edges(norm_weight(weight))\n",
    "    r, g, b, a = [int(255*x) if i < 3 else x for i, x in enumerate(rgba)]\n",
    "    return {'r': r, 'g': g, 'b': b, 'a': a}\n",
    "\n",
    "edges_pd[\"viz_color\"] = edges_pd[\"weight\"].apply(weight_to_color)\n",
    "\n",
    "# ------------------------------\n",
    "# 4) Crear grafo con viz\n",
    "# ------------------------------\n",
    "G = nx.Graph()\n",
    "\n",
    "# Añadir nodos con label y tamaño\n",
    "for idx, row in nodes_pd.iterrows():\n",
    "    G.add_node(\n",
    "        row[\"orcid\"],\n",
    "        label=row[\"author_name\"],\n",
    "        degree=row[\"degree\"],\n",
    "        viz={'size': row[\"viz_size\"], 'color': row[\"viz_color\"]}\n",
    "    )\n",
    "\n",
    "# Añadir solo aristas TOP N\n",
    "for idx, row in edges_pd.iterrows():\n",
    "    G.add_edge(\n",
    "        row[\"src\"],\n",
    "        row[\"dst\"],\n",
    "        weight=row[\"weight\"],\n",
    "        viz={'thickness': row[\"viz_thickness\"], 'color': row[\"viz_color\"]}\n",
    "    )\n",
    "\n",
    "# ------------------------------\n",
    "# 5) Guardar GEXF listo para Gephi\n",
    "# ------------------------------\n",
    "nx.write_gexf(G, \"/dbfs/FileStore/pubmed/sample_graph_topN_viz_all.gexf\")\n",
    "\n",
    "print(\"✅ GEXF exportado: /dbfs/FileStore/pubmed/sample_graph_topN_viz_all.gexf\")\n",
    "\n",
    "\n",
    "## https://3132215626649366.6.gcp.databricks.com/files/pubmed/sample_graph_topN_viz_2022.gexf"
   ]
  }
 ],
 "metadata": {
  "application/vnd.databricks.v1+notebook": {
   "computePreferences": null,
   "dashboards": [],
   "environmentMetadata": {
    "base_environment": "",
    "environment_version": "2"
   },
   "inputWidgetPreferences": null,
   "language": "python",
   "notebookMetadata": {
    "mostRecentlyExecutedCommandWithImplicitDF": {
     "commandId": 4367526046110880,
     "dataframes": [
      "_sqldf"
     ]
    },
    "pythonIndentUnit": 4
   },
   "notebookName": "COAUTOR_ALL",
   "widgets": {}
  },
  "language_info": {
   "name": "python"
  }
 },
 "nbformat": 4,
 "nbformat_minor": 0
}