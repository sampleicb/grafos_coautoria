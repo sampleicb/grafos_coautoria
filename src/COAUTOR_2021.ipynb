{
 "cells": [
  {
   "cell_type": "code",
   "execution_count": 0,
   "metadata": {
    "application/vnd.databricks.v1+cell": {
     "cellMetadata": {
      "byteLimit": 2048000,
      "implicitDf": true,
      "rowLimit": 10000
     },
     "inputWidgets": {},
     "nuid": "937fada3-93b1-4a9c-932c-dad96da63055",
     "showTitle": false,
     "tableResultSettingsMap": {},
     "title": ""
    }
   },
   "outputs": [
    {
     "output_type": "display_data",
     "data": {
      "text/html": [
       "<style scoped>\n",
       "  .table-result-container {\n",
       "    max-height: 300px;\n",
       "    overflow: auto;\n",
       "  }\n",
       "  table, th, td {\n",
       "    border: 1px solid black;\n",
       "    border-collapse: collapse;\n",
       "  }\n",
       "  th, td {\n",
       "    padding: 5px;\n",
       "  }\n",
       "  th {\n",
       "    text-align: left;\n",
       "  }\n",
       "</style><div class='table-result-container'><table class='table-result'><thead style='background-color: white'><tr><th>num_affected_rows</th><th>num_inserted_rows</th></tr></thead><tbody></tbody></table></div>"
      ]
     },
     "metadata": {
      "application/vnd.databricks.v1+output": {
       "addedWidgets": {},
       "aggData": [],
       "aggError": "",
       "aggOverflow": false,
       "aggSchema": [],
       "aggSeriesLimitReached": false,
       "aggType": "",
       "arguments": {},
       "columnCustomDisplayInfos": {},
       "data": [],
       "datasetInfos": [
        {
         "name": "_sqldf",
         "schema": {
          "fields": [
           {
            "metadata": {},
            "name": "num_affected_rows",
            "nullable": true,
            "type": "long"
           },
           {
            "metadata": {},
            "name": "num_inserted_rows",
            "nullable": true,
            "type": "long"
           }
          ],
          "type": "struct"
         },
         "tableIdentifier": null,
         "typeStr": "pyspark.sql.dataframe.DataFrame"
        }
       ],
       "dbfsResultPath": null,
       "isJsonSchema": true,
       "metadata": {
        "createTempViewForImplicitDf": true,
        "dataframeName": "_sqldf",
        "executionCount": 1
       },
       "overflow": false,
       "plotOptions": {
        "customPlotOptions": {},
        "displayType": "table",
        "pivotAggregation": null,
        "pivotColumns": null,
        "xColumns": null,
        "yColumns": null
       },
       "removedWidgets": [],
       "schema": [
        {
         "metadata": "{}",
         "name": "num_affected_rows",
         "type": "\"long\""
        },
        {
         "metadata": "{}",
         "name": "num_inserted_rows",
         "type": "\"long\""
        }
       ],
       "type": "table"
      }
     },
     "output_type": "display_data"
    }
   ],
   "source": [
    "%sql\n",
    "create or replace table pubmed_db.coautor_2021\n",
    "select distinct pmid, substr(year, 1, 4) AS year, authors from pubmed_temp_filtrado\n",
    "where  substr(year,1,4) = 2021 and authors.orcid is not null\n"
   ]
  },
  {
   "cell_type": "markdown",
   "metadata": {
    "application/vnd.databricks.v1+cell": {
     "cellMetadata": {},
     "inputWidgets": {},
     "nuid": "f07960f2-1505-46b7-9bd4-c925bc1f6c09",
     "showTitle": false,
     "tableResultSettingsMap": {},
     "title": ""
    }
   },
   "source": [
    "## CREAR ARISTAS Y NODOS"
   ]
  },
  {
   "cell_type": "code",
   "execution_count": 0,
   "metadata": {
    "application/vnd.databricks.v1+cell": {
     "cellMetadata": {
      "byteLimit": 2048000,
      "rowLimit": 10000
     },
     "inputWidgets": {},
     "nuid": "7ffea072-9d4b-49d9-9df1-ef45afb4bfd1",
     "showTitle": false,
     "tableResultSettingsMap": {},
     "title": ""
    }
   },
   "outputs": [
    {
     "output_type": "display_data",
     "data": {
      "text/html": [
       "<style scoped>\n",
       "  .table-result-container {\n",
       "    max-height: 300px;\n",
       "    overflow: auto;\n",
       "  }\n",
       "  table, th, td {\n",
       "    border: 1px solid black;\n",
       "    border-collapse: collapse;\n",
       "  }\n",
       "  th, td {\n",
       "    padding: 5px;\n",
       "  }\n",
       "  th {\n",
       "    text-align: left;\n",
       "  }\n",
       "</style><div class='table-result-container'><table class='table-result'><thead style='background-color: white'><tr><th>orcid</th><th>author_name</th><th>degree</th></tr></thead><tbody><tr><td>0000-0002-1547-7245</td><td>Markus Pfenninger</td><td>8</td></tr><tr><td>0000-0002-0012-3890</td><td>Patricia C Bernardes</td><td>5</td></tr><tr><td>0000-0002-2059-8447</td><td>Ahmed Ayuna</td><td>1</td></tr><tr><td>0000-0002-0012-3890</td><td>Patrícia C Bernardes</td><td>5</td></tr><tr><td>0000-0002-0406-9529</td><td>Guido Freckmann</td><td>12</td></tr><tr><td>0000-0001-9136-1175</td><td>Lawrence H Kushi</td><td>27</td></tr><tr><td>0000-0001-5903-4182</td><td>Lu Yi</td><td>9</td></tr><tr><td>0000-0001-5903-4182</td><td>Yi Patrick Lu</td><td>9</td></tr><tr><td>0000-0001-5903-4182</td><td>Yi Lu</td><td>9</td></tr><tr><td>0000-0001-9136-1175</td><td>Lawrence Kushi</td><td>27</td></tr><tr><td>0000-0002-8209-6899</td><td>David S Williams</td><td>5</td></tr><tr><td>0000-0002-9548-1219</td><td>Nguyen-Thanh Nam</td><td>2</td></tr><tr><td>0000-0003-3186-2861</td><td>E Dika</td><td>36</td></tr><tr><td>0000-0001-9808-9426</td><td>Alireza D Dehnavi</td><td>2</td></tr><tr><td>0000-0003-3186-2861</td><td>Emi Dika</td><td>36</td></tr><tr><td>0000-0001-8999-0925</td><td>Lotta Ljung</td><td>18</td></tr><tr><td>0000-0002-1513-8104</td><td>Pancras Hogendoorn</td><td>32</td></tr><tr><td>0000-0003-4374-3675</td><td>Nasser Alshammari</td><td>4</td></tr><tr><td>0000-0002-1513-8104</td><td>Pancras Cw Hogendoorn</td><td>32</td></tr><tr><td>0000-0002-1513-8104</td><td>Pancras C W Hogendoorn</td><td>32</td></tr><tr><td>0000-0003-4808-2052</td><td>Giuseppe Angelico</td><td>35</td></tr><tr><td>0000-0002-9706-0469</td><td>Luciano Celi</td><td>0</td></tr><tr><td>0000-0003-2461-3488</td><td>Kameron Wittmeyer</td><td>6</td></tr><tr><td>0000-0003-2461-3488</td><td>Kameron T Wittmeyer</td><td>6</td></tr><tr><td>0000-0001-5077-6948</td><td>Krzysztof Tomaszewski</td><td>7</td></tr><tr><td>0000-0001-5077-6948</td><td>Krzysztof A Tomaszewski</td><td>7</td></tr><tr><td>0000-0002-2483-2712</td><td>Christopher W Jones</td><td>3</td></tr><tr><td>0000-0001-6726-5191</td><td>Oliver Mitchell</td><td>0</td></tr><tr><td>0000-0002-3132-2913</td><td>Adam C Sedgwick</td><td>16</td></tr><tr><td>0000-0003-3703-1479</td><td>Seung-Hyun Ko</td><td>5</td></tr><tr><td>0000-0002-5955-8012</td><td>Johanna M A Visser-Meily</td><td>10</td></tr><tr><td>0000-0002-5955-8012</td><td>J M A Visser-Meily</td><td>10</td></tr><tr><td>0000-0002-5955-8012</td><td>Johanna Visser-Meily</td><td>10</td></tr><tr><td>0000-0001-5264-6207</td><td>Stephen R Durham</td><td>73</td></tr><tr><td>0000-0003-2751-3677</td><td>Csaba Varga</td><td>13</td></tr><tr><td>0000-0002-0300-2883</td><td>Tyler S Pidgeon</td><td>7</td></tr><tr><td>0000-0003-2613-0674</td><td>Seung Hyun Kim</td><td>7</td></tr><tr><td>0000-0002-0079-1979</td><td>Katelyn A Zink</td><td>0</td></tr><tr><td>0000-0002-2126-6663</td><td>Nicholas R Lenze</td><td>10</td></tr><tr><td>0000-0002-2126-6663</td><td>Nicholas Lenze</td><td>10</td></tr><tr><td>0000-0002-1798-6801</td><td>Marc J Poulin</td><td>9</td></tr><tr><td>0000-0003-2629-7554</td><td>John C Dennis</td><td>0</td></tr><tr><td>0000-0002-1798-6801</td><td>Marc Poulin</td><td>9</td></tr><tr><td>0000-0003-4772-4367</td><td>Zhanjun Shi</td><td>0</td></tr><tr><td>0000-0002-1953-7364</td><td>Ingvild Saksvik-Lehouillier</td><td>2</td></tr><tr><td>0000-0001-5270-9378</td><td>Yihe Huang</td><td>4</td></tr><tr><td>0000-0003-4847-4910</td><td>Mutlu Cevik</td><td>2</td></tr><tr><td>0000-0002-1477-7860</td><td>Sarah Mitchell</td><td>5</td></tr><tr><td>0000-0002-1477-7860</td><td>Sarah J Mitchell</td><td>5</td></tr><tr><td>0000-0001-5969-4332</td><td>Qin Liu</td><td>0</td></tr><tr><td>0000-0002-7506-5752</td><td>Sunyoung Park</td><td>20</td></tr><tr><td>0000-0001-6329-2424</td><td>Mong-Loon Kuet</td><td>1</td></tr><tr><td>0000-0003-2539-9620</td><td>Laura Nicolaou</td><td>2</td></tr><tr><td>0000-0001-8967-6960</td><td>Yunyan Xia</td><td>0</td></tr><tr><td>0000-0001-9101-7577</td><td>Darren M Roberts</td><td>13</td></tr><tr><td>0000-0001-6307-6916</td><td>Ataru Igarashi</td><td>7</td></tr><tr><td>0000-0002-2874-8040</td><td>Jens Goebel</td><td>0</td></tr><tr><td>0000-0001-5865-5198</td><td>Javier Galarza-Del-Angel</td><td>2</td></tr><tr><td>0000-0001-9751-4275</td><td>Qi Liao</td><td>1</td></tr><tr><td>0000-0002-2068-8493</td><td>Ali Nouri</td><td>0</td></tr><tr><td>0000-0002-5912-4871</td><td>Qiyong Gong</td><td>28</td></tr><tr><td>0000-0002-5912-4871</td><td>Xiaoqi Huang</td><td>28</td></tr><tr><td>0000-0002-9816-6302</td><td>Mark Litzow</td><td>66</td></tr><tr><td>0000-0002-9816-6302</td><td>Mark R Litzow</td><td>66</td></tr><tr><td>0000-0002-9816-6302</td><td>Wei Wei</td><td>66</td></tr><tr><td>0000-0001-9891-4326</td><td>Thuc-Huy Duong</td><td>2</td></tr><tr><td>0000-0002-7780-4707</td><td>Deborah J Morris-Rosendahl</td><td>0</td></tr><tr><td>0000-0002-0786-0690</td><td>Maryam Kouhsoltani</td><td>1</td></tr><tr><td>0000-0002-3040-7798</td><td>Tobias Rettig</td><td>8</td></tr><tr><td>0000-0003-3160-9591</td><td>W Cheuk</td><td>0</td></tr><tr><td>0000-0002-4610-1195</td><td>Rachel Lee-Yin Tan</td><td>4</td></tr><tr><td>0000-0003-3160-9591</td><td>Wah Cheuk</td><td>0</td></tr><tr><td>0000-0001-6208-3452</td><td>Omar Hashim</td><td>13</td></tr><tr><td>0000-0001-6208-3452</td><td>Omar H Ahmed</td><td>13</td></tr><tr><td>0000-0001-9619-7853</td><td>Annie M Dude</td><td>1</td></tr><tr><td>0000-0001-5037-0446</td><td>Brian C F Chan</td><td>5</td></tr><tr><td>0000-0002-7645-3706</td><td>Nilanjan Pal Chowdhury</td><td>6</td></tr><tr><td>0000-0002-4989-9315</td><td>Phu Hoang Dang</td><td>7</td></tr><tr><td>0000-0002-4989-9315</td><td>Phu H Dang</td><td>7</td></tr><tr><td>0000-0003-4765-8021</td><td>Anna Kiseleva</td><td>24</td></tr><tr><td>0000-0003-4765-8021</td><td>Anna V Kiseleva</td><td>24</td></tr><tr><td>0000-0003-4765-8021</td><td>A V Kiseleva</td><td>24</td></tr><tr><td>0000-0002-7367-7077</td><td>Kathleen Jepson</td><td>0</td></tr><tr><td>0000-0002-6190-0323</td><td>Ahmed Mohamed Hamam</td><td>2</td></tr><tr><td>0000-0002-0472-0553</td><td>Alexander Dityatev</td><td>47</td></tr><tr><td>0000-0003-0322-8476</td><td>Yu-Guo Guo</td><td>5</td></tr><tr><td>0000-0002-5922-3597</td><td>Jen Cadenhead</td><td>10</td></tr><tr><td>0000-0003-3010-5068</td><td>Nathaniel A Lynd</td><td>7</td></tr><tr><td>0000-0002-4128-0876</td><td>Ivana Šeděnková</td><td>3</td></tr><tr><td>0000-0002-8772-1120</td><td>Henk van der Poel</td><td>9</td></tr><tr><td>0000-0002-8772-1120</td><td>Henk G van der Poel</td><td>9</td></tr><tr><td>0000-0002-4595-1083</td><td>Namratha P Hegde</td><td>0</td></tr><tr><td>0000-0003-3552-8190</td><td>Erna J Z Krüsemann</td><td>1</td></tr><tr><td>0000-0002-0263-5910</td><td>Hélène Pillet</td><td>3</td></tr><tr><td>0000-0002-0263-5910</td><td>Helene Pillet</td><td>3</td></tr><tr><td>0000-0002-0263-5910</td><td>H Pillet</td><td>3</td></tr><tr><td>0000-0002-7979-6667</td><td>Beatrice Jahn-Schmid</td><td>8</td></tr><tr><td>0000-0002-1493-1741</td><td>Astrid Devinck</td><td>0</td></tr><tr><td>0000-0002-8288-4860</td><td>Lionel N Di Santo</td><td>0</td></tr><tr><td>0000-0003-4976-9534</td><td>Zuzana Strizova</td><td>4</td></tr><tr><td>0000-0001-7622-0120</td><td>Ralf Moos</td><td>3</td></tr><tr><td>0000-0001-7622-0120</td><td>Fatima-Ezzahrae El Azzouzi</td><td>3</td></tr><tr><td>0000-0002-9313-4176</td><td>Alessandra Sclip</td><td>2</td></tr><tr><td>0000-0002-0111-6748</td><td>Chenliang Ye</td><td>5</td></tr><tr><td>0000-0001-5602-2880</td><td>Pablo Sinues</td><td>10</td></tr><tr><td>0000-0002-6862-9273</td><td>Kostadin Ivanov Zhekov</td><td>1</td></tr><tr><td>0000-0001-9517-7519</td><td>Myoung Soo Lah</td><td>4</td></tr><tr><td>0000-0003-1480-4977</td><td>Joseph Mumba Zulu</td><td>0</td></tr><tr><td>0000-0002-8714-6322</td><td>Tao Jiang</td><td>1</td></tr><tr><td>0000-0001-9215-0134</td><td>Ama de-Graft Aikins</td><td>0</td></tr><tr><td>0000-0003-2747-3900</td><td>Walid Mohamed</td><td>0</td></tr><tr><td>0000-0002-3288-2509</td><td>Anthony Galitsky</td><td>15</td></tr><tr><td>0000-0001-7256-7784</td><td>Irina Burd</td><td>8</td></tr><tr><td>0000-0001-5908-4569</td><td>Manolito G Ybañez</td><td>1</td></tr><tr><td>0000-0002-0416-0621</td><td>Demet Sengul</td><td>2</td></tr><tr><td>0000-0002-2614-4964</td><td>Surinder Chopra</td><td>5</td></tr><tr><td>0000-0002-8189-5357</td><td>Michael Herdman</td><td>6</td></tr><tr><td>0000-0002-8189-5357</td><td>Mike Herdman</td><td>6</td></tr><tr><td>0000-0002-4513-9888</td><td>Eun Young Lee</td><td>15</td></tr><tr><td>0000-0003-3677-7666</td><td>Jade M Tan</td><td>5</td></tr><tr><td>0000-0002-4513-9888</td><td>Eun-Young Lee</td><td>15</td></tr><tr><td>0000-0002-2495-8841</td><td>Thibault Roch</td><td>3</td></tr><tr><td>0000-0003-3199-0775</td><td>Dragana Stevanović</td><td>3</td></tr><tr><td>0000-0002-7311-1663</td><td>Jose M Goicoechea</td><td>5</td></tr><tr><td>0000-0001-8947-9027</td><td>Terrell W Zollinger</td><td>4</td></tr><tr><td>0000-0002-7126-7189</td><td>V D Nadarajah</td><td>13</td></tr><tr><td>0000-0002-7126-7189</td><td>Vishna Devi Nadarajah</td><td>13</td></tr><tr><td>0000-0002-7126-7189</td><td>Vishna Devi V Nadarajah</td><td>13</td></tr><tr><td>0000-0001-8830-7960</td><td>Frank Redegeld</td><td>23</td></tr><tr><td>0000-0001-8830-7960</td><td>Frank A Redegeld</td><td>23</td></tr><tr><td>0000-0002-7526-0857</td><td>Jörg Ellinger</td><td>8</td></tr></tbody></table></div>"
      ]
     },
     "metadata": {
      "application/vnd.databricks.v1+output": {
       "addedWidgets": {},
       "aggData": [],
       "aggError": "",
       "aggOverflow": false,
       "aggSchema": [],
       "aggSeriesLimitReached": false,
       "aggType": "",
       "arguments": {},
       "columnCustomDisplayInfos": {},
       "data": [
        [
         "0000-0002-1547-7245",
         "Markus Pfenninger",
         8
        ],
        [
         "0000-0002-0012-3890",
         "Patricia C Bernardes",
         5
        ],
        [
         "0000-0002-2059-8447",
         "Ahmed Ayuna",
         1
        ],
        [
         "0000-0002-0012-3890",
         "Patrícia C Bernardes",
         5
        ],
        [
         "0000-0002-0406-9529",
         "Guido Freckmann",
         12
        ],
        [
         "0000-0001-9136-1175",
         "Lawrence H Kushi",
         27
        ],
        [
         "0000-0001-5903-4182",
         "Lu Yi",
         9
        ],
        [
         "0000-0001-5903-4182",
         "Yi Patrick Lu",
         9
        ],
        [
         "0000-0001-5903-4182",
         "Yi Lu",
         9
        ],
        [
         "0000-0001-9136-1175",
         "Lawrence Kushi",
         27
        ],
        [
         "0000-0002-8209-6899",
         "David S Williams",
         5
        ],
        [
         "0000-0002-9548-1219",
         "Nguyen-Thanh Nam",
         2
        ],
        [
         "0000-0003-3186-2861",
         "E Dika",
         36
        ],
        [
         "0000-0001-9808-9426",
         "Alireza D Dehnavi",
         2
        ],
        [
         "0000-0003-3186-2861",
         "Emi Dika",
         36
        ],
        [
         "0000-0001-8999-0925",
         "Lotta Ljung",
         18
        ],
        [
         "0000-0002-1513-8104",
         "Pancras Hogendoorn",
         32
        ],
        [
         "0000-0003-4374-3675",
         "Nasser Alshammari",
         4
        ],
        [
         "0000-0002-1513-8104",
         "Pancras Cw Hogendoorn",
         32
        ],
        [
         "0000-0002-1513-8104",
         "Pancras C W Hogendoorn",
         32
        ],
        [
         "0000-0003-4808-2052",
         "Giuseppe Angelico",
         35
        ],
        [
         "0000-0002-9706-0469",
         "Luciano Celi",
         0
        ],
        [
         "0000-0003-2461-3488",
         "Kameron Wittmeyer",
         6
        ],
        [
         "0000-0003-2461-3488",
         "Kameron T Wittmeyer",
         6
        ],
        [
         "0000-0001-5077-6948",
         "Krzysztof Tomaszewski",
         7
        ],
        [
         "0000-0001-5077-6948",
         "Krzysztof A Tomaszewski",
         7
        ],
        [
         "0000-0002-2483-2712",
         "Christopher W Jones",
         3
        ],
        [
         "0000-0001-6726-5191",
         "Oliver Mitchell",
         0
        ],
        [
         "0000-0002-3132-2913",
         "Adam C Sedgwick",
         16
        ],
        [
         "0000-0003-3703-1479",
         "Seung-Hyun Ko",
         5
        ],
        [
         "0000-0002-5955-8012",
         "Johanna M A Visser-Meily",
         10
        ],
        [
         "0000-0002-5955-8012",
         "J M A Visser-Meily",
         10
        ],
        [
         "0000-0002-5955-8012",
         "Johanna Visser-Meily",
         10
        ],
        [
         "0000-0001-5264-6207",
         "Stephen R Durham",
         73
        ],
        [
         "0000-0003-2751-3677",
         "Csaba Varga",
         13
        ],
        [
         "0000-0002-0300-2883",
         "Tyler S Pidgeon",
         7
        ],
        [
         "0000-0003-2613-0674",
         "Seung Hyun Kim",
         7
        ],
        [
         "0000-0002-0079-1979",
         "Katelyn A Zink",
         0
        ],
        [
         "0000-0002-2126-6663",
         "Nicholas R Lenze",
         10
        ],
        [
         "0000-0002-2126-6663",
         "Nicholas Lenze",
         10
        ],
        [
         "0000-0002-1798-6801",
         "Marc J Poulin",
         9
        ],
        [
         "0000-0003-2629-7554",
         "John C Dennis",
         0
        ],
        [
         "0000-0002-1798-6801",
         "Marc Poulin",
         9
        ],
        [
         "0000-0003-4772-4367",
         "Zhanjun Shi",
         0
        ],
        [
         "0000-0002-1953-7364",
         "Ingvild Saksvik-Lehouillier",
         2
        ],
        [
         "0000-0001-5270-9378",
         "Yihe Huang",
         4
        ],
        [
         "0000-0003-4847-4910",
         "Mutlu Cevik",
         2
        ],
        [
         "0000-0002-1477-7860",
         "Sarah Mitchell",
         5
        ],
        [
         "0000-0002-1477-7860",
         "Sarah J Mitchell",
         5
        ],
        [
         "0000-0001-5969-4332",
         "Qin Liu",
         0
        ],
        [
         "0000-0002-7506-5752",
         "Sunyoung Park",
         20
        ],
        [
         "0000-0001-6329-2424",
         "Mong-Loon Kuet",
         1
        ],
        [
         "0000-0003-2539-9620",
         "Laura Nicolaou",
         2
        ],
        [
         "0000-0001-8967-6960",
         "Yunyan Xia",
         0
        ],
        [
         "0000-0001-9101-7577",
         "Darren M Roberts",
         13
        ],
        [
         "0000-0001-6307-6916",
         "Ataru Igarashi",
         7
        ],
        [
         "0000-0002-2874-8040",
         "Jens Goebel",
         0
        ],
        [
         "0000-0001-5865-5198",
         "Javier Galarza-Del-Angel",
         2
        ],
        [
         "0000-0001-9751-4275",
         "Qi Liao",
         1
        ],
        [
         "0000-0002-2068-8493",
         "Ali Nouri",
         0
        ],
        [
         "0000-0002-5912-4871",
         "Qiyong Gong",
         28
        ],
        [
         "0000-0002-5912-4871",
         "Xiaoqi Huang",
         28
        ],
        [
         "0000-0002-9816-6302",
         "Mark Litzow",
         66
        ],
        [
         "0000-0002-9816-6302",
         "Mark R Litzow",
         66
        ],
        [
         "0000-0002-9816-6302",
         "Wei Wei",
         66
        ],
        [
         "0000-0001-9891-4326",
         "Thuc-Huy Duong",
         2
        ],
        [
         "0000-0002-7780-4707",
         "Deborah J Morris-Rosendahl",
         0
        ],
        [
         "0000-0002-0786-0690",
         "Maryam Kouhsoltani",
         1
        ],
        [
         "0000-0002-3040-7798",
         "Tobias Rettig",
         8
        ],
        [
         "0000-0003-3160-9591",
         "W Cheuk",
         0
        ],
        [
         "0000-0002-4610-1195",
         "Rachel Lee-Yin Tan",
         4
        ],
        [
         "0000-0003-3160-9591",
         "Wah Cheuk",
         0
        ],
        [
         "0000-0001-6208-3452",
         "Omar Hashim",
         13
        ],
        [
         "0000-0001-6208-3452",
         "Omar H Ahmed",
         13
        ],
        [
         "0000-0001-9619-7853",
         "Annie M Dude",
         1
        ],
        [
         "0000-0001-5037-0446",
         "Brian C F Chan",
         5
        ],
        [
         "0000-0002-7645-3706",
         "Nilanjan Pal Chowdhury",
         6
        ],
        [
         "0000-0002-4989-9315",
         "Phu Hoang Dang",
         7
        ],
        [
         "0000-0002-4989-9315",
         "Phu H Dang",
         7
        ],
        [
         "0000-0003-4765-8021",
         "Anna Kiseleva",
         24
        ],
        [
         "0000-0003-4765-8021",
         "Anna V Kiseleva",
         24
        ],
        [
         "0000-0003-4765-8021",
         "A V Kiseleva",
         24
        ],
        [
         "0000-0002-7367-7077",
         "Kathleen Jepson",
         0
        ],
        [
         "0000-0002-6190-0323",
         "Ahmed Mohamed Hamam",
         2
        ],
        [
         "0000-0002-0472-0553",
         "Alexander Dityatev",
         47
        ],
        [
         "0000-0003-0322-8476",
         "Yu-Guo Guo",
         5
        ],
        [
         "0000-0002-5922-3597",
         "Jen Cadenhead",
         10
        ],
        [
         "0000-0003-3010-5068",
         "Nathaniel A Lynd",
         7
        ],
        [
         "0000-0002-4128-0876",
         "Ivana Šeděnková",
         3
        ],
        [
         "0000-0002-8772-1120",
         "Henk van der Poel",
         9
        ],
        [
         "0000-0002-8772-1120",
         "Henk G van der Poel",
         9
        ],
        [
         "0000-0002-4595-1083",
         "Namratha P Hegde",
         0
        ],
        [
         "0000-0003-3552-8190",
         "Erna J Z Krüsemann",
         1
        ],
        [
         "0000-0002-0263-5910",
         "Hélène Pillet",
         3
        ],
        [
         "0000-0002-0263-5910",
         "Helene Pillet",
         3
        ],
        [
         "0000-0002-0263-5910",
         "H Pillet",
         3
        ],
        [
         "0000-0002-7979-6667",
         "Beatrice Jahn-Schmid",
         8
        ],
        [
         "0000-0002-1493-1741",
         "Astrid Devinck",
         0
        ],
        [
         "0000-0002-8288-4860",
         "Lionel N Di Santo",
         0
        ],
        [
         "0000-0003-4976-9534",
         "Zuzana Strizova",
         4
        ],
        [
         "0000-0001-7622-0120",
         "Ralf Moos",
         3
        ],
        [
         "0000-0001-7622-0120",
         "Fatima-Ezzahrae El Azzouzi",
         3
        ],
        [
         "0000-0002-9313-4176",
         "Alessandra Sclip",
         2
        ],
        [
         "0000-0002-0111-6748",
         "Chenliang Ye",
         5
        ],
        [
         "0000-0001-5602-2880",
         "Pablo Sinues",
         10
        ],
        [
         "0000-0002-6862-9273",
         "Kostadin Ivanov Zhekov",
         1
        ],
        [
         "0000-0001-9517-7519",
         "Myoung Soo Lah",
         4
        ],
        [
         "0000-0003-1480-4977",
         "Joseph Mumba Zulu",
         0
        ],
        [
         "0000-0002-8714-6322",
         "Tao Jiang",
         1
        ],
        [
         "0000-0001-9215-0134",
         "Ama de-Graft Aikins",
         0
        ],
        [
         "0000-0003-2747-3900",
         "Walid Mohamed",
         0
        ],
        [
         "0000-0002-3288-2509",
         "Anthony Galitsky",
         15
        ],
        [
         "0000-0001-7256-7784",
         "Irina Burd",
         8
        ],
        [
         "0000-0001-5908-4569",
         "Manolito G Ybañez",
         1
        ],
        [
         "0000-0002-0416-0621",
         "Demet Sengul",
         2
        ],
        [
         "0000-0002-2614-4964",
         "Surinder Chopra",
         5
        ],
        [
         "0000-0002-8189-5357",
         "Michael Herdman",
         6
        ],
        [
         "0000-0002-8189-5357",
         "Mike Herdman",
         6
        ],
        [
         "0000-0002-4513-9888",
         "Eun Young Lee",
         15
        ],
        [
         "0000-0003-3677-7666",
         "Jade M Tan",
         5
        ],
        [
         "0000-0002-4513-9888",
         "Eun-Young Lee",
         15
        ],
        [
         "0000-0002-2495-8841",
         "Thibault Roch",
         3
        ],
        [
         "0000-0003-3199-0775",
         "Dragana Stevanović",
         3
        ],
        [
         "0000-0002-7311-1663",
         "Jose M Goicoechea",
         5
        ],
        [
         "0000-0001-8947-9027",
         "Terrell W Zollinger",
         4
        ],
        [
         "0000-0002-7126-7189",
         "V D Nadarajah",
         13
        ],
        [
         "0000-0002-7126-7189",
         "Vishna Devi Nadarajah",
         13
        ],
        [
         "0000-0002-7126-7189",
         "Vishna Devi V Nadarajah",
         13
        ],
        [
         "0000-0001-8830-7960",
         "Frank Redegeld",
         23
        ],
        [
         "0000-0001-8830-7960",
         "Frank A Redegeld",
         23
        ],
        [
         "0000-0002-7526-0857",
         "Jörg Ellinger",
         8
        ]
       ],
       "datasetInfos": [],
       "dbfsResultPath": null,
       "isJsonSchema": true,
       "metadata": {},
       "overflow": false,
       "plotOptions": {
        "customPlotOptions": {},
        "displayType": "table",
        "pivotAggregation": null,
        "pivotColumns": null,
        "xColumns": null,
        "yColumns": null
       },
       "removedWidgets": [],
       "schema": [
        {
         "metadata": "{}",
         "name": "orcid",
         "type": "\"string\""
        },
        {
         "metadata": "{}",
         "name": "author_name",
         "type": "\"string\""
        },
        {
         "metadata": "{}",
         "name": "degree",
         "type": "\"long\""
        }
       ],
       "type": "table"
      }
     },
     "output_type": "display_data"
    },
    {
     "output_type": "display_data",
     "data": {
      "text/html": [
       "<style scoped>\n",
       "  .table-result-container {\n",
       "    max-height: 300px;\n",
       "    overflow: auto;\n",
       "  }\n",
       "  table, th, td {\n",
       "    border: 1px solid black;\n",
       "    border-collapse: collapse;\n",
       "  }\n",
       "  th, td {\n",
       "    padding: 5px;\n",
       "  }\n",
       "  th {\n",
       "    text-align: left;\n",
       "  }\n",
       "</style><div class='table-result-container'><table class='table-result'><thead style='background-color: white'><tr><th>src</th><th>dst</th><th>weight</th></tr></thead><tbody><tr><td>0000-0001-6307-6916</td><td>0000-0002-8189-5357</td><td>1</td></tr><tr><td>0000-0002-4610-1195</td><td>0000-0002-8189-5357</td><td>1</td></tr><tr><td>0000-0001-6307-6916</td><td>0000-0002-4610-1195</td><td>1</td></tr><tr><td>0000-0001-9136-1175</td><td>0000-0002-5922-3597</td><td>1</td></tr><tr><td>0000-0002-2614-4964</td><td>0000-0003-2461-3488</td><td>1</td></tr></tbody></table></div>"
      ]
     },
     "metadata": {
      "application/vnd.databricks.v1+output": {
       "addedWidgets": {},
       "aggData": [],
       "aggError": "",
       "aggOverflow": false,
       "aggSchema": [],
       "aggSeriesLimitReached": false,
       "aggType": "",
       "arguments": {},
       "columnCustomDisplayInfos": {},
       "data": [
        [
         "0000-0001-6307-6916",
         "0000-0002-8189-5357",
         1
        ],
        [
         "0000-0002-4610-1195",
         "0000-0002-8189-5357",
         1
        ],
        [
         "0000-0001-6307-6916",
         "0000-0002-4610-1195",
         1
        ],
        [
         "0000-0001-9136-1175",
         "0000-0002-5922-3597",
         1
        ],
        [
         "0000-0002-2614-4964",
         "0000-0003-2461-3488",
         1
        ]
       ],
       "datasetInfos": [],
       "dbfsResultPath": null,
       "isJsonSchema": true,
       "metadata": {},
       "overflow": false,
       "plotOptions": {
        "customPlotOptions": {},
        "displayType": "table",
        "pivotAggregation": null,
        "pivotColumns": null,
        "xColumns": null,
        "yColumns": null
       },
       "removedWidgets": [],
       "schema": [
        {
         "metadata": "{}",
         "name": "src",
         "type": "\"string\""
        },
        {
         "metadata": "{}",
         "name": "dst",
         "type": "\"string\""
        },
        {
         "metadata": "{}",
         "name": "weight",
         "type": "\"long\""
        }
       ],
       "type": "table"
      }
     },
     "output_type": "display_data"
    }
   ],
   "source": [
    "\n",
    "\n",
    "from pyspark.sql.functions import explode, col, regexp_replace, count, coalesce\n",
    "\n",
    "# 1. Leer tabla con autores\n",
    "df_pubmed = spark.table(\"pubmed_db.coautor_2021\")\n",
    "\n",
    "# 2. Explode autores, filtrar ORCID válido\n",
    "df_authors = df_pubmed.select(\"pmid\", explode(\"authors\").alias(\"author\")) \\\n",
    "    .select(\n",
    "        \"pmid\",\n",
    "        regexp_replace(col(\"author.orcid\"), \"https://orcid.org/\", \"\").alias(\"orcid\"),\n",
    "        col(\"author.fullname\").alias(\"author_name\")\n",
    "    ).filter(col(\"orcid\").rlike(\"^[0-9]{4}-[0-9]{4}-[0-9]{4}-[0-9]{4}$\"))\n",
    "\n",
    "# 3. Crear aristas de coautoría (pares de ORCID por artículo)\n",
    "df_edges = df_authors.alias(\"a1\").join(df_authors.alias(\"a2\"), on=\"pmid\") \\\n",
    "    .filter(col(\"a1.orcid\") < col(\"a2.orcid\")) \\\n",
    "    .select(col(\"a1.orcid\").alias(\"src\"), col(\"a2.orcid\").alias(\"dst\"))\n",
    "\n",
    "# 4. Calcular peso (número de colaboraciones)\n",
    "df_weighted_edges = df_edges.groupBy(\"src\", \"dst\").count().withColumnRenamed(\"count\", \"weight\")\n",
    "\n",
    "# 5. Calcular grado para cada autor\n",
    "df_degree_src = df_weighted_edges.groupBy(\"src\").agg(count(\"*\").alias(\"degree_src\"))\n",
    "df_degree_dst = df_weighted_edges.groupBy(\"dst\").agg(count(\"*\").alias(\"degree_dst\"))\n",
    "\n",
    "df_degree = df_degree_src.join(df_degree_dst, df_degree_src.src == df_degree_dst.dst, \"full_outer\") \\\n",
    "    .selectExpr(\n",
    "        \"coalesce(src, dst) as orcid\",\n",
    "        \"coalesce(degree_src, 0) + coalesce(degree_dst, 0) as degree\"\n",
    "    )\n",
    "\n",
    "# 6. Unir nombres y grado\n",
    "df_authors_unique = df_authors.select(\"orcid\", \"author_name\").distinct()\n",
    "\n",
    "df_nodes = df_authors_unique.join(df_degree, on=\"orcid\", how=\"left\").fillna(0)\n",
    "\n",
    "# 7. Guardar tablas en Delta (reemplaza rutas según tu workspace)\n",
    "df_nodes.write.format(\"delta\").mode(\"overwrite\").saveAsTable(\"pubmed_coauthor_nodes_2021\")\n",
    "df_weighted_edges.write.format(\"delta\").mode(\"overwrite\").saveAsTable(\"pubmed_coauthor_edges_2021\")\n",
    "\n",
    "# 8. Mostrar muestra pequeña para visualización (100 nodos + aristas relacionadas)\n",
    "sample_nodes = df_nodes.limit(100).select(\"orcid\").collect()\n",
    "sample_ids = [row[\"orcid\"] for row in sample_nodes]\n",
    "\n",
    "sample_edges = df_weighted_edges \\\n",
    "    .filter((col(\"src\").isin(sample_ids)) & (col(\"dst\").isin(sample_ids)))\n",
    "\n",
    "display(df_nodes.filter(col(\"orcid\").isin(sample_ids)))\n",
    "display(sample_edges)"
   ]
  },
  {
   "cell_type": "markdown",
   "metadata": {
    "application/vnd.databricks.v1+cell": {
     "cellMetadata": {},
     "inputWidgets": {},
     "nuid": "f4884242-40e5-4a04-9597-fbf80b96b0db",
     "showTitle": false,
     "tableResultSettingsMap": {},
     "title": ""
    }
   },
   "source": [
    "## Crear **visualizaacion**"
   ]
  },
  {
   "cell_type": "code",
   "execution_count": 0,
   "metadata": {
    "application/vnd.databricks.v1+cell": {
     "cellMetadata": {
      "byteLimit": 2048000,
      "rowLimit": 10000
     },
     "inputWidgets": {},
     "nuid": "c5baff90-fde4-4376-9074-ffdb55873273",
     "showTitle": false,
     "tableResultSettingsMap": {},
     "title": ""
    }
   },
   "outputs": [
    {
     "output_type": "stream",
     "name": "stderr",
     "output_type": "stream",
     "text": [
      "/root/.ipykernel/11714/command-4367526046110870-165571301:28: MatplotlibDeprecationWarning: The get_cmap function was deprecated in Matplotlib 3.7 and will be removed two minor releases later. Use ``matplotlib.colormaps[name]`` or ``matplotlib.colormaps.get_cmap(obj)`` instead.\n  cmap_nodes = cm.get_cmap('viridis')\n/root/.ipykernel/11714/command-4367526046110870-165571301:45: MatplotlibDeprecationWarning: The get_cmap function was deprecated in Matplotlib 3.7 and will be removed two minor releases later. Use ``matplotlib.colormaps[name]`` or ``matplotlib.colormaps.get_cmap(obj)`` instead.\n  cmap_edges = cm.get_cmap('plasma')\n"
     ]
    },
    {
     "output_type": "stream",
     "name": "stdout",
     "output_type": "stream",
     "text": [
      "✅ GEXF exportado: /dbfs/FileStore/pubmed/sample_graph_topN_viz_2021.gexf\n"
     ]
    }
   ],
   "source": [
    "\n",
    "\n",
    "# ------------------------------\n",
    "# 0) Librerías\n",
    "# ------------------------------\n",
    "import networkx as nx\n",
    "import pandas as pd\n",
    "import matplotlib.cm as cm\n",
    "import matplotlib.colors as mcolors\n",
    "from pyspark.sql.functions import col\n",
    "\n",
    "# ------------------------------\n",
    "# 1) Pasa muestra a Pandas\n",
    "# ------------------------------\n",
    "# Filtra solo los nodos en la muestra (por ejemplo ORCID)\n",
    "nodes_pd = df_nodes.filter(col(\"orcid\").isin(sample_ids)).toPandas()\n",
    "\n",
    "# Filtra TOP N coautorías (mayores pesos)\n",
    "TOP_N = 20\n",
    "edges_pd = sample_edges.orderBy(col(\"weight\").desc()).limit(TOP_N).toPandas()\n",
    "\n",
    "# ------------------------------\n",
    "# 2) Normalizar degree → tamaño y color de nodos\n",
    "# ------------------------------\n",
    "max_degree = nodes_pd[\"degree\"].max()\n",
    "nodes_pd[\"viz_size\"] = nodes_pd[\"degree\"] / max_degree * 30  # Tamaño máx ajusta a gusto (p.ej. 30)\n",
    "\n",
    "# Paleta viridis para nodos\n",
    "norm_degree = mcolors.Normalize(vmin=0, vmax=max_degree)\n",
    "cmap_nodes = cm.get_cmap('viridis')\n",
    "\n",
    "def degree_to_color(degree):\n",
    "    rgba = cmap_nodes(norm_degree(degree))\n",
    "    r, g, b, a = [int(255*x) if i < 3 else x for i, x in enumerate(rgba)]\n",
    "    return {'r': r, 'g': g, 'b': b, 'a': a}\n",
    "\n",
    "nodes_pd[\"viz_color\"] = nodes_pd[\"degree\"].apply(degree_to_color)\n",
    "\n",
    "# ------------------------------\n",
    "# 3) Normalizar weight → grosor y color de aristas\n",
    "# ------------------------------\n",
    "max_weight = edges_pd[\"weight\"].max()\n",
    "edges_pd[\"viz_thickness\"] = edges_pd[\"weight\"] / max_weight * 10  # Grosor máx 10\n",
    "\n",
    "# Paleta plasma para aristas\n",
    "norm_weight = mcolors.Normalize(vmin=0, vmax=max_weight)\n",
    "cmap_edges = cm.get_cmap('plasma')\n",
    "\n",
    "def weight_to_color(weight):\n",
    "    rgba = cmap_edges(norm_weight(weight))\n",
    "    r, g, b, a = [int(255*x) if i < 3 else x for i, x in enumerate(rgba)]\n",
    "    return {'r': r, 'g': g, 'b': b, 'a': a}\n",
    "\n",
    "edges_pd[\"viz_color\"] = edges_pd[\"weight\"].apply(weight_to_color)\n",
    "\n",
    "# ------------------------------\n",
    "# 4) Crear grafo con viz\n",
    "# ------------------------------\n",
    "G = nx.Graph()\n",
    "\n",
    "# Añadir nodos con label y tamaño\n",
    "for idx, row in nodes_pd.iterrows():\n",
    "    G.add_node(\n",
    "        row[\"orcid\"],\n",
    "        label=row[\"author_name\"],\n",
    "        degree=row[\"degree\"],\n",
    "        viz={'size': row[\"viz_size\"], 'color': row[\"viz_color\"]}\n",
    "    )\n",
    "\n",
    "# Añadir solo aristas TOP N\n",
    "for idx, row in edges_pd.iterrows():\n",
    "    G.add_edge(\n",
    "        row[\"src\"],\n",
    "        row[\"dst\"],\n",
    "        weight=row[\"weight\"],\n",
    "        viz={'thickness': row[\"viz_thickness\"], 'color': row[\"viz_color\"]}\n",
    "    )\n",
    "\n",
    "# ------------------------------\n",
    "# 5) Guardar GEXF listo para Gephi\n",
    "# ------------------------------\n",
    "nx.write_gexf(G, \"/dbfs/FileStore/pubmed/sample_graph_topN_viz_2021.gexf\")\n",
    "\n",
    "print(\"✅ GEXF exportado: /dbfs/FileStore/pubmed/sample_graph_topN_viz_2021.gexf\")\n",
    "\n",
    "\n",
    "## https://3132215626649366.6.gcp.databricks.com/files/pubmed/sample_graph_topN_viz_2022.gexf"
   ]
  }
 ],
 "metadata": {
  "application/vnd.databricks.v1+notebook": {
   "computePreferences": null,
   "dashboards": [],
   "environmentMetadata": {
    "base_environment": "",
    "environment_version": "2"
   },
   "inputWidgetPreferences": null,
   "language": "python",
   "notebookMetadata": {
    "mostRecentlyExecutedCommandWithImplicitDF": {
     "commandId": 4367526046110866,
     "dataframes": [
      "_sqldf"
     ]
    },
    "pythonIndentUnit": 4
   },
   "notebookName": "COAUTOR_2021",
   "widgets": {}
  },
  "language_info": {
   "name": "python"
  }
 },
 "nbformat": 4,
 "nbformat_minor": 0
}