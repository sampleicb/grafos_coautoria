{
 "cells": [
  {
   "cell_type": "code",
   "execution_count": 0,
   "metadata": {
    "application/vnd.databricks.v1+cell": {
     "cellMetadata": {
      "byteLimit": 2048000,
      "implicitDf": true,
      "rowLimit": 10000
     },
     "inputWidgets": {},
     "nuid": "3447d42b-81ca-47e4-8b85-25cc134aabdf",
     "showTitle": false,
     "tableResultSettingsMap": {
      "0": {
       "dataGridStateBlob": "{\"version\":1,\"tableState\":{\"columnPinning\":{\"left\":[\"#row_number#\"],\"right\":[]},\"columnSizing\":{\"tableName\":265},\"columnVisibility\":{}},\"settings\":{\"columns\":{}},\"syncTimestamp\":1752432685605}",
       "filterBlob": null,
       "queryPlanFiltersBlob": null,
       "tableResultIndex": 0
      }
     },
     "title": ""
    }
   },
   "outputs": [
    {
     "output_type": "display_data",
     "data": {
      "text/html": [
       "<style scoped>\n",
       "  .table-result-container {\n",
       "    max-height: 300px;\n",
       "    overflow: auto;\n",
       "  }\n",
       "  table, th, td {\n",
       "    border: 1px solid black;\n",
       "    border-collapse: collapse;\n",
       "  }\n",
       "  th, td {\n",
       "    padding: 5px;\n",
       "  }\n",
       "  th {\n",
       "    text-align: left;\n",
       "  }\n",
       "</style><div class='table-result-container'><table class='table-result'><thead style='background-color: white'><tr><th>database</th><th>tableName</th><th>isTemporary</th></tr></thead><tbody><tr><td>pubmed_db</td><td>m_afiliacion</td><td>false</td></tr><tr><td>pubmed_db</td><td>m_articulo</td><td>false</td></tr><tr><td>pubmed_db</td><td>m_articulo_autor</td><td>false</td></tr><tr><td>pubmed_db</td><td>m_articulo_autor_affiliation</td><td>false</td></tr><tr><td>pubmed_db</td><td>m_articulo_autor_orcid_api</td><td>false</td></tr><tr><td>pubmed_db</td><td>m_autor</td><td>false</td></tr><tr><td>pubmed_db</td><td>m_autor_afiliacion_ror_normalized</td><td>false</td></tr><tr><td>pubmed_db</td><td>m_autor_afiliacion_ror_normalized_fina_2</td><td>false</td></tr><tr><td>pubmed_db</td><td>m_autor_afiliacion_ror_normalized_fina_2l</td><td>false</td></tr><tr><td>pubmed_db</td><td>m_autor_afiliacion_ror_normalized_final</td><td>false</td></tr><tr><td>pubmed_db</td><td>m_autor_afiliacion_ror_normalized_final_3</td><td>false</td></tr><tr><td>pubmed_db</td><td>m_autor_afiliacion_ror_normalized_test</td><td>false</td></tr><tr><td>pubmed_db</td><td>m_autor_afiliacion_ror_normalized_test2</td><td>false</td></tr><tr><td>pubmed_db</td><td>n_affiliaciones</td><td>false</td></tr><tr><td>pubmed_db</td><td>n_articulo</td><td>false</td></tr><tr><td>pubmed_db</td><td>n_language</td><td>false</td></tr><tr><td>pubmed_db</td><td>n_orcdi</td><td>false</td></tr><tr><td>pubmed_db</td><td>n_pais</td><td>false</td></tr><tr><td></td><td>_sqldf</td><td>true</td></tr></tbody></table></div>"
      ]
     },
     "metadata": {
      "application/vnd.databricks.v1+output": {
       "addedWidgets": {},
       "aggData": [],
       "aggError": "",
       "aggOverflow": false,
       "aggSchema": [],
       "aggSeriesLimitReached": false,
       "aggType": "",
       "arguments": {},
       "columnCustomDisplayInfos": {},
       "data": [
        [
         "pubmed_db",
         "m_afiliacion",
         false
        ],
        [
         "pubmed_db",
         "m_articulo",
         false
        ],
        [
         "pubmed_db",
         "m_articulo_autor",
         false
        ],
        [
         "pubmed_db",
         "m_articulo_autor_affiliation",
         false
        ],
        [
         "pubmed_db",
         "m_articulo_autor_orcid_api",
         false
        ],
        [
         "pubmed_db",
         "m_autor",
         false
        ],
        [
         "pubmed_db",
         "m_autor_afiliacion_ror_normalized",
         false
        ],
        [
         "pubmed_db",
         "m_autor_afiliacion_ror_normalized_fina_2",
         false
        ],
        [
         "pubmed_db",
         "m_autor_afiliacion_ror_normalized_fina_2l",
         false
        ],
        [
         "pubmed_db",
         "m_autor_afiliacion_ror_normalized_final",
         false
        ],
        [
         "pubmed_db",
         "m_autor_afiliacion_ror_normalized_final_3",
         false
        ],
        [
         "pubmed_db",
         "m_autor_afiliacion_ror_normalized_test",
         false
        ],
        [
         "pubmed_db",
         "m_autor_afiliacion_ror_normalized_test2",
         false
        ],
        [
         "pubmed_db",
         "n_affiliaciones",
         false
        ],
        [
         "pubmed_db",
         "n_articulo",
         false
        ],
        [
         "pubmed_db",
         "n_language",
         false
        ],
        [
         "pubmed_db",
         "n_orcdi",
         false
        ],
        [
         "pubmed_db",
         "n_pais",
         false
        ],
        [
         "",
         "_sqldf",
         true
        ]
       ],
       "datasetInfos": [
        {
         "name": "_sqldf",
         "schema": {
          "fields": [
           {
            "metadata": {},
            "name": "database",
            "nullable": false,
            "type": "string"
           },
           {
            "metadata": {},
            "name": "tableName",
            "nullable": false,
            "type": "string"
           },
           {
            "metadata": {},
            "name": "isTemporary",
            "nullable": false,
            "type": "boolean"
           }
          ],
          "type": "struct"
         },
         "tableIdentifier": null,
         "typeStr": "pyspark.sql.dataframe.DataFrame"
        }
       ],
       "dbfsResultPath": null,
       "isJsonSchema": true,
       "metadata": {
        "createTempViewForImplicitDf": true,
        "dataframeName": "_sqldf",
        "executionCount": 4
       },
       "overflow": false,
       "plotOptions": {
        "customPlotOptions": {},
        "displayType": "table",
        "pivotAggregation": null,
        "pivotColumns": null,
        "xColumns": null,
        "yColumns": null
       },
       "removedWidgets": [],
       "schema": [
        {
         "metadata": "{}",
         "name": "database",
         "type": "\"string\""
        },
        {
         "metadata": "{}",
         "name": "tableName",
         "type": "\"string\""
        },
        {
         "metadata": "{}",
         "name": "isTemporary",
         "type": "\"boolean\""
        }
       ],
       "type": "table"
      }
     },
     "output_type": "display_data"
    }
   ],
   "source": [
    "%sql\n",
    "use unirdat.pubmed_db;\n",
    "show tables\n"
   ]
  },
  {
   "cell_type": "code",
   "execution_count": 0,
   "metadata": {
    "application/vnd.databricks.v1+cell": {
     "cellMetadata": {},
     "inputWidgets": {},
     "nuid": "a472a0b9-383b-4e4d-9993-bd0c6bd13603",
     "showTitle": false,
     "tableResultSettingsMap": {},
     "title": ""
    }
   },
   "outputs": [],
   "source": [
    "# Supongamos que tienes tu CSV en DBFS:\n",
    "# dbfs:/FileStore/mi_archivo.csv\n",
    "\n",
    "df = spark.read \\\n",
    "    .option(\"header\", True) \\\n",
    "    .option(\"inferSchema\", True) \\\n",
    "    .option(\"sep\", \",\") \\\n",
    "    .csv(\"/Volumes/unirdat/ressources/ressources/languages_iso.csv\")\n",
    "\n",
    "df.show(5)\n",
    "df.printSchema()\n",
    "\n",
    "\n",
    "\n",
    "df.write \\\n",
    "    .mode(\"overwrite\") \\\n",
    "    .saveAsTable(\"unirdat.pubmed_db.n_language\")\n",
    "\n",
    "\n",
    "\n",
    "## para los paises\n",
    "df = spark.read \\\n",
    "    .option(\"header\", True) \\\n",
    "    .option(\"inferSchema\", True) \\\n",
    "    .option(\"sep\", \",\") \\\n",
    "    .csv(\"/Volumes/unirdat/ressources/ressources/countries_iso_nor.csv\")\n",
    "\n",
    "df.show(5)\n",
    "df.printSchema()\n",
    "\n",
    "\n",
    "\n",
    "df.write \\\n",
    "    .mode(\"overwrite\") \\\n",
    "    .saveAsTable(\"unirdat.pubmed_db.n_pais\")\n",
    "\n",
    "\n",
    "\n",
    "\n",
    " ##  carga de tablas affiliaciones de REF ( ROR )\n",
    "\n",
    "\n",
    "df = spark.read \\\n",
    "    .option(\"header\", True) \\\n",
    "    .option(\"inferSchema\", True) \\\n",
    "    .option(\"sep\", \",\") \\\n",
    "    .csv(\"/Volumes/unirdat/ressources/ressources/v1.66-2025-05-20-ror-data.csv\")\n",
    "\n",
    "df.show(5)\n",
    "df.printSchema()\n",
    "\n",
    "\n",
    "\n",
    "df.write \\\n",
    "    .mode(\"overwrite\") \\\n",
    "    .saveAsTable(\"unirdat.pubmed_db.n_affiliaciones\")   "
   ]
  }
 ],
 "metadata": {
  "application/vnd.databricks.v1+notebook": {
   "computePreferences": null,
   "dashboards": [],
   "environmentMetadata": {
    "base_environment": "",
    "environment_version": "2"
   },
   "inputWidgetPreferences": null,
   "language": "python",
   "notebookMetadata": {
    "mostRecentlyExecutedCommandWithImplicitDF": {
     "commandId": 5219746440892644,
     "dataframes": [
      "_sqldf"
     ]
    },
    "pythonIndentUnit": 4
   },
   "notebookName": "03_EDA_Nuevo_01_00_Carga_table_nomenclaturas",
   "widgets": {}
  },
  "language_info": {
   "name": "python"
  }
 },
 "nbformat": 4,
 "nbformat_minor": 0
}