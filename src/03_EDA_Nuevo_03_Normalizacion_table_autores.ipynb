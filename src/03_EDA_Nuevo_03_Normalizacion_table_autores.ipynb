{
 "cells": [
  {
   "cell_type": "code",
   "execution_count": 0,
   "metadata": {
    "application/vnd.databricks.v1+cell": {
     "cellMetadata": {
      "byteLimit": 2048000,
      "implicitDf": true,
      "rowLimit": 10000
     },
     "inputWidgets": {},
     "nuid": "0c510d0a-5f05-40ce-b2ea-fabcfcffe346",
     "showTitle": false,
     "tableResultSettingsMap": {},
     "title": ""
    }
   },
   "outputs": [
    {
     "output_type": "display_data",
     "data": {
      "text/html": [
       "<style scoped>\n",
       "  .table-result-container {\n",
       "    max-height: 300px;\n",
       "    overflow: auto;\n",
       "  }\n",
       "  table, th, td {\n",
       "    border: 1px solid black;\n",
       "    border-collapse: collapse;\n",
       "  }\n",
       "  th, td {\n",
       "    padding: 5px;\n",
       "  }\n",
       "  th {\n",
       "    text-align: left;\n",
       "  }\n",
       "</style><div class='table-result-container'><table class='table-result'><thead style='background-color: white'><tr><th>pmid</th><th>title</th><th>pub_year</th><th>journal</th><th>volume</th><th>issn</th><th>language</th><th>country</th><th>citation</th><th>mid</th><th>doi</th><th>pii</th><th>pmc</th><th>fore</th><th>last</th><th>fullname</th><th>orcid</th><th>affiliation</th><th>affiliation_country</th><th>term</th><th>major</th><th>pub_year_clean</th></tr></thead><tbody><tr><td>38774575</td><td>Antibacterial activity of Betadine ( </td><td>2022</td><td>F1000Research</td><td>11</td><td>2046-1402</td><td>eng</td><td>England</td><td>F1000Res, 11, 2022</td><td></td><td>10.12688/f1000research.123777.2</td><td></td><td>PMC11106593</td><td>Hendry</td><td>Rusdy</td><td>Hendry Rusdy</td><td></td><td>Department of Oral and Maxillofacial Surgery, Faculty of Dentistry Universitas Sumatera Utara, Medan, Sumatera Utara, 20155, Indonesia.</td><td>Indonesia</td><td>Pseudomonas aeruginosa</td><td>Y</td><td>2022</td></tr><tr><td>38662853</td><td>Agreement Between Physician Evaluation and the Composite Response Index in Diffuse Cutaneous Systemic Sclerosis.</td><td>2022</td><td>Arthritis care & research</td><td>74</td><td>2151-4658</td><td>eng</td><td>United States</td><td>Arthritis Care Res (Hoboken), 74, 2022</td><td></td><td>10.1002/acr.24638</td><td></td><td></td><td>Boyang</td><td>Zheng</td><td>Boyang Zheng</td><td>0000-0003-2509-5766</td><td>McGill University, Jewish General Hospital, Montreal, Quebec, Canada.</td><td>Canada</td><td>Adult</td><td>N</td><td>2022</td></tr><tr><td>38774575</td><td>Antibacterial activity of Betadine ( </td><td>2022</td><td>F1000Research</td><td>11</td><td>2046-1402</td><td>eng</td><td>England</td><td>F1000Res, 11, 2022</td><td></td><td>10.12688/f1000research.123777.2</td><td></td><td>PMC11106593</td><td>Hendry</td><td>Rusdy</td><td>Hendry Rusdy</td><td></td><td>Department of Oral and Maxillofacial Surgery, Faculty of Dentistry Universitas Sumatera Utara, Medan, Sumatera Utara, 20155, Indonesia.</td><td>Indonesia</td><td>Plant Extracts</td><td>Y</td><td>2022</td></tr></tbody></table></div>"
      ]
     },
     "metadata": {
      "application/vnd.databricks.v1+output": {
       "addedWidgets": {},
       "aggData": [],
       "aggError": "",
       "aggOverflow": false,
       "aggSchema": [],
       "aggSeriesLimitReached": false,
       "aggType": "",
       "arguments": {},
       "columnCustomDisplayInfos": {},
       "data": [
        [
         "38774575",
         "Antibacterial activity of Betadine ( ",
         "2022",
         "F1000Research",
         "11",
         "2046-1402",
         "eng",
         "England",
         "F1000Res, 11, 2022",
         "",
         "10.12688/f1000research.123777.2",
         "",
         "PMC11106593",
         "Hendry",
         "Rusdy",
         "Hendry Rusdy",
         "",
         "Department of Oral and Maxillofacial Surgery, Faculty of Dentistry Universitas Sumatera Utara, Medan, Sumatera Utara, 20155, Indonesia.",
         "Indonesia",
         "Pseudomonas aeruginosa",
         "Y",
         "2022"
        ],
        [
         "38662853",
         "Agreement Between Physician Evaluation and the Composite Response Index in Diffuse Cutaneous Systemic Sclerosis.",
         "2022",
         "Arthritis care & research",
         "74",
         "2151-4658",
         "eng",
         "United States",
         "Arthritis Care Res (Hoboken), 74, 2022",
         "",
         "10.1002/acr.24638",
         "",
         "",
         "Boyang",
         "Zheng",
         "Boyang Zheng",
         "0000-0003-2509-5766",
         "McGill University, Jewish General Hospital, Montreal, Quebec, Canada.",
         "Canada",
         "Adult",
         "N",
         "2022"
        ],
        [
         "38774575",
         "Antibacterial activity of Betadine ( ",
         "2022",
         "F1000Research",
         "11",
         "2046-1402",
         "eng",
         "England",
         "F1000Res, 11, 2022",
         "",
         "10.12688/f1000research.123777.2",
         "",
         "PMC11106593",
         "Hendry",
         "Rusdy",
         "Hendry Rusdy",
         "",
         "Department of Oral and Maxillofacial Surgery, Faculty of Dentistry Universitas Sumatera Utara, Medan, Sumatera Utara, 20155, Indonesia.",
         "Indonesia",
         "Plant Extracts",
         "Y",
         "2022"
        ]
       ],
       "datasetInfos": [
        {
         "name": "_sqldf",
         "schema": {
          "fields": [
           {
            "metadata": {},
            "name": "pmid",
            "nullable": true,
            "type": "string"
           },
           {
            "metadata": {},
            "name": "title",
            "nullable": true,
            "type": "string"
           },
           {
            "metadata": {},
            "name": "pub_year",
            "nullable": true,
            "type": "string"
           },
           {
            "metadata": {},
            "name": "journal",
            "nullable": true,
            "type": "string"
           },
           {
            "metadata": {},
            "name": "volume",
            "nullable": true,
            "type": "string"
           },
           {
            "metadata": {},
            "name": "issn",
            "nullable": true,
            "type": "string"
           },
           {
            "metadata": {},
            "name": "language",
            "nullable": true,
            "type": "string"
           },
           {
            "metadata": {},
            "name": "country",
            "nullable": true,
            "type": "string"
           },
           {
            "metadata": {},
            "name": "citation",
            "nullable": true,
            "type": "string"
           },
           {
            "metadata": {},
            "name": "mid",
            "nullable": true,
            "type": "string"
           },
           {
            "metadata": {},
            "name": "doi",
            "nullable": true,
            "type": "string"
           },
           {
            "metadata": {},
            "name": "pii",
            "nullable": true,
            "type": "string"
           },
           {
            "metadata": {},
            "name": "pmc",
            "nullable": true,
            "type": "string"
           },
           {
            "metadata": {},
            "name": "fore",
            "nullable": true,
            "type": "string"
           },
           {
            "metadata": {},
            "name": "last",
            "nullable": true,
            "type": "string"
           },
           {
            "metadata": {},
            "name": "fullname",
            "nullable": true,
            "type": "string"
           },
           {
            "metadata": {},
            "name": "orcid",
            "nullable": true,
            "type": "string"
           },
           {
            "metadata": {},
            "name": "affiliation",
            "nullable": true,
            "type": "string"
           },
           {
            "metadata": {},
            "name": "affiliation_country",
            "nullable": true,
            "type": "string"
           },
           {
            "metadata": {},
            "name": "term",
            "nullable": true,
            "type": "string"
           },
           {
            "metadata": {},
            "name": "major",
            "nullable": true,
            "type": "string"
           },
           {
            "metadata": {},
            "name": "pub_year_clean",
            "nullable": true,
            "type": "string"
           }
          ],
          "type": "struct"
         },
         "tableIdentifier": null,
         "typeStr": "pyspark.sql.dataframe.DataFrame"
        }
       ],
       "dbfsResultPath": null,
       "isJsonSchema": true,
       "metadata": {
        "createTempViewForImplicitDf": true,
        "dataframeName": "_sqldf",
        "executionCount": 38
       },
       "overflow": false,
       "plotOptions": {
        "customPlotOptions": {},
        "displayType": "table",
        "pivotAggregation": null,
        "pivotColumns": null,
        "xColumns": null,
        "yColumns": null
       },
       "removedWidgets": [],
       "schema": [
        {
         "metadata": "{}",
         "name": "pmid",
         "type": "\"string\""
        },
        {
         "metadata": "{}",
         "name": "title",
         "type": "\"string\""
        },
        {
         "metadata": "{}",
         "name": "pub_year",
         "type": "\"string\""
        },
        {
         "metadata": "{}",
         "name": "journal",
         "type": "\"string\""
        },
        {
         "metadata": "{}",
         "name": "volume",
         "type": "\"string\""
        },
        {
         "metadata": "{}",
         "name": "issn",
         "type": "\"string\""
        },
        {
         "metadata": "{}",
         "name": "language",
         "type": "\"string\""
        },
        {
         "metadata": "{}",
         "name": "country",
         "type": "\"string\""
        },
        {
         "metadata": "{}",
         "name": "citation",
         "type": "\"string\""
        },
        {
         "metadata": "{}",
         "name": "mid",
         "type": "\"string\""
        },
        {
         "metadata": "{}",
         "name": "doi",
         "type": "\"string\""
        },
        {
         "metadata": "{}",
         "name": "pii",
         "type": "\"string\""
        },
        {
         "metadata": "{}",
         "name": "pmc",
         "type": "\"string\""
        },
        {
         "metadata": "{}",
         "name": "fore",
         "type": "\"string\""
        },
        {
         "metadata": "{}",
         "name": "last",
         "type": "\"string\""
        },
        {
         "metadata": "{}",
         "name": "fullname",
         "type": "\"string\""
        },
        {
         "metadata": "{}",
         "name": "orcid",
         "type": "\"string\""
        },
        {
         "metadata": "{}",
         "name": "affiliation",
         "type": "\"string\""
        },
        {
         "metadata": "{}",
         "name": "affiliation_country",
         "type": "\"string\""
        },
        {
         "metadata": "{}",
         "name": "term",
         "type": "\"string\""
        },
        {
         "metadata": "{}",
         "name": "major",
         "type": "\"string\""
        },
        {
         "metadata": "{}",
         "name": "pub_year_clean",
         "type": "\"string\""
        }
       ],
       "type": "table"
      }
     },
     "output_type": "display_data"
    }
   ],
   "source": [
    "%sql\n",
    "select * from default.pubmed_filtrado_part where limit 3"
   ]
  },
  {
   "cell_type": "code",
   "execution_count": 0,
   "metadata": {
    "application/vnd.databricks.v1+cell": {
     "cellMetadata": {
      "byteLimit": 2048000,
      "rowLimit": 10000
     },
     "inputWidgets": {},
     "nuid": "d3e52f68-7ac8-4188-80fd-e282080914a4",
     "showTitle": false,
     "tableResultSettingsMap": {},
     "title": ""
    }
   },
   "outputs": [],
   "source": [
    "from pyspark.sql.functions import col, trim, lower, substring\n",
    "\n",
    "# Carga tabla original\n",
    "df = spark.table(\"default.pubmed_filtrado_part\")\n",
    "\n",
    "# Normaliza columnas\n",
    "df_clean = df.select(\n",
    "    substring(\"pub_year_clean\", 1, 4).alias(\"pub_year_for\"),\n",
    "    \"pmid\",\n",
    "    lower(trim(col(\"fullname\"))).alias(\"fullname\"),\n",
    "    lower(trim(col(\"orcid\"))).alias(\"orcid\"),\n",
    "    lower(trim(col(\"fore\"))).alias(\"fore\"),\n",
    "    lower(trim(col(\"last\"))).alias(\"last\"),\n",
    "    lower(trim(col(\"affiliation\"))).alias(\"affiliation\"),\n",
    "    lower(trim(col(\"affiliation_country\"))).alias(\"affiliation_country\"),\n",
    ").dropDuplicates()\n",
    "\n",
    "# Guarda como tabla particionada\n",
    "df_clean.write \\\n",
    "    .mode(\"overwrite\") \\\n",
    "    .partitionBy(\"pub_year_for\") \\\n",
    "    .format(\"parquet\") \\\n",
    "    .save(\"dbfs:/FileStore/pubmed_tables_parquet/pubmed_autores/\")"
   ]
  },
  {
   "cell_type": "code",
   "execution_count": 0,
   "metadata": {
    "application/vnd.databricks.v1+cell": {
     "cellMetadata": {
      "byteLimit": 2048000,
      "implicitDf": true,
      "rowLimit": 10000
     },
     "inputWidgets": {},
     "nuid": "53d7019c-90c2-4b96-9d08-f0339a89a76b",
     "showTitle": false,
     "tableResultSettingsMap": {},
     "title": ""
    }
   },
   "outputs": [],
   "source": [
    "%sql\n",
    "USE CATALOG hive_metastore;\n",
    "\n",
    "CREATE TABLE IF NOT EXISTS default.pubmed_autores\n",
    "  USING PARQUET\n",
    "  LOCATION 'dbfs:/FileStore/pubmed_tables_parquet/pubmed_autores/';\n",
    "\n",
    "-- repara las particiones\n",
    " MSCK REPAIR TABLE default.pubmed_autores; "
   ]
  },
  {
   "cell_type": "code",
   "execution_count": 0,
   "metadata": {
    "application/vnd.databricks.v1+cell": {
     "cellMetadata": {
      "byteLimit": 2048000,
      "implicitDf": true,
      "rowLimit": 10000
     },
     "inputWidgets": {},
     "nuid": "77117c14-78b3-48c5-ab41-8a0f6d80b903",
     "showTitle": false,
     "tableResultSettingsMap": {},
     "title": ""
    },
    "jupyter": {
     "outputs_hidden": true
    }
   },
   "outputs": [
    {
     "output_type": "execute_result",
     "data": {
      "text/plain": [
       "DataFrame[num_affected_rows: bigint, num_inserted_rows: bigint]"
      ]
     },
     "execution_count": 22,
     "metadata": {},
     "output_type": "execute_result"
    }
   ],
   "source": [
    "\n",
    "dt_tmp =spark.sql(\"\"\"\n",
    "    SELECT \n",
    "    pmid,\n",
    "    fullname,\n",
    "    affiliation,\n",
    "    COUNT(DISTINCT orcid) AS num_orcid_distintos,\n",
    "    SUM(CASE WHEN orcid IS NOT NULL THEN 1 ELSE 0 END) AS tiene_orcid\n",
    "    FROM \n",
    "    default.pubmed_autores\n",
    "    GROUP BY \n",
    "    pmid, fullname, affiliation\n",
    "    HAVING \n",
    "    num_orcid_distintos > 1\n",
    "\"\"\")\n",
    "\n",
    "dt_tmp.createOrReplaceTempView(\"v_autor_duplicado\")\n",
    "\n",
    "spark.sql(\"\"\"\n",
    "     CREATE TABLE IF NOT EXISTS default.pubmed_autores_clean\n",
    "   -- USING DELTA\n",
    "    AS SELECT * FROM default.pubmed_autores\n",
    "    where not exists (select 1 from v_autor_duplicado v where default.pubmed_autores.pmid = v.pmid and default.pubmed_autores.fullname = v.fullname and default.pubmed_autores.affiliation = v.affiliation)\n",
    "    union all\n",
    "    SELECT * FROM default.pubmed_autores\n",
    "    where  exists (select 1 from v_autor_duplicado v where default.pubmed_autores.pmid = v.pmid and default.pubmed_autores.fullname = v.fullname and default.pubmed_autores.affiliation = v.affiliation  )\n",
    "    and default.pubmed_autores.orcid is not null\n",
    "\n",
    "   \"\"\")\n",
    "\n",
    "\n",
    "\n",
    "\n"
   ]
  },
  {
   "cell_type": "code",
   "execution_count": 0,
   "metadata": {
    "application/vnd.databricks.v1+cell": {
     "cellMetadata": {
      "byteLimit": 2048000,
      "rowLimit": 10000
     },
     "inputWidgets": {},
     "nuid": "a4906466-3a92-478b-9af6-fc671dc3bb0b",
     "showTitle": false,
     "tableResultSettingsMap": {},
     "title": ""
    }
   },
   "outputs": [
    {
     "output_type": "stream",
     "name": "stdout",
     "output_type": "stream",
     "text": [
      "+-------------------------------------+----------------+-------------------+\n|orcid                                |orcid_normalized|orcid_normalized2  |\n+-------------------------------------+----------------+-------------------+\n|                                     |                |NULL               |\n|                                     |                |NULL               |\n|                                     |                |NULL               |\n|                                     |                |NULL               |\n|                                     |                |NULL               |\n|                                     |                |NULL               |\n|                                     |                |NULL               |\n|                                     |                |NULL               |\n|                                     |                |NULL               |\n|                                     |                |NULL               |\n|                                     |                |NULL               |\n|                                     |                |NULL               |\n|                                     |                |NULL               |\n|                                     |                |NULL               |\n|                                     |                |NULL               |\n|                                     |                |NULL               |\n|                                     |                |NULL               |\n|                                     |                |NULL               |\n|                                     |                |NULL               |\n|                                     |                |NULL               |\n|                                     |                |NULL               |\n|                                     |                |NULL               |\n|                                     |                |NULL               |\n|                                     |                |NULL               |\n|                                     |                |NULL               |\n|                                     |                |NULL               |\n|                                     |                |NULL               |\n|                                     |                |NULL               |\n|                                     |                |NULL               |\n|                                     |                |NULL               |\n|                                     |                |NULL               |\n|                                     |                |NULL               |\n|https://orcid.org/0000-0002-5225-3806|0000000252253806|0000-0002-5225-3806|\n|                                     |                |NULL               |\n|                                     |                |NULL               |\n|                                     |                |NULL               |\n|                                     |                |NULL               |\n|                                     |                |NULL               |\n|                                     |                |NULL               |\n|                                     |                |NULL               |\n|                                     |                |NULL               |\n|                                     |                |NULL               |\n|                                     |                |NULL               |\n|                                     |                |NULL               |\n|                                     |                |NULL               |\n|                                     |                |NULL               |\n|0000-0001-6644-8084                  |0000000166448084|0000-0001-6644-8084|\n|                                     |                |NULL               |\n|                                     |                |NULL               |\n|                                     |                |NULL               |\n|                                     |                |NULL               |\n|                                     |                |NULL               |\n|                                     |                |NULL               |\n|                                     |                |NULL               |\n|                                     |                |NULL               |\n|                                     |                |NULL               |\n|                                     |                |NULL               |\n|                                     |                |NULL               |\n|                                     |                |NULL               |\n|                                     |                |NULL               |\n|                                     |                |NULL               |\n|                                     |                |NULL               |\n|                                     |                |NULL               |\n|0000-0003-2447-9717                  |0000000324479717|0000-0003-2447-9717|\n|                                     |                |NULL               |\n|                                     |                |NULL               |\n|                                     |                |NULL               |\n|                                     |                |NULL               |\n|                                     |                |NULL               |\n|                                     |                |NULL               |\n|0000-0002-3934-5132                  |0000000239345132|0000-0002-3934-5132|\n|                                     |                |NULL               |\n|https://orcid.org/0000-0001-7286-237x|000000017286237x|0000-0001-7286-237x|\n|                                     |                |NULL               |\n|0000-0003-4684-5482                  |0000000346845482|0000-0003-4684-5482|\n|                                     |                |NULL               |\n|                                     |                |NULL               |\n|                                     |                |NULL               |\n|                                     |                |NULL               |\n|                                     |                |NULL               |\n|                                     |                |NULL               |\n|                                     |                |NULL               |\n|                                     |                |NULL               |\n|                                     |                |NULL               |\n|                                     |                |NULL               |\n|                                     |                |NULL               |\n|                                     |                |NULL               |\n|                                     |                |NULL               |\n|                                     |                |NULL               |\n|                                     |                |NULL               |\n|                                     |                |NULL               |\n|                                     |                |NULL               |\n|                                     |                |NULL               |\n|                                     |                |NULL               |\n|                                     |                |NULL               |\n|                                     |                |NULL               |\n|                                     |                |NULL               |\n|                                     |                |NULL               |\n|                                     |                |NULL               |\n|                                     |                |NULL               |\n+-------------------------------------+----------------+-------------------+\nonly showing top 100 rows\n"
     ]
    }
   ],
   "source": [
    "# \uD83D\uDCCC 1️⃣ Carga tabla original\n",
    "from pyspark.sql.functions import col, regexp_replace, when, length, trim\n",
    "\n",
    "df = spark.table(\"default.pubmed_autores_clean\")\n",
    "\n",
    "# \uD83D\uDCCC 2️⃣ Normaliza: quita texto extra y deja solo números\n",
    "\n",
    "df_normali = df.withColumn(\n",
    "    \"orcid_normalized\",\n",
    "    when(\n",
    "        col(\"orcid\").isNotNull(),\n",
    "        trim(regexp_replace(\n",
    "            regexp_replace(trim(col(\"orcid\")), r\"https?://orcid\\.org/\", \"\"),\n",
    "            \"-\", \"\"\n",
    "        ))\n",
    "    ).otherwise(None)\n",
    ")\n",
    "\n",
    "\n",
    "# \uD83D\uDCCC 3️⃣ Inserta guiones si hay 16 dígitos\n",
    "from pyspark.sql.functions import col, when, length, trim, concat, lit\n",
    "\n",
    "df_final = df_normali.withColumn(\n",
    "    \"orcid_normalized2\",\n",
    "    when(\n",
    "        length(trim(col(\"orcid_normalized\"))) == 16,\n",
    "        concat(\n",
    "            trim(col(\"orcid_normalized\")).substr(1, 4), lit(\"-\"),\n",
    "            trim(col(\"orcid_normalized\")).substr(5, 4), lit(\"-\"),\n",
    "            trim(col(\"orcid_normalized\")).substr(9, 4), lit(\"-\"),\n",
    "            trim(col(\"orcid_normalized\")).substr(13, 4)\n",
    "        )\n",
    "    ).otherwise(\n",
    "        when(\n",
    "            length(trim(col(\"orcid_normalized\"))) < 16,\n",
    "            None\n",
    "        ).otherwise(trim(col(\"orcid_normalized\")))\n",
    "    )\n",
    ")\n",
    "\n",
    "df_final.select(\"orcid\", \"orcid_normalized\",\"orcid_normalized2\").show(100, truncate=False)\n",
    "\n",
    "\n",
    "# Registros con ORCID válido\n",
    "df_with_orcid = df_final.filter(\n",
    "    (col(\"orcid_normalized2\").isNotNull()) & (trim(col(\"orcid_normalized2\")) != \"\")\n",
    ")\n",
    "\n",
    "#\uD83D\uDCCC 1️⃣ Filtra registros sin ORCID válido\n",
    "df_without_orcid = df_final.filter(\n",
    "   (col(\"orcid_normalized2\").isNull()) | (trim(col(\"orcid_normalized2\")) == \"\")\n",
    ")\n",
    "\n",
    "# Join para intentar recuperar ORCID por coincidencia exacta\n",
    "df_recovered = df_without_orcid.alias(\"a\").join(\n",
    "    df_with_orcid.alias(\"b\"),\n",
    "    (col(\"a.fullname\") == col(\"b.fullname\")) &\n",
    "    (col(\"a.affiliation\") == col(\"b.affiliation\")),\n",
    "    how=\"left\"\n",
    ").select(\n",
    "    col(\"a.*\"),\n",
    "    col(\"b.orcid_normalized2\").alias(\"orcid_recovered\")\n",
    ")\n",
    "\n",
    "##print ( df_recovered.filter(\n",
    "##   (col(\"orcid_recovered\").isNotNull()) \n",
    "##).count()\n",
    "##)\n",
    "\n"
   ]
  },
  {
   "cell_type": "code",
   "execution_count": 0,
   "metadata": {
    "application/vnd.databricks.v1+cell": {
     "cellMetadata": {
      "byteLimit": 2048000,
      "rowLimit": 10000
     },
     "inputWidgets": {},
     "nuid": "aafae87d-014e-49f5-8a2c-9ba9bf00bd22",
     "showTitle": false,
     "tableResultSettingsMap": {},
     "title": ""
    }
   },
   "outputs": [
    {
     "output_type": "stream",
     "name": "stdout",
     "output_type": "stream",
     "text": [
      "+--------+-------------------+-------------------------------------------------------------------------------------------------------------------------------------------------------------------+-------------------+-------------------+-------------------+\n|pmid    |fullname           |affiliation                                                                                                                                                        |orcid_original     |orcid_recuperado   |orcid_final        |\n+--------+-------------------+-------------------------------------------------------------------------------------------------------------------------------------------------------------------+-------------------+-------------------+-------------------+\n|23401628|aydın akyuz        |department of cardiology, faculty of medicine, namık kemal university medical school, turkey.                                                                      |NULL               |NULL               |NULL               |\n|23401628|mustafa metin donma|department of pediatrics, faculty of medicine, namık kemal university medical school, turkey.                                                                      |NULL               |NULL               |NULL               |\n|26377540|giorgio croci      |department of molecular pathology, institute of anatomic pathology, irccs foundation policlinico san matteo, university of pavia, pavia, italy.                    |NULL               |NULL               |NULL               |\n|26547272|piero valentini    |department of pediatrics, università cattolica del sacro cuore, rome, italy.                                                                                       |NULL               |NULL               |NULL               |\n|28152660|alyssa m peckham   |midwestern university, glendale, az, usa.                                                                                                                          |NULL               |NULL               |NULL               |\n|28157790|jaehoon lee        |institute for measurement, methodology, analysis, and policy, texas tech university, lubbock, tx.                                                                  |NULL               |NULL               |NULL               |\n|28497666|liang-chung huang  |department of emergency medicine, national yang-ming university hospital, i-lan, taiwan.                                                                           |NULL               |NULL               |NULL               |\n|28497667|paolo severi       |department of neurosurgery, galliera hospitals, genoa, italy.                                                                                                      |NULL               |NULL               |NULL               |\n|28677936|nicolai el hindy   |department of neurosurgery, university hospital of essen, university of duisburg-essen, essen, germany.                                                            |NULL               |NULL               |NULL               |\n|28777891|amy c cannella     |university of nebraska medical center, omaha.                                                                                                                      |NULL               |NULL               |NULL               |\n|29020853|kevin k w wang     |program for neuroproteomics & biomarkers research, departments of psychiatry & neuroscience, mcknight brain institute, university of florida, gainesville, florida.|NULL               |NULL               |NULL               |\n|33274053|guangchuang yu     |microbiome medicine center, division of laboratory medicine, zhujiang hospital, southern medical university, guangzhou, guangdong, china.                          |NULL               |0000-0002-6485-8781|0000-0002-6485-8781|\n|33274053|guangchuang yu     |microbiome medicine center, division of laboratory medicine, zhujiang hospital, southern medical university, guangzhou, guangdong, china.                          |0000-0002-6485-8781|0000-0002-6485-8781|0000-0002-6485-8781|\n|21028883|israel pecht       |department of immunology, the weizmann institute of science, 76100rehovot, israel.                                                                                 |NULL               |NULL               |NULL               |\n|26610741|robert e mckeown   |university of south carolina, columbia, sc, usa.                                                                                                                   |NULL               |NULL               |NULL               |\n|27362665|spaić milan        |department of neurosurgery, clinical hospital center zemun, belgrade, serbia.                                                                                      |NULL               |NULL               |NULL               |\n|27617964|albert j boquet    |from the embry-riddle aeronautical university.                                                                                                                     |NULL               |NULL               |NULL               |\n|28152645|joseph biederman   |harvard medical school, boston, ma, usa.                                                                                                                           |NULL               |0000-0001-8233-663x|0000-0001-8233-663x|\n|28152645|joseph biederman   |harvard medical school, boston, ma, usa.                                                                                                                           |NULL               |0000-0001-8233-663x|0000-0001-8233-663x|\n|28234727|david g locke      |from the mpa healthcare solutions, chicago, illinois.                                                                                                              |NULL               |NULL               |NULL               |\n+--------+-------------------+-------------------------------------------------------------------------------------------------------------------------------------------------------------------+-------------------+-------------------+-------------------+\nonly showing top 20 rows\n✅ Tabla final con ORCID combinados guardada: mi_db.mi_tabla_autores_orcid_merged\n"
     ]
    }
   ],
   "source": [
    "# ✅ Combinar tabla original con ORCID recuperados\n",
    "# -------------------------------------------------\n",
    "# 1️⃣ Importa librerías\n",
    "from pyspark.sql import SparkSession\n",
    "from pyspark.sql.functions import col, trim, lower, regexp_replace, coalesce\n",
    "\n",
    "# 2️⃣ Inicia sesión Spark (en Databricks ya viene configurado)\n",
    "spark = SparkSession.builder.getOrCreate()\n",
    "\n",
    "# 3️⃣ Carga tus DataFrames\n",
    "##df_final = spark.table(\"mi_db.mi_tabla_autores_final\")\n",
    "###df_recovered = spark.table(\"mi_db.mi_tabla_autores_recovered\")\n",
    "\n",
    "# 4️⃣ Normaliza claves (opcional, pero recomendable)\n",
    "df_final_clean = df_final.withColumn(\n",
    "    \"fullname_norm\",\n",
    "    lower(trim(regexp_replace(col(\"fullname\"), \"[^a-zA-Z0-9 ]\", \"\")))\n",
    ").withColumn(\n",
    "    \"affiliation_norm\",\n",
    "    lower(trim(regexp_replace(col(\"affiliation\"), \"[^a-zA-Z0-9 ]\", \"\")))\n",
    ")\n",
    "\n",
    "df_recovered_clean = df_recovered.withColumn(\n",
    "    \"fullname_norm\",\n",
    "    lower(trim(regexp_replace(col(\"fullname\"), \"[^a-zA-Z0-9 ]\", \"\")))\n",
    ").withColumn(\n",
    "    \"affiliation_norm\",\n",
    "    lower(trim(regexp_replace(col(\"affiliation\"), \"[^a-zA-Z0-9 ]\", \"\")))\n",
    ")\n",
    "\n",
    "# 5️⃣ JOIN por claves normalizadas\n",
    "df_merged = df_final_clean.alias(\"f\").join(\n",
    "    df_recovered_clean.alias(\"r\"),\n",
    "    on=[\n",
    "        col(\"f.pmid\") == col(\"r.pmid\"),\n",
    "        col(\"f.fullname_norm\") == col(\"r.fullname_norm\"),\n",
    "        col(\"f.affiliation_norm\") == col(\"r.affiliation_norm\")\n",
    "    ],\n",
    "    how=\"left\"\n",
    ")\n",
    "\n",
    "# 6️⃣ Combina ORCID original o recuperado\n",
    "df_merged = df_merged.withColumn(\n",
    "    \"orcid_final\",\n",
    "    coalesce(col(\"f.orcid_normalized2\"), col(\"r.orcid_recovered\"))\n",
    ")\n",
    "\n",
    "# 7️⃣ Muestra resultado (opcional)\n",
    "df_merged.select(\n",
    "    col(\"f.pmid\").alias(\"pmid\"),\n",
    "    col(\"f.fullname\").alias(\"fullname\"),\n",
    "    col(\"f.affiliation\").alias(\"affiliation\"),\n",
    "    col(\"f.orcid_normalized2\").alias(\"orcid_original\"),\n",
    "    col(\"r.orcid_recovered\").alias(\"orcid_recuperado\"),\n",
    "    col(\"orcid_final\")\n",
    ").show(20, truncate=False)\n",
    "\n",
    "# 8️⃣ Guarda tabla final en formato Delta\n",
    "#df_merged.write.mode(\"overwrite\").format(\"delta\").saveAsTable(\"mi_db.mi_tabla_autores_orcid_merged\")\n",
    "\n",
    "print(\"✅ Tabla final con ORCID combinados guardada: mi_db.mi_tabla_autores_orcid_merged\")\n"
   ]
  },
  {
   "cell_type": "code",
   "execution_count": 0,
   "metadata": {
    "application/vnd.databricks.v1+cell": {
     "cellMetadata": {
      "byteLimit": 2048000,
      "rowLimit": 10000
     },
     "inputWidgets": {},
     "nuid": "c3e4ff2b-2669-4f6c-86d4-a3375c447c4d",
     "showTitle": true,
     "tableResultSettingsMap": {},
     "title": ""
    }
   },
   "outputs": [
    {
     "output_type": "stream",
     "name": "stdout",
     "output_type": "stream",
     "text": [
      "+--------+--------------------+-----+--------------+--------------+--------------------+------------+----------------+-----------------+--------------------+--------------------+--------+--------------------+-----+--------------+--------------+--------------------+------------+----------------+-----------------+-------------------+--------------------+--------------------+-------------------+\n|    pmid|            fullname|orcid|          fore|          last|         affiliation|pub_year_for|orcid_normalized|orcid_normalized2|       fullname_norm|    affiliation_norm|    pmid|            fullname|orcid|          fore|          last|         affiliation|pub_year_for|orcid_normalized|orcid_normalized2|    orcid_recovered|       fullname_norm|    affiliation_norm|        orcid_final|\n+--------+--------------------+-----+--------------+--------------+--------------------+------------+----------------+-----------------+--------------------+--------------------+--------+--------------------+-----+--------------+--------------+--------------------+------------+----------------+-----------------+-------------------+--------------------+--------------------+-------------------+\n|28640541|        mohsen amini|     |        mohsen|         amini|department of med...|        2020|                |             NULL|        mohsen amini|department of med...|28640541|        mohsen amini|     |        mohsen|         amini|department of med...|        2020|                |             NULL|0000-0003-3135-2917|        mohsen amini|department of med...|0000-0003-3135-2917|\n|28993057|      ryosuke kuroda|     |       ryosuke|        kuroda|department of ort...|        2020|                |             NULL|      ryosuke kuroda|department of ort...|28993057|      ryosuke kuroda|     |       ryosuke|        kuroda|department of ort...|        2020|                |             NULL|0000-0001-5097-7264|      ryosuke kuroda|department of ort...|0000-0001-5097-7264|\n|28993057|      ryosuke kuroda|     |       ryosuke|        kuroda|department of ort...|        2020|                |             NULL|      ryosuke kuroda|department of ort...|28993057|      ryosuke kuroda|     |       ryosuke|        kuroda|department of ort...|        2020|                |             NULL|0000-0001-5097-7264|      ryosuke kuroda|department of ort...|0000-0001-5097-7264|\n|29249126|      monica corazza|     |        monica|       corazza|section of dermat...|        2020|                |             NULL|      monica corazza|section of dermat...|29249126|      monica corazza|     |        monica|       corazza|section of dermat...|        2020|                |             NULL|0000-0003-2105-6217|      monica corazza|section of dermat...|0000-0003-2105-6217|\n|29249126|      monica corazza|     |        monica|       corazza|section of dermat...|        2020|                |             NULL|      monica corazza|section of dermat...|29249126|      monica corazza|     |        monica|       corazza|section of dermat...|        2020|                |             NULL|0000-0003-2105-6217|      monica corazza|section of dermat...|0000-0003-2105-6217|\n|29582620|     pietro quaglino|     |        pietro|      quaglino|section of dermat...|        2020|                |             NULL|     pietro quaglino|section of dermat...|29582620|     pietro quaglino|     |        pietro|      quaglino|section of dermat...|        2020|                |             NULL|0000-0003-4185-9586|     pietro quaglino|section of dermat...|0000-0003-4185-9586|\n|29734883| seyed-ali mostafavi|     |     seyed-ali|     mostafavi|psychiatry and ps...|        2020|                |             NULL|  seyedali mostafavi|psychiatry and ps...|29734883| seyed-ali mostafavi|     |     seyed-ali|     mostafavi|psychiatry and ps...|        2020|                |             NULL|0000-0002-8008-3824|  seyedali mostafavi|psychiatry and ps...|0000-0002-8008-3824|\n|29884101|     caitlin rancher|     |       caitlin|       rancher|southern methodis...|        2021|                |             NULL|     caitlin rancher|southern methodis...|29884101|     caitlin rancher|     |       caitlin|       rancher|southern methodis...|        2021|                |             NULL|0000-0003-4048-5682|     caitlin rancher|southern methodis...|0000-0003-4048-5682|\n|29895892|      anne s bassett|     |        anne s|       bassett|department of psy...|        2020|                |             NULL|      anne s bassett|department of psy...|29895892|      anne s bassett|     |        anne s|       bassett|department of psy...|        2020|                |             NULL|0000-0002-0681-7279|      anne s bassett|department of psy...|0000-0002-0681-7279|\n|29895892|      anne s bassett|     |        anne s|       bassett|department of psy...|        2020|                |             NULL|      anne s bassett|department of psy...|29895892|      anne s bassett|     |        anne s|       bassett|department of psy...|        2020|                |             NULL|0000-0002-0681-7279|      anne s bassett|department of psy...|0000-0002-0681-7279|\n|29895892|      anne s bassett|     |        anne s|       bassett|department of psy...|        2020|                |             NULL|      anne s bassett|department of psy...|29895892|      anne s bassett|     |        anne s|       bassett|department of psy...|        2020|                |             NULL|0000-0002-0681-7279|      anne s bassett|department of psy...|0000-0002-0681-7279|\n|29969373|constantinos v ch...|     |constantinos v|chrysikopoulos|school of environ...|        2020|                |             NULL|constantinos v ch...|school of environ...|29969373|constantinos v ch...|     |constantinos v|chrysikopoulos|school of environ...|        2020|                |             NULL|0000-0003-4722-8697|constantinos v ch...|school of environ...|0000-0003-4722-8697|\n|29979246|         hiroaki ono|     |       hiroaki|           ono|department of hep...|        2020|                |             NULL|         hiroaki ono|department of hep...|29979246|         hiroaki ono|     |       hiroaki|           ono|department of hep...|        2020|                |             NULL|0000-0001-9230-5714|         hiroaki ono|department of hep...|0000-0001-9230-5714|\n|29979246|         hiroaki ono|     |       hiroaki|           ono|department of hep...|        2020|                |             NULL|         hiroaki ono|department of hep...|29979246|         hiroaki ono|     |       hiroaki|           ono|department of hep...|        2020|                |             NULL|0000-0001-9230-5714|         hiroaki ono|department of hep...|0000-0001-9230-5714|\n|29979246|         hiroaki ono|     |       hiroaki|           ono|department of hep...|        2020|                |             NULL|         hiroaki ono|department of hep...|29979246|         hiroaki ono|     |       hiroaki|           ono|department of hep...|        2020|                |             NULL|0000-0001-9230-5714|         hiroaki ono|department of hep...|0000-0001-9230-5714|\n|30114455|fahimeh abdollahi...|     |       fahimeh| abdollahimajd|skin research cen...|        2020|                |             NULL|fahimeh abdollahi...|skin research cen...|30114455|fahimeh abdollahi...|     |       fahimeh| abdollahimajd|skin research cen...|        2020|                |             NULL|0000-0002-9463-0665|fahimeh abdollahi...|skin research cen...|0000-0002-9463-0665|\n|30114455|fahimeh abdollahi...|     |       fahimeh| abdollahimajd|skin research cen...|        2020|                |             NULL|fahimeh abdollahi...|skin research cen...|30114455|fahimeh abdollahi...|     |       fahimeh| abdollahimajd|skin research cen...|        2020|                |             NULL|0000-0002-9463-0665|fahimeh abdollahi...|skin research cen...|0000-0002-9463-0665|\n|30114455|fahimeh abdollahi...|     |       fahimeh| abdollahimajd|skin research cen...|        2020|                |             NULL|fahimeh abdollahi...|skin research cen...|30114455|fahimeh abdollahi...|     |       fahimeh| abdollahimajd|skin research cen...|        2020|                |             NULL|0000-0002-9463-0665|fahimeh abdollahi...|skin research cen...|0000-0002-9463-0665|\n|30114455|fahimeh abdollahi...|     |       fahimeh| abdollahimajd|skin research cen...|        2020|                |             NULL|fahimeh abdollahi...|skin research cen...|30114455|fahimeh abdollahi...|     |       fahimeh| abdollahimajd|skin research cen...|        2020|                |             NULL|0000-0002-9463-0665|fahimeh abdollahi...|skin research cen...|0000-0002-9463-0665|\n|30114455|fahimeh abdollahi...|     |       fahimeh| abdollahimajd|skin research cen...|        2020|                |             NULL|fahimeh abdollahi...|skin research cen...|30114455|fahimeh abdollahi...|     |       fahimeh| abdollahimajd|skin research cen...|        2020|                |             NULL|0000-0002-9463-0665|fahimeh abdollahi...|skin research cen...|0000-0002-9463-0665|\n|30114455|fahimeh abdollahi...|     |       fahimeh| abdollahimajd|skin research cen...|        2020|                |             NULL|fahimeh abdollahi...|skin research cen...|30114455|fahimeh abdollahi...|     |       fahimeh| abdollahimajd|skin research cen...|        2020|                |             NULL|0000-0002-9463-0665|fahimeh abdollahi...|skin research cen...|0000-0002-9463-0665|\n|30114455|fahimeh abdollahi...|     |       fahimeh| abdollahimajd|skin research cen...|        2020|                |             NULL|fahimeh abdollahi...|skin research cen...|30114455|fahimeh abdollahi...|     |       fahimeh| abdollahimajd|skin research cen...|        2020|                |             NULL|0000-0002-9463-0665|fahimeh abdollahi...|skin research cen...|0000-0002-9463-0665|\n|30114455|fahimeh abdollahi...|     |       fahimeh| abdollahimajd|skin research cen...|        2020|                |             NULL|fahimeh abdollahi...|skin research cen...|30114455|fahimeh abdollahi...|     |       fahimeh| abdollahimajd|skin research cen...|        2020|                |             NULL|0000-0002-9463-0665|fahimeh abdollahi...|skin research cen...|0000-0002-9463-0665|\n|30114455|fahimeh abdollahi...|     |       fahimeh| abdollahimajd|skin research cen...|        2020|                |             NULL|fahimeh abdollahi...|skin research cen...|30114455|fahimeh abdollahi...|     |       fahimeh| abdollahimajd|skin research cen...|        2020|                |             NULL|0000-0002-9463-0665|fahimeh abdollahi...|skin research cen...|0000-0002-9463-0665|\n|30114455|fahimeh abdollahi...|     |       fahimeh| abdollahimajd|skin research cen...|        2020|                |             NULL|fahimeh abdollahi...|skin research cen...|30114455|fahimeh abdollahi...|     |       fahimeh| abdollahimajd|skin research cen...|        2020|                |             NULL|0000-0002-9463-0665|fahimeh abdollahi...|skin research cen...|0000-0002-9463-0665|\n|30114455|fahimeh abdollahi...|     |       fahimeh| abdollahimajd|skin research cen...|        2020|                |             NULL|fahimeh abdollahi...|skin research cen...|30114455|fahimeh abdollahi...|     |       fahimeh| abdollahimajd|skin research cen...|        2020|                |             NULL|0000-0002-9463-0665|fahimeh abdollahi...|skin research cen...|0000-0002-9463-0665|\n|30114455|fahimeh abdollahi...|     |       fahimeh| abdollahimajd|skin research cen...|        2020|                |             NULL|fahimeh abdollahi...|skin research cen...|30114455|fahimeh abdollahi...|     |       fahimeh| abdollahimajd|skin research cen...|        2020|                |             NULL|0000-0002-9463-0665|fahimeh abdollahi...|skin research cen...|0000-0002-9463-0665|\n|30114455|fahimeh abdollahi...|     |       fahimeh| abdollahimajd|skin research cen...|        2020|                |             NULL|fahimeh abdollahi...|skin research cen...|30114455|fahimeh abdollahi...|     |       fahimeh| abdollahimajd|skin research cen...|        2020|                |             NULL|0000-0002-9463-0665|fahimeh abdollahi...|skin research cen...|0000-0002-9463-0665|\n|30114455|fahimeh abdollahi...|     |       fahimeh| abdollahimajd|skin research cen...|        2020|                |             NULL|fahimeh abdollahi...|skin research cen...|30114455|fahimeh abdollahi...|     |       fahimeh| abdollahimajd|skin research cen...|        2020|                |             NULL|0000-0002-9463-0665|fahimeh abdollahi...|skin research cen...|0000-0002-9463-0665|\n|30114455|fahimeh abdollahi...|     |       fahimeh| abdollahimajd|skin research cen...|        2020|                |             NULL|fahimeh abdollahi...|skin research cen...|30114455|fahimeh abdollahi...|     |       fahimeh| abdollahimajd|skin research cen...|        2020|                |             NULL|0000-0002-9463-0665|fahimeh abdollahi...|skin research cen...|0000-0002-9463-0665|\n|30114455|fahimeh abdollahi...|     |       fahimeh| abdollahimajd|skin research cen...|        2020|                |             NULL|fahimeh abdollahi...|skin research cen...|30114455|fahimeh abdollahi...|     |       fahimeh| abdollahimajd|skin research cen...|        2020|                |             NULL|0000-0002-9463-0665|fahimeh abdollahi...|skin research cen...|0000-0002-9463-0665|\n|30114455|fahimeh abdollahi...|     |       fahimeh| abdollahimajd|skin research cen...|        2020|                |             NULL|fahimeh abdollahi...|skin research cen...|30114455|fahimeh abdollahi...|     |       fahimeh| abdollahimajd|skin research cen...|        2020|                |             NULL|0000-0002-9463-0665|fahimeh abdollahi...|skin research cen...|0000-0002-9463-0665|\n|30114455|fahimeh abdollahi...|     |       fahimeh| abdollahimajd|skin research cen...|        2020|                |             NULL|fahimeh abdollahi...|skin research cen...|30114455|fahimeh abdollahi...|     |       fahimeh| abdollahimajd|skin research cen...|        2020|                |             NULL|0000-0002-9463-0665|fahimeh abdollahi...|skin research cen...|0000-0002-9463-0665|\n|30114455|fahimeh abdollahi...|     |       fahimeh| abdollahimajd|skin research cen...|        2020|                |             NULL|fahimeh abdollahi...|skin research cen...|30114455|fahimeh abdollahi...|     |       fahimeh| abdollahimajd|skin research cen...|        2020|                |             NULL|0000-0002-9463-0665|fahimeh abdollahi...|skin research cen...|0000-0002-9463-0665|\n|30114455|fahimeh abdollahi...|     |       fahimeh| abdollahimajd|skin research cen...|        2020|                |             NULL|fahimeh abdollahi...|skin research cen...|30114455|fahimeh abdollahi...|     |       fahimeh| abdollahimajd|skin research cen...|        2020|                |             NULL|0000-0002-9463-0665|fahimeh abdollahi...|skin research cen...|0000-0002-9463-0665|\n|30114455|fahimeh abdollahi...|     |       fahimeh| abdollahimajd|skin research cen...|        2020|                |             NULL|fahimeh abdollahi...|skin research cen...|30114455|fahimeh abdollahi...|     |       fahimeh| abdollahimajd|skin research cen...|        2020|                |             NULL|0000-0002-9463-0665|fahimeh abdollahi...|skin research cen...|0000-0002-9463-0665|\n|30114455|fahimeh abdollahi...|     |       fahimeh| abdollahimajd|skin research cen...|        2020|                |             NULL|fahimeh abdollahi...|skin research cen...|30114455|fahimeh abdollahi...|     |       fahimeh| abdollahimajd|skin research cen...|        2020|                |             NULL|0000-0002-9463-0665|fahimeh abdollahi...|skin research cen...|0000-0002-9463-0665|\n|30114455|fahimeh abdollahi...|     |       fahimeh| abdollahimajd|skin research cen...|        2020|                |             NULL|fahimeh abdollahi...|skin research cen...|30114455|fahimeh abdollahi...|     |       fahimeh| abdollahimajd|skin research cen...|        2020|                |             NULL|0000-0002-9463-0665|fahimeh abdollahi...|skin research cen...|0000-0002-9463-0665|\n|30114455|fahimeh abdollahi...|     |       fahimeh| abdollahimajd|skin research cen...|        2020|                |             NULL|fahimeh abdollahi...|skin research cen...|30114455|fahimeh abdollahi...|     |       fahimeh| abdollahimajd|skin research cen...|        2020|                |             NULL|0000-0002-9463-0665|fahimeh abdollahi...|skin research cen...|0000-0002-9463-0665|\n|30114455|fahimeh abdollahi...|     |       fahimeh| abdollahimajd|skin research cen...|        2020|                |             NULL|fahimeh abdollahi...|skin research cen...|30114455|fahimeh abdollahi...|     |       fahimeh| abdollahimajd|skin research cen...|        2020|                |             NULL|0000-0002-9463-0665|fahimeh abdollahi...|skin research cen...|0000-0002-9463-0665|\n|30114455|fahimeh abdollahi...|     |       fahimeh| abdollahimajd|skin research cen...|        2020|                |             NULL|fahimeh abdollahi...|skin research cen...|30114455|fahimeh abdollahi...|     |       fahimeh| abdollahimajd|skin research cen...|        2020|                |             NULL|0000-0002-9463-0665|fahimeh abdollahi...|skin research cen...|0000-0002-9463-0665|\n|30114455|fahimeh abdollahi...|     |       fahimeh| abdollahimajd|skin research cen...|        2020|                |             NULL|fahimeh abdollahi...|skin research cen...|30114455|fahimeh abdollahi...|     |       fahimeh| abdollahimajd|skin research cen...|        2020|                |             NULL|0000-0002-9463-0665|fahimeh abdollahi...|skin research cen...|0000-0002-9463-0665|\n|30114455|fahimeh abdollahi...|     |       fahimeh| abdollahimajd|skin research cen...|        2020|                |             NULL|fahimeh abdollahi...|skin research cen...|30114455|fahimeh abdollahi...|     |       fahimeh| abdollahimajd|skin research cen...|        2020|                |             NULL|0000-0002-9463-0665|fahimeh abdollahi...|skin research cen...|0000-0002-9463-0665|\n|30114455|fahimeh abdollahi...|     |       fahimeh| abdollahimajd|skin research cen...|        2020|                |             NULL|fahimeh abdollahi...|skin research cen...|30114455|fahimeh abdollahi...|     |       fahimeh| abdollahimajd|skin research cen...|        2020|                |             NULL|0000-0002-9463-0665|fahimeh abdollahi...|skin research cen...|0000-0002-9463-0665|\n|30114455|fahimeh abdollahi...|     |       fahimeh| abdollahimajd|skin research cen...|        2020|                |             NULL|fahimeh abdollahi...|skin research cen...|30114455|fahimeh abdollahi...|     |       fahimeh| abdollahimajd|skin research cen...|        2020|                |             NULL|0000-0002-9463-0665|fahimeh abdollahi...|skin research cen...|0000-0002-9463-0665|\n|30155869|      shigeru toyoda|     |       shigeru|        toyoda|department of car...|        2020|                |             NULL|      shigeru toyoda|department of car...|30155869|      shigeru toyoda|     |       shigeru|        toyoda|department of car...|        2020|                |             NULL|0000-0002-8260-833x|      shigeru toyoda|department of car...|0000-0002-8260-833x|\n|30188399|        pietro addeo|     |        pietro|         addeo|hepato-pancreato-...|        2020|                |             NULL|        pietro addeo|hepatopancreatobi...|30188399|        pietro addeo|     |        pietro|         addeo|hepato-pancreato-...|        2020|                |             NULL|0000-0003-0046-7973|        pietro addeo|hepatopancreatobi...|0000-0003-0046-7973|\n|30188399|        pietro addeo|     |        pietro|         addeo|hepato-pancreato-...|        2020|                |             NULL|        pietro addeo|hepatopancreatobi...|30188399|        pietro addeo|     |        pietro|         addeo|hepato-pancreato-...|        2020|                |             NULL|0000-0003-0046-7973|        pietro addeo|hepatopancreatobi...|0000-0003-0046-7973|\n|30188399|        pietro addeo|     |        pietro|         addeo|hepato-pancreato-...|        2020|                |             NULL|        pietro addeo|hepatopancreatobi...|30188399|        pietro addeo|     |        pietro|         addeo|hepato-pancreato-...|        2020|                |             NULL|0000-0003-0046-7973|        pietro addeo|hepatopancreatobi...|0000-0003-0046-7973|\n|30188399|        pietro addeo|     |        pietro|         addeo|hepato-pancreato-...|        2020|                |             NULL|        pietro addeo|hepatopancreatobi...|30188399|        pietro addeo|     |        pietro|         addeo|hepato-pancreato-...|        2020|                |             NULL|0000-0003-0046-7973|        pietro addeo|hepatopancreatobi...|0000-0003-0046-7973|\n|30226401|          adel helmy|     |          adel|         helmy|division of neuro...|        2020|                |             NULL|          adel helmy|division of neuro...|30226401|          adel helmy|     |          adel|         helmy|division of neuro...|        2020|                |             NULL|0000-0002-0531-0556|          adel helmy|division of neuro...|0000-0002-0531-0556|\n|30226401|          adel helmy|     |          adel|         helmy|division of neuro...|        2020|                |             NULL|          adel helmy|division of neuro...|30226401|          adel helmy|     |          adel|         helmy|division of neuro...|        2020|                |             NULL|0000-0002-0531-0556|          adel helmy|division of neuro...|0000-0002-0531-0556|\n|30226401|          adel helmy|     |          adel|         helmy|division of neuro...|        2020|                |             NULL|          adel helmy|division of neuro...|30226401|          adel helmy|     |          adel|         helmy|division of neuro...|        2020|                |             NULL|0000-0002-0531-0556|          adel helmy|division of neuro...|0000-0002-0531-0556|\n|30226401|          adel helmy|     |          adel|         helmy|division of neuro...|        2020|                |             NULL|          adel helmy|division of neuro...|30226401|          adel helmy|     |          adel|         helmy|division of neuro...|        2020|                |             NULL|0000-0002-0531-0556|          adel helmy|division of neuro...|0000-0002-0531-0556|\n|30273066|      sharon perlman|     |        sharon|       perlman|sackler school of...|        2020|                |             NULL|      sharon perlman|sackler school of...|30273066|      sharon perlman|     |        sharon|       perlman|sackler school of...|        2020|                |             NULL|0000-0002-8023-0679|      sharon perlman|sackler school of...|0000-0002-8023-0679|\n|30273066|      sharon perlman|     |        sharon|       perlman|sackler school of...|        2020|                |             NULL|      sharon perlman|sackler school of...|30273066|      sharon perlman|     |        sharon|       perlman|sackler school of...|        2020|                |             NULL|0000-0002-8023-0679|      sharon perlman|sackler school of...|0000-0002-8023-0679|\n|30273066|      sharon perlman|     |        sharon|       perlman|sackler school of...|        2020|                |             NULL|      sharon perlman|sackler school of...|30273066|      sharon perlman|     |        sharon|       perlman|sackler school of...|        2020|                |             NULL|0000-0002-8023-0679|      sharon perlman|sackler school of...|0000-0002-8023-0679|\n|30273066|      sharon perlman|     |        sharon|       perlman|sackler school of...|        2020|                |             NULL|      sharon perlman|sackler school of...|30273066|      sharon perlman|     |        sharon|       perlman|sackler school of...|        2020|                |             NULL|0000-0002-8023-0679|      sharon perlman|sackler school of...|0000-0002-8023-0679|\n|30273066|      sharon perlman|     |        sharon|       perlman|sackler school of...|        2020|                |             NULL|      sharon perlman|sackler school of...|30273066|      sharon perlman|     |        sharon|       perlman|sackler school of...|        2020|                |             NULL|0000-0002-8023-0679|      sharon perlman|sackler school of...|0000-0002-8023-0679|\n|30279459| anne-marthe sanders|     |   anne-marthe|       sanders|department of psy...|        2020|                |             NULL|  annemarthe sanders|department of psy...|30279459| anne-marthe sanders|     |   anne-marthe|       sanders|department of psy...|        2020|                |             NULL|0000-0003-0292-930x|  annemarthe sanders|department of psy...|0000-0003-0292-930x|\n|30332899|    márcio rodrigues|     |        márcio|     rodrigues|cics-ubi - health...|        2020|                |             NULL|     mrcio rodrigues|cicsubi  health s...|30332899|    márcio rodrigues|     |        márcio|     rodrigues|cics-ubi - health...|        2020|                |             NULL|0000-0002-7010-0619|     mrcio rodrigues|cicsubi  health s...|0000-0002-7010-0619|\n|30457347|       edith h c cup|     |     edith h c|           cup|department of reh...|        2020|                |             NULL|       edith h c cup|department of reh...|30457347|       edith h c cup|     |     edith h c|           cup|department of reh...|        2020|                |             NULL|0000-0003-3452-9650|       edith h c cup|department of reh...|0000-0003-3452-9650|\n|30458225|       luigi milella|     |         luigi|       milella|department of sci...|        2020|                |             NULL|       luigi milella|department of sci...|30458225|       luigi milella|     |         luigi|       milella|department of sci...|        2020|                |             NULL|0000-0002-5874-1237|       luigi milella|department of sci...|0000-0002-5874-1237|\n|30499807|     sheraz r markar|     |      sheraz r|        markar|department of sur...|        2020|                |             NULL|     sheraz r markar|department of sur...|30499807|     sheraz r markar|     |      sheraz r|        markar|department of sur...|        2020|                |             NULL|0000-0001-8650-2017|     sheraz r markar|department of sur...|0000-0001-8650-2017|\n|30499807|     sheraz r markar|     |      sheraz r|        markar|department of sur...|        2020|                |             NULL|     sheraz r markar|department of sur...|30499807|     sheraz r markar|     |      sheraz r|        markar|department of sur...|        2020|                |             NULL|0000-0001-8650-2017|     sheraz r markar|department of sur...|0000-0001-8650-2017|\n|30499807|     sheraz r markar|     |      sheraz r|        markar|department of sur...|        2020|                |             NULL|     sheraz r markar|department of sur...|30499807|     sheraz r markar|     |      sheraz r|        markar|department of sur...|        2020|                |             NULL|0000-0001-8650-2017|     sheraz r markar|department of sur...|0000-0001-8650-2017|\n|30499807|     sheraz r markar|     |      sheraz r|        markar|department of sur...|        2020|                |             NULL|     sheraz r markar|department of sur...|30499807|     sheraz r markar|     |      sheraz r|        markar|department of sur...|        2020|                |             NULL|0000-0001-8650-2017|     sheraz r markar|department of sur...|0000-0001-8650-2017|\n|30499807|     sheraz r markar|     |      sheraz r|        markar|department of sur...|        2020|                |             NULL|     sheraz r markar|department of sur...|30499807|     sheraz r markar|     |      sheraz r|        markar|department of sur...|        2020|                |             NULL|0000-0001-8650-2017|     sheraz r markar|department of sur...|0000-0001-8650-2017|\n|30499807|     sheraz r markar|     |      sheraz r|        markar|department of sur...|        2020|                |             NULL|     sheraz r markar|department of sur...|30499807|     sheraz r markar|     |      sheraz r|        markar|department of sur...|        2020|                |             NULL|0000-0001-8650-2017|     sheraz r markar|department of sur...|0000-0001-8650-2017|\n|30499807|     sheraz r markar|     |      sheraz r|        markar|department of sur...|        2020|                |             NULL|     sheraz r markar|department of sur...|30499807|     sheraz r markar|     |      sheraz r|        markar|department of sur...|        2020|                |             NULL|0000-0003-4507-6415|     sheraz r markar|department of sur...|0000-0003-4507-6415|\n|30561731|christian s hende...|     |   christian s|    hendershot|department of psy...|        2020|                |             NULL|christian s hende...|department of psy...|30561731|christian s hende...|     |   christian s|    hendershot|department of psy...|        2020|                |             NULL|0000-0002-5328-2035|christian s hende...|department of psy...|0000-0002-5328-2035|\n|30602132|      takayuki yokoi|     |      takayuki|         yokoi|division of medic...|        2020|                |             NULL|      takayuki yokoi|division of medic...|30602132|      takayuki yokoi|     |      takayuki|         yokoi|division of medic...|        2020|                |             NULL|0000-0002-2427-145x|      takayuki yokoi|division of medic...|0000-0002-2427-145x|\n|30602132|      takayuki yokoi|     |      takayuki|         yokoi|division of medic...|        2020|                |             NULL|      takayuki yokoi|division of medic...|30602132|      takayuki yokoi|     |      takayuki|         yokoi|division of medic...|        2020|                |             NULL|0000-0002-2427-145x|      takayuki yokoi|division of medic...|0000-0002-2427-145x|\n|30602132|      takayuki yokoi|     |      takayuki|         yokoi|division of medic...|        2020|                |             NULL|      takayuki yokoi|division of medic...|30602132|      takayuki yokoi|     |      takayuki|         yokoi|division of medic...|        2020|                |             NULL|0000-0002-2427-145x|      takayuki yokoi|division of medic...|0000-0002-2427-145x|\n|30602132|      takayuki yokoi|     |      takayuki|         yokoi|division of medic...|        2020|                |             NULL|      takayuki yokoi|division of medic...|30602132|      takayuki yokoi|     |      takayuki|         yokoi|division of medic...|        2020|                |             NULL|0000-0002-2427-145x|      takayuki yokoi|division of medic...|0000-0002-2427-145x|\n|30618001|  césar zepeda-najar|     |         césar|  zepeda-najar|surgical oncology...|        2020|                |             NULL|    csar zepedanajar|surgical oncology...|30618001|  césar zepeda-najar|     |         césar|  zepeda-najar|surgical oncology...|        2020|                |             NULL|0000-0002-4913-7695|    csar zepedanajar|surgical oncology...|0000-0002-4913-7695|\n|30644433|     daniel j weiner|     |      daniel j|        weiner|analytic and tran...|        2021|                |             NULL|     daniel j weiner|analytic and tran...|30644433|     daniel j weiner|     |      daniel j|        weiner|analytic and tran...|        2021|                |             NULL|0000-0002-3744-6853|     daniel j weiner|analytic and tran...|0000-0002-3744-6853|\n|30704769|       luca bastiani|     |          luca|      bastiani|institute of clin...|        2020|                |             NULL|       luca bastiani|institute of clin...|30704769|       luca bastiani|     |          luca|      bastiani|institute of clin...|        2020|                |             NULL|0000-0003-3467-7362|       luca bastiani|institute of clin...|0000-0003-3467-7362|\n|30704769|       luca bastiani|     |          luca|      bastiani|institute of clin...|        2020|                |             NULL|       luca bastiani|institute of clin...|30704769|       luca bastiani|     |          luca|      bastiani|institute of clin...|        2020|                |             NULL|0000-0003-3467-7362|       luca bastiani|institute of clin...|0000-0003-3467-7362|\n|30786793|      paolo montaldo|     |         paolo|      montaldo|centre for perina...|        2020|                |             NULL|      paolo montaldo|centre for perina...|30786793|      paolo montaldo|     |         paolo|      montaldo|centre for perina...|        2020|                |             NULL|0000-0002-6034-7976|      paolo montaldo|centre for perina...|0000-0002-6034-7976|\n|30835602|         minako goto|     |        minako|          goto|department of obs...|        2020|                |             NULL|         minako goto|department of obs...|30835602|         minako goto|     |        minako|          goto|department of obs...|        2020|                |             NULL|0000-0003-1942-9459|         minako goto|department of obs...|0000-0003-1942-9459|\n|30835602|         minako goto|     |        minako|          goto|department of obs...|        2020|                |             NULL|         minako goto|department of obs...|30835602|         minako goto|     |        minako|          goto|department of obs...|        2020|                |             NULL|0000-0003-1942-9459|         minako goto|department of obs...|0000-0003-1942-9459|\n|30835602|     tatsuya arakaki|     |       tatsuya|       arakaki|department of obs...|        2020|                |             NULL|     tatsuya arakaki|department of obs...|30835602|     tatsuya arakaki|     |       tatsuya|       arakaki|department of obs...|        2020|                |             NULL|0000-0001-5113-0110|     tatsuya arakaki|department of obs...|0000-0001-5113-0110|\n|30835602|     tatsuya arakaki|     |       tatsuya|       arakaki|department of obs...|        2020|                |             NULL|     tatsuya arakaki|department of obs...|30835602|     tatsuya arakaki|     |       tatsuya|       arakaki|department of obs...|        2020|                |             NULL|0000-0001-5113-0110|     tatsuya arakaki|department of obs...|0000-0001-5113-0110|\n|30835602|     tatsuya arakaki|     |       tatsuya|       arakaki|department of obs...|        2020|                |             NULL|     tatsuya arakaki|department of obs...|30835602|     tatsuya arakaki|     |       tatsuya|       arakaki|department of obs...|        2020|                |             NULL|0000-0001-5113-0110|     tatsuya arakaki|department of obs...|0000-0001-5113-0110|\n|30835602|     tatsuya arakaki|     |       tatsuya|       arakaki|department of obs...|        2020|                |             NULL|     tatsuya arakaki|department of obs...|30835602|     tatsuya arakaki|     |       tatsuya|       arakaki|department of obs...|        2020|                |             NULL|0000-0001-5113-0110|     tatsuya arakaki|department of obs...|0000-0001-5113-0110|\n|30862690|        zhao-shen li|     |     zhao-shen|            li|department of gas...|        2020|                |             NULL|         zhaoshen li|department of gas...|30862690|        zhao-shen li|     |     zhao-shen|            li|department of gas...|        2020|                |             NULL|0000-0002-1650-4014|         zhaoshen li|department of gas...|0000-0002-1650-4014|\n|30862690|        zhao-shen li|     |     zhao-shen|            li|department of gas...|        2020|                |             NULL|         zhaoshen li|department of gas...|30862690|        zhao-shen li|     |     zhao-shen|            li|department of gas...|        2020|                |             NULL|0000-0002-1650-4014|         zhaoshen li|department of gas...|0000-0002-1650-4014|\n|30868760|        shigeo horie|     |        shigeo|         horie|department of uro...|        2020|                |             NULL|        shigeo horie|department of uro...|30868760|        shigeo horie|     |        shigeo|         horie|department of uro...|        2020|                |             NULL|0000-0002-8612-8368|        shigeo horie|department of uro...|0000-0002-8612-8368|\n|30874806|         jun hee woo|     |       jun hee|           woo|department of inf...|        2020|                |             NULL|         jun hee woo|department of inf...|30874806|         jun hee woo|     |       jun hee|           woo|department of inf...|        2020|                |             NULL|0000-0003-4512-5352|         jun hee woo|department of inf...|0000-0003-4512-5352|\n|30874806|         jun hee woo|     |       jun hee|           woo|department of inf...|        2020|                |             NULL|         jun hee woo|department of inf...|30874806|         jun hee woo|     |       jun hee|           woo|department of inf...|        2020|                |             NULL|0000-0003-4512-5352|         jun hee woo|department of inf...|0000-0003-4512-5352|\n|30885026|         haoshu fang|     |        haoshu|          fang|department of pat...|        2020|                |             NULL|         haoshu fang|department of pat...|30885026|         haoshu fang|     |        haoshu|          fang|department of pat...|        2020|                |             NULL|0000-0003-3108-6305|         haoshu fang|department of pat...|0000-0003-3108-6305|\n|30907758|     kednapa thavorn|     |       kednapa|       thavorn|school of epidemi...|        2021|                |             NULL|     kednapa thavorn|school of epidemi...|30907758|     kednapa thavorn|     |       kednapa|       thavorn|school of epidemi...|        2021|                |             NULL|0000-0003-4738-8447|     kednapa thavorn|school of epidemi...|0000-0003-4738-8447|\n|30907758|     kednapa thavorn|     |       kednapa|       thavorn|school of epidemi...|        2021|                |             NULL|     kednapa thavorn|school of epidemi...|30907758|     kednapa thavorn|     |       kednapa|       thavorn|school of epidemi...|        2021|                |             NULL|0000-0003-4738-8447|     kednapa thavorn|school of epidemi...|0000-0003-4738-8447|\n|30907758|     kednapa thavorn|     |       kednapa|       thavorn|school of epidemi...|        2021|                |             NULL|     kednapa thavorn|school of epidemi...|30907758|     kednapa thavorn|     |       kednapa|       thavorn|school of epidemi...|        2021|                |             NULL|0000-0003-4738-8447|     kednapa thavorn|school of epidemi...|0000-0003-4738-8447|\n|30907758|     kednapa thavorn|     |       kednapa|       thavorn|school of epidemi...|        2021|                |             NULL|     kednapa thavorn|school of epidemi...|30907758|     kednapa thavorn|     |       kednapa|       thavorn|school of epidemi...|        2021|                |             NULL|0000-0003-4738-8447|     kednapa thavorn|school of epidemi...|0000-0003-4738-8447|\n|30907758|     kednapa thavorn|     |       kednapa|       thavorn|school of epidemi...|        2021|                |             NULL|     kednapa thavorn|school of epidemi...|30907758|     kednapa thavorn|     |       kednapa|       thavorn|school of epidemi...|        2021|                |             NULL|0000-0003-4738-8447|     kednapa thavorn|school of epidemi...|0000-0003-4738-8447|\n|30907758|     kednapa thavorn|     |       kednapa|       thavorn|school of epidemi...|        2021|                |             NULL|     kednapa thavorn|school of epidemi...|30907758|     kednapa thavorn|     |       kednapa|       thavorn|school of epidemi...|        2021|                |             NULL|0000-0003-4738-8447|     kednapa thavorn|school of epidemi...|0000-0003-4738-8447|\n|30917738|          vu h duong|     |          vu h|         duong|marlene and stewa...|        2020|                |             NULL|          vu h duong|marlene and stewa...|30917738|          vu h duong|     |          vu h|         duong|marlene and stewa...|        2020|                |             NULL|0000-0003-0278-7727|          vu h duong|marlene and stewa...|0000-0003-0278-7727|\n|30919885|       prabasaj paul|     |      prabasaj|          paul|division of healt...|        2020|                |             NULL|       prabasaj paul|division of healt...|30919885|       prabasaj paul|     |      prabasaj|          paul|division of healt...|        2020|                |             NULL|0000-0002-4096-6171|       prabasaj paul|division of healt...|0000-0002-4096-6171|\n+--------+--------------------+-----+--------------+--------------+--------------------+------------+----------------+-----------------+--------------------+--------------------+--------+--------------------+-----+--------------+--------------+--------------------+------------+----------------+-----------------+-------------------+--------------------+--------------------+-------------------+\nonly showing top 100 rows\n"
     ]
    }
   ],
   "source": [
    "df_merged.filter(\n",
    "    (col(\"f.orcid_normalized2\").isNull()) & (trim(col(\"orcid_final\")).isNotNull())\n",
    ").show(3)\n"
   ]
  },
  {
   "cell_type": "code",
   "execution_count": 0,
   "metadata": {
    "application/vnd.databricks.v1+cell": {
     "cellMetadata": {
      "byteLimit": 2048000,
      "rowLimit": 10000
     },
     "inputWidgets": {},
     "nuid": "97a9e1bf-d975-435f-9ee7-380cf9d00163",
     "showTitle": false,
     "tableResultSettingsMap": {},
     "title": ""
    }
   },
   "outputs": [],
   "source": [
    "\n",
    "\n",
    "\n",
    "from pyspark.sql.functions import max\n",
    "\n",
    "# 1️⃣ Lista de campos para agrupar: todos excepto orcid y orcid_final\n",
    "group_cols = [\n",
    "    \"f.pub_year_for\",\n",
    "    \"f.pmid\",\n",
    "    \"f.fullname\",\n",
    "    \"f.fore\",\n",
    "    \"f.last\",\n",
    "    \"f.affiliation\"\n",
    "]\n",
    "\n",
    "# 2️⃣ Agrupar y devolver el máximo ORCID\n",
    "df_to_save = df_merged.groupBy(group_cols).agg(\n",
    "    max(\"orcid_final\").alias(\"orcid_final\")\n",
    ")\n",
    "\n",
    "df_to_save.write.mode(\"overwrite\").format(\"delta\").saveAsTable(\"default.pubmed_art_autor_aff\")"
   ]
  },
  {
   "cell_type": "code",
   "execution_count": 0,
   "metadata": {
    "application/vnd.databricks.v1+cell": {
     "cellMetadata": {
      "byteLimit": 2048000,
      "implicitDf": true,
      "rowLimit": 10000
     },
     "inputWidgets": {},
     "nuid": "f8cceb0f-01b5-4930-aa0a-94448e5fbbdf",
     "showTitle": false,
     "tableResultSettingsMap": {
      "0": {
       "dataGridStateBlob": "{\"version\":1,\"tableState\":{\"columnPinning\":{\"left\":[\"#row_number#\"],\"right\":[]},\"columnSizing\":{},\"columnVisibility\":{}},\"settings\":{\"columns\":{}},\"syncTimestamp\":1752401040140}",
       "filterBlob": null,
       "queryPlanFiltersBlob": null,
       "tableResultIndex": 0
      }
     },
     "title": ""
    }
   },
   "outputs": [
    {
     "output_type": "display_data",
     "data": {
      "text/html": [
       "<style scoped>\n",
       "  .table-result-container {\n",
       "    max-height: 300px;\n",
       "    overflow: auto;\n",
       "  }\n",
       "  table, th, td {\n",
       "    border: 1px solid black;\n",
       "    border-collapse: collapse;\n",
       "  }\n",
       "  th, td {\n",
       "    padding: 5px;\n",
       "  }\n",
       "  th {\n",
       "    text-align: left;\n",
       "  }\n",
       "</style><div class='table-result-container'><table class='table-result'><thead style='background-color: white'><tr><th>count(1)</th></tr></thead><tbody><tr><td>38401193</td></tr></tbody></table></div>"
      ]
     },
     "metadata": {
      "application/vnd.databricks.v1+output": {
       "addedWidgets": {},
       "aggData": [],
       "aggError": "",
       "aggOverflow": false,
       "aggSchema": [],
       "aggSeriesLimitReached": false,
       "aggType": "",
       "arguments": {},
       "columnCustomDisplayInfos": {},
       "data": [
        [
         38401193
        ]
       ],
       "datasetInfos": [
        {
         "name": "_sqldf",
         "schema": {
          "fields": [
           {
            "metadata": {
             "__autoGeneratedAlias": "true"
            },
            "name": "count(1)",
            "nullable": false,
            "type": "long"
           }
          ],
          "type": "struct"
         },
         "tableIdentifier": null,
         "typeStr": "pyspark.sql.dataframe.DataFrame"
        }
       ],
       "dbfsResultPath": null,
       "isJsonSchema": true,
       "metadata": {
        "createTempViewForImplicitDf": true,
        "dataframeName": "_sqldf",
        "executionCount": 46
       },
       "overflow": false,
       "plotOptions": {
        "customPlotOptions": {},
        "displayType": "table",
        "pivotAggregation": null,
        "pivotColumns": null,
        "xColumns": null,
        "yColumns": null
       },
       "removedWidgets": [],
       "schema": [
        {
         "metadata": "{\"__autoGeneratedAlias\":\"true\"}",
         "name": "count(1)",
         "type": "\"long\""
        }
       ],
       "type": "table"
      }
     },
     "output_type": "display_data"
    }
   ],
   "source": [
    "%sql\n",
    "\n",
    "\n",
    "select count(1) from default.pubmed_art_autor_aff"
   ]
  },
  {
   "cell_type": "code",
   "execution_count": 0,
   "metadata": {
    "application/vnd.databricks.v1+cell": {
     "cellMetadata": {
      "byteLimit": 2048000,
      "implicitDf": true,
      "rowLimit": 10000
     },
     "inputWidgets": {},
     "nuid": "60ac8f6e-de66-457c-8531-e31f6964ea9d",
     "showTitle": false,
     "tableResultSettingsMap": {
      "0": {
       "dataGridStateBlob": "{\"version\":1,\"tableState\":{\"columnPinning\":{\"left\":[\"#row_number#\"],\"right\":[]},\"columnSizing\":{\"affiliation\":873},\"columnVisibility\":{}},\"settings\":{\"columns\":{}},\"syncTimestamp\":1752276889223}",
       "filterBlob": null,
       "queryPlanFiltersBlob": null,
       "tableResultIndex": 0
      }
     },
     "title": ""
    }
   },
   "outputs": [
    {
     "output_type": "display_data",
     "data": {
      "text/html": [
       "<style scoped>\n",
       "  .table-result-container {\n",
       "    max-height: 300px;\n",
       "    overflow: auto;\n",
       "  }\n",
       "  table, th, td {\n",
       "    border: 1px solid black;\n",
       "    border-collapse: collapse;\n",
       "  }\n",
       "  th, td {\n",
       "    padding: 5px;\n",
       "  }\n",
       "  th {\n",
       "    text-align: left;\n",
       "  }\n",
       "</style><div class='table-result-container'><table class='table-result'><thead style='background-color: white'><tr><th>pmid</th><th>fullname</th><th>affiliation</th><th>count(1)</th></tr></thead><tbody><tr><td>34255852</td><td>dineke zeegers paget</td><td>eupha executive director.</td><td>2</td></tr><tr><td>33462189</td><td>a jeremy willsey</td><td>institute for neurodegenerative diseases, ucsf weill institute for neurosciences, university of california san francisco, san francisco, ca, usa.</td><td>2</td></tr><tr><td>34473588</td><td>dea schröder-van den nieuwendijk</td><td>department of dietetics, roessingh rehabilitation centre, enschede, the netherlands.</td><td>2</td></tr><tr><td>32492397</td><td>anh ngoc thi nguyen</td><td>department of genomics and cytogenetics, institute of biomedicine and pharmacy (ibp), vietnam military medical university, vietnam.</td><td>2</td></tr><tr><td>35126748</td><td>oleg vasylovich gerush</td><td>pharmacy department, bukovinian state medical university, chernivtsi, ukraine.</td><td>2</td></tr></tbody></table></div>"
      ]
     },
     "metadata": {
      "application/vnd.databricks.v1+output": {
       "addedWidgets": {},
       "aggData": [],
       "aggError": "",
       "aggOverflow": false,
       "aggSchema": [],
       "aggSeriesLimitReached": false,
       "aggType": "",
       "arguments": {},
       "columnCustomDisplayInfos": {},
       "data": [
        [
         "34255852",
         "dineke zeegers paget",
         "eupha executive director.",
         2
        ],
        [
         "33462189",
         "a jeremy willsey",
         "institute for neurodegenerative diseases, ucsf weill institute for neurosciences, university of california san francisco, san francisco, ca, usa.",
         2
        ],
        [
         "34473588",
         "dea schröder-van den nieuwendijk",
         "department of dietetics, roessingh rehabilitation centre, enschede, the netherlands.",
         2
        ],
        [
         "32492397",
         "anh ngoc thi nguyen",
         "department of genomics and cytogenetics, institute of biomedicine and pharmacy (ibp), vietnam military medical university, vietnam.",
         2
        ],
        [
         "35126748",
         "oleg vasylovich gerush",
         "pharmacy department, bukovinian state medical university, chernivtsi, ukraine.",
         2
        ]
       ],
       "datasetInfos": [
        {
         "name": "_sqldf",
         "schema": {
          "fields": [
           {
            "metadata": {},
            "name": "pmid",
            "nullable": true,
            "type": "string"
           },
           {
            "metadata": {},
            "name": "fullname",
            "nullable": true,
            "type": "string"
           },
           {
            "metadata": {},
            "name": "affiliation",
            "nullable": true,
            "type": "string"
           },
           {
            "metadata": {
             "__autoGeneratedAlias": "true"
            },
            "name": "count(1)",
            "nullable": false,
            "type": "long"
           }
          ],
          "type": "struct"
         },
         "tableIdentifier": null,
         "typeStr": "pyspark.sql.dataframe.DataFrame"
        }
       ],
       "dbfsResultPath": null,
       "isJsonSchema": true,
       "metadata": {
        "createTempViewForImplicitDf": true,
        "dataframeName": "_sqldf",
        "executionCount": 34
       },
       "overflow": false,
       "plotOptions": {
        "customPlotOptions": {},
        "displayType": "table",
        "pivotAggregation": null,
        "pivotColumns": null,
        "xColumns": null,
        "yColumns": null
       },
       "removedWidgets": [],
       "schema": [
        {
         "metadata": "{}",
         "name": "pmid",
         "type": "\"string\""
        },
        {
         "metadata": "{}",
         "name": "fullname",
         "type": "\"string\""
        },
        {
         "metadata": "{}",
         "name": "affiliation",
         "type": "\"string\""
        },
        {
         "metadata": "{\"__autoGeneratedAlias\":\"true\"}",
         "name": "count(1)",
         "type": "\"long\""
        }
       ],
       "type": "table"
      }
     },
     "output_type": "display_data"
    }
   ],
   "source": [
    "%sql\n",
    "--  7321048\n",
    "\n",
    "-- select 2762074 - 2087258 from dual\n",
    "--9 665 880\n",
    "--select count(1) \n",
    "--from \n",
    "--(\n",
    "select    pmid,\n",
    "          fullname,\n",
    "          affiliation, \n",
    "          count(1)\n",
    "           from default.pubmed_art_autor_aff\n",
    "group by pmid,\n",
    "          fullname,\n",
    "          affiliation\n",
    "having count(1)         > 1\n",
    "--)\n",
    "\n",
    "\n",
    "\n",
    " --select * from unirdat.pubmed_db.m_articulo_autor\n",
    " --where pmid = 33640246\tand fullname ='bagher larijani'\n"
   ]
  },
  {
   "cell_type": "code",
   "execution_count": 0,
   "metadata": {
    "application/vnd.databricks.v1+cell": {
     "cellMetadata": {
      "byteLimit": 2048000,
      "implicitDf": true,
      "rowLimit": 10000
     },
     "inputWidgets": {},
     "nuid": "b8ec3b46-c2bd-4380-98d6-decfd4e43d0d",
     "showTitle": false,
     "tableResultSettingsMap": {},
     "title": ""
    }
   },
   "outputs": [
    {
     "output_type": "execute_result",
     "data": {
      "text/plain": [
       "DataFrame[num_affected_rows: bigint]"
      ]
     },
     "execution_count": 31,
     "metadata": {},
     "output_type": "execute_result"
    }
   ],
   "source": [
    "dt_tmp =spark.sql(\"\"\"\n",
    "  select    pmid,\n",
    "          fullname,\n",
    "          affiliation, \n",
    "          count(1) as total\n",
    "           from default.pubmed_art_autor_aff\n",
    "group by pmid,\n",
    "          fullname,\n",
    "          affiliation\n",
    "having total        > 1\n",
    "\"\"\")\n",
    "\n",
    "dt_tmp.createOrReplaceTempView(\"v_autor_duplicado2\")\n",
    "\n",
    "spark.sql(\"\"\"\n",
    "  delete from default.pubmed_art_autor_aff\n",
    "  where  exists (select 1 from v_autor_duplicado2 v where default.pubmed_art_autor_aff.pmid = v.pmid and default.pubmed_art_autor_aff.fullname = v.fullname and default.pubmed_art_autor_aff.affiliation = v.affiliation)\n",
    "   \n",
    "   \"\"\")\n",
    "\n"
   ]
  },
  {
   "cell_type": "code",
   "execution_count": 0,
   "metadata": {
    "application/vnd.databricks.v1+cell": {
     "cellMetadata": {
      "byteLimit": 2048000,
      "implicitDf": true,
      "rowLimit": 10000
     },
     "inputWidgets": {},
     "nuid": "0271cf78-d9c3-45b4-93a0-13ef3833ef52",
     "showTitle": false,
     "tableResultSettingsMap": {},
     "title": ""
    }
   },
   "outputs": [
    {
     "output_type": "display_data",
     "data": {
      "text/html": [
       "<style scoped>\n",
       "  .table-result-container {\n",
       "    max-height: 300px;\n",
       "    overflow: auto;\n",
       "  }\n",
       "  table, th, td {\n",
       "    border: 1px solid black;\n",
       "    border-collapse: collapse;\n",
       "  }\n",
       "  th, td {\n",
       "    padding: 5px;\n",
       "  }\n",
       "  th {\n",
       "    text-align: left;\n",
       "  }\n",
       "</style><div class='table-result-container'><table class='table-result'><thead style='background-color: white'><tr><th>count(1)</th></tr></thead><tbody><tr><td>38401193</td></tr></tbody></table></div>"
      ]
     },
     "metadata": {
      "application/vnd.databricks.v1+output": {
       "addedWidgets": {},
       "aggData": [],
       "aggError": "",
       "aggOverflow": false,
       "aggSchema": [],
       "aggSeriesLimitReached": false,
       "aggType": "",
       "arguments": {},
       "columnCustomDisplayInfos": {},
       "data": [
        [
         38401193
        ]
       ],
       "datasetInfos": [
        {
         "name": "_sqldf",
         "schema": {
          "fields": [
           {
            "metadata": {
             "__autoGeneratedAlias": "true"
            },
            "name": "count(1)",
            "nullable": false,
            "type": "long"
           }
          ],
          "type": "struct"
         },
         "tableIdentifier": null,
         "typeStr": "pyspark.sql.dataframe.DataFrame"
        }
       ],
       "dbfsResultPath": null,
       "isJsonSchema": true,
       "metadata": {
        "createTempViewForImplicitDf": true,
        "dataframeName": "_sqldf",
        "executionCount": 37
       },
       "overflow": false,
       "plotOptions": {
        "customPlotOptions": {},
        "displayType": "table",
        "pivotAggregation": null,
        "pivotColumns": null,
        "xColumns": null,
        "yColumns": null
       },
       "removedWidgets": [],
       "schema": [
        {
         "metadata": "{\"__autoGeneratedAlias\":\"true\"}",
         "name": "count(1)",
         "type": "\"long\""
        }
       ],
       "type": "table"
      }
     },
     "output_type": "display_data"
    }
   ],
   "source": [
    "%sql\n",
    "SELECT count(1)\n",
    "FROM default.pubmed_art_autor_aff a\n"
   ]
  },
  {
   "cell_type": "code",
   "execution_count": 0,
   "metadata": {
    "application/vnd.databricks.v1+cell": {
     "cellMetadata": {
      "byteLimit": 2048000,
      "implicitDf": true,
      "rowLimit": 10000
     },
     "inputWidgets": {},
     "nuid": "02a7c601-2601-42e0-92b0-6b5e34708010",
     "showTitle": false,
     "tableResultSettingsMap": {},
     "title": ""
    }
   },
   "outputs": [
    {
     "output_type": "display_data",
     "data": {
      "text/html": [
       "<style scoped>\n",
       "  .table-result-container {\n",
       "    max-height: 300px;\n",
       "    overflow: auto;\n",
       "  }\n",
       "  table, th, td {\n",
       "    border: 1px solid black;\n",
       "    border-collapse: collapse;\n",
       "  }\n",
       "  th, td {\n",
       "    padding: 5px;\n",
       "  }\n",
       "  th {\n",
       "    text-align: left;\n",
       "  }\n",
       "</style><div class='table-result-container'><table class='table-result'><thead style='background-color: white'><tr><th>count(1)</th></tr></thead><tbody><tr><td>12761846</td></tr></tbody></table></div>"
      ]
     },
     "metadata": {
      "application/vnd.databricks.v1+output": {
       "addedWidgets": {},
       "aggData": [],
       "aggError": "",
       "aggOverflow": false,
       "aggSchema": [],
       "aggSeriesLimitReached": false,
       "aggType": "",
       "arguments": {},
       "columnCustomDisplayInfos": {},
       "data": [
        [
         12761846
        ]
       ],
       "datasetInfos": [
        {
         "name": "_sqldf",
         "schema": {
          "fields": [
           {
            "metadata": {
             "__autoGeneratedAlias": "true"
            },
            "name": "count(1)",
            "nullable": false,
            "type": "long"
           }
          ],
          "type": "struct"
         },
         "tableIdentifier": null,
         "typeStr": "pyspark.sql.dataframe.DataFrame"
        }
       ],
       "dbfsResultPath": null,
       "isJsonSchema": true,
       "metadata": {
        "createTempViewForImplicitDf": true,
        "dataframeName": "_sqldf",
        "executionCount": 4
       },
       "overflow": false,
       "plotOptions": {
        "customPlotOptions": {},
        "displayType": "table",
        "pivotAggregation": null,
        "pivotColumns": null,
        "xColumns": null,
        "yColumns": null
       },
       "removedWidgets": [],
       "schema": [
        {
         "metadata": "{\"__autoGeneratedAlias\":\"true\"}",
         "name": "count(1)",
         "type": "\"long\""
        }
       ],
       "type": "table"
      }
     },
     "output_type": "display_data"
    }
   ],
   "source": [
    "%sql\n",
    "SELECT count(1)\n",
    "FROM default.pubmed_art_autor_aff a\n",
    "where  orcid_final is not null\n",
    "\n",
    "--28769836"
   ]
  },
  {
   "cell_type": "code",
   "execution_count": 0,
   "metadata": {
    "application/vnd.databricks.v1+cell": {
     "cellMetadata": {
      "byteLimit": 2048000,
      "rowLimit": 10000
     },
     "inputWidgets": {},
     "nuid": "01b81b95-42ba-479b-b8f4-72d39d91d79e",
     "showTitle": false,
     "tableResultSettingsMap": {},
     "title": ""
    }
   },
   "outputs": [
    {
     "output_type": "stream",
     "name": "stdout",
     "output_type": "stream",
     "text": [
      "+------------+--------+--------------------+--------+------------------+--------------------+-----------+\n|pub_year_for|    pmid|            fullname|    fore|              last|         affiliation|orcid_final|\n+------------+--------+--------------------+--------+------------------+--------------------+-----------+\n|        2020|30704332|mipattra kwanmong...|mipattra|  kwanmongkolthong|school of physica...|       NULL|\n|        2020|30973764|heleen a reinders...|heleen a|reinders-messelink|rehabilitation ce...|       NULL|\n|        2020|30975622|       mukund thatte|  mukund|            thatte|department of pla...|       NULL|\n+------------+--------+--------------------+--------+------------------+--------------------+-----------+\nonly showing top 3 rows\n\uD83D\uDD0D Procesando registros 1 a 100 de 500\n✅ Lote 1 guardado\n\uD83D\uDD0D Procesando registros 101 a 200 de 500\n✅ Lote 2 guardado\n\uD83D\uDD0D Procesando registros 201 a 300 de 500\n✅ Lote 3 guardado\n\uD83D\uDD0D Procesando registros 301 a 400 de 500\n✅ Lote 4 guardado\n\uD83D\uDD0D Procesando registros 401 a 500 de 500\n✅ Lote 5 guardado\n"
     ]
    }
   ],
   "source": [
    "import requests\n",
    "import pandas as pd\n",
    "import time\n",
    "\n",
    "from pyspark.sql import SparkSession\n",
    "from pyspark.sql.functions import col\n",
    "\n",
    "# -----------------------------------------------------------------------------\n",
    "# 1️⃣ Spark session\n",
    "# -----------------------------------------------------------------------------\n",
    "#spark = SparkSession.builder.getOrCreate()\n",
    "\n",
    "# -----------------------------------------------------------------------------\n",
    "# 2️⃣ Config\n",
    "# -----------------------------------------------------------------------------\n",
    "API_RATE_LIMIT = 1\n",
    "MAX_RECORDS =10000\n",
    "BATCH_SIZE = 100\n",
    "\n",
    "# -----------------------------------------------------------------------------\n",
    "# 3️⃣ Leer tabla\n",
    "# -----------------------------------------------------------------------------\n",
    "\n",
    "query = \"\"\"\n",
    "SELECT a.*\n",
    "FROM default.pubmed_art_autor_aff a\n",
    "where  orcid_final is null\n",
    "limit 5000\n",
    "\"\"\"\n",
    "\n",
    "\n",
    "\n",
    "\n",
    "\n",
    "#df_autores_all = spark.table(\"unirdat.pubmed_db.m_articulo_autor\")\n",
    "df_autores_all = spark.sql(query)\n",
    "df_autores_all.show(3)\n",
    "df_autores = df_autores_all.select ( \"pmid\", \"fullname\", \"affiliation\" ).distinct()  \n",
    "df_sin_orcid = df_autores.filter(col(\"orcid_final\").isNull())\n",
    "\n",
    "df_sin_orcid_pd = df_sin_orcid.limit(MAX_RECORDS).select(\n",
    "    \"pmid\", \"fullname\", \"affiliation\"\n",
    ").toPandas()\n",
    "\n",
    "total = len(df_sin_orcid_pd)\n",
    "\n",
    "# -----------------------------------------------------------------------------\n",
    "# 4️⃣ Función API\n",
    "# -----------------------------------------------------------------------------\n",
    "def buscar_orcid(fullname, affiliation):\n",
    "    base_url = \"https://pub.orcid.org/v3.0/search/?q=\"\n",
    "    query = f'given-names:{fullname}'\n",
    "    headers = {\"Accept\": \"application/json\"}\n",
    "\n",
    "    response = requests.get(base_url + query, headers=headers, timeout=10)\n",
    "    if response.status_code == 200:\n",
    "        data = response.json()\n",
    "        items = data.get(\"result\", [])\n",
    "        if items:\n",
    "            return items[0]['orcid-identifier']['path']\n",
    "    return None\n",
    "\n",
    "# -----------------------------------------------------------------------------\n",
    "# 5️⃣ Loop por lotes + guardado incremental\n",
    "# -----------------------------------------------------------------------------\n",
    "for i in range(0, total, BATCH_SIZE):\n",
    "    batch = df_sin_orcid_pd.iloc[i:i+BATCH_SIZE]\n",
    "    resultados = []\n",
    "\n",
    "    print(f\"\uD83D\uDD0D Procesando registros {i+1} a {i+len(batch)} de {total}\")\n",
    "\n",
    "    for _, row in batch.iterrows():\n",
    "        orcid_id = buscar_orcid(row[\"fullname\"], row[\"affiliation\"])\n",
    "        resultados.append({\n",
    "            \"pmid\": row[\"pmid\"],\n",
    "            \"fullname\": row[\"fullname\"],\n",
    "            \"affiliation\": row[\"affiliation\"],\n",
    "            \"orcid_api\": orcid_id\n",
    "        })\n",
    "        time.sleep(API_RATE_LIMIT)\n",
    "\n",
    "    # ⚡ Cada lote se convierte a Spark y se inserta como append\n",
    "    df_resultados = pd.DataFrame(resultados)\n",
    "    df_resultados_spark = spark.createDataFrame(df_resultados)\n",
    "\n",
    "    df_resultados_spark.write.mode(\"append\").format(\"delta\").saveAsTable(\n",
    "        \"unirdat.pubmed_db.m_articulo_autor_orcid_api\"\n",
    "    )\n",
    "\n",
    "    print(f\"✅ Lote {i//BATCH_SIZE + 1} guardado\")\n",
    "\n",
    "\n"
   ]
  },
  {
   "cell_type": "code",
   "execution_count": 0,
   "metadata": {
    "application/vnd.databricks.v1+cell": {
     "cellMetadata": {
      "byteLimit": 2048000,
      "implicitDf": true,
      "rowLimit": 10000
     },
     "inputWidgets": {},
     "nuid": "20154844-5b37-41ef-ba69-a767ffd51e93",
     "showTitle": false,
     "tableResultSettingsMap": {},
     "title": ""
    }
   },
   "outputs": [
    {
     "output_type": "execute_result",
     "data": {
      "text/plain": [
       "DataFrame[table_size_after_restore: bigint, num_of_files_after_restore: bigint, num_removed_files: bigint, num_restored_files: bigint, removed_files_size: bigint, restored_files_size: bigint]"
      ]
     },
     "execution_count": 9,
     "metadata": {},
     "output_type": "execute_result"
    }
   ],
   "source": [
    "\n",
    "#spark.sql(\"RESTORE TABLE unirdat.pubmed_db.m_articulo_autor_orcid_api TO VERSION AS OF 7\")\n",
    "\n"
   ]
  },
  {
   "cell_type": "code",
   "execution_count": 0,
   "metadata": {
    "application/vnd.databricks.v1+cell": {
     "cellMetadata": {
      "byteLimit": 2048000,
      "implicitDf": true,
      "rowLimit": 10000
     },
     "inputWidgets": {},
     "nuid": "7f2608b0-9c93-4ae1-8295-ac0fe7047a95",
     "showTitle": false,
     "tableResultSettingsMap": {},
     "title": ""
    }
   },
   "outputs": [
    {
     "output_type": "display_data",
     "data": {
      "text/html": [
       "<style scoped>\n",
       "  .table-result-container {\n",
       "    max-height: 300px;\n",
       "    overflow: auto;\n",
       "  }\n",
       "  table, th, td {\n",
       "    border: 1px solid black;\n",
       "    border-collapse: collapse;\n",
       "  }\n",
       "  th, td {\n",
       "    padding: 5px;\n",
       "  }\n",
       "  th {\n",
       "    text-align: left;\n",
       "  }\n",
       "</style><div class='table-result-container'><table class='table-result'><thead style='background-color: white'><tr><th>database</th><th>tableName</th><th>isTemporary</th></tr></thead><tbody><tr><td>pubmed_db</td><td>m_articulo</td><td>false</td></tr><tr><td>pubmed_db</td><td>m_articulo_autor</td><td>false</td></tr><tr><td>pubmed_db</td><td>m_articulo_autor_orcid_api</td><td>false</td></tr><tr><td>pubmed_db</td><td>m_autor_afiliacion_ror_normalized</td><td>false</td></tr><tr><td>pubmed_db</td><td>n_affiliaciones</td><td>false</td></tr><tr><td>pubmed_db</td><td>n_articulo</td><td>false</td></tr><tr><td>pubmed_db</td><td>n_language</td><td>false</td></tr><tr><td>pubmed_db</td><td>n_orcdi</td><td>false</td></tr><tr><td>pubmed_db</td><td>n_pais</td><td>false</td></tr><tr><td></td><td>_sqldf</td><td>true</td></tr></tbody></table></div>"
      ]
     },
     "metadata": {
      "application/vnd.databricks.v1+output": {
       "addedWidgets": {},
       "aggData": [],
       "aggError": "",
       "aggOverflow": false,
       "aggSchema": [],
       "aggSeriesLimitReached": false,
       "aggType": "",
       "arguments": {},
       "columnCustomDisplayInfos": {},
       "data": [
        [
         "pubmed_db",
         "m_articulo",
         false
        ],
        [
         "pubmed_db",
         "m_articulo_autor",
         false
        ],
        [
         "pubmed_db",
         "m_articulo_autor_orcid_api",
         false
        ],
        [
         "pubmed_db",
         "m_autor_afiliacion_ror_normalized",
         false
        ],
        [
         "pubmed_db",
         "n_affiliaciones",
         false
        ],
        [
         "pubmed_db",
         "n_articulo",
         false
        ],
        [
         "pubmed_db",
         "n_language",
         false
        ],
        [
         "pubmed_db",
         "n_orcdi",
         false
        ],
        [
         "pubmed_db",
         "n_pais",
         false
        ],
        [
         "",
         "_sqldf",
         true
        ]
       ],
       "datasetInfos": [
        {
         "name": "_sqldf",
         "schema": {
          "fields": [
           {
            "metadata": {},
            "name": "database",
            "nullable": false,
            "type": "string"
           },
           {
            "metadata": {},
            "name": "tableName",
            "nullable": false,
            "type": "string"
           },
           {
            "metadata": {},
            "name": "isTemporary",
            "nullable": false,
            "type": "boolean"
           }
          ],
          "type": "struct"
         },
         "tableIdentifier": null,
         "typeStr": "pyspark.sql.dataframe.DataFrame"
        }
       ],
       "dbfsResultPath": null,
       "isJsonSchema": true,
       "metadata": {
        "createTempViewForImplicitDf": true,
        "dataframeName": "_sqldf",
        "executionCount": 14
       },
       "overflow": false,
       "plotOptions": {
        "customPlotOptions": {},
        "displayType": "table",
        "pivotAggregation": null,
        "pivotColumns": null,
        "xColumns": null,
        "yColumns": null
       },
       "removedWidgets": [],
       "schema": [
        {
         "metadata": "{}",
         "name": "database",
         "type": "\"string\""
        },
        {
         "metadata": "{}",
         "name": "tableName",
         "type": "\"string\""
        },
        {
         "metadata": "{}",
         "name": "isTemporary",
         "type": "\"boolean\""
        }
       ],
       "type": "table"
      }
     },
     "output_type": "display_data"
    }
   ],
   "source": [
    "%sql\n",
    "SHOW TABLES IN unirdat.pubmed_db;\n"
   ]
  },
  {
   "cell_type": "code",
   "execution_count": 0,
   "metadata": {
    "application/vnd.databricks.v1+cell": {
     "cellMetadata": {
      "byteLimit": 2048000,
      "implicitDf": true,
      "rowLimit": 10000
     },
     "inputWidgets": {},
     "nuid": "f047f072-d768-4e23-8170-e0636c60c2c5",
     "showTitle": false,
     "tableResultSettingsMap": {},
     "title": ""
    }
   },
   "outputs": [
    {
     "output_type": "display_data",
     "data": {
      "text/html": [
       "<style scoped>\n",
       "  .table-result-container {\n",
       "    max-height: 300px;\n",
       "    overflow: auto;\n",
       "  }\n",
       "  table, th, td {\n",
       "    border: 1px solid black;\n",
       "    border-collapse: collapse;\n",
       "  }\n",
       "  th, td {\n",
       "    padding: 5px;\n",
       "  }\n",
       "  th {\n",
       "    text-align: left;\n",
       "  }\n",
       "</style><div class='table-result-container'><table class='table-result'><thead style='background-color: white'><tr><th>num_affected_rows</th></tr></thead><tbody><tr><td>28776449</td></tr></tbody></table></div>"
      ]
     },
     "metadata": {
      "application/vnd.databricks.v1+output": {
       "addedWidgets": {},
       "aggData": [],
       "aggError": "",
       "aggOverflow": false,
       "aggSchema": [],
       "aggSeriesLimitReached": false,
       "aggType": "",
       "arguments": {},
       "columnCustomDisplayInfos": {},
       "data": [
        [
         28776449
        ]
       ],
       "datasetInfos": [
        {
         "name": "_sqldf",
         "schema": {
          "fields": [
           {
            "metadata": {},
            "name": "num_affected_rows",
            "nullable": true,
            "type": "long"
           }
          ],
          "type": "struct"
         },
         "tableIdentifier": null,
         "typeStr": "pyspark.sql.dataframe.DataFrame"
        }
       ],
       "dbfsResultPath": null,
       "isJsonSchema": true,
       "metadata": {
        "createTempViewForImplicitDf": true,
        "dataframeName": "_sqldf",
        "executionCount": 32
       },
       "overflow": false,
       "plotOptions": {
        "customPlotOptions": {},
        "displayType": "table",
        "pivotAggregation": null,
        "pivotColumns": null,
        "xColumns": null,
        "yColumns": null
       },
       "removedWidgets": [],
       "schema": [
        {
         "metadata": "{}",
         "name": "num_affected_rows",
         "type": "\"long\""
        }
       ],
       "type": "table"
      }
     },
     "output_type": "display_data"
    }
   ],
   "source": [
    "%sql\n",
    "--28769221\n",
    "update default.pubmed_art_autor_aff  a\n",
    "set  orcid_final= (select MAX(orcid_api) from unirdat.pubmed_db.m_articulo_autor_orcid_api b\n",
    "                       where \n",
    "                        a.pmid = b.pmid\n",
    "                    AND a.fullname = b.fullname\n",
    "                    AND a.affiliation = b.affiliation\n",
    "                       )\n",
    "where orcid_final is null\n",
    " "
   ]
  },
  {
   "cell_type": "code",
   "execution_count": 0,
   "metadata": {
    "application/vnd.databricks.v1+cell": {
     "cellMetadata": {
      "byteLimit": 2048000,
      "implicitDf": true,
      "rowLimit": 10000
     },
     "inputWidgets": {},
     "nuid": "aab1a11a-d8ad-490d-bcd9-3d75c20a9dab",
     "showTitle": false,
     "tableResultSettingsMap": {
      "0": {
       "dataGridStateBlob": "{\"version\":1,\"tableState\":{\"columnPinning\":{\"left\":[\"#row_number#\"],\"right\":[]},\"columnSizing\":{},\"columnVisibility\":{}},\"settings\":{\"columns\":{}},\"syncTimestamp\":1752047845503}",
       "filterBlob": null,
       "queryPlanFiltersBlob": null,
       "tableResultIndex": 0
      }
     },
     "title": ""
    }
   },
   "outputs": [
    {
     "output_type": "display_data",
     "data": {
      "text/html": [
       "<style scoped>\n",
       "  .table-result-container {\n",
       "    max-height: 300px;\n",
       "    overflow: auto;\n",
       "  }\n",
       "  table, th, td {\n",
       "    border: 1px solid black;\n",
       "    border-collapse: collapse;\n",
       "  }\n",
       "  th, td {\n",
       "    padding: 5px;\n",
       "  }\n",
       "  th {\n",
       "    text-align: left;\n",
       "  }\n",
       "</style><div class='table-result-container'><table class='table-result'><thead style='background-color: white'><tr><th>count(1)</th></tr></thead><tbody><tr><td>9632471</td></tr></tbody></table></div>"
      ]
     },
     "metadata": {
      "application/vnd.databricks.v1+output": {
       "addedWidgets": {},
       "aggData": [],
       "aggError": "",
       "aggOverflow": false,
       "aggSchema": [],
       "aggSeriesLimitReached": false,
       "aggType": "",
       "arguments": {},
       "columnCustomDisplayInfos": {},
       "data": [
        [
         9632471
        ]
       ],
       "datasetInfos": [
        {
         "name": "_sqldf",
         "schema": {
          "fields": [
           {
            "metadata": {
             "__autoGeneratedAlias": "true"
            },
            "name": "count(1)",
            "nullable": false,
            "type": "long"
           }
          ],
          "type": "struct"
         },
         "tableIdentifier": null,
         "typeStr": "pyspark.sql.dataframe.DataFrame"
        }
       ],
       "dbfsResultPath": null,
       "isJsonSchema": true,
       "metadata": {
        "createTempViewForImplicitDf": true,
        "dataframeName": "_sqldf",
        "executionCount": 34
       },
       "overflow": false,
       "plotOptions": {
        "customPlotOptions": {},
        "displayType": "table",
        "pivotAggregation": null,
        "pivotColumns": null,
        "xColumns": null,
        "yColumns": null
       },
       "removedWidgets": [],
       "schema": [
        {
         "metadata": "{\"__autoGeneratedAlias\":\"true\"}",
         "name": "count(1)",
         "type": "\"long\""
        }
       ],
       "type": "table"
      }
     },
     "output_type": "display_data"
    }
   ],
   "source": [
    "%sql\n",
    "\n",
    "select count(1) from default.pubmed_art_autor_aff\n",
    "where orcid_final is not null\n",
    "--select count(1) from (\n",
    "--select distinct fullname, affiliation from unirdat.pubmed_db.m_articulo_autor\n",
    "--where orcid_final is null\n",
    "--)\n",
    "--truncate table pubmed_db.m_articulo_autor_orcid_api\n",
    "--select * from unirdat.pubmed_db.m_articulo_autor_orcid_api"
   ]
  },
  {
   "cell_type": "code",
   "execution_count": 0,
   "metadata": {
    "application/vnd.databricks.v1+cell": {
     "cellMetadata": {
      "byteLimit": 2048000,
      "implicitDf": true,
      "rowLimit": 10000
     },
     "inputWidgets": {},
     "nuid": "8a1337db-e703-42e9-a859-15f26a4eb921",
     "showTitle": false,
     "tableResultSettingsMap": {
      "0": {
       "dataGridStateBlob": "{\"version\":1,\"tableState\":{\"columnPinning\":{\"left\":[\"#row_number#\"],\"right\":[]},\"columnSizing\":{\"fullname\":216},\"columnVisibility\":{}},\"settings\":{\"columns\":{}},\"syncTimestamp\":1752092085345}",
       "filterBlob": null,
       "queryPlanFiltersBlob": null,
       "tableResultIndex": 0
      }
     },
     "title": ""
    }
   },
   "outputs": [
    {
     "output_type": "display_data",
     "data": {
      "text/html": [
       "<style scoped>\n",
       "  .table-result-container {\n",
       "    max-height: 300px;\n",
       "    overflow: auto;\n",
       "  }\n",
       "  table, th, td {\n",
       "    border: 1px solid black;\n",
       "    border-collapse: collapse;\n",
       "  }\n",
       "  th, td {\n",
       "    padding: 5px;\n",
       "  }\n",
       "  th {\n",
       "    text-align: left;\n",
       "  }\n",
       "</style><div class='table-result-container'><table class='table-result'><thead style='background-color: white'><tr><th>pmid</th><th>fullname</th><th>affiliation</th><th>orcid_api</th></tr></thead><tbody><tr><td>31304847</td><td>jingjing xiang</td><td>centre for reproduction and genetics, suzhou municipal hospital, suzhou, jiangsu province, china.</td><td>0009-0003-7622-3382</td></tr><tr><td>31304847</td><td>jingjing xiang</td><td>centre for reproduction and genetics, the affiliated suzhou hospital of nanjing medical university, suzhou, jiangsu province, china.</td><td>0009-0003-7622-3382</td></tr></tbody></table></div>"
      ]
     },
     "metadata": {
      "application/vnd.databricks.v1+output": {
       "addedWidgets": {},
       "aggData": [],
       "aggError": "",
       "aggOverflow": false,
       "aggSchema": [],
       "aggSeriesLimitReached": false,
       "aggType": "",
       "arguments": {},
       "columnCustomDisplayInfos": {},
       "data": [
        [
         "31304847",
         "jingjing xiang",
         "centre for reproduction and genetics, suzhou municipal hospital, suzhou, jiangsu province, china.",
         "0009-0003-7622-3382"
        ],
        [
         "31304847",
         "jingjing xiang",
         "centre for reproduction and genetics, the affiliated suzhou hospital of nanjing medical university, suzhou, jiangsu province, china.",
         "0009-0003-7622-3382"
        ]
       ],
       "datasetInfos": [
        {
         "name": "_sqldf",
         "schema": {
          "fields": [
           {
            "metadata": {},
            "name": "pmid",
            "nullable": true,
            "type": "string"
           },
           {
            "metadata": {},
            "name": "fullname",
            "nullable": true,
            "type": "string"
           },
           {
            "metadata": {},
            "name": "affiliation",
            "nullable": true,
            "type": "string"
           },
           {
            "metadata": {},
            "name": "orcid_api",
            "nullable": true,
            "type": "string"
           }
          ],
          "type": "struct"
         },
         "tableIdentifier": null,
         "typeStr": "pyspark.sql.dataframe.DataFrame"
        }
       ],
       "dbfsResultPath": null,
       "isJsonSchema": true,
       "metadata": {
        "createTempViewForImplicitDf": true,
        "dataframeName": "_sqldf",
        "executionCount": 10
       },
       "overflow": false,
       "plotOptions": {
        "customPlotOptions": {},
        "displayType": "table",
        "pivotAggregation": null,
        "pivotColumns": null,
        "xColumns": null,
        "yColumns": null
       },
       "removedWidgets": [],
       "schema": [
        {
         "metadata": "{}",
         "name": "pmid",
         "type": "\"string\""
        },
        {
         "metadata": "{}",
         "name": "fullname",
         "type": "\"string\""
        },
        {
         "metadata": "{}",
         "name": "affiliation",
         "type": "\"string\""
        },
        {
         "metadata": "{}",
         "name": "orcid_api",
         "type": "\"string\""
        }
       ],
       "type": "table"
      }
     },
     "output_type": "display_data"
    }
   ],
   "source": [
    "%sql\n",
    "--select fullname, count(1) from unirdat.pubmed_db.m_articulo_autor_orcid_api\n",
    "--group by fullname\n",
    "--having count(1) > 1;\n",
    "\n",
    "select * from unirdat.pubmed_db.m_articulo_autor_orcid_api\n",
    "where fullname = 'jingjing xiang'"
   ]
  },
  {
   "cell_type": "code",
   "execution_count": 0,
   "metadata": {
    "application/vnd.databricks.v1+cell": {
     "cellMetadata": {
      "byteLimit": 2048000,
      "implicitDf": true,
      "rowLimit": 10000
     },
     "inputWidgets": {},
     "nuid": "d02bf486-5c93-47de-8504-70f1dd8c4d90",
     "showTitle": false,
     "tableResultSettingsMap": {},
     "title": ""
    }
   },
   "outputs": [],
   "source": [
    "%sql\n",
    "drop table unirdat.pubmed_db.m_autor"
   ]
  },
  {
   "cell_type": "code",
   "execution_count": 0,
   "metadata": {
    "application/vnd.databricks.v1+cell": {
     "cellMetadata": {
      "byteLimit": 2048000,
      "rowLimit": 10000
     },
     "inputWidgets": {},
     "nuid": "543e7941-92b5-4f6b-9516-232904c89122",
     "showTitle": false,
     "tableResultSettingsMap": {},
     "title": ""
    }
   },
   "outputs": [
    {
     "output_type": "stream",
     "name": "stdout",
     "output_type": "stream",
     "text": [
      "+------------+--------+----------------------------------------+-------------+--------------------------+------------------------------------------------------------------------------------------------------------------------------------------------+-------------------+----------------------------------------------------------------------------------------------------------------------------------------------------------------+-------------------+\n|pub_year_for|pmid    |fullname                                |fore         |last                      |affiliation                                                                                                                                     |orcid_final        |autor_concat                                                                                                                                                    |author_id          |\n+------------+--------+----------------------------------------+-------------+--------------------------+------------------------------------------------------------------------------------------------------------------------------------------------+-------------------+----------------------------------------------------------------------------------------------------------------------------------------------------------------+-------------------+\n|2020        |28648099|henrik nordahl                          |henrik       |nordahl                   |department of psychology, norwegian university of science and technology, trondheim, norway.                                                    |0000-0001-8502-5079|henrik nordahl|department of psychology, norwegian university of science and technology, trondheim, norway.                                                     |0000-0001-8502-5079|\n|2020        |28696827|sarah e shires                          |sarah e      |shires                    |skaggs school of pharmacy and pharmaceutical sciences, university of california san diego, la jolla, ca, usa.                                   |0000-0003-0897-366x|sarah e shires|skaggs school of pharmacy and pharmaceutical sciences, university of california san diego, la jolla, ca, usa.                                    |0000-0003-0897-366x|\n|2020        |29023328|philip r hayes                          |philip r     |hayes                     |department of sport, exercise and rehabilitation, northumbria university, newcastle upon tyne, united kingdom.                                  |0000-0002-4197-2848|philip r hayes|department of sport, exercise and rehabilitation, northumbria university, newcastle upon tyne, united kingdom.                                   |0000-0002-4197-2848|\n|2020        |29172954|emmanuel martin                         |emmanuel     |martin                    |integrative genomics and cell signaling laboratory, chemistry-biochemistry department, université du québec à montréal (uqam), montreal, canada.|0000-0003-3878-8633|emmanuel martin|integrative genomics and cell signaling laboratory, chemistry-biochemistry department, université du québec à montréal (uqam), montreal, canada.|0000-0003-3878-8633|\n|2020        |29188751|robert rottapel                         |robert       |rottapel                  |department of medical biophysics, university of toronto, toronto, ontario, canada.                                                              |0000-0002-6024-5558|robert rottapel|department of medical biophysics, university of toronto, toronto, ontario, canada.                                                              |0000-0002-6024-5558|\n|2020        |29254397|hyo-won kim                             |hyo-won      |kim                       |department of psychiatry, asan medical center, university of ulsan college of medicine, seoul, korea.                                           |0000-0002-8744-5138|hyo-won kim|department of psychiatry, asan medical center, university of ulsan college of medicine, seoul, korea.                                               |0000-0002-8744-5138|\n|2020        |29278920|mark d peterson                         |mark d       |peterson                  |department of physical medicine and rehabilitation, university of michigan, ann arbor, mi, usa.                                                 |0000-0002-9861-4275|mark d peterson|department of physical medicine and rehabilitation, university of michigan, ann arbor, mi, usa.                                                 |0000-0002-9861-4275|\n|2020        |29294823|t k logan                               |t k          |logan                     |university of kentucky, lexington, usa.                                                                                                         |0000-0001-5984-8573|t k logan|university of kentucky, lexington, usa.                                                                                                               |0000-0001-5984-8573|\n|2020        |29318375|qi wang                                 |qi           |wang                      |department of psychology, tufts university, 490 boston ave., medford, ma, 02155, usa. wangq227@mail.sysu.edu.cn.                                |0000-0002-3534-081x|qi wang|department of psychology, tufts university, 490 boston ave., medford, ma, 02155, usa. wangq227@mail.sysu.edu.cn.                                        |0000-0002-3534-081x|\n|2020        |29338335|carolyn smith-morris                    |carolyn      |smith-morris              |department of anthropology, southern methodist university, dallas, texas, united states.                                                        |0000-0002-2202-1588|carolyn smith-morris|department of anthropology, southern methodist university, dallas, texas, united states.                                                   |0000-0002-2202-1588|\n|2020        |29455593|andrew ruszkiewicz                      |andrew       |ruszkiewicz               |centre for cancer biology, sa pathology and university of south australia , adelaide, south australia, australia.                               |0000-0001-9052-4948|andrew ruszkiewicz|centre for cancer biology, sa pathology and university of south australia , adelaide, south australia, australia.                            |0000-0001-9052-4948|\n|2020        |29460144|thomas wolbers                          |thomas       |wolbers                   |aging and cognition research group, german center for neurodegenerative diseases (dzne), 39120, magdeburg, germany.                             |0000-0003-2943-8949|thomas wolbers|aging and cognition research group, german center for neurodegenerative diseases (dzne), 39120, magdeburg, germany.                              |0000-0003-2943-8949|\n|2020        |29571271|marc sampedro pilegaard                 |marc         |sampedro pilegaard        |odense patient data explorative network, odense university hospital, university of southern denmark, odense c, denmark.                         |0000-0001-6362-410x|marc sampedro pilegaard|odense patient data explorative network, odense university hospital, university of southern denmark, odense c, denmark.                 |0000-0001-6362-410x|\n|2020        |29590493|nancy l pedersen                        |nancy l      |pedersen                  |department of medical epidemiology and biostatistics, karolinska institutet, stockholm, sweden.                                                 |0000-0001-8057-3543|nancy l pedersen|department of medical epidemiology and biostatistics, karolinska institutet, stockholm, sweden.                                                |0000-0001-8057-3543|\n|2020        |29629637|lauren rumble                           |lauren       |rumble                    |united nations children's fund, jakarta, indonesia.                                                                                             |0000-0001-6263-1607|lauren rumble|united nations children's fund, jakarta, indonesia.                                                                                               |0000-0001-6263-1607|\n|2020        |29697306|seung-cheol hong                        |seung-cheol  |hong                      |department of occupational health & safety engineering, inje university, korea.                                                                 |0000-0002-9523-6344|seung-cheol hong|department of occupational health & safety engineering, inje university, korea.                                                                |0000-0002-9523-6344|\n|2020        |29714637|chan sik park                           |chan sik     |park                      |department of architectural engineering, chung ang university, south korea.                                                                     |0000-0003-2256-300x|chan sik park|department of architectural engineering, chung ang university, south korea.                                                                       |0000-0003-2256-300x|\n|2020        |29724123|bharath kumar tirupakuzhi vijayaraghavan|bharath kumar|tirupakuzhi vijayaraghavan|sunnybrook health sciences centre, toronto, ontario, canada.                                                                                    |0000-0002-1801-0667|bharath kumar tirupakuzhi vijayaraghavan|sunnybrook health sciences centre, toronto, ontario, canada.                                                           |0000-0002-1801-0667|\n|2020        |29756536|georgia z niolaki                       |georgia z    |niolaki                   |institute of education, university college london, london, uk.                                                                                  |0000-0002-1825-141x|georgia z niolaki|institute of education, university college london, london, uk.                                                                                |0000-0002-1825-141x|\n|2020        |29856266|filippo maselli                         |filippo      |maselli                   |dinogmi department, genova university, genova, italy.                                                                                           |0000-0001-9683-9975|filippo maselli|dinogmi department, genova university, genova, italy.                                                                                           |0000-0001-9683-9975|\n+------------+--------+----------------------------------------+-------------+--------------------------+------------------------------------------------------------------------------------------------------------------------------------------------+-------------------+----------------------------------------------------------------------------------------------------------------------------------------------------------------+-------------------+\nonly showing top 20 rows\n"
     ]
    }
   ],
   "source": [
    "\n",
    "# adjuntar un valor \n",
    "from pyspark.sql.functions import concat_ws, lower, trim, sha2, col, when\n",
    "\n",
    "# 1️⃣ Normaliza y concatena los campos clave\n",
    "df_autor =spark.table(\"default.pubmed_art_autor_aff\")\n",
    "df_autor_id = df_autor.withColumn(\n",
    "    \"autor_concat\",\n",
    "    concat_ws(\n",
    "        \"|\",\n",
    "        lower(trim(col(\"fullname\"))),\n",
    "        lower(trim(when(col(\"affiliation\").isNotNull(), col(\"affiliation\")).otherwise(\"\")))\n",
    "        \n",
    "    )\n",
    ")\n",
    "\n",
    "# 2️⃣ Genera el hash SHA-256\n",
    "df_con_hash = df_autor_id .withColumn(\n",
    "    \"author_id\",\n",
    "    sha2(col(\"autor_concat\"), 256)\n",
    ")\n",
    "\n",
    "# 3️⃣ Prioriza ORCID si existe, si no usa el hash\n",
    "df_final = df_con_hash.withColumn(\n",
    "    \"author_id\",\n",
    "    when(\n",
    "        col(\"orcid_final\").isNotNull() & (trim(col(\"orcid_final\")) != \"\"),\n",
    "        col(\"orcid_final\")\n",
    "    ).otherwise(col(\"author_id\"))\n",
    ")\n",
    "#.drop(\"autor_concat\", \"author_id_sintetico\")\n",
    "\n",
    "df_final.write.mode(\"overwrite\").format(\"delta\").option(\"mergeSchema\", \"true\").saveAsTable(\"default.pubmed_art_autor_aff\")\n",
    "\n",
    "df_autor = df_final.select(\n",
    "    \"author_id\",\n",
    "    \"fullname\",\n",
    "    \"fore\",\n",
    "    \"last\",\n",
    "    col(\"orcid_final\").alias(\"orcid\"),\n",
    "\n",
    ").distinct()\n",
    "\n",
    "\n",
    "df_autor.write.mode(\"overwrite\").format(\"delta\").saveAsTable(\"unirdat.pubmed_db.m_autor\")\n",
    "\n",
    "df_final.show(truncate=False)"
   ]
  },
  {
   "cell_type": "code",
   "execution_count": 0,
   "metadata": {
    "application/vnd.databricks.v1+cell": {
     "cellMetadata": {
      "byteLimit": 2048000,
      "implicitDf": true,
      "rowLimit": 10000
     },
     "inputWidgets": {},
     "nuid": "2d22efd2-58d3-4e9f-9807-37d2a0759fb3",
     "showTitle": false,
     "tableResultSettingsMap": {
      "0": {
       "dataGridStateBlob": "{\"version\":1,\"tableState\":{\"columnPinning\":{\"left\":[\"#row_number#\"],\"right\":[]},\"columnSizing\":{},\"columnVisibility\":{}},\"settings\":{\"columns\":{}},\"syncTimestamp\":1752353859112}",
       "filterBlob": null,
       "queryPlanFiltersBlob": null,
       "tableResultIndex": 0
      }
     },
     "title": ""
    }
   },
   "outputs": [
    {
     "output_type": "display_data",
     "data": {
      "text/html": [
       "<style scoped>\n",
       "  .table-result-container {\n",
       "    max-height: 300px;\n",
       "    overflow: auto;\n",
       "  }\n",
       "  table, th, td {\n",
       "    border: 1px solid black;\n",
       "    border-collapse: collapse;\n",
       "  }\n",
       "  th, td {\n",
       "    padding: 5px;\n",
       "  }\n",
       "  th {\n",
       "    text-align: left;\n",
       "  }\n",
       "</style><div class='table-result-container'><table class='table-result'><thead style='background-color: white'><tr><th>count(1)</th></tr></thead><tbody><tr><td>0</td></tr></tbody></table></div>"
      ]
     },
     "metadata": {
      "application/vnd.databricks.v1+output": {
       "addedWidgets": {},
       "aggData": [],
       "aggError": "",
       "aggOverflow": false,
       "aggSchema": [],
       "aggSeriesLimitReached": false,
       "aggType": "",
       "arguments": {},
       "columnCustomDisplayInfos": {},
       "data": [
        [
         0
        ]
       ],
       "datasetInfos": [
        {
         "name": "_sqldf",
         "schema": {
          "fields": [
           {
            "metadata": {
             "__autoGeneratedAlias": "true"
            },
            "name": "count(1)",
            "nullable": false,
            "type": "long"
           }
          ],
          "type": "struct"
         },
         "tableIdentifier": null,
         "typeStr": "pyspark.sql.dataframe.DataFrame"
        }
       ],
       "dbfsResultPath": null,
       "isJsonSchema": true,
       "metadata": {
        "createTempViewForImplicitDf": true,
        "dataframeName": "_sqldf",
        "executionCount": 22
       },
       "overflow": false,
       "plotOptions": {
        "customPlotOptions": {},
        "displayType": "table",
        "pivotAggregation": null,
        "pivotColumns": null,
        "xColumns": null,
        "yColumns": null
       },
       "removedWidgets": [],
       "schema": [
        {
         "metadata": "{\"__autoGeneratedAlias\":\"true\"}",
         "name": "count(1)",
         "type": "\"long\""
        }
       ],
       "type": "table"
      }
     },
     "output_type": "display_data"
    }
   ],
   "source": [
    "%sql\n",
    "--select *\n",
    "--from \n",
    "--( \n",
    "   select count(1) from  default.pubmed_art_autor_aff\n",
    "   where orcid_final is not null  and author_id <> orcid_final\n",
    "-----)\n",
    "--where t < 25"
   ]
  },
  {
   "cell_type": "code",
   "execution_count": 0,
   "metadata": {
    "application/vnd.databricks.v1+cell": {
     "cellMetadata": {
      "byteLimit": 2048000,
      "rowLimit": 10000
     },
     "inputWidgets": {},
     "nuid": "f174f76e-4564-4c5b-b1ba-28e8c4666e2c",
     "showTitle": false,
     "tableResultSettingsMap": {},
     "title": ""
    }
   },
   "outputs": [
    {
     "output_type": "stream",
     "name": "stdout",
     "output_type": "stream",
     "text": [
      "+------------+--------+----------------------------------------+-------------+--------------------------+------------------------------------------------------------------------------------------------------------------------------------------------+-------------------+----------------------------------------------------------------------------------------------------------------------------------------------------------------+-------------------+\n|pub_year_for|pmid    |fullname                                |fore         |last                      |affiliation                                                                                                                                     |orcid_final        |autor_concat                                                                                                                                                    |author_id          |\n+------------+--------+----------------------------------------+-------------+--------------------------+------------------------------------------------------------------------------------------------------------------------------------------------+-------------------+----------------------------------------------------------------------------------------------------------------------------------------------------------------+-------------------+\n|2020        |28648099|henrik nordahl                          |henrik       |nordahl                   |department of psychology, norwegian university of science and technology, trondheim, norway.                                                    |0000-0001-8502-5079|henrik nordahl|department of psychology, norwegian university of science and technology, trondheim, norway.                                                     |0000-0001-8502-5079|\n|2020        |28696827|sarah e shires                          |sarah e      |shires                    |skaggs school of pharmacy and pharmaceutical sciences, university of california san diego, la jolla, ca, usa.                                   |0000-0003-0897-366x|sarah e shires|skaggs school of pharmacy and pharmaceutical sciences, university of california san diego, la jolla, ca, usa.                                    |0000-0003-0897-366x|\n|2020        |29023328|philip r hayes                          |philip r     |hayes                     |department of sport, exercise and rehabilitation, northumbria university, newcastle upon tyne, united kingdom.                                  |0000-0002-4197-2848|philip r hayes|department of sport, exercise and rehabilitation, northumbria university, newcastle upon tyne, united kingdom.                                   |0000-0002-4197-2848|\n|2020        |29172954|emmanuel martin                         |emmanuel     |martin                    |integrative genomics and cell signaling laboratory, chemistry-biochemistry department, université du québec à montréal (uqam), montreal, canada.|0000-0003-3878-8633|emmanuel martin|integrative genomics and cell signaling laboratory, chemistry-biochemistry department, université du québec à montréal (uqam), montreal, canada.|0000-0003-3878-8633|\n|2020        |29188751|robert rottapel                         |robert       |rottapel                  |department of medical biophysics, university of toronto, toronto, ontario, canada.                                                              |0000-0002-6024-5558|robert rottapel|department of medical biophysics, university of toronto, toronto, ontario, canada.                                                              |0000-0002-6024-5558|\n|2020        |29254397|hyo-won kim                             |hyo-won      |kim                       |department of psychiatry, asan medical center, university of ulsan college of medicine, seoul, korea.                                           |0000-0002-8744-5138|hyo-won kim|department of psychiatry, asan medical center, university of ulsan college of medicine, seoul, korea.                                               |0000-0002-8744-5138|\n|2020        |29278920|mark d peterson                         |mark d       |peterson                  |department of physical medicine and rehabilitation, university of michigan, ann arbor, mi, usa.                                                 |0000-0002-9861-4275|mark d peterson|department of physical medicine and rehabilitation, university of michigan, ann arbor, mi, usa.                                                 |0000-0002-9861-4275|\n|2020        |29294823|t k logan                               |t k          |logan                     |university of kentucky, lexington, usa.                                                                                                         |0000-0001-5984-8573|t k logan|university of kentucky, lexington, usa.                                                                                                               |0000-0001-5984-8573|\n|2020        |29318375|qi wang                                 |qi           |wang                      |department of psychology, tufts university, 490 boston ave., medford, ma, 02155, usa. wangq227@mail.sysu.edu.cn.                                |0000-0002-3534-081x|qi wang|department of psychology, tufts university, 490 boston ave., medford, ma, 02155, usa. wangq227@mail.sysu.edu.cn.                                        |0000-0002-3534-081x|\n|2020        |29338335|carolyn smith-morris                    |carolyn      |smith-morris              |department of anthropology, southern methodist university, dallas, texas, united states.                                                        |0000-0002-2202-1588|carolyn smith-morris|department of anthropology, southern methodist university, dallas, texas, united states.                                                   |0000-0002-2202-1588|\n|2020        |29455593|andrew ruszkiewicz                      |andrew       |ruszkiewicz               |centre for cancer biology, sa pathology and university of south australia , adelaide, south australia, australia.                               |0000-0001-9052-4948|andrew ruszkiewicz|centre for cancer biology, sa pathology and university of south australia , adelaide, south australia, australia.                            |0000-0001-9052-4948|\n|2020        |29460144|thomas wolbers                          |thomas       |wolbers                   |aging and cognition research group, german center for neurodegenerative diseases (dzne), 39120, magdeburg, germany.                             |0000-0003-2943-8949|thomas wolbers|aging and cognition research group, german center for neurodegenerative diseases (dzne), 39120, magdeburg, germany.                              |0000-0003-2943-8949|\n|2020        |29571271|marc sampedro pilegaard                 |marc         |sampedro pilegaard        |odense patient data explorative network, odense university hospital, university of southern denmark, odense c, denmark.                         |0000-0001-6362-410x|marc sampedro pilegaard|odense patient data explorative network, odense university hospital, university of southern denmark, odense c, denmark.                 |0000-0001-6362-410x|\n|2020        |29590493|nancy l pedersen                        |nancy l      |pedersen                  |department of medical epidemiology and biostatistics, karolinska institutet, stockholm, sweden.                                                 |0000-0001-8057-3543|nancy l pedersen|department of medical epidemiology and biostatistics, karolinska institutet, stockholm, sweden.                                                |0000-0001-8057-3543|\n|2020        |29629637|lauren rumble                           |lauren       |rumble                    |united nations children's fund, jakarta, indonesia.                                                                                             |0000-0001-6263-1607|lauren rumble|united nations children's fund, jakarta, indonesia.                                                                                               |0000-0001-6263-1607|\n|2020        |29697306|seung-cheol hong                        |seung-cheol  |hong                      |department of occupational health & safety engineering, inje university, korea.                                                                 |0000-0002-9523-6344|seung-cheol hong|department of occupational health & safety engineering, inje university, korea.                                                                |0000-0002-9523-6344|\n|2020        |29714637|chan sik park                           |chan sik     |park                      |department of architectural engineering, chung ang university, south korea.                                                                     |0000-0003-2256-300x|chan sik park|department of architectural engineering, chung ang university, south korea.                                                                       |0000-0003-2256-300x|\n|2020        |29724123|bharath kumar tirupakuzhi vijayaraghavan|bharath kumar|tirupakuzhi vijayaraghavan|sunnybrook health sciences centre, toronto, ontario, canada.                                                                                    |0000-0002-1801-0667|bharath kumar tirupakuzhi vijayaraghavan|sunnybrook health sciences centre, toronto, ontario, canada.                                                           |0000-0002-1801-0667|\n|2020        |29756536|georgia z niolaki                       |georgia z    |niolaki                   |institute of education, university college london, london, uk.                                                                                  |0000-0002-1825-141x|georgia z niolaki|institute of education, university college london, london, uk.                                                                                |0000-0002-1825-141x|\n|2020        |29856266|filippo maselli                         |filippo      |maselli                   |dinogmi department, genova university, genova, italy.                                                                                           |0000-0001-9683-9975|filippo maselli|dinogmi department, genova university, genova, italy.                                                                                           |0000-0001-9683-9975|\n+------------+--------+----------------------------------------+-------------+--------------------------+------------------------------------------------------------------------------------------------------------------------------------------------+-------------------+----------------------------------------------------------------------------------------------------------------------------------------------------------------+-------------------+\nonly showing top 20 rows\n"
     ]
    }
   ],
   "source": [
    "from pyspark.sql.functions import max\n",
    "\n",
    "df_autor_unico = df_autor.groupBy(\"author_id\").agg(\n",
    "    max(\"fullname\").alias(\"fullname\"),\n",
    "    max(\"fore\").alias(\"fore\"),\n",
    "    max(\"last\").alias(\"last\"),\n",
    "    max(\"orcid\").alias(\"orcid\")\n",
    ")\n",
    "\n",
    "\n",
    "df_autor_unico.write.mode(\"overwrite\").format(\"delta\").saveAsTable(\"unirdat.pubmed_db.m_autor\")\n",
    "\n",
    "df_final.show(truncate=False)"
   ]
  },
  {
   "cell_type": "code",
   "execution_count": 0,
   "metadata": {
    "application/vnd.databricks.v1+cell": {
     "cellMetadata": {
      "byteLimit": 2048000,
      "implicitDf": true,
      "rowLimit": 10000
     },
     "inputWidgets": {},
     "nuid": "0951878c-c0f9-4085-a455-91cb859d8ff0",
     "showTitle": false,
     "tableResultSettingsMap": {},
     "title": ""
    }
   },
   "outputs": [
    {
     "output_type": "display_data",
     "data": {
      "text/html": [
       "<style scoped>\n",
       "  .table-result-container {\n",
       "    max-height: 300px;\n",
       "    overflow: auto;\n",
       "  }\n",
       "  table, th, td {\n",
       "    border: 1px solid black;\n",
       "    border-collapse: collapse;\n",
       "  }\n",
       "  th, td {\n",
       "    padding: 5px;\n",
       "  }\n",
       "  th {\n",
       "    text-align: left;\n",
       "  }\n",
       "</style><div class='table-result-container'><table class='table-result'><thead style='background-color: white'><tr><th>orcid</th><th>count(1)</th></tr></thead><tbody></tbody></table></div>"
      ]
     },
     "metadata": {
      "application/vnd.databricks.v1+output": {
       "addedWidgets": {},
       "aggData": [],
       "aggError": "",
       "aggOverflow": false,
       "aggSchema": [],
       "aggSeriesLimitReached": false,
       "aggType": "",
       "arguments": {},
       "columnCustomDisplayInfos": {},
       "data": [],
       "datasetInfos": [
        {
         "name": "_sqldf",
         "schema": {
          "fields": [
           {
            "metadata": {},
            "name": "orcid",
            "nullable": true,
            "type": "string"
           },
           {
            "metadata": {
             "__autoGeneratedAlias": "true"
            },
            "name": "count(1)",
            "nullable": false,
            "type": "long"
           }
          ],
          "type": "struct"
         },
         "tableIdentifier": null,
         "typeStr": "pyspark.sql.dataframe.DataFrame"
        }
       ],
       "dbfsResultPath": null,
       "isJsonSchema": true,
       "metadata": {
        "createTempViewForImplicitDf": true,
        "dataframeName": "_sqldf",
        "executionCount": 45
       },
       "overflow": false,
       "plotOptions": {
        "customPlotOptions": {},
        "displayType": "table",
        "pivotAggregation": null,
        "pivotColumns": null,
        "xColumns": null,
        "yColumns": null
       },
       "removedWidgets": [],
       "schema": [
        {
         "metadata": "{}",
         "name": "orcid",
         "type": "\"string\""
        },
        {
         "metadata": "{\"__autoGeneratedAlias\":\"true\"}",
         "name": "count(1)",
         "type": "\"long\""
        }
       ],
       "type": "table"
      }
     },
     "output_type": "display_data"
    }
   ],
   "source": [
    "%sql\n",
    "select orcid, count(1) from unirdat.pubmed_db.m_autor\n",
    "where orcid is not null\n",
    "group by orcid\n",
    "having count(1) > 1"
   ]
  },
  {
   "cell_type": "code",
   "execution_count": 0,
   "metadata": {
    "application/vnd.databricks.v1+cell": {
     "cellMetadata": {
      "byteLimit": 2048000,
      "implicitDf": true,
      "rowLimit": 10000
     },
     "inputWidgets": {},
     "nuid": "00d234a8-f5ca-41ab-b15b-4dd3e77cc248",
     "showTitle": false,
     "tableResultSettingsMap": {
      "0": {
       "dataGridStateBlob": "{\"version\":1,\"tableState\":{\"columnPinning\":{\"left\":[\"#row_number#\"],\"right\":[]},\"columnSizing\":{\"orcid_final\":157},\"columnVisibility\":{}},\"settings\":{\"columns\":{}},\"syncTimestamp\":1752402541918}",
       "filterBlob": null,
       "queryPlanFiltersBlob": null,
       "tableResultIndex": 0
      }
     },
     "title": ""
    }
   },
   "outputs": [
    {
     "output_type": "display_data",
     "data": {
      "text/plain": [
       "com.databricks.backend.common.rpc.CommandCancelledException\n",
       "\tat com.databricks.spark.chauffeur.SequenceExecutionState.$anonfun$cancel$5(SequenceExecutionState.scala:132)\n",
       "\tat scala.Option.getOrElse(Option.scala:189)\n",
       "\tat com.databricks.spark.chauffeur.SequenceExecutionState.$anonfun$cancel$3(SequenceExecutionState.scala:132)\n",
       "\tat com.databricks.spark.chauffeur.SequenceExecutionState.$anonfun$cancel$3$adapted(SequenceExecutionState.scala:129)\n",
       "\tat scala.collection.immutable.Range.foreach(Range.scala:158)\n",
       "\tat com.databricks.spark.chauffeur.SequenceExecutionState.cancel(SequenceExecutionState.scala:129)\n",
       "\tat com.databricks.spark.chauffeur.ExecContextState.cancelRunningSequence(ExecContextState.scala:715)\n",
       "\tat com.databricks.spark.chauffeur.ExecContextState.$anonfun$cancel$1(ExecContextState.scala:435)\n",
       "\tat scala.Option.getOrElse(Option.scala:189)\n",
       "\tat com.databricks.spark.chauffeur.ExecContextState.cancel(ExecContextState.scala:435)\n",
       "\tat com.databricks.spark.chauffeur.ExecutionContextManagerV1.cancelExecution(ExecutionContextManagerV1.scala:473)\n",
       "\tat com.databricks.spark.chauffeur.ChauffeurState.$anonfun$process$1(ChauffeurState.scala:750)\n",
       "\tat com.databricks.logging.UsageLogging.$anonfun$recordOperation$1(UsageLogging.scala:510)\n",
       "\tat com.databricks.logging.UsageLogging.executeThunkAndCaptureResultTags$1(UsageLogging.scala:616)\n",
       "\tat com.databricks.logging.UsageLogging.$anonfun$recordOperationWithResultTags$4(UsageLogging.scala:643)\n",
       "\tat com.databricks.logging.AttributionContextTracing.$anonfun$withAttributionContext$1(AttributionContextTracing.scala:49)\n",
       "\tat com.databricks.logging.AttributionContext$.$anonfun$withValue$1(AttributionContext.scala:293)\n",
       "\tat scala.util.DynamicVariable.withValue(DynamicVariable.scala:62)\n",
       "\tat com.databricks.logging.AttributionContext$.withValue(AttributionContext.scala:289)\n",
       "\tat com.databricks.logging.AttributionContextTracing.withAttributionContext(AttributionContextTracing.scala:47)\n",
       "\tat com.databricks.logging.AttributionContextTracing.withAttributionContext$(AttributionContextTracing.scala:44)\n",
       "\tat com.databricks.spark.chauffeur.ChauffeurState.withAttributionContext(ChauffeurState.scala:84)\n",
       "\tat com.databricks.logging.AttributionContextTracing.withAttributionTags(AttributionContextTracing.scala:96)\n",
       "\tat com.databricks.logging.AttributionContextTracing.withAttributionTags$(AttributionContextTracing.scala:77)\n",
       "\tat com.databricks.spark.chauffeur.ChauffeurState.withAttributionTags(ChauffeurState.scala:84)\n",
       "\tat com.databricks.logging.UsageLogging.recordOperationWithResultTags(UsageLogging.scala:611)\n",
       "\tat com.databricks.logging.UsageLogging.recordOperationWithResultTags$(UsageLogging.scala:519)\n",
       "\tat com.databricks.spark.chauffeur.ChauffeurState.recordOperationWithResultTags(ChauffeurState.scala:84)\n",
       "\tat com.databricks.logging.UsageLogging.recordOperation(UsageLogging.scala:511)\n",
       "\tat com.databricks.logging.UsageLogging.recordOperation$(UsageLogging.scala:475)\n",
       "\tat com.databricks.spark.chauffeur.ChauffeurState.recordOperation(ChauffeurState.scala:84)\n",
       "\tat com.databricks.spark.chauffeur.ChauffeurState.process(ChauffeurState.scala:728)\n",
       "\tat com.databricks.spark.chauffeur.Chauffeur$$anon$1$$anonfun$receive$1.handleDriverRequest$1(Chauffeur.scala:911)\n",
       "\tat com.databricks.spark.chauffeur.Chauffeur$$anon$1$$anonfun$receive$1.$anonfun$applyOrElse$4(Chauffeur.scala:937)\n",
       "\tat com.databricks.logging.UsageLogging.executeThunkAndCaptureResultTags$1(UsageLogging.scala:616)\n",
       "\tat com.databricks.logging.UsageLogging.$anonfun$recordOperationWithResultTags$4(UsageLogging.scala:643)\n",
       "\tat com.databricks.logging.AttributionContextTracing.$anonfun$withAttributionContext$1(AttributionContextTracing.scala:49)\n",
       "\tat com.databricks.logging.AttributionContext$.$anonfun$withValue$1(AttributionContext.scala:293)\n",
       "\tat scala.util.DynamicVariable.withValue(DynamicVariable.scala:62)\n",
       "\tat com.databricks.logging.AttributionContext$.withValue(AttributionContext.scala:289)\n",
       "\tat com.databricks.logging.AttributionContextTracing.withAttributionContext(AttributionContextTracing.scala:47)\n",
       "\tat com.databricks.logging.AttributionContextTracing.withAttributionContext$(AttributionContextTracing.scala:44)\n",
       "\tat com.databricks.rpc.ServerBackend.withAttributionContext(ServerBackend.scala:22)\n",
       "\tat com.databricks.logging.AttributionContextTracing.withAttributionTags(AttributionContextTracing.scala:96)\n",
       "\tat com.databricks.logging.AttributionContextTracing.withAttributionTags$(AttributionContextTracing.scala:77)\n",
       "\tat com.databricks.rpc.ServerBackend.withAttributionTags(ServerBackend.scala:22)\n",
       "\tat com.databricks.logging.UsageLogging.recordOperationWithResultTags(UsageLogging.scala:611)\n",
       "\tat com.databricks.logging.UsageLogging.recordOperationWithResultTags$(UsageLogging.scala:519)\n",
       "\tat com.databricks.rpc.ServerBackend.recordOperationWithResultTags(ServerBackend.scala:22)\n",
       "\tat com.databricks.spark.chauffeur.Chauffeur$$anon$1$$anonfun$receive$1.handleDriverRequestWithUsageLogging$1(Chauffeur.scala:936)\n",
       "\tat com.databricks.spark.chauffeur.Chauffeur$$anon$1$$anonfun$receive$1.applyOrElse(Chauffeur.scala:991)\n",
       "\tat com.databricks.spark.chauffeur.Chauffeur$$anon$1$$anonfun$receive$1.applyOrElse(Chauffeur.scala:776)\n",
       "\tat com.databricks.rpc.ServerBackend.$anonfun$internalReceive0$2(ServerBackend.scala:174)\n",
       "\tat com.databricks.rpc.ServerBackend$$anonfun$commonReceive$1.applyOrElse(ServerBackend.scala:200)\n",
       "\tat com.databricks.rpc.ServerBackend$$anonfun$commonReceive$1.applyOrElse(ServerBackend.scala:200)\n",
       "\tat com.databricks.rpc.ServerBackend.internalReceive0(ServerBackend.scala:171)\n",
       "\tat com.databricks.rpc.ServerBackend.$anonfun$internalReceive$1(ServerBackend.scala:147)\n",
       "\tat com.databricks.logging.UsageLogging.$anonfun$recordOperation$1(UsageLogging.scala:510)\n",
       "\tat com.databricks.logging.UsageLogging.executeThunkAndCaptureResultTags$1(UsageLogging.scala:616)\n",
       "\tat com.databricks.logging.UsageLogging.$anonfun$recordOperationWithResultTags$4(UsageLogging.scala:643)\n",
       "\tat com.databricks.logging.AttributionContextTracing.$anonfun$withAttributionContext$1(AttributionContextTracing.scala:49)\n",
       "\tat com.databricks.logging.AttributionContext$.$anonfun$withValue$1(AttributionContext.scala:293)\n",
       "\tat scala.util.DynamicVariable.withValue(DynamicVariable.scala:62)\n",
       "\tat com.databricks.logging.AttributionContext$.withValue(AttributionContext.scala:289)\n",
       "\tat com.databricks.logging.AttributionContextTracing.withAttributionContext(AttributionContextTracing.scala:47)\n",
       "\tat com.databricks.logging.AttributionContextTracing.withAttributionContext$(AttributionContextTracing.scala:44)\n",
       "\tat com.databricks.rpc.ServerBackend.withAttributionContext(ServerBackend.scala:22)\n",
       "\tat com.databricks.logging.AttributionContextTracing.withAttributionTags(AttributionContextTracing.scala:96)\n",
       "\tat com.databricks.logging.AttributionContextTracing.withAttributionTags$(AttributionContextTracing.scala:77)\n",
       "\tat com.databricks.rpc.ServerBackend.withAttributionTags(ServerBackend.scala:22)\n",
       "\tat com.databricks.logging.UsageLogging.recordOperationWithResultTags(UsageLogging.scala:611)\n",
       "\tat com.databricks.logging.UsageLogging.recordOperationWithResultTags$(UsageLogging.scala:519)\n",
       "\tat com.databricks.rpc.ServerBackend.recordOperationWithResultTags(ServerBackend.scala:22)\n",
       "\tat com.databricks.logging.UsageLogging.recordOperation(UsageLogging.scala:511)\n",
       "\tat com.databricks.logging.UsageLogging.recordOperation$(UsageLogging.scala:475)\n",
       "\tat com.databricks.rpc.ServerBackend.recordOperation(ServerBackend.scala:22)\n",
       "\tat com.databricks.rpc.ServerBackend.internalReceive(ServerBackend.scala:146)\n",
       "\tat com.databricks.rpc.JettyServer$RequestManager.handleRPC(JettyServer.scala:1033)\n",
       "\tat com.databricks.rpc.JettyServer$RequestManager.handleRequestAndRespond(JettyServer.scala:953)\n",
       "\tat com.databricks.rpc.JettyServer$RequestManager.$anonfun$handleHttp$5(JettyServer.scala:548)\n",
       "\tat com.databricks.rpc.JettyServer$RequestManager.$anonfun$handleHttp$5$adapted(JettyServer.scala:513)\n",
       "\tat com.databricks.logging.activity.ActivityContextFactory$.$anonfun$withActivityInternal$13(ActivityContextFactory.scala:831)\n",
       "\tat com.databricks.logging.AttributionContextTracing.$anonfun$withAttributionContext$1(AttributionContextTracing.scala:49)\n",
       "\tat com.databricks.logging.AttributionContext$.$anonfun$withValue$1(AttributionContext.scala:293)\n",
       "\tat scala.util.DynamicVariable.withValue(DynamicVariable.scala:62)\n",
       "\tat com.databricks.logging.AttributionContext$.withValue(AttributionContext.scala:289)\n",
       "\tat com.databricks.logging.AttributionContextTracing.withAttributionContext(AttributionContextTracing.scala:47)\n",
       "\tat com.databricks.logging.AttributionContextTracing.withAttributionContext$(AttributionContextTracing.scala:44)\n",
       "\tat com.databricks.logging.activity.ActivityContextFactory$.withAttributionContext(ActivityContextFactory.scala:53)\n",
       "\tat com.databricks.logging.activity.ActivityContextFactory$.$anonfun$withActivityInternal$3(ActivityContextFactory.scala:831)\n",
       "\tat com.databricks.context.integrity.IntegrityCheckContext$ThreadLocalStorage$.withValue(IntegrityCheckContext.scala:73)\n",
       "\tat com.databricks.logging.activity.ActivityContextFactory$.withActivityInternal(ActivityContextFactory.scala:794)\n",
       "\tat com.databricks.logging.activity.ActivityContextFactory$.withActivityInternal(ActivityContextFactory.scala:776)\n",
       "\tat com.databricks.logging.activity.ActivityContextFactory$.$anonfun$withServiceRequestActivity$15(ActivityContextFactory.scala:285)\n",
       "\tat com.databricks.logging.AttributionContextTracing.$anonfun$withAttributionContext$1(AttributionContextTracing.scala:49)\n",
       "\tat com.databricks.logging.AttributionContext$.$anonfun$withValue$1(AttributionContext.scala:293)\n",
       "\tat scala.util.DynamicVariable.withValue(DynamicVariable.scala:62)\n",
       "\tat com.databricks.logging.AttributionContext$.withValue(AttributionContext.scala:289)\n",
       "\tat com.databricks.logging.AttributionContextTracing.withAttributionContext(AttributionContextTracing.scala:47)\n",
       "\tat com.databricks.logging.AttributionContextTracing.withAttributionContext$(AttributionContextTracing.scala:44)\n",
       "\tat com.databricks.logging.activity.ActivityContextFactory$.withAttributionContext(ActivityContextFactory.scala:53)\n",
       "\tat com.databricks.logging.activity.ActivityContextFactory$.withServiceRequestActivity(ActivityContextFactory.scala:285)\n",
       "\tat com.databricks.rpc.JettyServer$RequestManager.handleHttp(JettyServer.scala:513)\n",
       "\tat com.databricks.rpc.JettyServer$RequestManager.doPost(JettyServer.scala:408)\n",
       "\tat javax.servlet.http.HttpServlet.service(HttpServlet.java:665)\n",
       "\tat com.databricks.rpc.HttpServletWithPatch.service(HttpServletWithPatch.scala:33)\n",
       "\tat javax.servlet.http.HttpServlet.service(HttpServlet.java:750)\n",
       "\tat org.eclipse.jetty.servlet.ServletHolder.handle(ServletHolder.java:799)\n",
       "\tat org.eclipse.jetty.servlet.ServletHandler.doHandle(ServletHandler.java:554)\n",
       "\tat org.eclipse.jetty.server.handler.ScopedHandler.nextScope(ScopedHandler.java:190)\n",
       "\tat org.eclipse.jetty.servlet.ServletHandler.doScope(ServletHandler.java:505)\n",
       "\tat org.eclipse.jetty.server.handler.ScopedHandler.handle(ScopedHandler.java:141)\n",
       "\tat org.eclipse.jetty.server.handler.HandlerWrapper.handle(HandlerWrapper.java:127)\n",
       "\tat org.eclipse.jetty.server.Server.handle(Server.java:516)\n",
       "\tat org.eclipse.jetty.server.HttpChannel.lambda$handle$1(HttpChannel.java:487)\n",
       "\tat org.eclipse.jetty.server.HttpChannel.dispatch(HttpChannel.java:732)\n",
       "\tat org.eclipse.jetty.server.HttpChannel.handle(HttpChannel.java:479)\n",
       "\tat org.eclipse.jetty.server.HttpConnection.onFillable(HttpConnection.java:277)\n",
       "\tat org.eclipse.jetty.io.AbstractConnection$ReadCallback.succeeded(AbstractConnection.java:311)\n",
       "\tat org.eclipse.jetty.io.FillInterest.fillable(FillInterest.java:105)\n",
       "\tat org.eclipse.jetty.io.ssl.SslConnection$DecryptedEndPoint.onFillable(SslConnection.java:555)\n",
       "\tat org.eclipse.jetty.io.ssl.SslConnection.onFillable(SslConnection.java:410)\n",
       "\tat org.eclipse.jetty.io.ssl.SslConnection$2.succeeded(SslConnection.java:164)\n",
       "\tat org.eclipse.jetty.io.FillInterest.fillable(FillInterest.java:105)\n",
       "\tat org.eclipse.jetty.io.ChannelEndPoint$1.run(ChannelEndPoint.java:104)\n",
       "\tat org.eclipse.jetty.util.thread.strategy.EatWhatYouKill.runTask(EatWhatYouKill.java:338)\n",
       "\tat org.eclipse.jetty.util.thread.strategy.EatWhatYouKill.doProduce(EatWhatYouKill.java:315)\n",
       "\tat org.eclipse.jetty.util.thread.strategy.EatWhatYouKill.tryProduce(EatWhatYouKill.java:173)\n",
       "\tat org.eclipse.jetty.util.thread.strategy.EatWhatYouKill.run(EatWhatYouKill.java:131)\n",
       "\tat org.eclipse.jetty.util.thread.ReservedThreadExecutor$ReservedThread.run(ReservedThreadExecutor.java:409)\n",
       "\tat com.databricks.rpc.InstrumentedQueuedThreadPool$$anon$1.$anonfun$run$2(InstrumentedQueuedThreadPool.scala:110)\n",
       "\tat scala.runtime.java8.JFunction0$mcV$sp.apply(JFunction0$mcV$sp.java:23)\n",
       "\tat com.databricks.logging.AttributionContextTracing.$anonfun$withAttributionContext$1(AttributionContextTracing.scala:49)\n",
       "\tat com.databricks.logging.AttributionContext$.$anonfun$withValue$1(AttributionContext.scala:293)\n",
       "\tat scala.util.DynamicVariable.withValue(DynamicVariable.scala:62)\n",
       "\tat com.databricks.logging.AttributionContext$.withValue(AttributionContext.scala:289)\n",
       "\tat com.databricks.logging.AttributionContextTracing.withAttributionContext(AttributionContextTracing.scala:47)\n",
       "\tat com.databricks.logging.AttributionContextTracing.withAttributionContext$(AttributionContextTracing.scala:44)\n",
       "\tat com.databricks.rpc.InstrumentedQueuedThreadPool.withAttributionContext(InstrumentedQueuedThreadPool.scala:45)\n",
       "\tat com.databricks.rpc.InstrumentedQueuedThreadPool$$anon$1.$anonfun$run$1(InstrumentedQueuedThreadPool.scala:110)\n",
       "\tat scala.runtime.java8.JFunction0$mcV$sp.apply(JFunction0$mcV$sp.java:23)\n",
       "\tat com.databricks.instrumentation.QueuedThreadPoolInstrumenter.trackActiveThreads(QueuedThreadPoolInstrumenter.scala:132)\n",
       "\tat com.databricks.instrumentation.QueuedThreadPoolInstrumenter.trackActiveThreads$(QueuedThreadPoolInstrumenter.scala:129)\n",
       "\tat com.databricks.rpc.InstrumentedQueuedThreadPool.trackActiveThreads(InstrumentedQueuedThreadPool.scala:45)\n",
       "\tat com.databricks.rpc.InstrumentedQueuedThreadPool$$anon$1.run(InstrumentedQueuedThreadPool.scala:92)\n",
       "\tat org.eclipse.jetty.util.thread.QueuedThreadPool.runJob(QueuedThreadPool.java:883)\n",
       "\tat org.eclipse.jetty.util.thread.QueuedThreadPool$Runner.run(QueuedThreadPool.java:1034)\n",
       "\tat java.base/java.lang.Thread.run(Thread.java:840)"
      ]
     },
     "metadata": {
      "application/vnd.databricks.v1+output": {
       "addedWidgets": {},
       "arguments": {},
       "datasetInfos": [],
       "jupyterProps": null,
       "metadata": {
        "errorSummary": "Cancelled"
       },
       "removedWidgets": [],
       "sqlProps": null,
       "stackFrames": [
        "com.databricks.backend.common.rpc.CommandCancelledException",
        "\tat com.databricks.spark.chauffeur.SequenceExecutionState.$anonfun$cancel$5(SequenceExecutionState.scala:132)",
        "\tat scala.Option.getOrElse(Option.scala:189)",
        "\tat com.databricks.spark.chauffeur.SequenceExecutionState.$anonfun$cancel$3(SequenceExecutionState.scala:132)",
        "\tat com.databricks.spark.chauffeur.SequenceExecutionState.$anonfun$cancel$3$adapted(SequenceExecutionState.scala:129)",
        "\tat scala.collection.immutable.Range.foreach(Range.scala:158)",
        "\tat com.databricks.spark.chauffeur.SequenceExecutionState.cancel(SequenceExecutionState.scala:129)",
        "\tat com.databricks.spark.chauffeur.ExecContextState.cancelRunningSequence(ExecContextState.scala:715)",
        "\tat com.databricks.spark.chauffeur.ExecContextState.$anonfun$cancel$1(ExecContextState.scala:435)",
        "\tat scala.Option.getOrElse(Option.scala:189)",
        "\tat com.databricks.spark.chauffeur.ExecContextState.cancel(ExecContextState.scala:435)",
        "\tat com.databricks.spark.chauffeur.ExecutionContextManagerV1.cancelExecution(ExecutionContextManagerV1.scala:473)",
        "\tat com.databricks.spark.chauffeur.ChauffeurState.$anonfun$process$1(ChauffeurState.scala:750)",
        "\tat com.databricks.logging.UsageLogging.$anonfun$recordOperation$1(UsageLogging.scala:510)",
        "\tat com.databricks.logging.UsageLogging.executeThunkAndCaptureResultTags$1(UsageLogging.scala:616)",
        "\tat com.databricks.logging.UsageLogging.$anonfun$recordOperationWithResultTags$4(UsageLogging.scala:643)",
        "\tat com.databricks.logging.AttributionContextTracing.$anonfun$withAttributionContext$1(AttributionContextTracing.scala:49)",
        "\tat com.databricks.logging.AttributionContext$.$anonfun$withValue$1(AttributionContext.scala:293)",
        "\tat scala.util.DynamicVariable.withValue(DynamicVariable.scala:62)",
        "\tat com.databricks.logging.AttributionContext$.withValue(AttributionContext.scala:289)",
        "\tat com.databricks.logging.AttributionContextTracing.withAttributionContext(AttributionContextTracing.scala:47)",
        "\tat com.databricks.logging.AttributionContextTracing.withAttributionContext$(AttributionContextTracing.scala:44)",
        "\tat com.databricks.spark.chauffeur.ChauffeurState.withAttributionContext(ChauffeurState.scala:84)",
        "\tat com.databricks.logging.AttributionContextTracing.withAttributionTags(AttributionContextTracing.scala:96)",
        "\tat com.databricks.logging.AttributionContextTracing.withAttributionTags$(AttributionContextTracing.scala:77)",
        "\tat com.databricks.spark.chauffeur.ChauffeurState.withAttributionTags(ChauffeurState.scala:84)",
        "\tat com.databricks.logging.UsageLogging.recordOperationWithResultTags(UsageLogging.scala:611)",
        "\tat com.databricks.logging.UsageLogging.recordOperationWithResultTags$(UsageLogging.scala:519)",
        "\tat com.databricks.spark.chauffeur.ChauffeurState.recordOperationWithResultTags(ChauffeurState.scala:84)",
        "\tat com.databricks.logging.UsageLogging.recordOperation(UsageLogging.scala:511)",
        "\tat com.databricks.logging.UsageLogging.recordOperation$(UsageLogging.scala:475)",
        "\tat com.databricks.spark.chauffeur.ChauffeurState.recordOperation(ChauffeurState.scala:84)",
        "\tat com.databricks.spark.chauffeur.ChauffeurState.process(ChauffeurState.scala:728)",
        "\tat com.databricks.spark.chauffeur.Chauffeur$$anon$1$$anonfun$receive$1.handleDriverRequest$1(Chauffeur.scala:911)",
        "\tat com.databricks.spark.chauffeur.Chauffeur$$anon$1$$anonfun$receive$1.$anonfun$applyOrElse$4(Chauffeur.scala:937)",
        "\tat com.databricks.logging.UsageLogging.executeThunkAndCaptureResultTags$1(UsageLogging.scala:616)",
        "\tat com.databricks.logging.UsageLogging.$anonfun$recordOperationWithResultTags$4(UsageLogging.scala:643)",
        "\tat com.databricks.logging.AttributionContextTracing.$anonfun$withAttributionContext$1(AttributionContextTracing.scala:49)",
        "\tat com.databricks.logging.AttributionContext$.$anonfun$withValue$1(AttributionContext.scala:293)",
        "\tat scala.util.DynamicVariable.withValue(DynamicVariable.scala:62)",
        "\tat com.databricks.logging.AttributionContext$.withValue(AttributionContext.scala:289)",
        "\tat com.databricks.logging.AttributionContextTracing.withAttributionContext(AttributionContextTracing.scala:47)",
        "\tat com.databricks.logging.AttributionContextTracing.withAttributionContext$(AttributionContextTracing.scala:44)",
        "\tat com.databricks.rpc.ServerBackend.withAttributionContext(ServerBackend.scala:22)",
        "\tat com.databricks.logging.AttributionContextTracing.withAttributionTags(AttributionContextTracing.scala:96)",
        "\tat com.databricks.logging.AttributionContextTracing.withAttributionTags$(AttributionContextTracing.scala:77)",
        "\tat com.databricks.rpc.ServerBackend.withAttributionTags(ServerBackend.scala:22)",
        "\tat com.databricks.logging.UsageLogging.recordOperationWithResultTags(UsageLogging.scala:611)",
        "\tat com.databricks.logging.UsageLogging.recordOperationWithResultTags$(UsageLogging.scala:519)",
        "\tat com.databricks.rpc.ServerBackend.recordOperationWithResultTags(ServerBackend.scala:22)",
        "\tat com.databricks.spark.chauffeur.Chauffeur$$anon$1$$anonfun$receive$1.handleDriverRequestWithUsageLogging$1(Chauffeur.scala:936)",
        "\tat com.databricks.spark.chauffeur.Chauffeur$$anon$1$$anonfun$receive$1.applyOrElse(Chauffeur.scala:991)",
        "\tat com.databricks.spark.chauffeur.Chauffeur$$anon$1$$anonfun$receive$1.applyOrElse(Chauffeur.scala:776)",
        "\tat com.databricks.rpc.ServerBackend.$anonfun$internalReceive0$2(ServerBackend.scala:174)",
        "\tat com.databricks.rpc.ServerBackend$$anonfun$commonReceive$1.applyOrElse(ServerBackend.scala:200)",
        "\tat com.databricks.rpc.ServerBackend$$anonfun$commonReceive$1.applyOrElse(ServerBackend.scala:200)",
        "\tat com.databricks.rpc.ServerBackend.internalReceive0(ServerBackend.scala:171)",
        "\tat com.databricks.rpc.ServerBackend.$anonfun$internalReceive$1(ServerBackend.scala:147)",
        "\tat com.databricks.logging.UsageLogging.$anonfun$recordOperation$1(UsageLogging.scala:510)",
        "\tat com.databricks.logging.UsageLogging.executeThunkAndCaptureResultTags$1(UsageLogging.scala:616)",
        "\tat com.databricks.logging.UsageLogging.$anonfun$recordOperationWithResultTags$4(UsageLogging.scala:643)",
        "\tat com.databricks.logging.AttributionContextTracing.$anonfun$withAttributionContext$1(AttributionContextTracing.scala:49)",
        "\tat com.databricks.logging.AttributionContext$.$anonfun$withValue$1(AttributionContext.scala:293)",
        "\tat scala.util.DynamicVariable.withValue(DynamicVariable.scala:62)",
        "\tat com.databricks.logging.AttributionContext$.withValue(AttributionContext.scala:289)",
        "\tat com.databricks.logging.AttributionContextTracing.withAttributionContext(AttributionContextTracing.scala:47)",
        "\tat com.databricks.logging.AttributionContextTracing.withAttributionContext$(AttributionContextTracing.scala:44)",
        "\tat com.databricks.rpc.ServerBackend.withAttributionContext(ServerBackend.scala:22)",
        "\tat com.databricks.logging.AttributionContextTracing.withAttributionTags(AttributionContextTracing.scala:96)",
        "\tat com.databricks.logging.AttributionContextTracing.withAttributionTags$(AttributionContextTracing.scala:77)",
        "\tat com.databricks.rpc.ServerBackend.withAttributionTags(ServerBackend.scala:22)",
        "\tat com.databricks.logging.UsageLogging.recordOperationWithResultTags(UsageLogging.scala:611)",
        "\tat com.databricks.logging.UsageLogging.recordOperationWithResultTags$(UsageLogging.scala:519)",
        "\tat com.databricks.rpc.ServerBackend.recordOperationWithResultTags(ServerBackend.scala:22)",
        "\tat com.databricks.logging.UsageLogging.recordOperation(UsageLogging.scala:511)",
        "\tat com.databricks.logging.UsageLogging.recordOperation$(UsageLogging.scala:475)",
        "\tat com.databricks.rpc.ServerBackend.recordOperation(ServerBackend.scala:22)",
        "\tat com.databricks.rpc.ServerBackend.internalReceive(ServerBackend.scala:146)",
        "\tat com.databricks.rpc.JettyServer$RequestManager.handleRPC(JettyServer.scala:1033)",
        "\tat com.databricks.rpc.JettyServer$RequestManager.handleRequestAndRespond(JettyServer.scala:953)",
        "\tat com.databricks.rpc.JettyServer$RequestManager.$anonfun$handleHttp$5(JettyServer.scala:548)",
        "\tat com.databricks.rpc.JettyServer$RequestManager.$anonfun$handleHttp$5$adapted(JettyServer.scala:513)",
        "\tat com.databricks.logging.activity.ActivityContextFactory$.$anonfun$withActivityInternal$13(ActivityContextFactory.scala:831)",
        "\tat com.databricks.logging.AttributionContextTracing.$anonfun$withAttributionContext$1(AttributionContextTracing.scala:49)",
        "\tat com.databricks.logging.AttributionContext$.$anonfun$withValue$1(AttributionContext.scala:293)",
        "\tat scala.util.DynamicVariable.withValue(DynamicVariable.scala:62)",
        "\tat com.databricks.logging.AttributionContext$.withValue(AttributionContext.scala:289)",
        "\tat com.databricks.logging.AttributionContextTracing.withAttributionContext(AttributionContextTracing.scala:47)",
        "\tat com.databricks.logging.AttributionContextTracing.withAttributionContext$(AttributionContextTracing.scala:44)",
        "\tat com.databricks.logging.activity.ActivityContextFactory$.withAttributionContext(ActivityContextFactory.scala:53)",
        "\tat com.databricks.logging.activity.ActivityContextFactory$.$anonfun$withActivityInternal$3(ActivityContextFactory.scala:831)",
        "\tat com.databricks.context.integrity.IntegrityCheckContext$ThreadLocalStorage$.withValue(IntegrityCheckContext.scala:73)",
        "\tat com.databricks.logging.activity.ActivityContextFactory$.withActivityInternal(ActivityContextFactory.scala:794)",
        "\tat com.databricks.logging.activity.ActivityContextFactory$.withActivityInternal(ActivityContextFactory.scala:776)",
        "\tat com.databricks.logging.activity.ActivityContextFactory$.$anonfun$withServiceRequestActivity$15(ActivityContextFactory.scala:285)",
        "\tat com.databricks.logging.AttributionContextTracing.$anonfun$withAttributionContext$1(AttributionContextTracing.scala:49)",
        "\tat com.databricks.logging.AttributionContext$.$anonfun$withValue$1(AttributionContext.scala:293)",
        "\tat scala.util.DynamicVariable.withValue(DynamicVariable.scala:62)",
        "\tat com.databricks.logging.AttributionContext$.withValue(AttributionContext.scala:289)",
        "\tat com.databricks.logging.AttributionContextTracing.withAttributionContext(AttributionContextTracing.scala:47)",
        "\tat com.databricks.logging.AttributionContextTracing.withAttributionContext$(AttributionContextTracing.scala:44)",
        "\tat com.databricks.logging.activity.ActivityContextFactory$.withAttributionContext(ActivityContextFactory.scala:53)",
        "\tat com.databricks.logging.activity.ActivityContextFactory$.withServiceRequestActivity(ActivityContextFactory.scala:285)",
        "\tat com.databricks.rpc.JettyServer$RequestManager.handleHttp(JettyServer.scala:513)",
        "\tat com.databricks.rpc.JettyServer$RequestManager.doPost(JettyServer.scala:408)",
        "\tat javax.servlet.http.HttpServlet.service(HttpServlet.java:665)",
        "\tat com.databricks.rpc.HttpServletWithPatch.service(HttpServletWithPatch.scala:33)",
        "\tat javax.servlet.http.HttpServlet.service(HttpServlet.java:750)",
        "\tat org.eclipse.jetty.servlet.ServletHolder.handle(ServletHolder.java:799)",
        "\tat org.eclipse.jetty.servlet.ServletHandler.doHandle(ServletHandler.java:554)",
        "\tat org.eclipse.jetty.server.handler.ScopedHandler.nextScope(ScopedHandler.java:190)",
        "\tat org.eclipse.jetty.servlet.ServletHandler.doScope(ServletHandler.java:505)",
        "\tat org.eclipse.jetty.server.handler.ScopedHandler.handle(ScopedHandler.java:141)",
        "\tat org.eclipse.jetty.server.handler.HandlerWrapper.handle(HandlerWrapper.java:127)",
        "\tat org.eclipse.jetty.server.Server.handle(Server.java:516)",
        "\tat org.eclipse.jetty.server.HttpChannel.lambda$handle$1(HttpChannel.java:487)",
        "\tat org.eclipse.jetty.server.HttpChannel.dispatch(HttpChannel.java:732)",
        "\tat org.eclipse.jetty.server.HttpChannel.handle(HttpChannel.java:479)",
        "\tat org.eclipse.jetty.server.HttpConnection.onFillable(HttpConnection.java:277)",
        "\tat org.eclipse.jetty.io.AbstractConnection$ReadCallback.succeeded(AbstractConnection.java:311)",
        "\tat org.eclipse.jetty.io.FillInterest.fillable(FillInterest.java:105)",
        "\tat org.eclipse.jetty.io.ssl.SslConnection$DecryptedEndPoint.onFillable(SslConnection.java:555)",
        "\tat org.eclipse.jetty.io.ssl.SslConnection.onFillable(SslConnection.java:410)",
        "\tat org.eclipse.jetty.io.ssl.SslConnection$2.succeeded(SslConnection.java:164)",
        "\tat org.eclipse.jetty.io.FillInterest.fillable(FillInterest.java:105)",
        "\tat org.eclipse.jetty.io.ChannelEndPoint$1.run(ChannelEndPoint.java:104)",
        "\tat org.eclipse.jetty.util.thread.strategy.EatWhatYouKill.runTask(EatWhatYouKill.java:338)",
        "\tat org.eclipse.jetty.util.thread.strategy.EatWhatYouKill.doProduce(EatWhatYouKill.java:315)",
        "\tat org.eclipse.jetty.util.thread.strategy.EatWhatYouKill.tryProduce(EatWhatYouKill.java:173)",
        "\tat org.eclipse.jetty.util.thread.strategy.EatWhatYouKill.run(EatWhatYouKill.java:131)",
        "\tat org.eclipse.jetty.util.thread.ReservedThreadExecutor$ReservedThread.run(ReservedThreadExecutor.java:409)",
        "\tat com.databricks.rpc.InstrumentedQueuedThreadPool$$anon$1.$anonfun$run$2(InstrumentedQueuedThreadPool.scala:110)",
        "\tat scala.runtime.java8.JFunction0$mcV$sp.apply(JFunction0$mcV$sp.java:23)",
        "\tat com.databricks.logging.AttributionContextTracing.$anonfun$withAttributionContext$1(AttributionContextTracing.scala:49)",
        "\tat com.databricks.logging.AttributionContext$.$anonfun$withValue$1(AttributionContext.scala:293)",
        "\tat scala.util.DynamicVariable.withValue(DynamicVariable.scala:62)",
        "\tat com.databricks.logging.AttributionContext$.withValue(AttributionContext.scala:289)",
        "\tat com.databricks.logging.AttributionContextTracing.withAttributionContext(AttributionContextTracing.scala:47)",
        "\tat com.databricks.logging.AttributionContextTracing.withAttributionContext$(AttributionContextTracing.scala:44)",
        "\tat com.databricks.rpc.InstrumentedQueuedThreadPool.withAttributionContext(InstrumentedQueuedThreadPool.scala:45)",
        "\tat com.databricks.rpc.InstrumentedQueuedThreadPool$$anon$1.$anonfun$run$1(InstrumentedQueuedThreadPool.scala:110)",
        "\tat scala.runtime.java8.JFunction0$mcV$sp.apply(JFunction0$mcV$sp.java:23)",
        "\tat com.databricks.instrumentation.QueuedThreadPoolInstrumenter.trackActiveThreads(QueuedThreadPoolInstrumenter.scala:132)",
        "\tat com.databricks.instrumentation.QueuedThreadPoolInstrumenter.trackActiveThreads$(QueuedThreadPoolInstrumenter.scala:129)",
        "\tat com.databricks.rpc.InstrumentedQueuedThreadPool.trackActiveThreads(InstrumentedQueuedThreadPool.scala:45)",
        "\tat com.databricks.rpc.InstrumentedQueuedThreadPool$$anon$1.run(InstrumentedQueuedThreadPool.scala:92)",
        "\tat org.eclipse.jetty.util.thread.QueuedThreadPool.runJob(QueuedThreadPool.java:883)",
        "\tat org.eclipse.jetty.util.thread.QueuedThreadPool$Runner.run(QueuedThreadPool.java:1034)",
        "\tat java.base/java.lang.Thread.run(Thread.java:840)"
       ],
       "type": "baseError"
      }
     },
     "output_type": "display_data"
    }
   ],
   "source": [
    "%sql\n",
    "--25255185\n",
    "--   2091988\n",
    "select * from unirdat.pubmed_db.m_articulo_autor\n",
    "where fullname= 'bin zhang' and orcid_final is not null\n",
    "-- 109\n",
    "\n"
   ]
  }
 ],
 "metadata": {
  "application/vnd.databricks.v1+notebook": {
   "computePreferences": null,
   "dashboards": [],
   "environmentMetadata": {
    "base_environment": "",
    "environment_version": "2"
   },
   "inputWidgetPreferences": null,
   "language": "python",
   "notebookMetadata": {
    "mostRecentlyExecutedCommandWithImplicitDF": {
     "commandId": 8407106559919033,
     "dataframes": [
      "_sqldf"
     ]
    },
    "pythonIndentUnit": 4
   },
   "notebookName": "03_EDA_Nuevo_03_Normalizacion_table_autores",
   "widgets": {}
  },
  "language_info": {
   "name": "python"
  }
 },
 "nbformat": 4,
 "nbformat_minor": 0
}