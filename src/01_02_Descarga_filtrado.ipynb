{
 "cells": [
  {
   "cell_type": "code",
   "execution_count": 0,
   "metadata": {
    "application/vnd.databricks.v1+cell": {
     "cellMetadata": {},
     "inputWidgets": {},
     "nuid": "bd9bb356-83a7-45ba-9a6b-c660fd133766",
     "showTitle": false,
     "tableResultSettingsMap": {},
     "title": ""
    }
   },
   "outputs": [],
   "source": [
    "import os\n",
    "import re\n",
    "import gzip\n",
    "from concurrent.futures import ThreadPoolExecutor\n",
    "from pathlib import Path\n",
    "import shutil\n",
    "\n",
    "# Ruta origen (DBFS local path)\n",
    "source_dir = \"/dbfs/FileStore/pubmed_baseline\"\n",
    "target_dir = \"/dbfs/FileStore/pubmed_filtrado\"\n",
    "Path(target_dir).mkdir(parents=True, exist_ok=True)\n",
    "\n",
    "# Compilar expresión regular para años\n",
    "year_pattern = re.compile(r\"\\b(2020|2021|2022|2023|2024|2025)\\b\")\n",
    "\n",
    "# Función para buscar año en el fichero\n",
    "def contiene_anio(file_path):\n",
    "    try:\n",
    "        with gzip.open(file_path, 'rt', encoding='utf-8', errors='ignore') as f:\n",
    "            for i, line in enumerate(f):\n",
    "                if year_pattern.search(line):\n",
    "                    # Copiar a destino\n",
    "                    dest_path = os.path.join(target_dir, os.path.basename(file_path))\n",
    "                    shutil.copy(file_path, dest_path)\n",
    "                    return f\"✅ {os.path.basename(file_path)} copiado\"\n",
    "                if i > 5000:  # Evitar leer archivos completos si no hace falta\n",
    "                    break\n",
    "        return f\"⏭️ {os.path.basename(file_path)} ignorado\"\n",
    "    except Exception as e:\n",
    "        return f\"❌ Error {os.path.basename(file_path)}: {e}\"\n",
    "\n",
    "# Listar archivos\n",
    "archivos = [os.path.join(source_dir, f.name) for f in dbutils.fs.ls(\"dbfs:/FileStore/pubmed_baseline\") if f.name.endswith(\".xml.gz\")]\n",
    "\n",
    "# Procesar en paralelo\n",
    "with ThreadPoolExecutor(max_workers=32) as executor:\n",
    "    results = list(executor.map(contiene_anio, archivos))\n",
    "\n",
    "# Mostrar resumen\n",
    "for r in results:\n",
    "    print(r)"
   ]
  },
  {
   "cell_type": "code",
   "execution_count": 0,
   "metadata": {
    "application/vnd.databricks.v1+cell": {
     "cellMetadata": {},
     "inputWidgets": {},
     "nuid": "6be9496f-97e1-418a-bf16-6a3a36ff4610",
     "showTitle": false,
     "tableResultSettingsMap": {},
     "title": ""
    }
   },
   "outputs": [],
   "source": [
    "from pyspark.sql.functions import input_file_name\n",
    "\n",
    "\n",
    "files = dbutils.fs.ls(\"dbfs:/FileStore/pubmed_filtrado\")\n",
    "\n",
    "num_files = len(files)\n",
    "total_size = sum(f.size for f in files)\n",
    "\n",
    "print(f\"Número de ficheros: {num_files}\")\n",
    "print(f\"Tamaño total: {total_size/1024/1024:.2f} MB\")"
   ]
  }
 ],
 "metadata": {
  "application/vnd.databricks.v1+notebook": {
   "computePreferences": null,
   "dashboards": [],
   "environmentMetadata": {
    "base_environment": "",
    "environment_version": "2"
   },
   "inputWidgetPreferences": null,
   "language": "python",
   "notebookMetadata": {
    "pythonIndentUnit": 4
   },
   "notebookName": "01_02_Descarga_filtrado",
   "widgets": {}
  },
  "language_info": {
   "name": "python"
  }
 },
 "nbformat": 4,
 "nbformat_minor": 0
}