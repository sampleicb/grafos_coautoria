{
 "cells": [
  {
   "cell_type": "code",
   "execution_count": 0,
   "metadata": {
    "application/vnd.databricks.v1+cell": {
     "cellMetadata": {
      "byteLimit": 2048000,
      "rowLimit": 10000
     },
     "inputWidgets": {},
     "nuid": "83060fb7-bc2e-49f3-805d-2c2a475158d6",
     "showTitle": false,
     "tableResultSettingsMap": {},
     "title": ""
    }
   },
   "outputs": [
    {
     "output_type": "execute_result",
     "data": {
      "text/plain": [
       "True"
      ]
     },
     "execution_count": 2,
     "metadata": {},
     "output_type": "execute_result"
    }
   ],
   "source": [
    "#dbutils.fs.rm(\"dbfs:/FileStore/pubmed_parquet/\", recurse=True)"
   ]
  },
  {
   "cell_type": "code",
   "execution_count": 0,
   "metadata": {
    "application/vnd.databricks.v1+cell": {
     "cellMetadata": {
      "byteLimit": 2048000,
      "rowLimit": 10000
     },
     "inputWidgets": {},
     "nuid": "56b6d912-e956-4c7e-8cb4-6cb743d61eb3",
     "showTitle": false,
     "tableResultSettingsMap": {},
     "title": ""
    }
   },
   "outputs": [
    {
     "output_type": "stream",
     "name": "stdout",
     "output_type": "stream",
     "text": [
      "\uD83D\uDE80 Lanzando DESCARGA Lote #0\nNone\n⏳ Pausa de 5 segundos...\n\uD83D\uDE80 Lanzando DESCARGA Lote #1\nNone\n⏳ Pausa de 5 segundos...\n\uD83D\uDE80 Lanzando DESCARGA Lote #2\nNone\n⏳ Pausa de 5 segundos...\n\uD83D\uDE80 Lanzando DESCARGA Lote #3\nNone\n⏳ Pausa de 5 segundos...\n\uD83D\uDE80 Lanzando DESCARGA Lote #4\nNone\n⏳ Pausa de 5 segundos...\n\uD83D\uDE80 Lanzando DESCARGA Lote #5\nNone\n⏳ Pausa de 5 segundos...\n\uD83D\uDE80 Lanzando DESCARGA Lote #6\nNone\n⏳ Pausa de 5 segundos...\n\uD83D\uDE80 Lanzando DESCARGA Lote #7\nNone\n⏳ Pausa de 5 segundos...\n\uD83D\uDE80 Lanzando DESCARGA Lote #8\nNone\n⏳ Pausa de 5 segundos...\n\uD83D\uDE80 Lanzando DESCARGA Lote #9\nNone\n⏳ Pausa de 5 segundos...\n\uD83D\uDE80 Lanzando DESCARGA Lote #10\nNone\n⏳ Pausa de 5 segundos...\n\uD83D\uDE80 Lanzando DESCARGA Lote #11\nNone\n⏳ Pausa de 5 segundos...\n\uD83C\uDF89 Pipeline completado.\n"
     ]
    }
   ],
   "source": [
    "#Databricks notebook: pipeline_controller.ipynb\n",
    "\n",
    "# === Parámetros globales ===\n",
    "batch_size = 100\n",
    "max_batches = 12   # p.ej. los primeros 500 archivos /14 par ala carga inicial\n",
    "sleep_seconds = 5\n",
    "\n",
    "for batch_number in range(max_batches):\n",
    "    print(f\"\uD83D\uDE80 Lanzando DESCARGA Lote #{batch_number}\")\n",
    "\n",
    "    #download_result = dbutils.notebook.run(\n",
    "    #    \"./01_01_Descarga_Files_Lotes_nuevo\",\n",
    "    #    timeout_seconds=0,\n",
    "    #    arguments={\n",
    "    #        \"batch_size\": str(batch_size),\n",
    "    #        \"batch_number\": str(batch_number)\n",
    "    #    }\n",
    "    #)\n",
    "    #print(download_result)\n",
    "\n",
    "    #print(f\"✅ Lote #{batch_number} descargado, iniciando PARSEO\")\n",
    "\n",
    "    parse_result = dbutils.notebook.run(\n",
    "        \"./01_03_Parseo_Nuevo\",\n",
    "        timeout_seconds=0,\n",
    "        arguments={\n",
    "            \"batch_size\": str(batch_size),\n",
    "            \"batch_number\": str(batch_number)\n",
    "        }\n",
    "    )\n",
    "    print(parse_result)\n",
    "\n",
    "    print(f\"⏳ Pausa de {sleep_seconds} segundos...\")\n",
    "    import time\n",
    "    time.sleep(sleep_seconds)\n",
    "\n",
    "print(\"\uD83C\uDF89 Pipeline completado.\")"
   ]
  }
 ],
 "metadata": {
  "application/vnd.databricks.v1+notebook": {
   "computePreferences": null,
   "dashboards": [],
   "environmentMetadata": {
    "base_environment": "",
    "environment_version": "2"
   },
   "inputWidgetPreferences": null,
   "language": "python",
   "notebookMetadata": {
    "pythonIndentUnit": 4
   },
   "notebookName": "01_03_Parseo_lotes",
   "widgets": {}
  },
  "language_info": {
   "name": "python"
  }
 },
 "nbformat": 4,
 "nbformat_minor": 0
}