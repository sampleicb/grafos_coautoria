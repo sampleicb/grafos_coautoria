{
 "cells": [
  {
   "cell_type": "code",
   "execution_count": 0,
   "metadata": {
    "application/vnd.databricks.v1+cell": {
     "cellMetadata": {
      "byteLimit": 2048000,
      "implicitDf": true,
      "rowLimit": 10000
     },
     "inputWidgets": {},
     "nuid": "937fada3-93b1-4a9c-932c-dad96da63055",
     "showTitle": false,
     "tableResultSettingsMap": {},
     "title": ""
    }
   },
   "outputs": [
    {
     "output_type": "display_data",
     "data": {
      "text/html": [
       "<style scoped>\n",
       "  .table-result-container {\n",
       "    max-height: 300px;\n",
       "    overflow: auto;\n",
       "  }\n",
       "  table, th, td {\n",
       "    border: 1px solid black;\n",
       "    border-collapse: collapse;\n",
       "  }\n",
       "  th, td {\n",
       "    padding: 5px;\n",
       "  }\n",
       "  th {\n",
       "    text-align: left;\n",
       "  }\n",
       "</style><div class='table-result-container'><table class='table-result'><thead style='background-color: white'><tr><th>num_affected_rows</th><th>num_inserted_rows</th></tr></thead><tbody></tbody></table></div>"
      ]
     },
     "metadata": {
      "application/vnd.databricks.v1+output": {
       "addedWidgets": {},
       "aggData": [],
       "aggError": "",
       "aggOverflow": false,
       "aggSchema": [],
       "aggSeriesLimitReached": false,
       "aggType": "",
       "arguments": {},
       "columnCustomDisplayInfos": {},
       "data": [],
       "datasetInfos": [
        {
         "name": "_sqldf",
         "schema": {
          "fields": [
           {
            "metadata": {},
            "name": "num_affected_rows",
            "nullable": true,
            "type": "long"
           },
           {
            "metadata": {},
            "name": "num_inserted_rows",
            "nullable": true,
            "type": "long"
           }
          ],
          "type": "struct"
         },
         "tableIdentifier": null,
         "typeStr": "pyspark.sql.dataframe.DataFrame"
        }
       ],
       "dbfsResultPath": null,
       "isJsonSchema": true,
       "metadata": {
        "createTempViewForImplicitDf": true,
        "dataframeName": "_sqldf",
        "executionCount": 7
       },
       "overflow": false,
       "plotOptions": {
        "customPlotOptions": {},
        "displayType": "table",
        "pivotAggregation": null,
        "pivotColumns": null,
        "xColumns": null,
        "yColumns": null
       },
       "removedWidgets": [],
       "schema": [
        {
         "metadata": "{}",
         "name": "num_affected_rows",
         "type": "\"long\""
        },
        {
         "metadata": "{}",
         "name": "num_inserted_rows",
         "type": "\"long\""
        }
       ],
       "type": "table"
      }
     },
     "output_type": "display_data"
    }
   ],
   "source": [
    "%sql\n",
    "create or replace table pubmed_db.coautor_2023\n",
    "select distinct pmid, substr(year, 1, 4) AS year, authors from pubmed_temp_filtrado\n",
    "where  substr(year,1,4) = 2023 and authors.orcid is not null\n"
   ]
  },
  {
   "cell_type": "markdown",
   "metadata": {
    "application/vnd.databricks.v1+cell": {
     "cellMetadata": {},
     "inputWidgets": {},
     "nuid": "f07960f2-1505-46b7-9bd4-c925bc1f6c09",
     "showTitle": false,
     "tableResultSettingsMap": {},
     "title": ""
    }
   },
   "source": [
    "## CREAR ARISTAS Y NODOS"
   ]
  },
  {
   "cell_type": "code",
   "execution_count": 0,
   "metadata": {
    "application/vnd.databricks.v1+cell": {
     "cellMetadata": {
      "byteLimit": 2048000,
      "rowLimit": 10000
     },
     "inputWidgets": {},
     "nuid": "7ffea072-9d4b-49d9-9df1-ef45afb4bfd1",
     "showTitle": false,
     "tableResultSettingsMap": {},
     "title": ""
    }
   },
   "outputs": [
    {
     "output_type": "display_data",
     "data": {
      "text/html": [
       "<style scoped>\n",
       "  .table-result-container {\n",
       "    max-height: 300px;\n",
       "    overflow: auto;\n",
       "  }\n",
       "  table, th, td {\n",
       "    border: 1px solid black;\n",
       "    border-collapse: collapse;\n",
       "  }\n",
       "  th, td {\n",
       "    padding: 5px;\n",
       "  }\n",
       "  th {\n",
       "    text-align: left;\n",
       "  }\n",
       "</style><div class='table-result-container'><table class='table-result'><thead style='background-color: white'><tr><th>orcid</th><th>author_name</th><th>degree</th></tr></thead><tbody><tr><td>0000-0002-3245-3296</td><td>Michael Gray</td><td>8</td></tr><tr><td>0000-0002-0310-6842</td><td>Haijun Jiang</td><td>4</td></tr><tr><td>0000-0002-0228-6204</td><td>Giuseppe Chiazzese</td><td>8</td></tr><tr><td>0000-0002-6853-9884</td><td>Omar S Akbari</td><td>25</td></tr><tr><td>0000-0002-6853-9884</td><td>Omar Akbari</td><td>25</td></tr><tr><td>0000-0001-9663-3088</td><td>Zhiping Deng</td><td>5</td></tr><tr><td>0000-0002-3414-5481</td><td>Anna-Clara Rullander</td><td>1</td></tr><tr><td>0000-0002-1679-9561</td><td>Vitalii Kavun</td><td>5</td></tr><tr><td>0000-0001-6253-1286</td><td>T P Oscar</td><td>0</td></tr><tr><td>0000-0001-7192-7821</td><td>Markus Drechsler</td><td>12</td></tr><tr><td>0009-0003-1218-0520</td><td>Martine Keenan</td><td>36</td></tr><tr><td>0000-0003-1459-4527</td><td>Otoniel Toledo-Salinas</td><td>9</td></tr><tr><td>0000-0001-9691-7363</td><td>Mahsa Ghavipisheh</td><td>2</td></tr><tr><td>0000-0001-7692-4718</td><td>Samira Akbas</td><td>15</td></tr><tr><td>0000-0001-5046-5592</td><td>Jacob Herrmann</td><td>23</td></tr><tr><td>0000-0002-1989-7423</td><td>Andreas Nicodemou</td><td>7</td></tr><tr><td>0000-0001-5483-0577</td><td>Nicolas L Fawzi</td><td>16</td></tr><tr><td>0000-0003-4829-5955</td><td>Kyle C Hartig</td><td>3</td></tr><tr><td>0000-0002-2298-4667</td><td>Pei Cao</td><td>1</td></tr><tr><td>0000-0002-8315-1925</td><td>Bishal Gyawali</td><td>3</td></tr><tr><td>0000-0002-9156-0390</td><td>Suci Indriani</td><td>10</td></tr><tr><td>0000-0001-8627-5758</td><td>Muriel Elhai</td><td>4</td></tr><tr><td>0009-0005-9516-6939</td><td>Usha Sankar</td><td>3</td></tr><tr><td>0000-0002-4262-0123</td><td>Huanfei Ma</td><td>2</td></tr><tr><td>0009-0007-9850-3376</td><td>Daniel Irongo</td><td>10</td></tr><tr><td>0009-0003-3405-0372</td><td>Igor Piotr Jaszczyszyn</td><td>8</td></tr><tr><td>0009-0007-9850-3376</td><td>Daniel Mwakanema</td><td>10</td></tr><tr><td>0009-0003-3405-0372</td><td>Igor Jaszczyszyn</td><td>8</td></tr><tr><td>0000-0001-6417-8914</td><td>Mariana F Fernández</td><td>8</td></tr><tr><td>0000-0002-4193-1042</td><td>Lars Pache</td><td>13</td></tr><tr><td>0000-0002-9267-8542</td><td>Esther Ulitzsch</td><td>2</td></tr><tr><td>0000-0003-0739-3735</td><td>Baojun Xu</td><td>8</td></tr><tr><td>0000-0001-6155-5980</td><td>Ximena E Bernal</td><td>8</td></tr><tr><td>0000-0002-6703-5246</td><td>Stacy K Thomas</td><td>12</td></tr><tr><td>0000-0002-6703-5246</td><td>Stacy Thomas</td><td>12</td></tr><tr><td>0000-0002-1171-5517</td><td>L M Bardenshtein</td><td>4</td></tr><tr><td>0009-0003-0109-0263</td><td>Michelle Bell</td><td>9</td></tr><tr><td>0000-0002-5066-5014</td><td>Lucía Prieto-Torres</td><td>0</td></tr><tr><td>0000-0002-9544-4207</td><td>Bo Xiao</td><td>0</td></tr><tr><td>0000-0002-7486-0316</td><td>Tom Chau</td><td>1</td></tr><tr><td>0000-0003-4153-0764</td><td>Tunc Asuroglu</td><td>8</td></tr><tr><td>0000-0001-8522-3251</td><td>Valeria Galli</td><td>5</td></tr><tr><td>0000-0002-8867-2666</td><td>Aaron S Kesselheim</td><td>28</td></tr><tr><td>0000-0002-6512-4472</td><td>Meurig T Gallagher</td><td>2</td></tr><tr><td>0009-0001-1758-9910</td><td>Leandro Frigerio</td><td>3</td></tr><tr><td>0000-0002-6965-7743</td><td>Róbert Halmosi</td><td>6</td></tr><tr><td>0000-0002-6965-7743</td><td>Robert Halmosi</td><td>6</td></tr><tr><td>0000-0002-7645-6704</td><td>Feng Lin</td><td>0</td></tr><tr><td>0000-0001-6391-0624</td><td>Sanjay Swarup</td><td>5</td></tr><tr><td>0000-0003-0958-2812</td><td>Ludmila Puchkova</td><td>9</td></tr><tr><td>0000-0003-0958-2812</td><td>Ludmila V Puchkova</td><td>9</td></tr><tr><td>0000-0003-4481-1289</td><td>Krzysztof Zieniewicz</td><td>13</td></tr><tr><td>0000-0001-8149-2067</td><td>Uday Venkat Mateti</td><td>11</td></tr><tr><td>0000-0003-3524-4876</td><td>Leonardo Martins</td><td>2</td></tr><tr><td>0000-0003-4589-2420</td><td>Jimmy Zhang</td><td>3</td></tr><tr><td>0000-0003-4271-8910</td><td>Mahmood Naderi</td><td>0</td></tr><tr><td>0009-0001-8680-5525</td><td>S E Banner</td><td>1</td></tr><tr><td>0000-0001-5278-2794</td><td>Fidel Molina-Luque</td><td>13</td></tr><tr><td>0000-0003-4551-5721</td><td>Xizi Zhang</td><td>6</td></tr><tr><td>0009-0000-9587-1439</td><td>Riekje Biermann</td><td>1</td></tr><tr><td>0000-0002-5360-2553</td><td>Arun Samidurai</td><td>1</td></tr><tr><td>0009-0007-3090-2442</td><td>Kukuh Waseso Jati Pangestu</td><td>1</td></tr><tr><td>0000-0001-5641-9562</td><td>Javiera Cornejo</td><td>3</td></tr><tr><td>0000-0002-3057-1328</td><td>Alessia Irrera</td><td>6</td></tr><tr><td>0000-0002-7181-9510</td><td>María Angelina Quevedo-Ramos</td><td>8</td></tr><tr><td>0000-0002-9715-8634</td><td>Lindsey Sikora</td><td>16</td></tr><tr><td>0000-0003-4396-9623</td><td>Jesús Guadalupe González-Jasso</td><td>5</td></tr><tr><td>0000-0003-0050-7509</td><td>Jie Han</td><td>8</td></tr><tr><td>0000-0001-6752-6056</td><td>Denise Mafra</td><td>16</td></tr><tr><td>0000-0001-6752-6056</td><td>D Mafra</td><td>16</td></tr><tr><td>0000-0002-3183-8741</td><td>Yifei Jin</td><td>1</td></tr><tr><td>0009-0000-0738-7744</td><td>Katherine Cherry</td><td>9</td></tr><tr><td>0000-0003-3020-3979</td><td>Wojciech Lisik</td><td>12</td></tr><tr><td>0000-0002-0612-3218</td><td>Wang Zhizhong</td><td>1</td></tr><tr><td>0000-0002-1526-7977</td><td>Buhari Teker</td><td>2</td></tr><tr><td>0000-0002-0612-3218</td><td>Zhizhong Wang</td><td>1</td></tr><tr><td>0000-0003-0360-7820</td><td>Omer Mohammed Jamali</td><td>3</td></tr><tr><td>0000-0002-7374-8912</td><td>Nele Famaey</td><td>5</td></tr><tr><td>0000-0003-2785-4201</td><td>Petra Geiser</td><td>18</td></tr><tr><td>0000-0002-9276-0722</td><td>Mingqing Li</td><td>10</td></tr><tr><td>0000-0002-9276-0722</td><td>Ming-Qing Li</td><td>10</td></tr><tr><td>0000-0002-6954-9857</td><td>Daniel I Goldman</td><td>7</td></tr><tr><td>0000-0003-2225-8814</td><td>Mikiko Watanabe</td><td>12</td></tr><tr><td>0000-0002-9936-0887</td><td>Gabriela Teixeira Gonçalves</td><td>4</td></tr><tr><td>0000-0002-7328-4994</td><td>Zhenhua Zhang</td><td>1</td></tr><tr><td>0000-0001-5918-1078</td><td>Yunlong Cao</td><td>9</td></tr><tr><td>0000-0002-5259-9946</td><td>India Pinhorn</td><td>2</td></tr><tr><td>0000-0003-4967-2505</td><td>Makarios Eleftheriades</td><td>7</td></tr><tr><td>0000-0003-3776-3442</td><td>Max Schnoll</td><td>6</td></tr><tr><td>0000-0003-2425-2037</td><td>Uendy Pérez-Lozano</td><td>6</td></tr><tr><td>0000-0002-8125-4584</td><td>Faith Gibson</td><td>14</td></tr><tr><td>0000-0002-1455-1503</td><td>Nikolaos Tsoukalas</td><td>10</td></tr><tr><td>0009-0008-3663-8854</td><td>Krishna Jafa</td><td>22</td></tr><tr><td>0000-0002-6795-5026</td><td>Sonia Thankachy</td><td>0</td></tr><tr><td>0000-0001-8607-3195</td><td>Vicente Gea-Caballero</td><td>30</td></tr><tr><td>0000-0002-2631-0029</td><td>Vincent Bourbonne</td><td>8</td></tr><tr><td>0000-0002-4940-6998</td><td>Corinna Hackmann</td><td>6</td></tr><tr><td>0000-0001-8993-3314</td><td>Károly Antal</td><td>3</td></tr><tr><td>0000-0002-9074-2803</td><td>Marta Waliszewska-Prosół</td><td>3</td></tr><tr><td>0000-0002-9823-1047</td><td>M A Yushkina</td><td>12</td></tr><tr><td>0000-0003-0527-7634</td><td>Wesley Wilian Costa Martins</td><td>5</td></tr><tr><td>0000-0003-4961-2051</td><td>E A Ivanova</td><td>2</td></tr><tr><td>0000-0003-3754-7328</td><td>Holly M Cassell</td><td>6</td></tr><tr><td>0000-0002-2689-3340</td><td>Suzanna L Attia</td><td>1</td></tr><tr><td>0000-0002-2093-8659</td><td>Mihai Dimian</td><td>7</td></tr><tr><td>0000-0002-8514-9861</td><td>Stephen Yip</td><td>24</td></tr><tr><td>0000-0003-0185-0966</td><td>Shan Wu</td><td>5</td></tr><tr><td>0000-0002-8773-9750</td><td>Catherine M Said</td><td>31</td></tr><tr><td>0000-0003-2749-8163</td><td>Chanyoung Kim</td><td>6</td></tr></tbody></table></div>"
      ]
     },
     "metadata": {
      "application/vnd.databricks.v1+output": {
       "addedWidgets": {},
       "aggData": [],
       "aggError": "",
       "aggOverflow": false,
       "aggSchema": [],
       "aggSeriesLimitReached": false,
       "aggType": "",
       "arguments": {},
       "columnCustomDisplayInfos": {},
       "data": [
        [
         "0000-0002-3245-3296",
         "Michael Gray",
         8
        ],
        [
         "0000-0002-0310-6842",
         "Haijun Jiang",
         4
        ],
        [
         "0000-0002-0228-6204",
         "Giuseppe Chiazzese",
         8
        ],
        [
         "0000-0002-6853-9884",
         "Omar S Akbari",
         25
        ],
        [
         "0000-0002-6853-9884",
         "Omar Akbari",
         25
        ],
        [
         "0000-0001-9663-3088",
         "Zhiping Deng",
         5
        ],
        [
         "0000-0002-3414-5481",
         "Anna-Clara Rullander",
         1
        ],
        [
         "0000-0002-1679-9561",
         "Vitalii Kavun",
         5
        ],
        [
         "0000-0001-6253-1286",
         "T P Oscar",
         0
        ],
        [
         "0000-0001-7192-7821",
         "Markus Drechsler",
         12
        ],
        [
         "0009-0003-1218-0520",
         "Martine Keenan",
         36
        ],
        [
         "0000-0003-1459-4527",
         "Otoniel Toledo-Salinas",
         9
        ],
        [
         "0000-0001-9691-7363",
         "Mahsa Ghavipisheh",
         2
        ],
        [
         "0000-0001-7692-4718",
         "Samira Akbas",
         15
        ],
        [
         "0000-0001-5046-5592",
         "Jacob Herrmann",
         23
        ],
        [
         "0000-0002-1989-7423",
         "Andreas Nicodemou",
         7
        ],
        [
         "0000-0001-5483-0577",
         "Nicolas L Fawzi",
         16
        ],
        [
         "0000-0003-4829-5955",
         "Kyle C Hartig",
         3
        ],
        [
         "0000-0002-2298-4667",
         "Pei Cao",
         1
        ],
        [
         "0000-0002-8315-1925",
         "Bishal Gyawali",
         3
        ],
        [
         "0000-0002-9156-0390",
         "Suci Indriani",
         10
        ],
        [
         "0000-0001-8627-5758",
         "Muriel Elhai",
         4
        ],
        [
         "0009-0005-9516-6939",
         "Usha Sankar",
         3
        ],
        [
         "0000-0002-4262-0123",
         "Huanfei Ma",
         2
        ],
        [
         "0009-0007-9850-3376",
         "Daniel Irongo",
         10
        ],
        [
         "0009-0003-3405-0372",
         "Igor Piotr Jaszczyszyn",
         8
        ],
        [
         "0009-0007-9850-3376",
         "Daniel Mwakanema",
         10
        ],
        [
         "0009-0003-3405-0372",
         "Igor Jaszczyszyn",
         8
        ],
        [
         "0000-0001-6417-8914",
         "Mariana F Fernández",
         8
        ],
        [
         "0000-0002-4193-1042",
         "Lars Pache",
         13
        ],
        [
         "0000-0002-9267-8542",
         "Esther Ulitzsch",
         2
        ],
        [
         "0000-0003-0739-3735",
         "Baojun Xu",
         8
        ],
        [
         "0000-0001-6155-5980",
         "Ximena E Bernal",
         8
        ],
        [
         "0000-0002-6703-5246",
         "Stacy K Thomas",
         12
        ],
        [
         "0000-0002-6703-5246",
         "Stacy Thomas",
         12
        ],
        [
         "0000-0002-1171-5517",
         "L M Bardenshtein",
         4
        ],
        [
         "0009-0003-0109-0263",
         "Michelle Bell",
         9
        ],
        [
         "0000-0002-5066-5014",
         "Lucía Prieto-Torres",
         0
        ],
        [
         "0000-0002-9544-4207",
         "Bo Xiao",
         0
        ],
        [
         "0000-0002-7486-0316",
         "Tom Chau",
         1
        ],
        [
         "0000-0003-4153-0764",
         "Tunc Asuroglu",
         8
        ],
        [
         "0000-0001-8522-3251",
         "Valeria Galli",
         5
        ],
        [
         "0000-0002-8867-2666",
         "Aaron S Kesselheim",
         28
        ],
        [
         "0000-0002-6512-4472",
         "Meurig T Gallagher",
         2
        ],
        [
         "0009-0001-1758-9910",
         "Leandro Frigerio",
         3
        ],
        [
         "0000-0002-6965-7743",
         "Róbert Halmosi",
         6
        ],
        [
         "0000-0002-6965-7743",
         "Robert Halmosi",
         6
        ],
        [
         "0000-0002-7645-6704",
         "Feng Lin",
         0
        ],
        [
         "0000-0001-6391-0624",
         "Sanjay Swarup",
         5
        ],
        [
         "0000-0003-0958-2812",
         "Ludmila Puchkova",
         9
        ],
        [
         "0000-0003-0958-2812",
         "Ludmila V Puchkova",
         9
        ],
        [
         "0000-0003-4481-1289",
         "Krzysztof Zieniewicz",
         13
        ],
        [
         "0000-0001-8149-2067",
         "Uday Venkat Mateti",
         11
        ],
        [
         "0000-0003-3524-4876",
         "Leonardo Martins",
         2
        ],
        [
         "0000-0003-4589-2420",
         "Jimmy Zhang",
         3
        ],
        [
         "0000-0003-4271-8910",
         "Mahmood Naderi",
         0
        ],
        [
         "0009-0001-8680-5525",
         "S E Banner",
         1
        ],
        [
         "0000-0001-5278-2794",
         "Fidel Molina-Luque",
         13
        ],
        [
         "0000-0003-4551-5721",
         "Xizi Zhang",
         6
        ],
        [
         "0009-0000-9587-1439",
         "Riekje Biermann",
         1
        ],
        [
         "0000-0002-5360-2553",
         "Arun Samidurai",
         1
        ],
        [
         "0009-0007-3090-2442",
         "Kukuh Waseso Jati Pangestu",
         1
        ],
        [
         "0000-0001-5641-9562",
         "Javiera Cornejo",
         3
        ],
        [
         "0000-0002-3057-1328",
         "Alessia Irrera",
         6
        ],
        [
         "0000-0002-7181-9510",
         "María Angelina Quevedo-Ramos",
         8
        ],
        [
         "0000-0002-9715-8634",
         "Lindsey Sikora",
         16
        ],
        [
         "0000-0003-4396-9623",
         "Jesús Guadalupe González-Jasso",
         5
        ],
        [
         "0000-0003-0050-7509",
         "Jie Han",
         8
        ],
        [
         "0000-0001-6752-6056",
         "Denise Mafra",
         16
        ],
        [
         "0000-0001-6752-6056",
         "D Mafra",
         16
        ],
        [
         "0000-0002-3183-8741",
         "Yifei Jin",
         1
        ],
        [
         "0009-0000-0738-7744",
         "Katherine Cherry",
         9
        ],
        [
         "0000-0003-3020-3979",
         "Wojciech Lisik",
         12
        ],
        [
         "0000-0002-0612-3218",
         "Wang Zhizhong",
         1
        ],
        [
         "0000-0002-1526-7977",
         "Buhari Teker",
         2
        ],
        [
         "0000-0002-0612-3218",
         "Zhizhong Wang",
         1
        ],
        [
         "0000-0003-0360-7820",
         "Omer Mohammed Jamali",
         3
        ],
        [
         "0000-0002-7374-8912",
         "Nele Famaey",
         5
        ],
        [
         "0000-0003-2785-4201",
         "Petra Geiser",
         18
        ],
        [
         "0000-0002-9276-0722",
         "Mingqing Li",
         10
        ],
        [
         "0000-0002-9276-0722",
         "Ming-Qing Li",
         10
        ],
        [
         "0000-0002-6954-9857",
         "Daniel I Goldman",
         7
        ],
        [
         "0000-0003-2225-8814",
         "Mikiko Watanabe",
         12
        ],
        [
         "0000-0002-9936-0887",
         "Gabriela Teixeira Gonçalves",
         4
        ],
        [
         "0000-0002-7328-4994",
         "Zhenhua Zhang",
         1
        ],
        [
         "0000-0001-5918-1078",
         "Yunlong Cao",
         9
        ],
        [
         "0000-0002-5259-9946",
         "India Pinhorn",
         2
        ],
        [
         "0000-0003-4967-2505",
         "Makarios Eleftheriades",
         7
        ],
        [
         "0000-0003-3776-3442",
         "Max Schnoll",
         6
        ],
        [
         "0000-0003-2425-2037",
         "Uendy Pérez-Lozano",
         6
        ],
        [
         "0000-0002-8125-4584",
         "Faith Gibson",
         14
        ],
        [
         "0000-0002-1455-1503",
         "Nikolaos Tsoukalas",
         10
        ],
        [
         "0009-0008-3663-8854",
         "Krishna Jafa",
         22
        ],
        [
         "0000-0002-6795-5026",
         "Sonia Thankachy",
         0
        ],
        [
         "0000-0001-8607-3195",
         "Vicente Gea-Caballero",
         30
        ],
        [
         "0000-0002-2631-0029",
         "Vincent Bourbonne",
         8
        ],
        [
         "0000-0002-4940-6998",
         "Corinna Hackmann",
         6
        ],
        [
         "0000-0001-8993-3314",
         "Károly Antal",
         3
        ],
        [
         "0000-0002-9074-2803",
         "Marta Waliszewska-Prosół",
         3
        ],
        [
         "0000-0002-9823-1047",
         "M A Yushkina",
         12
        ],
        [
         "0000-0003-0527-7634",
         "Wesley Wilian Costa Martins",
         5
        ],
        [
         "0000-0003-4961-2051",
         "E A Ivanova",
         2
        ],
        [
         "0000-0003-3754-7328",
         "Holly M Cassell",
         6
        ],
        [
         "0000-0002-2689-3340",
         "Suzanna L Attia",
         1
        ],
        [
         "0000-0002-2093-8659",
         "Mihai Dimian",
         7
        ],
        [
         "0000-0002-8514-9861",
         "Stephen Yip",
         24
        ],
        [
         "0000-0003-0185-0966",
         "Shan Wu",
         5
        ],
        [
         "0000-0002-8773-9750",
         "Catherine M Said",
         31
        ],
        [
         "0000-0003-2749-8163",
         "Chanyoung Kim",
         6
        ]
       ],
       "datasetInfos": [],
       "dbfsResultPath": null,
       "isJsonSchema": true,
       "metadata": {},
       "overflow": false,
       "plotOptions": {
        "customPlotOptions": {},
        "displayType": "table",
        "pivotAggregation": null,
        "pivotColumns": null,
        "xColumns": null,
        "yColumns": null
       },
       "removedWidgets": [],
       "schema": [
        {
         "metadata": "{}",
         "name": "orcid",
         "type": "\"string\""
        },
        {
         "metadata": "{}",
         "name": "author_name",
         "type": "\"string\""
        },
        {
         "metadata": "{}",
         "name": "degree",
         "type": "\"long\""
        }
       ],
       "type": "table"
      }
     },
     "output_type": "display_data"
    },
    {
     "output_type": "display_data",
     "data": {
      "text/html": [
       "<style scoped>\n",
       "  .table-result-container {\n",
       "    max-height: 300px;\n",
       "    overflow: auto;\n",
       "  }\n",
       "  table, th, td {\n",
       "    border: 1px solid black;\n",
       "    border-collapse: collapse;\n",
       "  }\n",
       "  th, td {\n",
       "    padding: 5px;\n",
       "  }\n",
       "  th {\n",
       "    text-align: left;\n",
       "  }\n",
       "</style><div class='table-result-container'><table class='table-result'><thead style='background-color: white'><tr><th>src</th><th>dst</th><th>weight</th></tr></thead><tbody><tr><td>0000-0003-4829-5955</td><td>0009-0001-1758-9910</td><td>1</td></tr><tr><td>0000-0002-9715-8634</td><td>0009-0000-0738-7744</td><td>1</td></tr><tr><td>0000-0003-4481-1289</td><td>0009-0003-3405-0372</td><td>1</td></tr><tr><td>0009-0007-9850-3376</td><td>0009-0008-3663-8854</td><td>2</td></tr><tr><td>0000-0001-5278-2794</td><td>0000-0001-8607-3195</td><td>1</td></tr><tr><td>0000-0003-1459-4527</td><td>0000-0003-4396-9623</td><td>1</td></tr></tbody></table></div>"
      ]
     },
     "metadata": {
      "application/vnd.databricks.v1+output": {
       "addedWidgets": {},
       "aggData": [],
       "aggError": "",
       "aggOverflow": false,
       "aggSchema": [],
       "aggSeriesLimitReached": false,
       "aggType": "",
       "arguments": {},
       "columnCustomDisplayInfos": {},
       "data": [
        [
         "0000-0003-4829-5955",
         "0009-0001-1758-9910",
         1
        ],
        [
         "0000-0002-9715-8634",
         "0009-0000-0738-7744",
         1
        ],
        [
         "0000-0003-4481-1289",
         "0009-0003-3405-0372",
         1
        ],
        [
         "0009-0007-9850-3376",
         "0009-0008-3663-8854",
         2
        ],
        [
         "0000-0001-5278-2794",
         "0000-0001-8607-3195",
         1
        ],
        [
         "0000-0003-1459-4527",
         "0000-0003-4396-9623",
         1
        ]
       ],
       "datasetInfos": [],
       "dbfsResultPath": null,
       "isJsonSchema": true,
       "metadata": {},
       "overflow": false,
       "plotOptions": {
        "customPlotOptions": {},
        "displayType": "table",
        "pivotAggregation": null,
        "pivotColumns": null,
        "xColumns": null,
        "yColumns": null
       },
       "removedWidgets": [],
       "schema": [
        {
         "metadata": "{}",
         "name": "src",
         "type": "\"string\""
        },
        {
         "metadata": "{}",
         "name": "dst",
         "type": "\"string\""
        },
        {
         "metadata": "{}",
         "name": "weight",
         "type": "\"long\""
        }
       ],
       "type": "table"
      }
     },
     "output_type": "display_data"
    }
   ],
   "source": [
    "\n",
    "\n",
    "from pyspark.sql.functions import explode, col, regexp_replace, count, coalesce\n",
    "\n",
    "# 1. Leer tabla con autores\n",
    "df_pubmed = spark.table(\"pubmed_db.coautor_2023\")\n",
    "\n",
    "# 2. Explode autores, filtrar ORCID válido\n",
    "df_authors = df_pubmed.select(\"pmid\", explode(\"authors\").alias(\"author\")) \\\n",
    "    .select(\n",
    "        \"pmid\",\n",
    "        regexp_replace(col(\"author.orcid\"), \"https://orcid.org/\", \"\").alias(\"orcid\"),\n",
    "        col(\"author.fullname\").alias(\"author_name\")\n",
    "    ).filter(col(\"orcid\").rlike(\"^[0-9]{4}-[0-9]{4}-[0-9]{4}-[0-9]{4}$\"))\n",
    "\n",
    "# 3. Crear aristas de coautoría (pares de ORCID por artículo)\n",
    "df_edges = df_authors.alias(\"a1\").join(df_authors.alias(\"a2\"), on=\"pmid\") \\\n",
    "    .filter(col(\"a1.orcid\") < col(\"a2.orcid\")) \\\n",
    "    .select(col(\"a1.orcid\").alias(\"src\"), col(\"a2.orcid\").alias(\"dst\"))\n",
    "\n",
    "# 4. Calcular peso (número de colaboraciones)\n",
    "df_weighted_edges = df_edges.groupBy(\"src\", \"dst\").count().withColumnRenamed(\"count\", \"weight\")\n",
    "\n",
    "# 5. Calcular grado para cada autor\n",
    "df_degree_src = df_weighted_edges.groupBy(\"src\").agg(count(\"*\").alias(\"degree_src\"))\n",
    "df_degree_dst = df_weighted_edges.groupBy(\"dst\").agg(count(\"*\").alias(\"degree_dst\"))\n",
    "\n",
    "df_degree = df_degree_src.join(df_degree_dst, df_degree_src.src == df_degree_dst.dst, \"full_outer\") \\\n",
    "    .selectExpr(\n",
    "        \"coalesce(src, dst) as orcid\",\n",
    "        \"coalesce(degree_src, 0) + coalesce(degree_dst, 0) as degree\"\n",
    "    )\n",
    "\n",
    "# 6. Unir nombres y grado\n",
    "df_authors_unique = df_authors.select(\"orcid\", \"author_name\").distinct()\n",
    "\n",
    "df_nodes = df_authors_unique.join(df_degree, on=\"orcid\", how=\"left\").fillna(0)\n",
    "\n",
    "# 7. Guardar tablas en Delta (reemplaza rutas según tu workspace)\n",
    "df_nodes.write.format(\"delta\").mode(\"overwrite\").saveAsTable(\"pubmed_coauthor_nodes_2023\")\n",
    "df_weighted_edges.write.format(\"delta\").mode(\"overwrite\").saveAsTable(\"pubmed_coauthor_edges_2023\")\n",
    "\n",
    "# 8. Mostrar muestra pequeña para visualización (100 nodos + aristas relacionadas)\n",
    "sample_nodes = df_nodes.limit(100).select(\"orcid\").collect()\n",
    "sample_ids = [row[\"orcid\"] for row in sample_nodes]\n",
    "\n",
    "sample_edges = df_weighted_edges \\\n",
    "    .filter((col(\"src\").isin(sample_ids)) & (col(\"dst\").isin(sample_ids)))\n",
    "\n",
    "display(df_nodes.filter(col(\"orcid\").isin(sample_ids)))\n",
    "display(sample_edges)"
   ]
  },
  {
   "cell_type": "markdown",
   "metadata": {
    "application/vnd.databricks.v1+cell": {
     "cellMetadata": {},
     "inputWidgets": {},
     "nuid": "f4884242-40e5-4a04-9597-fbf80b96b0db",
     "showTitle": false,
     "tableResultSettingsMap": {},
     "title": ""
    }
   },
   "source": [
    "## Crear **visualizaacion**"
   ]
  },
  {
   "cell_type": "code",
   "execution_count": 0,
   "metadata": {
    "application/vnd.databricks.v1+cell": {
     "cellMetadata": {
      "byteLimit": 2048000,
      "rowLimit": 10000
     },
     "inputWidgets": {},
     "nuid": "c5baff90-fde4-4376-9074-ffdb55873273",
     "showTitle": false,
     "tableResultSettingsMap": {},
     "title": ""
    }
   },
   "outputs": [
    {
     "output_type": "stream",
     "name": "stderr",
     "output_type": "stream",
     "text": [
      "/root/.ipykernel/1606/command-4367526046110856-1061313050:28: MatplotlibDeprecationWarning: The get_cmap function was deprecated in Matplotlib 3.7 and will be removed two minor releases later. Use ``matplotlib.colormaps[name]`` or ``matplotlib.colormaps.get_cmap(obj)`` instead.\n  cmap_nodes = cm.get_cmap('viridis')\n/root/.ipykernel/1606/command-4367526046110856-1061313050:45: MatplotlibDeprecationWarning: The get_cmap function was deprecated in Matplotlib 3.7 and will be removed two minor releases later. Use ``matplotlib.colormaps[name]`` or ``matplotlib.colormaps.get_cmap(obj)`` instead.\n  cmap_edges = cm.get_cmap('plasma')\n"
     ]
    },
    {
     "output_type": "stream",
     "name": "stdout",
     "output_type": "stream",
     "text": [
      "✅ GEXF exportado: /dbfs/FileStore/pubmed/sample_graph_topN_viz_2023.gexf\n"
     ]
    }
   ],
   "source": [
    "\n",
    "\n",
    "# ------------------------------\n",
    "# 0) Librerías\n",
    "# ------------------------------\n",
    "import networkx as nx\n",
    "import pandas as pd\n",
    "import matplotlib.cm as cm\n",
    "import matplotlib.colors as mcolors\n",
    "from pyspark.sql.functions import col\n",
    "\n",
    "# ------------------------------\n",
    "# 1) Pasa muestra a Pandas\n",
    "# ------------------------------\n",
    "# Filtra solo los nodos en la muestra (por ejemplo ORCID)\n",
    "nodes_pd = df_nodes.filter(col(\"orcid\").isin(sample_ids)).toPandas()\n",
    "\n",
    "# Filtra TOP N coautorías (mayores pesos)\n",
    "TOP_N = 20\n",
    "edges_pd = sample_edges.orderBy(col(\"weight\").desc()).limit(TOP_N).toPandas()\n",
    "\n",
    "# ------------------------------\n",
    "# 2) Normalizar degree → tamaño y color de nodos\n",
    "# ------------------------------\n",
    "max_degree = nodes_pd[\"degree\"].max()\n",
    "nodes_pd[\"viz_size\"] = nodes_pd[\"degree\"] / max_degree * 30  # Tamaño máx ajusta a gusto (p.ej. 30)\n",
    "\n",
    "# Paleta viridis para nodos\n",
    "norm_degree = mcolors.Normalize(vmin=0, vmax=max_degree)\n",
    "cmap_nodes = cm.get_cmap('viridis')\n",
    "\n",
    "def degree_to_color(degree):\n",
    "    rgba = cmap_nodes(norm_degree(degree))\n",
    "    r, g, b, a = [int(255*x) if i < 3 else x for i, x in enumerate(rgba)]\n",
    "    return {'r': r, 'g': g, 'b': b, 'a': a}\n",
    "\n",
    "nodes_pd[\"viz_color\"] = nodes_pd[\"degree\"].apply(degree_to_color)\n",
    "\n",
    "# ------------------------------\n",
    "# 3) Normalizar weight → grosor y color de aristas\n",
    "# ------------------------------\n",
    "max_weight = edges_pd[\"weight\"].max()\n",
    "edges_pd[\"viz_thickness\"] = edges_pd[\"weight\"] / max_weight * 10  # Grosor máx 10\n",
    "\n",
    "# Paleta plasma para aristas\n",
    "norm_weight = mcolors.Normalize(vmin=0, vmax=max_weight)\n",
    "cmap_edges = cm.get_cmap('plasma')\n",
    "\n",
    "def weight_to_color(weight):\n",
    "    rgba = cmap_edges(norm_weight(weight))\n",
    "    r, g, b, a = [int(255*x) if i < 3 else x for i, x in enumerate(rgba)]\n",
    "    return {'r': r, 'g': g, 'b': b, 'a': a}\n",
    "\n",
    "edges_pd[\"viz_color\"] = edges_pd[\"weight\"].apply(weight_to_color)\n",
    "\n",
    "# ------------------------------\n",
    "# 4) Crear grafo con viz\n",
    "# ------------------------------\n",
    "G = nx.Graph()\n",
    "\n",
    "# Añadir nodos con label y tamaño\n",
    "for idx, row in nodes_pd.iterrows():\n",
    "    G.add_node(\n",
    "        row[\"orcid\"],\n",
    "        label=row[\"author_name\"],\n",
    "        degree=row[\"degree\"],\n",
    "        viz={'size': row[\"viz_size\"], 'color': row[\"viz_color\"]}\n",
    "    )\n",
    "\n",
    "# Añadir solo aristas TOP N\n",
    "for idx, row in edges_pd.iterrows():\n",
    "    G.add_edge(\n",
    "        row[\"src\"],\n",
    "        row[\"dst\"],\n",
    "        weight=row[\"weight\"],\n",
    "        viz={'thickness': row[\"viz_thickness\"], 'color': row[\"viz_color\"]}\n",
    "    )\n",
    "\n",
    "# ------------------------------\n",
    "# 5) Guardar GEXF listo para Gephi\n",
    "# ------------------------------\n",
    "nx.write_gexf(G, \"/dbfs/FileStore/pubmed/sample_graph_topN_viz_2023.gexf\")\n",
    "\n",
    "print(\"✅ GEXF exportado: /dbfs/FileStore/pubmed/sample_graph_topN_viz_2023.gexf\")\n",
    "\n",
    "\n",
    "## https://3132215626649366.6.gcp.databricks.com/files/pubmed/sample_graph_topN_viz_2023.gexf"
   ]
  }
 ],
 "metadata": {
  "application/vnd.databricks.v1+notebook": {
   "computePreferences": null,
   "dashboards": [],
   "environmentMetadata": {
    "base_environment": "",
    "environment_version": "2"
   },
   "inputWidgetPreferences": null,
   "language": "python",
   "notebookMetadata": {
    "mostRecentlyExecutedCommandWithImplicitDF": {
     "commandId": 4367526046110852,
     "dataframes": [
      "_sqldf"
     ]
    },
    "pythonIndentUnit": 4
   },
   "notebookName": "COAUTOR_2023",
   "widgets": {}
  },
  "language_info": {
   "name": "python"
  }
 },
 "nbformat": 4,
 "nbformat_minor": 0
}