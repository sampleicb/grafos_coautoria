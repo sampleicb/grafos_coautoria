{
 "cells": [
  {
   "cell_type": "code",
   "execution_count": 0,
   "metadata": {
    "application/vnd.databricks.v1+cell": {
     "cellMetadata": {
      "byteLimit": 2048000,
      "implicitDf": true,
      "rowLimit": 10000
     },
     "inputWidgets": {},
     "nuid": "7ed557d4-17f2-4668-bd61-cb40414d1f79",
     "showTitle": false,
     "tableResultSettingsMap": {},
     "title": ""
    }
   },
   "outputs": [
    {
     "output_type": "display_data",
     "data": {
      "text/html": [
       "<style scoped>\n",
       "  .table-result-container {\n",
       "    max-height: 300px;\n",
       "    overflow: auto;\n",
       "  }\n",
       "  table, th, td {\n",
       "    border: 1px solid black;\n",
       "    border-collapse: collapse;\n",
       "  }\n",
       "  th, td {\n",
       "    padding: 5px;\n",
       "  }\n",
       "  th {\n",
       "    text-align: left;\n",
       "  }\n",
       "</style><div class='table-result-container'><table class='table-result'><thead style='background-color: white'><tr><th>pmid</th><th>count(DISTINCT author.orcid)</th></tr></thead><tbody><tr><td>35178824</td><td>1</td></tr><tr><td>38000386</td><td>1</td></tr><tr><td>38260283</td><td>1</td></tr><tr><td>35639768</td><td>1</td></tr><tr><td>34940725</td><td>1</td></tr><tr><td>32660516</td><td>1</td></tr><tr><td>35872606</td><td>1</td></tr><tr><td>38712026</td><td>1</td></tr><tr><td>39345458</td><td>1</td></tr><tr><td>37953324</td><td>1</td></tr><tr><td>38854034</td><td>1</td></tr><tr><td>37196000</td><td>1</td></tr><tr><td>38913850</td><td>1</td></tr><tr><td>35524573</td><td>1</td></tr><tr><td>34240108</td><td>1</td></tr><tr><td>34117224</td><td>1</td></tr><tr><td>37684057</td><td>1</td></tr><tr><td>38915571</td><td>1</td></tr><tr><td>38001031</td><td>1</td></tr><tr><td>38383067</td><td>1</td></tr><tr><td>37647632</td><td>1</td></tr><tr><td>39228707</td><td>1</td></tr><tr><td>38242839</td><td>1</td></tr><tr><td>35391505</td><td>1</td></tr><tr><td>35570298</td><td>1</td></tr><tr><td>32019583</td><td>1</td></tr><tr><td>39108510</td><td>1</td></tr><tr><td>36380762</td><td>1</td></tr><tr><td>37503093</td><td>1</td></tr><tr><td>35484572</td><td>1</td></tr><tr><td>38617362</td><td>1</td></tr><tr><td>35665012</td><td>1</td></tr><tr><td>32340307</td><td>1</td></tr><tr><td>39005436</td><td>1</td></tr><tr><td>39082680</td><td>1</td></tr><tr><td>36929917</td><td>1</td></tr><tr><td>34758253</td><td>1</td></tr><tr><td>37389415</td><td>1</td></tr><tr><td>33471061</td><td>1</td></tr><tr><td>33949685</td><td>1</td></tr></tbody></table></div>"
      ]
     },
     "metadata": {
      "application/vnd.databricks.v1+output": {
       "addedWidgets": {},
       "aggData": [],
       "aggError": "",
       "aggOverflow": false,
       "aggSchema": [],
       "aggSeriesLimitReached": false,
       "aggType": "",
       "arguments": {},
       "columnCustomDisplayInfos": {},
       "data": [
        [
         "35178824",
         1
        ],
        [
         "38000386",
         1
        ],
        [
         "38260283",
         1
        ],
        [
         "35639768",
         1
        ],
        [
         "34940725",
         1
        ],
        [
         "32660516",
         1
        ],
        [
         "35872606",
         1
        ],
        [
         "38712026",
         1
        ],
        [
         "39345458",
         1
        ],
        [
         "37953324",
         1
        ],
        [
         "38854034",
         1
        ],
        [
         "37196000",
         1
        ],
        [
         "38913850",
         1
        ],
        [
         "35524573",
         1
        ],
        [
         "34240108",
         1
        ],
        [
         "34117224",
         1
        ],
        [
         "37684057",
         1
        ],
        [
         "38915571",
         1
        ],
        [
         "38001031",
         1
        ],
        [
         "38383067",
         1
        ],
        [
         "37647632",
         1
        ],
        [
         "39228707",
         1
        ],
        [
         "38242839",
         1
        ],
        [
         "35391505",
         1
        ],
        [
         "35570298",
         1
        ],
        [
         "32019583",
         1
        ],
        [
         "39108510",
         1
        ],
        [
         "36380762",
         1
        ],
        [
         "37503093",
         1
        ],
        [
         "35484572",
         1
        ],
        [
         "38617362",
         1
        ],
        [
         "35665012",
         1
        ],
        [
         "32340307",
         1
        ],
        [
         "39005436",
         1
        ],
        [
         "39082680",
         1
        ],
        [
         "36929917",
         1
        ],
        [
         "34758253",
         1
        ],
        [
         "37389415",
         1
        ],
        [
         "33471061",
         1
        ],
        [
         "33949685",
         1
        ]
       ],
       "datasetInfos": [
        {
         "name": "_sqldf",
         "schema": {
          "fields": [
           {
            "metadata": {},
            "name": "pmid",
            "nullable": true,
            "type": "string"
           },
           {
            "metadata": {
             "__autoGeneratedAlias": "true"
            },
            "name": "count(DISTINCT author.orcid)",
            "nullable": false,
            "type": "long"
           }
          ],
          "type": "struct"
         },
         "tableIdentifier": null,
         "typeStr": "pyspark.sql.dataframe.DataFrame"
        }
       ],
       "dbfsResultPath": null,
       "isJsonSchema": true,
       "metadata": {
        "createTempViewForImplicitDf": true,
        "dataframeName": "_sqldf",
        "executionCount": 1
       },
       "overflow": false,
       "plotOptions": {
        "customPlotOptions": {},
        "displayType": "table",
        "pivotAggregation": null,
        "pivotColumns": null,
        "xColumns": null,
        "yColumns": null
       },
       "removedWidgets": [],
       "schema": [
        {
         "metadata": "{}",
         "name": "pmid",
         "type": "\"string\""
        },
        {
         "metadata": "{\"__autoGeneratedAlias\":\"true\"}",
         "name": "count(DISTINCT author.orcid)",
         "type": "\"long\""
        }
       ],
       "type": "table"
      }
     },
     "output_type": "display_data"
    }
   ],
   "source": [
    "%sql\n",
    "SELECT pmid, count(distinct author.orcid)\n",
    "FROM pubmed_temp_filtrado\n",
    "LATERAL VIEW EXPLODE(authors) AS author\n",
    "WHERE --substr(year, 1, 4) = '2024'\n",
    "  author.orcid in (  '0000-0002-0736-9199' )\n",
    "group by pmid\n",
    "\n",
    "\n",
    "  \n"
   ]
  },
  {
   "cell_type": "code",
   "execution_count": 0,
   "metadata": {
    "application/vnd.databricks.v1+cell": {
     "cellMetadata": {
      "byteLimit": 2048000,
      "implicitDf": true,
      "rowLimit": 10000
     },
     "inputWidgets": {},
     "nuid": "937fada3-93b1-4a9c-932c-dad96da63055",
     "showTitle": false,
     "tableResultSettingsMap": {},
     "title": ""
    }
   },
   "outputs": [
    {
     "output_type": "display_data",
     "data": {
      "text/html": [
       "<style scoped>\n",
       "  .table-result-container {\n",
       "    max-height: 300px;\n",
       "    overflow: auto;\n",
       "  }\n",
       "  table, th, td {\n",
       "    border: 1px solid black;\n",
       "    border-collapse: collapse;\n",
       "  }\n",
       "  th, td {\n",
       "    padding: 5px;\n",
       "  }\n",
       "  th {\n",
       "    text-align: left;\n",
       "  }\n",
       "</style><div class='table-result-container'><table class='table-result'><thead style='background-color: white'><tr><th>num_affected_rows</th><th>num_inserted_rows</th></tr></thead><tbody></tbody></table></div>"
      ]
     },
     "metadata": {
      "application/vnd.databricks.v1+output": {
       "addedWidgets": {},
       "aggData": [],
       "aggError": "",
       "aggOverflow": false,
       "aggSchema": [],
       "aggSeriesLimitReached": false,
       "aggType": "",
       "arguments": {},
       "columnCustomDisplayInfos": {},
       "data": [],
       "datasetInfos": [
        {
         "name": "_sqldf",
         "schema": {
          "fields": [
           {
            "metadata": {},
            "name": "num_affected_rows",
            "nullable": true,
            "type": "long"
           },
           {
            "metadata": {},
            "name": "num_inserted_rows",
            "nullable": true,
            "type": "long"
           }
          ],
          "type": "struct"
         },
         "tableIdentifier": null,
         "typeStr": "pyspark.sql.dataframe.DataFrame"
        }
       ],
       "dbfsResultPath": null,
       "isJsonSchema": true,
       "metadata": {
        "createTempViewForImplicitDf": true,
        "dataframeName": "_sqldf",
        "executionCount": 2
       },
       "overflow": false,
       "plotOptions": {
        "customPlotOptions": {},
        "displayType": "table",
        "pivotAggregation": null,
        "pivotColumns": null,
        "xColumns": null,
        "yColumns": null
       },
       "removedWidgets": [],
       "schema": [
        {
         "metadata": "{}",
         "name": "num_affected_rows",
         "type": "\"long\""
        },
        {
         "metadata": "{}",
         "name": "num_inserted_rows",
         "type": "\"long\""
        }
       ],
       "type": "table"
      }
     },
     "output_type": "display_data"
    }
   ],
   "source": [
    "%sql\n",
    "create or replace table pubmed_db.coautor_2025\n",
    "select distinct pmid, substr(year, 1, 4) AS year, authors from pubmed_temp_filtrado\n",
    "where  substr(year,1,4) = 2025 and authors.orcid is not null\n"
   ]
  },
  {
   "cell_type": "markdown",
   "metadata": {
    "application/vnd.databricks.v1+cell": {
     "cellMetadata": {
      "byteLimit": 2048000,
      "rowLimit": 10000
     },
     "inputWidgets": {},
     "nuid": "f07960f2-1505-46b7-9bd4-c925bc1f6c09",
     "showTitle": false,
     "tableResultSettingsMap": {},
     "title": ""
    }
   },
   "source": [
    "## CREAR ARISTAS Y NODOS"
   ]
  },
  {
   "cell_type": "code",
   "execution_count": 0,
   "metadata": {
    "application/vnd.databricks.v1+cell": {
     "cellMetadata": {
      "byteLimit": 2048000,
      "rowLimit": 10000
     },
     "inputWidgets": {},
     "nuid": "7ffea072-9d4b-49d9-9df1-ef45afb4bfd1",
     "showTitle": false,
     "tableResultSettingsMap": {},
     "title": ""
    }
   },
   "outputs": [
    {
     "output_type": "display_data",
     "data": {
      "text/html": [
       "<style scoped>\n",
       "  .table-result-container {\n",
       "    max-height: 300px;\n",
       "    overflow: auto;\n",
       "  }\n",
       "  table, th, td {\n",
       "    border: 1px solid black;\n",
       "    border-collapse: collapse;\n",
       "  }\n",
       "  th, td {\n",
       "    padding: 5px;\n",
       "  }\n",
       "  th {\n",
       "    text-align: left;\n",
       "  }\n",
       "</style><div class='table-result-container'><table class='table-result'><thead style='background-color: white'><tr><th>orcid</th><th>author_name</th><th>degree</th></tr></thead><tbody><tr><td>0000-0001-9179-6371</td><td>Javier García-Pardo</td><td>1</td></tr><tr><td>0000-0002-3209-2208</td><td>Masanori Obana</td><td>3</td></tr><tr><td>0000-0003-2193-1712</td><td>Xiaoya Shang</td><td>0</td></tr><tr><td>0000-0003-4017-2520</td><td>Wenjun Li</td><td>3</td></tr><tr><td>0009-0008-2416-3732</td><td>Khadija Serghini Rousseau</td><td>3</td></tr><tr><td>0000-0001-9480-3848</td><td>Mariam Anjum</td><td>2</td></tr><tr><td>0009-0002-2450-5663</td><td>Emily Dzongowski</td><td>1</td></tr><tr><td>0000-0003-0341-7445</td><td>Inge M W Verberk</td><td>6</td></tr><tr><td>0009-0002-1514-8385</td><td>Maike Stein</td><td>10</td></tr><tr><td>0000-0003-1489-0879</td><td>Li Zhang</td><td>1</td></tr><tr><td>0000-0001-6369-4570</td><td>Kimberly Williams</td><td>4</td></tr><tr><td>0000-0002-9237-0628</td><td>Horace Roman</td><td>3</td></tr><tr><td>0000-0002-8696-5211</td><td>Luciana Catanese</td><td>20</td></tr><tr><td>0000-0001-5691-8097</td><td>Karel van Duijvenboden</td><td>28</td></tr><tr><td>0000-0002-0620-6056</td><td>Nuala Ann Healy</td><td>1</td></tr><tr><td>0000-0003-0256-3133</td><td>Tali Tal</td><td>2</td></tr><tr><td>0000-0002-8562-0385</td><td>Alex Vickery</td><td>0</td></tr><tr><td>0009-0004-7816-0546</td><td>Jack Bone</td><td>0</td></tr><tr><td>0000-0003-1675-8417</td><td>Irl B Hirsch</td><td>7</td></tr><tr><td>0000-0003-1675-8417</td><td>Irl Hirsch</td><td>7</td></tr><tr><td>0000-0002-8277-6253</td><td>Dudu Karakaya</td><td>1</td></tr><tr><td>0000-0002-3315-7739</td><td>Avir Sarkar</td><td>0</td></tr><tr><td>0000-0003-4245-4548</td><td>Ifran Saleh</td><td>6</td></tr><tr><td>0009-0009-5585-0866</td><td>Chengyan Lv</td><td>7</td></tr><tr><td>0000-0002-5469-9609</td><td>Rik Willems</td><td>6</td></tr><tr><td>0000-0003-1937-8313</td><td>Evrim Yilmaz</td><td>2</td></tr><tr><td>0000-0001-6403-7302</td><td>Carlos Fernando Ceballos-González</td><td>8</td></tr><tr><td>0000-0002-8314-0927</td><td>Marianne Schultzberg</td><td>1</td></tr><tr><td>0009-0001-4023-8246</td><td>Kaili Duan</td><td>0</td></tr><tr><td>0000-0003-3449-7978</td><td>Fahad Khan</td><td>0</td></tr><tr><td>0000-0003-0608-2134</td><td>Ross N Crowhurst</td><td>12</td></tr><tr><td>0000-0002-1476-1850</td><td>Andrew G Woodman</td><td>5</td></tr><tr><td>0000-0002-8198-0826</td><td>Malia Jones</td><td>1</td></tr><tr><td>0000-0002-0619-8121</td><td>Zaijing Sun</td><td>0</td></tr><tr><td>0000-0003-4982-1611</td><td>Yusri</td><td>0</td></tr><tr><td>0000-0002-8020-4884</td><td>Ayşe Semra Hız</td><td>5</td></tr><tr><td>0000-0002-5352-5674</td><td>Nicolas Dimopoulos</td><td>5</td></tr><tr><td>0000-0002-0275-7221</td><td>Simona Greco</td><td>13</td></tr><tr><td>0000-0003-2942-1362</td><td>Nil Albiol</td><td>2</td></tr><tr><td>0000-0002-3560-7545</td><td>Teresita de J Martínez-Contreras</td><td>6</td></tr><tr><td>0000-0001-8086-6522</td><td>Zhaohuan Zhang</td><td>7</td></tr><tr><td>0000-0002-8918-7523</td><td>Songji Li</td><td>1</td></tr><tr><td>0000-0002-5912-4871</td><td>Qiyong Gong</td><td>2</td></tr><tr><td>0000-0002-3162-4890</td><td>Flávia Cristina de Paula Freitas</td><td>5</td></tr><tr><td>0000-0001-5502-5975</td><td>M Hassan Murad</td><td>10</td></tr><tr><td>0000-0002-5313-4323</td><td>Haileigh R Patterson</td><td>12</td></tr><tr><td>0000-0003-0417-7607</td><td>Sanjay H Chotirmall</td><td>4</td></tr><tr><td>0000-0003-1387-7904</td><td>Ranjith Ramasamy</td><td>4</td></tr><tr><td>0000-0002-3291-2958</td><td>Kay Cheong Teo</td><td>4</td></tr><tr><td>0000-0002-9243-4943</td><td>Metin Caliskan</td><td>3</td></tr><tr><td>0000-0002-3175-2649</td><td>Mariana M Vasconcellos</td><td>4</td></tr><tr><td>0000-0002-6709-4078</td><td>Christopher W Sundberg</td><td>4</td></tr><tr><td>0000-0002-0017-3273</td><td>Edson Santos Ferreira-Filho</td><td>3</td></tr><tr><td>0000-0001-5551-7507</td><td>Alvin W M Tan</td><td>88</td></tr><tr><td>0000-0001-9315-2414</td><td>Lisa Barroilhet</td><td>17</td></tr><tr><td>0000-0001-7338-7734</td><td>M Böhm</td><td>0</td></tr><tr><td>0000-0003-3602-9182</td><td>Alenka Seliškar</td><td>1</td></tr><tr><td>0009-0001-4645-6447</td><td>Sarka Vosahlikova</td><td>24</td></tr><tr><td>0000-0002-5448-9775</td><td>Amber M Davis</td><td>0</td></tr><tr><td>0000-0002-9839-3812</td><td>Jens Børglum</td><td>5</td></tr><tr><td>0000-0002-2724-4502</td><td>Paulien H M Voorter</td><td>19</td></tr><tr><td>0000-0002-7905-4380</td><td>Se Hoon Choi</td><td>0</td></tr><tr><td>0000-0002-8337-5822</td><td>Amanda M Woodward</td><td>88</td></tr><tr><td>0000-0003-2366-8225</td><td>Derek J Fisher</td><td>4</td></tr><tr><td>0000-0001-8532-9339</td><td>Pei Han</td><td>5</td></tr><tr><td>0000-0002-5603-7270</td><td>Yuki Ohya</td><td>0</td></tr><tr><td>0000-0002-4117-3501</td><td>Christos Rahiotis</td><td>3</td></tr><tr><td>0000-0002-1506-6454</td><td>Mai Mohammed Elgohary</td><td>3</td></tr><tr><td>0000-0001-8464-5487</td><td>Sercin Ozlem-Caliskan</td><td>3</td></tr><tr><td>0000-0001-9416-2438</td><td>Attila Bokor</td><td>2</td></tr><tr><td>0000-0001-7226-1830</td><td>Bengisu Tulu</td><td>4</td></tr><tr><td>0000-0003-0831-3354</td><td>Melanie E Hoste</td><td>2</td></tr><tr><td>0009-0001-2213-7839</td><td>Sebastian Scheliga</td><td>0</td></tr><tr><td>0000-0003-1463-3610</td><td>Fan Fan</td><td>0</td></tr><tr><td>0000-0001-9001-8164</td><td>Mary Ann Augustin</td><td>1</td></tr><tr><td>0000-0001-6409-1333</td><td>Bachir Taouli</td><td>13</td></tr><tr><td>0000-0002-1567-4935</td><td>Faris M Elmahdi</td><td>0</td></tr><tr><td>0000-0003-1240-4929</td><td>Jingyuan Xu</td><td>2</td></tr><tr><td>0000-0002-5441-4191</td><td>Kaleigh Barnett</td><td>2</td></tr><tr><td>0009-0001-0776-3508</td><td>Thomas Körtl</td><td>4</td></tr><tr><td>0000-0002-9716-8146</td><td>Juan Carlos Zenteno</td><td>1</td></tr><tr><td>0000-0002-9361-2342</td><td>Jeremy Yuen-Chun Teoh</td><td>18</td></tr><tr><td>0000-0002-9361-2342</td><td>Jeremy Teoh</td><td>18</td></tr><tr><td>0000-0002-5355-0845</td><td>Giampaolo Morciano</td><td>1</td></tr><tr><td>0000-0003-3727-8287</td><td>Jacob G Eide</td><td>11</td></tr><tr><td>0000-0002-3537-8463</td><td>Jeanne Duus Johansen</td><td>7</td></tr><tr><td>0000-0002-3537-8463</td><td>Jeanne D Johansen</td><td>7</td></tr><tr><td>0000-0001-5799-8885</td><td>Antonio Terracciano</td><td>3</td></tr><tr><td>0000-0002-2194-7127</td><td>Othman Saleh</td><td>1</td></tr><tr><td>0000-0002-5005-2285</td><td>Cheng Zhou</td><td>1</td></tr><tr><td>0000-0003-1110-7789</td><td>Pablo Berlanga</td><td>11</td></tr><tr><td>0000-0001-8607-3195</td><td>Vicente Gea-Caballero</td><td>3</td></tr><tr><td>0000-0002-0018-6410</td><td>Grayson M Talaski</td><td>3</td></tr><tr><td>0000-0002-2275-9849</td><td>Chandylen L Nightingale</td><td>9</td></tr><tr><td>0000-0002-5735-0197</td><td>Anna Maria Wermund</td><td>0</td></tr><tr><td>0000-0001-9507-0199</td><td>B Wang</td><td>5</td></tr><tr><td>0000-0001-7873-3157</td><td>Lea S Eiland</td><td>2</td></tr><tr><td>0000-0002-6633-6434</td><td>Ala Abid</td><td>18</td></tr><tr><td>0000-0002-8806-2147</td><td>Beatriz Febrero</td><td>3</td></tr><tr><td>0000-0002-5153-2184</td><td>Duygu Ayhan Başer</td><td>6</td></tr><tr><td>0000-0003-0940-9040</td><td>Ryan E Rhodes</td><td>17</td></tr><tr><td>0009-0007-2710-6357</td><td>Victoria B Velásquez</td><td>6</td></tr><tr><td>0000-0001-6040-5243</td><td>Bing Zhang</td><td>1</td></tr></tbody></table></div>"
      ]
     },
     "metadata": {
      "application/vnd.databricks.v1+output": {
       "addedWidgets": {},
       "aggData": [],
       "aggError": "",
       "aggOverflow": false,
       "aggSchema": [],
       "aggSeriesLimitReached": false,
       "aggType": "",
       "arguments": {},
       "columnCustomDisplayInfos": {},
       "data": [
        [
         "0000-0001-9179-6371",
         "Javier García-Pardo",
         1
        ],
        [
         "0000-0002-3209-2208",
         "Masanori Obana",
         3
        ],
        [
         "0000-0003-2193-1712",
         "Xiaoya Shang",
         0
        ],
        [
         "0000-0003-4017-2520",
         "Wenjun Li",
         3
        ],
        [
         "0009-0008-2416-3732",
         "Khadija Serghini Rousseau",
         3
        ],
        [
         "0000-0001-9480-3848",
         "Mariam Anjum",
         2
        ],
        [
         "0009-0002-2450-5663",
         "Emily Dzongowski",
         1
        ],
        [
         "0000-0003-0341-7445",
         "Inge M W Verberk",
         6
        ],
        [
         "0009-0002-1514-8385",
         "Maike Stein",
         10
        ],
        [
         "0000-0003-1489-0879",
         "Li Zhang",
         1
        ],
        [
         "0000-0001-6369-4570",
         "Kimberly Williams",
         4
        ],
        [
         "0000-0002-9237-0628",
         "Horace Roman",
         3
        ],
        [
         "0000-0002-8696-5211",
         "Luciana Catanese",
         20
        ],
        [
         "0000-0001-5691-8097",
         "Karel van Duijvenboden",
         28
        ],
        [
         "0000-0002-0620-6056",
         "Nuala Ann Healy",
         1
        ],
        [
         "0000-0003-0256-3133",
         "Tali Tal",
         2
        ],
        [
         "0000-0002-8562-0385",
         "Alex Vickery",
         0
        ],
        [
         "0009-0004-7816-0546",
         "Jack Bone",
         0
        ],
        [
         "0000-0003-1675-8417",
         "Irl B Hirsch",
         7
        ],
        [
         "0000-0003-1675-8417",
         "Irl Hirsch",
         7
        ],
        [
         "0000-0002-8277-6253",
         "Dudu Karakaya",
         1
        ],
        [
         "0000-0002-3315-7739",
         "Avir Sarkar",
         0
        ],
        [
         "0000-0003-4245-4548",
         "Ifran Saleh",
         6
        ],
        [
         "0009-0009-5585-0866",
         "Chengyan Lv",
         7
        ],
        [
         "0000-0002-5469-9609",
         "Rik Willems",
         6
        ],
        [
         "0000-0003-1937-8313",
         "Evrim Yilmaz",
         2
        ],
        [
         "0000-0001-6403-7302",
         "Carlos Fernando Ceballos-González",
         8
        ],
        [
         "0000-0002-8314-0927",
         "Marianne Schultzberg",
         1
        ],
        [
         "0009-0001-4023-8246",
         "Kaili Duan",
         0
        ],
        [
         "0000-0003-3449-7978",
         "Fahad Khan",
         0
        ],
        [
         "0000-0003-0608-2134",
         "Ross N Crowhurst",
         12
        ],
        [
         "0000-0002-1476-1850",
         "Andrew G Woodman",
         5
        ],
        [
         "0000-0002-8198-0826",
         "Malia Jones",
         1
        ],
        [
         "0000-0002-0619-8121",
         "Zaijing Sun",
         0
        ],
        [
         "0000-0003-4982-1611",
         "Yusri",
         0
        ],
        [
         "0000-0002-8020-4884",
         "Ayşe Semra Hız",
         5
        ],
        [
         "0000-0002-5352-5674",
         "Nicolas Dimopoulos",
         5
        ],
        [
         "0000-0002-0275-7221",
         "Simona Greco",
         13
        ],
        [
         "0000-0003-2942-1362",
         "Nil Albiol",
         2
        ],
        [
         "0000-0002-3560-7545",
         "Teresita de J Martínez-Contreras",
         6
        ],
        [
         "0000-0001-8086-6522",
         "Zhaohuan Zhang",
         7
        ],
        [
         "0000-0002-8918-7523",
         "Songji Li",
         1
        ],
        [
         "0000-0002-5912-4871",
         "Qiyong Gong",
         2
        ],
        [
         "0000-0002-3162-4890",
         "Flávia Cristina de Paula Freitas",
         5
        ],
        [
         "0000-0001-5502-5975",
         "M Hassan Murad",
         10
        ],
        [
         "0000-0002-5313-4323",
         "Haileigh R Patterson",
         12
        ],
        [
         "0000-0003-0417-7607",
         "Sanjay H Chotirmall",
         4
        ],
        [
         "0000-0003-1387-7904",
         "Ranjith Ramasamy",
         4
        ],
        [
         "0000-0002-3291-2958",
         "Kay Cheong Teo",
         4
        ],
        [
         "0000-0002-9243-4943",
         "Metin Caliskan",
         3
        ],
        [
         "0000-0002-3175-2649",
         "Mariana M Vasconcellos",
         4
        ],
        [
         "0000-0002-6709-4078",
         "Christopher W Sundberg",
         4
        ],
        [
         "0000-0002-0017-3273",
         "Edson Santos Ferreira-Filho",
         3
        ],
        [
         "0000-0001-5551-7507",
         "Alvin W M Tan",
         88
        ],
        [
         "0000-0001-9315-2414",
         "Lisa Barroilhet",
         17
        ],
        [
         "0000-0001-7338-7734",
         "M Böhm",
         0
        ],
        [
         "0000-0003-3602-9182",
         "Alenka Seliškar",
         1
        ],
        [
         "0009-0001-4645-6447",
         "Sarka Vosahlikova",
         24
        ],
        [
         "0000-0002-5448-9775",
         "Amber M Davis",
         0
        ],
        [
         "0000-0002-9839-3812",
         "Jens Børglum",
         5
        ],
        [
         "0000-0002-2724-4502",
         "Paulien H M Voorter",
         19
        ],
        [
         "0000-0002-7905-4380",
         "Se Hoon Choi",
         0
        ],
        [
         "0000-0002-8337-5822",
         "Amanda M Woodward",
         88
        ],
        [
         "0000-0003-2366-8225",
         "Derek J Fisher",
         4
        ],
        [
         "0000-0001-8532-9339",
         "Pei Han",
         5
        ],
        [
         "0000-0002-5603-7270",
         "Yuki Ohya",
         0
        ],
        [
         "0000-0002-4117-3501",
         "Christos Rahiotis",
         3
        ],
        [
         "0000-0002-1506-6454",
         "Mai Mohammed Elgohary",
         3
        ],
        [
         "0000-0001-8464-5487",
         "Sercin Ozlem-Caliskan",
         3
        ],
        [
         "0000-0001-9416-2438",
         "Attila Bokor",
         2
        ],
        [
         "0000-0001-7226-1830",
         "Bengisu Tulu",
         4
        ],
        [
         "0000-0003-0831-3354",
         "Melanie E Hoste",
         2
        ],
        [
         "0009-0001-2213-7839",
         "Sebastian Scheliga",
         0
        ],
        [
         "0000-0003-1463-3610",
         "Fan Fan",
         0
        ],
        [
         "0000-0001-9001-8164",
         "Mary Ann Augustin",
         1
        ],
        [
         "0000-0001-6409-1333",
         "Bachir Taouli",
         13
        ],
        [
         "0000-0002-1567-4935",
         "Faris M Elmahdi",
         0
        ],
        [
         "0000-0003-1240-4929",
         "Jingyuan Xu",
         2
        ],
        [
         "0000-0002-5441-4191",
         "Kaleigh Barnett",
         2
        ],
        [
         "0009-0001-0776-3508",
         "Thomas Körtl",
         4
        ],
        [
         "0000-0002-9716-8146",
         "Juan Carlos Zenteno",
         1
        ],
        [
         "0000-0002-9361-2342",
         "Jeremy Yuen-Chun Teoh",
         18
        ],
        [
         "0000-0002-9361-2342",
         "Jeremy Teoh",
         18
        ],
        [
         "0000-0002-5355-0845",
         "Giampaolo Morciano",
         1
        ],
        [
         "0000-0003-3727-8287",
         "Jacob G Eide",
         11
        ],
        [
         "0000-0002-3537-8463",
         "Jeanne Duus Johansen",
         7
        ],
        [
         "0000-0002-3537-8463",
         "Jeanne D Johansen",
         7
        ],
        [
         "0000-0001-5799-8885",
         "Antonio Terracciano",
         3
        ],
        [
         "0000-0002-2194-7127",
         "Othman Saleh",
         1
        ],
        [
         "0000-0002-5005-2285",
         "Cheng Zhou",
         1
        ],
        [
         "0000-0003-1110-7789",
         "Pablo Berlanga",
         11
        ],
        [
         "0000-0001-8607-3195",
         "Vicente Gea-Caballero",
         3
        ],
        [
         "0000-0002-0018-6410",
         "Grayson M Talaski",
         3
        ],
        [
         "0000-0002-2275-9849",
         "Chandylen L Nightingale",
         9
        ],
        [
         "0000-0002-5735-0197",
         "Anna Maria Wermund",
         0
        ],
        [
         "0000-0001-9507-0199",
         "B Wang",
         5
        ],
        [
         "0000-0001-7873-3157",
         "Lea S Eiland",
         2
        ],
        [
         "0000-0002-6633-6434",
         "Ala Abid",
         18
        ],
        [
         "0000-0002-8806-2147",
         "Beatriz Febrero",
         3
        ],
        [
         "0000-0002-5153-2184",
         "Duygu Ayhan Başer",
         6
        ],
        [
         "0000-0003-0940-9040",
         "Ryan E Rhodes",
         17
        ],
        [
         "0009-0007-2710-6357",
         "Victoria B Velásquez",
         6
        ],
        [
         "0000-0001-6040-5243",
         "Bing Zhang",
         1
        ]
       ],
       "datasetInfos": [],
       "dbfsResultPath": null,
       "isJsonSchema": true,
       "metadata": {},
       "overflow": false,
       "plotOptions": {
        "customPlotOptions": {},
        "displayType": "table",
        "pivotAggregation": null,
        "pivotColumns": null,
        "xColumns": null,
        "yColumns": null
       },
       "removedWidgets": [],
       "schema": [
        {
         "metadata": "{}",
         "name": "orcid",
         "type": "\"string\""
        },
        {
         "metadata": "{}",
         "name": "author_name",
         "type": "\"string\""
        },
        {
         "metadata": "{}",
         "name": "degree",
         "type": "\"long\""
        }
       ],
       "type": "table"
      }
     },
     "output_type": "display_data"
    },
    {
     "output_type": "display_data",
     "data": {
      "text/html": [
       "<style scoped>\n",
       "  .table-result-container {\n",
       "    max-height: 300px;\n",
       "    overflow: auto;\n",
       "  }\n",
       "  table, th, td {\n",
       "    border: 1px solid black;\n",
       "    border-collapse: collapse;\n",
       "  }\n",
       "  th, td {\n",
       "    padding: 5px;\n",
       "  }\n",
       "  th {\n",
       "    text-align: left;\n",
       "  }\n",
       "</style><div class='table-result-container'><table class='table-result'><thead style='background-color: white'><tr><th>src</th><th>dst</th><th>weight</th></tr></thead><tbody><tr><td>0000-0002-5313-4323</td><td>0000-0003-0608-2134</td><td>1</td></tr><tr><td>0000-0001-5502-5975</td><td>0000-0001-6409-1333</td><td>1</td></tr><tr><td>0000-0001-8464-5487</td><td>0000-0002-9243-4943</td><td>1</td></tr><tr><td>0000-0001-5551-7507</td><td>0000-0002-8337-5822</td><td>1</td></tr></tbody></table></div>"
      ]
     },
     "metadata": {
      "application/vnd.databricks.v1+output": {
       "addedWidgets": {},
       "aggData": [],
       "aggError": "",
       "aggOverflow": false,
       "aggSchema": [],
       "aggSeriesLimitReached": false,
       "aggType": "",
       "arguments": {},
       "columnCustomDisplayInfos": {},
       "data": [
        [
         "0000-0002-5313-4323",
         "0000-0003-0608-2134",
         1
        ],
        [
         "0000-0001-5502-5975",
         "0000-0001-6409-1333",
         1
        ],
        [
         "0000-0001-8464-5487",
         "0000-0002-9243-4943",
         1
        ],
        [
         "0000-0001-5551-7507",
         "0000-0002-8337-5822",
         1
        ]
       ],
       "datasetInfos": [],
       "dbfsResultPath": null,
       "isJsonSchema": true,
       "metadata": {},
       "overflow": false,
       "plotOptions": {
        "customPlotOptions": {},
        "displayType": "table",
        "pivotAggregation": null,
        "pivotColumns": null,
        "xColumns": null,
        "yColumns": null
       },
       "removedWidgets": [],
       "schema": [
        {
         "metadata": "{}",
         "name": "src",
         "type": "\"string\""
        },
        {
         "metadata": "{}",
         "name": "dst",
         "type": "\"string\""
        },
        {
         "metadata": "{}",
         "name": "weight",
         "type": "\"long\""
        }
       ],
       "type": "table"
      }
     },
     "output_type": "display_data"
    }
   ],
   "source": [
    "\n",
    "\n",
    "from pyspark.sql.functions import explode, col, regexp_replace, count, coalesce\n",
    "\n",
    "# 1. Leer tabla con autores\n",
    "df_pubmed = spark.table(\"pubmed_db.coautor_2025\")\n",
    "\n",
    "# 2. Explode autores, filtrar ORCID válido\n",
    "df_authors = df_pubmed.select(\"pmid\", explode(\"authors\").alias(\"author\")) \\\n",
    "    .select(\n",
    "        \"pmid\",\n",
    "        regexp_replace(col(\"author.orcid\"), \"https://orcid.org/\", \"\").alias(\"orcid\"),\n",
    "        col(\"author.fullname\").alias(\"author_name\")\n",
    "    ).filter(col(\"orcid\").rlike(\"^[0-9]{4}-[0-9]{4}-[0-9]{4}-[0-9]{4}$\"))\n",
    "\n",
    "# 3. Crear aristas de coautoría (pares de ORCID por artículo)\n",
    "df_edges = df_authors.alias(\"a1\").join(df_authors.alias(\"a2\"), on=\"pmid\") \\\n",
    "    .filter(col(\"a1.orcid\") < col(\"a2.orcid\")) \\\n",
    "    .select(col(\"a1.orcid\").alias(\"src\"), col(\"a2.orcid\").alias(\"dst\"))\n",
    "\n",
    "# 4. Calcular peso (número de colaboraciones)\n",
    "df_weighted_edges = df_edges.groupBy(\"src\", \"dst\").count().withColumnRenamed(\"count\", \"weight\")\n",
    "\n",
    "# 5. Calcular grado para cada autor\n",
    "df_degree_src = df_weighted_edges.groupBy(\"src\").agg(count(\"*\").alias(\"degree_src\"))\n",
    "df_degree_dst = df_weighted_edges.groupBy(\"dst\").agg(count(\"*\").alias(\"degree_dst\"))\n",
    "\n",
    "df_degree = df_degree_src.join(df_degree_dst, df_degree_src.src == df_degree_dst.dst, \"full_outer\") \\\n",
    "    .selectExpr(\n",
    "        \"coalesce(src, dst) as orcid\",\n",
    "        \"coalesce(degree_src, 0) + coalesce(degree_dst, 0) as degree\"\n",
    "    )\n",
    "\n",
    "# 6. Unir nombres y grado\n",
    "df_authors_unique = df_authors.select(\"orcid\", \"author_name\").distinct()\n",
    "\n",
    "df_nodes = df_authors_unique.join(df_degree, on=\"orcid\", how=\"left\").fillna(0)\n",
    "\n",
    "# 7. Guardar tablas en Delta (reemplaza rutas según tu workspace)\n",
    "df_nodes.write.format(\"delta\").mode(\"overwrite\").saveAsTable(\"pubmed_coauthor_nodes_2025\")\n",
    "df_weighted_edges.write.format(\"delta\").mode(\"overwrite\").saveAsTable(\"pubmed_coauthor_edges_2025\")\n",
    "\n",
    "# 8. Mostrar muestra pequeña para visualización (100 nodos + aristas relacionadas)\n",
    "sample_nodes = df_nodes.limit(100).select(\"orcid\").collect()\n",
    "sample_ids = [row[\"orcid\"] for row in sample_nodes]\n",
    "\n",
    "sample_edges = df_weighted_edges \\\n",
    "    .filter((col(\"src\").isin(sample_ids)) & (col(\"dst\").isin(sample_ids)))\n",
    "\n",
    "display(df_nodes.filter(col(\"orcid\").isin(sample_ids)))\n",
    "display(sample_edges)"
   ]
  },
  {
   "cell_type": "markdown",
   "metadata": {
    "application/vnd.databricks.v1+cell": {
     "cellMetadata": {
      "byteLimit": 2048000,
      "rowLimit": 10000
     },
     "inputWidgets": {},
     "nuid": "f4884242-40e5-4a04-9597-fbf80b96b0db",
     "showTitle": false,
     "tableResultSettingsMap": {},
     "title": ""
    }
   },
   "source": [
    "## Crear **visualizaacion**"
   ]
  },
  {
   "cell_type": "code",
   "execution_count": 0,
   "metadata": {
    "application/vnd.databricks.v1+cell": {
     "cellMetadata": {
      "byteLimit": 2048000,
      "rowLimit": 10000
     },
     "inputWidgets": {},
     "nuid": "c5baff90-fde4-4376-9074-ffdb55873273",
     "showTitle": false,
     "tableResultSettingsMap": {},
     "title": ""
    }
   },
   "outputs": [
    {
     "output_type": "stream",
     "name": "stderr",
     "output_type": "stream",
     "text": [
      "/root/.ipykernel/29261/command-70049938802175-2326368405:28: MatplotlibDeprecationWarning: The get_cmap function was deprecated in Matplotlib 3.7 and will be removed two minor releases later. Use ``matplotlib.colormaps[name]`` or ``matplotlib.colormaps.get_cmap(obj)`` instead.\n  cmap_nodes = cm.get_cmap('viridis')\n/root/.ipykernel/29261/command-70049938802175-2326368405:45: MatplotlibDeprecationWarning: The get_cmap function was deprecated in Matplotlib 3.7 and will be removed two minor releases later. Use ``matplotlib.colormaps[name]`` or ``matplotlib.colormaps.get_cmap(obj)`` instead.\n  cmap_edges = cm.get_cmap('plasma')\n"
     ]
    },
    {
     "output_type": "stream",
     "name": "stdout",
     "output_type": "stream",
     "text": [
      "✅ GEXF exportado: /dbfs/FileStore/pubmed/sample_graph_topN_viz_2025.gexf\n"
     ]
    }
   ],
   "source": [
    "\n",
    "\n",
    "# ------------------------------\n",
    "# 0) Librerías\n",
    "# ------------------------------\n",
    "import networkx as nx\n",
    "import pandas as pd\n",
    "import matplotlib.cm as cm\n",
    "import matplotlib.colors as mcolors\n",
    "from pyspark.sql.functions import col\n",
    "\n",
    "# ------------------------------\n",
    "# 1) Pasa muestra a Pandas\n",
    "# ------------------------------\n",
    "# Filtra solo los nodos en la muestra (por ejemplo ORCID)\n",
    "nodes_pd = df_nodes.filter(col(\"orcid\").isin(sample_ids)).toPandas()\n",
    "\n",
    "# Filtra TOP N coautorías (mayores pesos)\n",
    "TOP_N = 20\n",
    "edges_pd = sample_edges.orderBy(col(\"weight\").desc()).limit(TOP_N).toPandas()\n",
    "\n",
    "# ------------------------------\n",
    "# 2) Normalizar degree → tamaño y color de nodos\n",
    "# ------------------------------\n",
    "max_degree = nodes_pd[\"degree\"].max()\n",
    "nodes_pd[\"viz_size\"] = nodes_pd[\"degree\"] / max_degree * 30  # Tamaño máx ajusta a gusto (p.ej. 30)\n",
    "\n",
    "# Paleta viridis para nodos\n",
    "norm_degree = mcolors.Normalize(vmin=0, vmax=max_degree)\n",
    "cmap_nodes = cm.get_cmap('viridis')\n",
    "\n",
    "def degree_to_color(degree):\n",
    "    rgba = cmap_nodes(norm_degree(degree))\n",
    "    r, g, b, a = [int(255*x) if i < 3 else x for i, x in enumerate(rgba)]\n",
    "    return {'r': r, 'g': g, 'b': b, 'a': a}\n",
    "\n",
    "nodes_pd[\"viz_color\"] = nodes_pd[\"degree\"].apply(degree_to_color)\n",
    "\n",
    "# ------------------------------\n",
    "# 3) Normalizar weight → grosor y color de aristas\n",
    "# ------------------------------\n",
    "max_weight = edges_pd[\"weight\"].max()\n",
    "edges_pd[\"viz_thickness\"] = edges_pd[\"weight\"] / max_weight * 10  # Grosor máx 10\n",
    "\n",
    "# Paleta plasma para aristas\n",
    "norm_weight = mcolors.Normalize(vmin=0, vmax=max_weight)\n",
    "cmap_edges = cm.get_cmap('plasma')\n",
    "\n",
    "def weight_to_color(weight):\n",
    "    rgba = cmap_edges(norm_weight(weight))\n",
    "    r, g, b, a = [int(255*x) if i < 3 else x for i, x in enumerate(rgba)]\n",
    "    return {'r': r, 'g': g, 'b': b, 'a': a}\n",
    "\n",
    "edges_pd[\"viz_color\"] = edges_pd[\"weight\"].apply(weight_to_color)\n",
    "\n",
    "# ------------------------------\n",
    "# 4) Crear grafo con viz\n",
    "# ------------------------------\n",
    "G = nx.Graph()\n",
    "\n",
    "# Añadir nodos con label y tamaño\n",
    "for idx, row in nodes_pd.iterrows():\n",
    "    G.add_node(\n",
    "        row[\"orcid\"],\n",
    "        label=row[\"author_name\"],\n",
    "        degree=row[\"degree\"],\n",
    "        viz={'size': row[\"viz_size\"], 'color': row[\"viz_color\"]}\n",
    "    )\n",
    "\n",
    "# Añadir solo aristas TOP N\n",
    "for idx, row in edges_pd.iterrows():\n",
    "    G.add_edge(\n",
    "        row[\"src\"],\n",
    "        row[\"dst\"],\n",
    "        weight=row[\"weight\"],\n",
    "        viz={'thickness': row[\"viz_thickness\"], 'color': row[\"viz_color\"]}\n",
    "    )\n",
    "\n",
    "# ------------------------------\n",
    "# 5) Guardar GEXF listo para Gephi\n",
    "# ------------------------------\n",
    "nx.write_gexf(G, \"/dbfs/FileStore/pubmed/sample_graph_topN_viz_2025.gexf\")\n",
    "\n",
    "print(\"✅ GEXF exportado: /dbfs/FileStore/pubmed/sample_graph_topN_viz_2025.gexf\")\n",
    "## https://3132215626649366.6.gcp.databricks.com/files/pubmed/sample_graph_topN_viz_2024.gexf"
   ]
  }
 ],
 "metadata": {
  "application/vnd.databricks.v1+notebook": {
   "computePreferences": null,
   "dashboards": [],
   "environmentMetadata": {
    "base_environment": "",
    "environment_version": "2"
   },
   "inputWidgetPreferences": null,
   "language": "python",
   "notebookMetadata": {
    "mostRecentlyExecutedCommandWithImplicitDF": {
     "commandId": 70049938802171,
     "dataframes": [
      "_sqldf"
     ]
    },
    "pythonIndentUnit": 4
   },
   "notebookName": "COAUTOR_2025",
   "widgets": {}
  },
  "language_info": {
   "name": "python"
  }
 },
 "nbformat": 4,
 "nbformat_minor": 0
}