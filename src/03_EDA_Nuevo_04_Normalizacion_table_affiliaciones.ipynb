{
 "cells": [
  {
   "cell_type": "code",
   "execution_count": 0,
   "metadata": {
    "application/vnd.databricks.v1+cell": {
     "cellMetadata": {
      "byteLimit": 2048000,
      "implicitDf": true,
      "rowLimit": 10000
     },
     "inputWidgets": {},
     "nuid": "cd45cb8d-2b2f-4842-a990-3cd8a8e0ccf7",
     "showTitle": false,
     "tableResultSettingsMap": {},
     "title": ""
    },
    "jupyter": {
     "outputs_hidden": true
    }
   },
   "outputs": [],
   "source": [
    "\n",
    "spark.sql(\"USE CATALOG spark_catalog\")\n",
    "spark.sql(\"USE DATABASE default\")\n",
    "\n"
   ]
  },
  {
   "cell_type": "code",
   "execution_count": 0,
   "metadata": {
    "application/vnd.databricks.v1+cell": {
     "cellMetadata": {
      "byteLimit": 2048000,
      "rowLimit": 10000
     },
     "inputWidgets": {},
     "nuid": "a930899f-41b0-4d79-b80b-579ac10d2964",
     "showTitle": false,
     "tableResultSettingsMap": {},
     "title": ""
    }
   },
   "outputs": [
    {
     "output_type": "stream",
     "name": "stdout",
     "output_type": "stream",
     "text": [
      "+-------------------------------------------------------------------------------------------------------------------------------------------------------------------------------------------------------------------------------------------------------------------------------------------------------------------------------------------+-------------------------------------------------------------------------------------------------------------------------------------------------------------------------------------------------------------------------------------------------------------------------+----------------------------------------------------------------+\n|affiliation                                                                                                                                                                                                                                                                                                                                |affiliation_normalizada                                                                                                                                                                                                                                                  |institution_id                                                  |\n+-------------------------------------------------------------------------------------------------------------------------------------------------------------------------------------------------------------------------------------------------------------------------------------------------------------------------------------------+-------------------------------------------------------------------------------------------------------------------------------------------------------------------------------------------------------------------------------------------------------------------------+----------------------------------------------------------------+\n|department of statistics, the chinese university of hong kong, shatin, hong kong. cas.jiang@gmail.com.                                                                                                                                                                                                                                     |of statistics the chinese of hong kong shatin hong kong cas jiang@gmail com                                                                                                                                                                                              |4534d2c65ffd1e60a872b9e2dbead5de43e6fe4c3b8ed5295970f64b2012a5a2|\n|department of dermatology, barts health nhs trust (whipps cross and royal london hospitals), london, united kingdom.                                                                                                                                                                                                                       |of dermatology barts health nhs trust whipps cross and royal london hospitals london united kingdom                                                                                                                                                                      |99a30e671831f5c0f769aa7f8e0045cb94d94ea374d45895211fcb2ad13452f2|\n|centro nacional de investigaciones cardiovasculares (cnic), melchor fernández almagro, 3, 28029, madrid, spain.                                                                                                                                                                                                                            |centro nacional de investigaciones cardiovasculares cnic melchor fernandez almagro madrid spain                                                                                                                                                                          |1fc3dc79c359bd929b1e430a92b8e80721267d73f06c26d867d83b58f609e2be|\n|electrophysiology laboratory and arrhythmia unit, hospital madrid monteprincipe, grupo hm hospitales, university ceu-san pablo, avda. montepríncipe, 25 28660, madrid, boadilla del monte, spain. almendral@secardiologia.es.                                                                                                              |electrophysiology and arrhythmia madrid monteprincipe grupo hm hospitales ceu san pablo avda monteprincipe madrid boadilla del monte spain almendral@secardiologia es                                                                                                    |42ad5605ec6ee86bd86067afbe573866fe60f6c12bd9e6678ef12eccbf78f086|\n|royal devon and exeter hospital, exeter, u.k.                                                                                                                                                                                                                                                                                              |royal devon and exeter exeter u k                                                                                                                                                                                                                                        |08c506048a9835c96d4bead3e8d3e46f18c8d25754fb833abcc23f4347f85790|\n|department of general surgery, kasturba medical college & hospital, manipal academy of higher education, manipal, karnataka, 576 104, india.                                                                                                                                                                                               |of general surgery kasturba medical & manipal academy of higher education manipal karnataka india                                                                                                                                                                        |0b0de1d2a271306d795b8766f7b719809736a4b2cad5c9f26aab95f4657c9180|\n|key laboratory of mental health of the ministry of education, guangdong-hong kong-macao greater bay area center for brain science and brain-inspired intelligence, guangdong province key laboratory of psychiatric disorders, department of neurobiology, school of basic medical sciences, southern medical university, guangzhou, china.|key of mental health of the ministry of education guangdong hong kong macao greater bay area for brain science and brain inspired intelligence guangdong province key of psychiatric disorders of neurobiology of basic medical sciences southern medical guangzhou china|3b8f0ed4f4d65f001c8e0d06228bb27c743101701b787bf980f371c6657bc5d5|\n|the royal free london nhs foundation trust and ucl division of surgery and interventional science, london, uk; department of urology, the netherlands cancer institute, antoni van leeuwenhoek hospital, amsterdam, the netherlands.                                                                                                       |the royal free london nhs foundation trust and ucl of surgery and interventional science london uk; of urology the netherlands cancer antoni van leeuwenhoek amsterdam the netherlands                                                                                   |1833ac337152def550a73f5ea05a47c8c01b2da43d6b39e925da71d5a0f839a5|\n|from the interstitial lung disease and rheumatology unit, and hla laboratory, and research direction, instituto nacional de enfermedades respiratorias; programa de maestría y doctorado en ciencias médicas, facultad de medicina, universidad nacional autónoma de méxico, méxico city, méxico.                                          |from the interstitial lung disease and rheumatology and hla and direction instituto nacional de enfermedades respiratorias; programa de maestria y doctorado en ciencias medicas de medicina nacional autonoma de mexico mexico city mexico                              |9dd8cce7a8103c7d8dec71c9e0bd6ca7965c61c357ac2b4473f54a6ebc087ecf|\n|the school of nursing, faculty of health and social science, the hong kong polytechnic university, hung hom, kowloon, hong kong.                                                                                                                                                                                                           |the of nursing of health and social science the hong kong polytechnic hung hom kowloon hong kong                                                                                                                                                                         |ac084bd98f48344c661d9071b96687c280af559f3b79f7155d86d286aaa61718|\n|division of hematology, department of translational medicine, amedeo avogadro university of eastern piedmont, novara, italy.                                                                                                                                                                                                               |of hematology of translational medicine amedeo avogadro of eastern piedmont novara italy                                                                                                                                                                                 |39b44e8c15d4d2a8be41f97f3acd784bfebbc43c1954e95b2bdc2c5067991ad4|\n|merq consultancy plc, addis ababa, ethiopia; school of public health, haramaya university, harar, ethiopia.                                                                                                                                                                                                                                |merq consultancy plc addis ababa ethiopia; of public health haramaya harar ethiopia                                                                                                                                                                                      |736126e69129cfaa21ab93df03d0e8ba51408adbf6e91dec3044284e9c741d76|\n|south african tuberculosis vaccine initiative, institute of infectious disease and division of immunology, department of pathology, university of cape town, cape town, south africa.                                                                                                                                                      |south african tuberculosis vaccine initiative of infectious disease and of immunology of pathology of cape town cape town south africa                                                                                                                                   |2808641bf50960d2015c964b4a350c54a597638176f5eea3980531b69751e5eb|\n|zhaoke pharmaceutical co. ltd, hefei, 230032, people's republic of china.                                                                                                                                                                                                                                                                  |zhaoke pharmaceutical co ltd hefei people's republic of china                                                                                                                                                                                                            |5ff3544c9122be7f446990bed1ada20977ea0fc64dfe684b743dc9779386e848|\n|genetics and breeding center for blunt snout bream, key laboratory of freshwater aquatic genetic resources, ministry of agriculture, national demonstration center for experimental fisheries science education, shanghai ocean university, shanghai 201306, china.                                                                        |genetics and breeding for blunt snout bream key of freshwater aquatic genetic resources ministry of agriculture national demonstration for experimental fisheries science education shanghai ocean shanghai china                                                        |91781d70106887e02cec61c86fd889899bc1cb83affcfd577472af347bb61ddf|\n|centre for genomic regulation (crg), bioinformatics and genomics department, the barcelona institute of science and technology, barcelona 08003, spain.                                                                                                                                                                                    |for genomic regulation crg bioinformatics and genomics the barcelona of science and technology barcelona spain                                                                                                                                                           |87485f17fa9a1fc5ca1dcbe6a848d226a8fd23c09f73474a0bd380ec278aa91b|\n|institute of physiology i, life and brain center, medical faculty, university of bonn, bonn, germany.                                                                                                                                                                                                                                      |of physiology i life and brain medical of bonn bonn germany                                                                                                                                                                                                              |0fb36fd37ca3add05acb00a7ce6ec3a4014dc603e92bb65256f2c0d581f60a20|\n|nuclear medicine, hôpital tenon aphp and sorbonne university, paris, france.                                                                                                                                                                                                                                                               |nuclear medicine hopital tenon aphp and sorbonne paris france                                                                                                                                                                                                            |6751c0bd071508aeba62dd7dccc61b34be48a83286c509246b6763f28827e44e|\n|university of basel, basel, switzerland; department of orthopaedics and traumatology, university hospital basel, basel, switzerland.                                                                                                                                                                                                       |of basel basel switzerland; of orthopaedics and traumatology basel basel switzerland                                                                                                                                                                                     |92534ba27deee410ebae0289eb03daab32b2d730d9518c388b43bde267434ce9|\n|department of obstetrics, isala women and children's hospital, zwolle, the netherlands.                                                                                                                                                                                                                                                    |of obstetrics isala women and children's zwolle the netherlands                                                                                                                                                                                                          |21485791c0c126c7fbc43f56d91b7f13bb72951b0671716f0a9c55550c2ba12f|\n+-------------------------------------------------------------------------------------------------------------------------------------------------------------------------------------------------------------------------------------------------------------------------------------------------------------------------------------------+-------------------------------------------------------------------------------------------------------------------------------------------------------------------------------------------------------------------------------------------------------------------------+----------------------------------------------------------------+\nonly showing top 20 rows\n"
     ]
    }
   ],
   "source": [
    "from pyspark.sql.functions import col, lower, trim, regexp_replace, udf, sha2\n",
    "import unicodedata\n",
    "\n",
    "# ----------------------------------------------------------\n",
    "# Diccionario ampliado de alias comunes en PubMed\n",
    "PUBMED_REPLACEMENTS = {\n",
    "    # Universidades internacionales y variantes\n",
    "    \"harvard university\": \"harvard\",\n",
    "    \"harvard medical school\": \"harvard\",\n",
    "    \"massachusetts institute of technology\": \"mit\",\n",
    "    \"university college london\": \"ucl\",\n",
    "    \"university of malaga\": \"uma\",\n",
    "    \"university of california san francisco\": \"ucsf\",\n",
    "    \"university of california berkeley\": \"uc berkeley\",\n",
    "    \"university of oxford\": \"oxford\",\n",
    "    \"university of cambridge\": \"cambridge\",\n",
    "    \"stanford university\": \"stanford\",\n",
    "    \"johns hopkins university\": \"johns hopkins\",\n",
    "    \"university of toronto\": \"toronto\",\n",
    "    \"university of washington\": \"uw\",\n",
    "    \"university of chicago\": \"uchicago\",\n",
    "    \"university of pennsylvania\": \"upenn\",\n",
    "    \"university of british columbia\": \"ubc\",\n",
    "    \"university of melbourne\": \"melbourne\",\n",
    "    \"university of sydney\": \"sydney\",\n",
    "\n",
    "    # Institutos y hospitales de renombre\n",
    "    \"national institutes of health\": \"nih\",\n",
    "    \"national cancer institute\": \"nci\",\n",
    "    \"memorial sloan kettering cancer center\": \"mskcc\",\n",
    "    \"massachusetts general hospital\": \"mgh\",\n",
    "    \"brigham and women's hospital\": \"bwh\",\n",
    "    \"mayo clinic\": \"mayo\",\n",
    "    \"cleveland clinic\": \"cleveland clinic\",\n",
    "    \"johns hopkins hospital\": \"johns hopkins\",\n",
    "\n",
    "    # Variantes comunes en abreviaturas\n",
    "    \"univ\": \"university\",\n",
    "    \"dept\": \"department\",\n",
    "    \"inst\": \"institute\",\n",
    "    \"med sch\": \"medical school\",\n",
    "    \"sch med\": \"school of medicine\",\n",
    "    \"sch\": \"school\",\n",
    "    \"hospital\": \"hospital\",\n",
    "    \"hosp\": \"hospital\",\n",
    "\n",
    "    # Ejemplos específicos para España y Latinoamérica\n",
    "    \"universidad complutense de madrid\": \"ucm\",\n",
    "    \"universidad autonoma de barcelona\": \"uab\",\n",
    "    \"universidad de barcelona\": \"ub\",\n",
    "    \"universidad de valencia\": \"uv\",\n",
    "    \"universidad de sevilla\": \"us\",\n",
    "    \"universidad de granada\": \"ugr\",\n",
    "    \"universidad de buenos aires\": \"uba\",\n",
    "    \"universidad nacional autonoma de mexico\": \"unam\",\n",
    "\n",
    "    # Otros\n",
    "    \"max planck institute\": \"max planck\",\n",
    "    \"fraunhofer institute\": \"fraunhofer\",\n",
    "    \"cnrs\": \"cnrs\",\n",
    "    \"cancer research uk\": \"cruk\"\n",
    "}\n",
    "\n",
    "# ----------------------------------------------------------\n",
    "# 1️⃣ UDF para quitar tildes\n",
    "def remove_accents(text):\n",
    "    if text is None:\n",
    "        return None\n",
    "    return ''.join(\n",
    "        c for c in unicodedata.normalize('NFKD', text)\n",
    "        if not unicodedata.combining(c)\n",
    "    )\n",
    "\n",
    "remove_accents_udf = udf(remove_accents)\n",
    "\n",
    "# ----------------------------------------------------------\n",
    "# 2️⃣ UDF para aplicar diccionario de reemplazos exactos\n",
    "def apply_pubmed_aliases(text):\n",
    "    if text is None:\n",
    "        return None\n",
    "    text = text.strip()\n",
    "    # Normalizamos el texto para hacer la comparación en minúsculas sin tildes\n",
    "    text_norm = ''.join(\n",
    "        c for c in unicodedata.normalize('NFKD', text.lower())\n",
    "        if not unicodedata.combining(c)\n",
    "    )\n",
    "    if text_norm in PUBMED_REPLACEMENTS:\n",
    "        return PUBMED_REPLACEMENTS[text_norm]\n",
    "    return text_norm\n",
    "\n",
    "alias_dict_udf = udf(apply_pubmed_aliases)\n",
    "\n",
    "# ----------------------------------------------------------\n",
    "# 3️⃣ Pipeline completo de normalización y hash\n",
    "df_aff = spark.table(\"default.pubmed_art_autor_aff\")\n",
    "\n",
    "# DISTINCT solo de una columna\n",
    "df_aff_unique = df_aff.select(\"affiliation\").distinct()\n",
    "\n",
    "\n",
    "df_norm = df_aff_unique.withColumn(\n",
    "    \"affiliation_normalizada\",\n",
    "    lower(remove_accents_udf(col(\"affiliation\")))\n",
    ")\n",
    "\n",
    "# Limpieza de puntuación y números\n",
    "df_norm = df_norm.withColumn(\n",
    "    \"affiliation_normalizada\",\n",
    "    regexp_replace(col(\"affiliation_normalizada\"), r\"[.,()\\-\\/]\", \" \")\n",
    ")\n",
    "\n",
    "df_norm = df_norm.withColumn(\n",
    "    \"affiliation_normalizada\",\n",
    "    regexp_replace(col(\"affiliation_normalizada\"), r\"\\d+\", \"\")\n",
    ")\n",
    "\n",
    "# Eliminar stopwords comunes\n",
    "df_norm = df_norm.withColumn(\n",
    "    \"affiliation_normalizada\",\n",
    "    regexp_replace(\n",
    "        col(\"affiliation_normalizada\"),\n",
    "        r\"\\b(department|dept|faculty|school|institute|inst|university|univ|universidad|college|center|centre|laboratory|lab|research|hospital|clinic|group|unit|division|section|chair|facultad)\\b\",\n",
    "        \"\"\n",
    "    )\n",
    ")\n",
    "\n",
    "# Limpiar espacios múltiples y trim\n",
    "df_norm = df_norm.withColumn(\n",
    "    \"affiliation_normalizada\",\n",
    "    regexp_replace(col(\"affiliation_normalizada\"), r\"\\s+\", \" \")\n",
    ")\n",
    "df_norm = df_norm.withColumn(\n",
    "    \"affiliation_normalizada\",\n",
    "    trim(col(\"affiliation_normalizada\"))\n",
    ")\n",
    "\n",
    "# Aplicar diccionario de reemplazos\n",
    "df_norm = df_norm.withColumn(\n",
    "    \"affiliation_normalizada\",\n",
    "    alias_dict_udf(col(\"affiliation_normalizada\"))\n",
    ")\n",
    "\n",
    "# Crear hash SHA-256 para institution_id\n",
    "df_norm = df_norm.withColumn(\n",
    "    \"institution_id\",\n",
    "    sha2(col(\"affiliation_normalizada\"), 256)\n",
    ")\n",
    "\n",
    "\n",
    "df_norm.select(\n",
    "    \"affiliation\",\n",
    "    \"affiliation_normalizada\",\n",
    "    \"institution_id\"\n",
    ").show(truncate=False)\n",
    "\n",
    "\n",
    "df_norm.write \\\n",
    "    .mode(\"overwrite\") \\\n",
    "    .option(\"mergeSchema\", \"true\") \\\n",
    "    .saveAsTable(\"default.pubmed_aff_normalizadas\")\n",
    "\n",
    "\n",
    "\n",
    "\n",
    "\n",
    "\n",
    "df_unique = df_norm.select(\n",
    "    \"affiliation_normalizada\",\n",
    "    \"institution_id\"\n",
    ").distinct()\n",
    "\n",
    "# Guardar tabla Delta\n",
    "df_unique.write \\\n",
    "    .mode(\"overwrite\") \\\n",
    "    .format(\"delta\") \\\n",
    "    .saveAsTable(\"unirdat.pubmed_db.m_afiliacion\")\n",
    "\n"
   ]
  },
  {
   "cell_type": "code",
   "execution_count": 0,
   "metadata": {
    "application/vnd.databricks.v1+cell": {
     "cellMetadata": {
      "byteLimit": 2048000,
      "implicitDf": true,
      "rowLimit": 10000
     },
     "inputWidgets": {},
     "nuid": "ec530b64-db81-4f59-9f43-e2a0719fe66c",
     "showTitle": false,
     "tableResultSettingsMap": {
      "0": {
       "dataGridStateBlob": "{\"version\":1,\"tableState\":{\"columnPinning\":{\"left\":[\"#row_number#\"],\"right\":[]},\"columnSizing\":{},\"columnVisibility\":{}},\"settings\":{\"columns\":{}},\"syncTimestamp\":1752404598954}",
       "filterBlob": null,
       "queryPlanFiltersBlob": null,
       "tableResultIndex": 0
      }
     },
     "title": ""
    }
   },
   "outputs": [
    {
     "output_type": "display_data",
     "data": {
      "text/html": [
       "<style scoped>\n",
       "  .table-result-container {\n",
       "    max-height: 300px;\n",
       "    overflow: auto;\n",
       "  }\n",
       "  table, th, td {\n",
       "    border: 1px solid black;\n",
       "    border-collapse: collapse;\n",
       "  }\n",
       "  th, td {\n",
       "    padding: 5px;\n",
       "  }\n",
       "  th {\n",
       "    text-align: left;\n",
       "  }\n",
       "</style><div class='table-result-container'><table class='table-result'><thead style='background-color: white'><tr><th>affiliation_normalizada</th><th>count(1)</th></tr></thead><tbody></tbody></table></div>"
      ]
     },
     "metadata": {
      "application/vnd.databricks.v1+output": {
       "addedWidgets": {},
       "aggData": [],
       "aggError": "",
       "aggOverflow": false,
       "aggSchema": [],
       "aggSeriesLimitReached": false,
       "aggType": "",
       "arguments": {},
       "columnCustomDisplayInfos": {},
       "data": [],
       "datasetInfos": [
        {
         "name": "_sqldf",
         "schema": {
          "fields": [
           {
            "metadata": {},
            "name": "affiliation_normalizada",
            "nullable": true,
            "type": "string"
           },
           {
            "metadata": {
             "__autoGeneratedAlias": "true"
            },
            "name": "count(1)",
            "nullable": false,
            "type": "long"
           }
          ],
          "type": "struct"
         },
         "tableIdentifier": null,
         "typeStr": "pyspark.sql.dataframe.DataFrame"
        }
       ],
       "dbfsResultPath": null,
       "isJsonSchema": true,
       "metadata": {
        "createTempViewForImplicitDf": true,
        "dataframeName": "_sqldf",
        "executionCount": 83
       },
       "overflow": false,
       "plotOptions": {
        "customPlotOptions": {},
        "displayType": "table",
        "pivotAggregation": null,
        "pivotColumns": null,
        "xColumns": null,
        "yColumns": null
       },
       "removedWidgets": [],
       "schema": [
        {
         "metadata": "{}",
         "name": "affiliation_normalizada",
         "type": "\"string\""
        },
        {
         "metadata": "{\"__autoGeneratedAlias\":\"true\"}",
         "name": "count(1)",
         "type": "\"long\""
        }
       ],
       "type": "table"
      }
     },
     "output_type": "display_data"
    }
   ],
   "source": [
    "%sql \n",
    "select affiliation_normalizada, count(1) from unirdat.pubmed_db.m_afiliacion\n",
    "group by affiliation_normalizada\n",
    "having count(1) >1"
   ]
  },
  {
   "cell_type": "code",
   "execution_count": 0,
   "metadata": {
    "application/vnd.databricks.v1+cell": {
     "cellMetadata": {
      "byteLimit": 2048000,
      "rowLimit": 10000
     },
     "inputWidgets": {},
     "nuid": "80685f14-30a5-4722-a685-7a2f0a1073e4",
     "showTitle": false,
     "tableResultSettingsMap": {},
     "title": ""
    }
   },
   "outputs": [
    {
     "output_type": "stream",
     "name": "stdout",
     "output_type": "stream",
     "text": [
      "+------------+--------+--------------------+------------+---------------+--------------------+-------------------+--------------------+--------------------+--------------------+-----------------------+--------------------+\n|pub_year_for|    pmid|            fullname|        fore|           last|         affiliation|        orcid_final|        autor_concat|           author_id|         affiliation|affiliation_normalizada|      institution_id|\n+------------+--------+--------------------+------------+---------------+--------------------+-------------------+--------------------+--------------------+--------------------+-----------------------+--------------------+\n|        2020|27820722| jonathan d burlison|  jonathan d|       burlison|from the departme...|               NULL|jonathan d burlis...|ed63c66f3d5cf22b5...|from the departme...|   from the of pharm...|f9b8f89d45f4ac043...|\n|        2020|27381879| jérôme rene lechien| jérôme rene|        lechien|epicura hospital,...|               NULL|jérôme rene lechi...|c5043d0a7fd9e0e2a...|epicura hospital,...|   epicura rhms baud...|5f059cb80dccc3b8c...|\n|        2022|36333491|       janine koepke|      janine|         koepke|department of med...|               NULL|janine koepke|dep...|c903febb0c8d35aef...|department of med...|   of medicine ii in...|192b3f68bee5e70d7...|\n|        2020|27269254|nik adilah nik ot...|  nik adilah|     nik othman|universiti sains ...|               NULL|nik adilah nik ot...|4bddeba49e973e51b...|universiti sains ...|   universiti sains ...|f6ab7f3086f7ff73c...|\n|        2022|36333664|         jingyi tian|      jingyi|           tian|department of rad...|0000-0002-9679-6167|jingyi tian|depar...| 0000-0002-9679-6167|department of rad...|   of radiology beij...|ca39d77faa011de4a...|\n|        2022|36333374|           piet maes|        piet|           maes|ku leuven departm...|0000-0002-4571-5232|piet maes|ku leuv...| 0000-0002-4571-5232|ku leuven departm...|   ku leuven of micr...|51420185c625a8e5e...|\n|        2022|36333588|       allen allison|       allen|        allison|bishop museum, 15...|               NULL|allen allison|bis...|4bc8e8e36b4cd7f90...|bishop museum, 15...|   bishop museum ber...|4ea34a69479eb557a...|\n|        2022|36333660|         yumi mizuta|        yumi|         mizuta|department of gas...|               NULL|yumi mizuta|depar...|5592e8080ff75466c...|department of gas...|   of gastroenterolo...|7c11fb5b75ef65d4c...|\n|        2020|28562466|   melissa m tavarez|   melissa m|        tavarez|from the children...|               NULL|melissa m tavarez...|b760407bda715f1b7...|from the children...|   from the children...|2e3c7fc9699037d79...|\n|        2022|36333406|    jonathan g m lee|jonathan g m|            lee|school of enginee...|0000-0002-2539-5235|jonathan g m lee|...| 0000-0002-2539-5235|school of enginee...|   of engineering ne...|b89b7788f4868bbf3...|\n|        2022|36333695|             bo wang|          bo|           wang|department of cri...|               NULL|bo wang|departmen...|9b9b9951acf959352...|department of cri...|   of critical care ...|b7808036acfcc875d...|\n|        2020|28840760|        kevin fy lam|    kevin fy|            lam|national universi...|               NULL|kevin fy lam|nati...|1d81005ba24ba8a24...|national universi...|   national of singa...|e51f1eec4b7f1d5bd...|\n|        2022|36333699|           meng yang|        meng|           yang|state key laborat...|               NULL|meng yang|state k...|492b4a0e8168cff4f...|state key laborat...|   state key of mole...|31bc14b4879d1aec2...|\n|        2022|36333699|           peihua li|      peihua|             li|state key laborat...|               NULL|peihua li|state k...|fff8081efc17026e7...|state key laborat...|   state key of mole...|31bc14b4879d1aec2...|\n|        2020|28870393|      a b gago-veiga|         a b|     gago-veiga|unidad de cefalea...|               NULL|a b gago-veiga|un...|6990831de802fc605...|unidad de cefalea...|   unidad de cefalea...|6962713ace2f925d7...|\n|        2022|36333394|          rei otsuki|         rei|         otsuki|department of psy...|               NULL|rei otsuki|depart...|95bd368d36d0b7df7...|department of psy...|   of psychiatry nih...|d8390aab76e316a8d...|\n|        2022|36333503|     elisa de franco|       elisa|      de franco|institute of biom...|0000-0002-1437-7891|elisa de franco|i...| 0000-0002-1437-7891|institute of biom...|   of biomedical and...|56decc5376c77151f...|\n|        2022|36333741|lorenz auer-hacke...|      lorenz|auer-hackenberg|division of neona...|0000-0002-5634-5791|lorenz auer-hacke...| 0000-0002-5634-5791|division of neona...|   of neonatology of...|0e4d049302d33aab3...|\n|        2020|27603406|    rossella rispoli|    rossella|        rispoli|radiotherapy onco...|               NULL|rossella rispoli|...|c4078670ea765c184...|radiotherapy onco...|   radiotherapy onco...|1461e01c7bf1db34d...|\n|        2020|26264569|        junghyun ryu|    junghyun|            ryu|school of korean ...|               NULL|junghyun ryu|scho...|10f92e686b7520238...|school of korean ...|   of korean medicin...|2ae29db1bb7dbb78b...|\n+------------+--------+--------------------+------------+---------------+--------------------+-------------------+--------------------+--------------------+--------------------+-----------------------+--------------------+\nonly showing top 20 rows\n"
     ]
    }
   ],
   "source": [
    "\n",
    "\n",
    "\n",
    "df_autores = spark.table(\"default.pubmed_art_autor_aff\").alias(\"aut\")\n",
    "\n",
    "# Tabla de afiliaciones únicas\n",
    "df_afiliaciones = spark.table(\"default.pubmed_aff_normalizadas\").alias(\"aff\")\n",
    "\n",
    "# Une por la afiliación normalizada o la original si la tienes\n",
    "df_autores_enriquecido = df_autores.join(\n",
    "    df_afiliaciones,\n",
    "    df_autores[\"affiliation\"] == df_afiliaciones[\"affiliation\"],\n",
    "    how=\"left\"\n",
    ").distinct()\n",
    "\n",
    "df_autores_enriquecido.show()\n",
    "\n",
    "df_art_aut_aff = df_autores_enriquecido.select(\n",
    "                col(\"aut.*\"),\n",
    "                col(\"aff.institution_id\")\n",
    "                )\n",
    "# Guardar tabla de nuevo sin perder los campos originales\n",
    "df_art_aut_aff.write.mode(\"overwrite\").format(\"delta\").saveAsTable(\"unirdat.pubmed_db.m_articulo_autor_affiliation\")"
   ]
  }
 ],
 "metadata": {
  "application/vnd.databricks.v1+notebook": {
   "computePreferences": null,
   "dashboards": [],
   "environmentMetadata": {
    "base_environment": "",
    "environment_version": "2"
   },
   "inputWidgetPreferences": null,
   "language": "python",
   "notebookMetadata": {
    "mostRecentlyExecutedCommandWithImplicitDF": {
     "commandId": 5723474551589695,
     "dataframes": [
      "_sqldf"
     ]
    },
    "pythonIndentUnit": 4
   },
   "notebookName": "03_EDA_Nuevo_04_Normalizacion_table_affiliaciones",
   "widgets": {
    "chunk_size": {
     "currentValue": "50",
     "nuid": "bd047e15-5e50-451b-834d-bfb3a6a90b9f",
     "typedWidgetInfo": {
      "autoCreated": false,
      "defaultValue": "50",
      "label": "Autores por chunk",
      "name": "chunk_size",
      "options": {
       "widgetDisplayType": "Text",
       "validationRegex": null
      },
      "parameterDataType": "String"
     },
     "widgetInfo": {
      "widgetType": "text",
      "defaultValue": "50",
      "label": "Autores por chunk",
      "name": "chunk_size",
      "options": {
       "widgetType": "text",
       "autoCreated": null,
       "validationRegex": null
      }
     }
    },
    "output_table": {
     "currentValue": "unirdat.pubmed_db.m_autor_afiliacion_ror_normalized_final_3",
     "nuid": "38de0a67-ab53-4808-bd6b-bc4facdf6179",
     "typedWidgetInfo": {
      "autoCreated": false,
      "defaultValue": "unirdat.pubmed_db.m_autor_afiliacion_ror_normalized_final_2",
      "label": "Tabla final",
      "name": "output_table",
      "options": {
       "widgetDisplayType": "Text",
       "validationRegex": null
      },
      "parameterDataType": "String"
     },
     "widgetInfo": {
      "widgetType": "text",
      "defaultValue": "unirdat.pubmed_db.m_autor_afiliacion_ror_normalized_final_2",
      "label": "Tabla final",
      "name": "output_table",
      "options": {
       "widgetType": "text",
       "autoCreated": null,
       "validationRegex": null
      }
     }
    },
    "ror_table": {
     "currentValue": "unirdat.pubmed_db.n_affiliaciones",
     "nuid": "189b7df7-294e-45f8-913e-3c7a2a3c4e55",
     "typedWidgetInfo": {
      "autoCreated": false,
      "defaultValue": "unirdat.pubmed_db.n_affiliaciones",
      "label": "Tabla ROR Delta",
      "name": "ror_table",
      "options": {
       "widgetDisplayType": "Text",
       "validationRegex": null
      },
      "parameterDataType": "String"
     },
     "widgetInfo": {
      "widgetType": "text",
      "defaultValue": "unirdat.pubmed_db.n_affiliaciones",
      "label": "Tabla ROR Delta",
      "name": "ror_table",
      "options": {
       "widgetType": "text",
       "autoCreated": null,
       "validationRegex": null
      }
     }
    },
    "source_table": {
     "currentValue": "pubmed_affiliaciones",
     "nuid": "2589ec18-9d25-4351-8c05-5c31a5cf8ed3",
     "typedWidgetInfo": {
      "autoCreated": false,
      "defaultValue": "pubmed_affiliaciones",
      "label": "Tabla RAW",
      "name": "source_table",
      "options": {
       "widgetDisplayType": "Text",
       "validationRegex": null
      },
      "parameterDataType": "String"
     },
     "widgetInfo": {
      "widgetType": "text",
      "defaultValue": "pubmed_affiliaciones",
      "label": "Tabla RAW",
      "name": "source_table",
      "options": {
       "widgetType": "text",
       "autoCreated": null,
       "validationRegex": null
      }
     }
    },
    "tmp_path": {
     "currentValue": "/mnt/tmp/pubmed_affil_norm",
     "nuid": "92be96ca-cc23-47c7-afd8-bc6c9583354d",
     "typedWidgetInfo": {
      "autoCreated": false,
      "defaultValue": "/mnt/tmp/pubmed_affil_norm",
      "label": "Ruta temporal Delta",
      "name": "tmp_path",
      "options": {
       "widgetDisplayType": "Text",
       "validationRegex": null
      },
      "parameterDataType": "String"
     },
     "widgetInfo": {
      "widgetType": "text",
      "defaultValue": "/mnt/tmp/pubmed_affil_norm",
      "label": "Ruta temporal Delta",
      "name": "tmp_path",
      "options": {
       "widgetType": "text",
       "autoCreated": null,
       "validationRegex": null
      }
     }
    }
   }
  },
  "language_info": {
   "name": "python"
  }
 },
 "nbformat": 4,
 "nbformat_minor": 0
}