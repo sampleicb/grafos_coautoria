{
 "cells": [
  {
   "cell_type": "code",
   "execution_count": 0,
   "metadata": {
    "application/vnd.databricks.v1+cell": {
     "cellMetadata": {
      "byteLimit": 2048000,
      "implicitDf": true,
      "rowLimit": 10000
     },
     "inputWidgets": {},
     "nuid": "937fada3-93b1-4a9c-932c-dad96da63055",
     "showTitle": false,
     "tableResultSettingsMap": {},
     "title": ""
    }
   },
   "outputs": [
    {
     "output_type": "display_data",
     "data": {
      "text/html": [
       "<style scoped>\n",
       "  .table-result-container {\n",
       "    max-height: 300px;\n",
       "    overflow: auto;\n",
       "  }\n",
       "  table, th, td {\n",
       "    border: 1px solid black;\n",
       "    border-collapse: collapse;\n",
       "  }\n",
       "  th, td {\n",
       "    padding: 5px;\n",
       "  }\n",
       "  th {\n",
       "    text-align: left;\n",
       "  }\n",
       "</style><div class='table-result-container'><table class='table-result'><thead style='background-color: white'><tr><th>num_affected_rows</th><th>num_inserted_rows</th></tr></thead><tbody></tbody></table></div>"
      ]
     },
     "metadata": {
      "application/vnd.databricks.v1+output": {
       "addedWidgets": {},
       "aggData": [],
       "aggError": "",
       "aggOverflow": false,
       "aggSchema": [],
       "aggSeriesLimitReached": false,
       "aggType": "",
       "arguments": {},
       "columnCustomDisplayInfos": {},
       "data": [],
       "datasetInfos": [
        {
         "name": "_sqldf",
         "schema": {
          "fields": [
           {
            "metadata": {},
            "name": "num_affected_rows",
            "nullable": true,
            "type": "long"
           },
           {
            "metadata": {},
            "name": "num_inserted_rows",
            "nullable": true,
            "type": "long"
           }
          ],
          "type": "struct"
         },
         "tableIdentifier": null,
         "typeStr": "pyspark.sql.dataframe.DataFrame"
        }
       ],
       "dbfsResultPath": null,
       "isJsonSchema": true,
       "metadata": {
        "createTempViewForImplicitDf": true,
        "dataframeName": "_sqldf",
        "executionCount": 1
       },
       "overflow": false,
       "plotOptions": {
        "customPlotOptions": {},
        "displayType": "table",
        "pivotAggregation": null,
        "pivotColumns": null,
        "xColumns": null,
        "yColumns": null
       },
       "removedWidgets": [],
       "schema": [
        {
         "metadata": "{}",
         "name": "num_affected_rows",
         "type": "\"long\""
        },
        {
         "metadata": "{}",
         "name": "num_inserted_rows",
         "type": "\"long\""
        }
       ],
       "type": "table"
      }
     },
     "output_type": "display_data"
    }
   ],
   "source": [
    "%sql\n",
    "create or replace table pubmed_db.coautor_2020\n",
    "select distinct pmid, substr(year, 1, 4) AS year, authors from pubmed_temp_filtrado\n",
    "where  substr(year,1,4) = 2020 and authors.orcid is not null\n"
   ]
  },
  {
   "cell_type": "markdown",
   "metadata": {
    "application/vnd.databricks.v1+cell": {
     "cellMetadata": {
      "byteLimit": 2048000,
      "rowLimit": 10000
     },
     "inputWidgets": {},
     "nuid": "f07960f2-1505-46b7-9bd4-c925bc1f6c09",
     "showTitle": false,
     "tableResultSettingsMap": {},
     "title": ""
    }
   },
   "source": [
    "## CREAR ARISTAS Y NODOS"
   ]
  },
  {
   "cell_type": "code",
   "execution_count": 0,
   "metadata": {
    "application/vnd.databricks.v1+cell": {
     "cellMetadata": {
      "byteLimit": 2048000,
      "rowLimit": 10000
     },
     "inputWidgets": {},
     "nuid": "7ffea072-9d4b-49d9-9df1-ef45afb4bfd1",
     "showTitle": false,
     "tableResultSettingsMap": {},
     "title": ""
    }
   },
   "outputs": [
    {
     "output_type": "display_data",
     "data": {
      "text/html": [
       "<style scoped>\n",
       "  .table-result-container {\n",
       "    max-height: 300px;\n",
       "    overflow: auto;\n",
       "  }\n",
       "  table, th, td {\n",
       "    border: 1px solid black;\n",
       "    border-collapse: collapse;\n",
       "  }\n",
       "  th, td {\n",
       "    padding: 5px;\n",
       "  }\n",
       "  th {\n",
       "    text-align: left;\n",
       "  }\n",
       "</style><div class='table-result-container'><table class='table-result'><thead style='background-color: white'><tr><th>orcid</th><th>author_name</th><th>degree</th></tr></thead><tbody><tr><td>0000-0002-7880-5920</td><td>Wei Wang</td><td>3</td></tr><tr><td>0000-0003-1393-0971</td><td>Lili Zou</td><td>1</td></tr><tr><td>0000-0002-1735-8792</td><td>Javier C Angulo</td><td>6</td></tr><tr><td>0000-0002-3716-2455</td><td>Jaakko Kaprio</td><td>79</td></tr><tr><td>0000-0002-1735-8792</td><td>Javier Angulo</td><td>6</td></tr><tr><td>0000-0003-0632-3356</td><td>Sofia Morra</td><td>1</td></tr><tr><td>0000-0003-1841-1169</td><td>Chao Jiang</td><td>0</td></tr><tr><td>0000-0002-7066-2558</td><td>Jane Parker</td><td>23</td></tr><tr><td>0000-0002-4664-6056</td><td>Marjorie Rhodes</td><td>0</td></tr><tr><td>0000-0002-6404-9917</td><td>Katja Hebestreit</td><td>4</td></tr><tr><td>0000-0003-2416-0693</td><td>Siyuan Feng</td><td>2</td></tr><tr><td>0000-0001-5316-0241</td><td>Jochen Utikal</td><td>20</td></tr><tr><td>0000-0002-1530-2402</td><td>Nhu Hoa Thi Tran</td><td>4</td></tr><tr><td>0000-0001-5316-0241</td><td>Jochen S Utikal</td><td>20</td></tr><tr><td>0000-0002-6532-5856</td><td>Petr Karlovsky</td><td>5</td></tr><tr><td>0000-0002-5315-3102</td><td>Gina M Wilson</td><td>0</td></tr><tr><td>0000-0002-6563-0877</td><td>Krzysztof J Filipiak</td><td>31</td></tr><tr><td>0000-0002-6563-0877</td><td>Jerzy R Ladny</td><td>31</td></tr><tr><td>0000-0002-0865-2236</td><td>Kyunga Kim</td><td>49</td></tr><tr><td>0000-0001-8626-9788</td><td>Rebecca Dargue</td><td>7</td></tr><tr><td>0000-0002-8636-4491</td><td>Yusuke Aoki</td><td>0</td></tr><tr><td>0000-0002-5983-1859</td><td>He Ma</td><td>0</td></tr><tr><td>0000-0002-1993-8985</td><td>Alison A Bayly</td><td>1</td></tr><tr><td>0000-0001-6175-9422</td><td>Peng Xie</td><td>6</td></tr><tr><td>0000-0003-3353-2188</td><td>Francisco M Gutierrez-Mariscal</td><td>9</td></tr><tr><td>0000-0003-3353-2188</td><td>Francisco Miguel Gutierrez-Mariscal</td><td>9</td></tr><tr><td>0000-0003-1618-1056</td><td>Minhaeng Cho</td><td>27</td></tr><tr><td>0000-0001-5953-9084</td><td>Ian Teasdale</td><td>5</td></tr><tr><td>0000-0002-8582-5436</td><td>Ji Hyun Lee</td><td>2</td></tr><tr><td>0000-0003-0316-8303</td><td>Rebecca E Graff</td><td>13</td></tr><tr><td>0000-0002-8061-8585</td><td>Baogang Wang</td><td>0</td></tr><tr><td>0000-0002-9915-5138</td><td>Aleksey V Smirnov</td><td>16</td></tr><tr><td>0000-0001-6130-8533</td><td>Sara Bernardi</td><td>15</td></tr><tr><td>0000-0001-8508-7130</td><td>Wenhao Dai</td><td>13</td></tr><tr><td>0000-0001-8563-9468</td><td>Isabel Gràcia</td><td>3</td></tr><tr><td>0000-0001-5987-3576</td><td>Manuela Ceccarelli</td><td>6</td></tr><tr><td>0000-0001-5987-3576</td><td>M Ceccarelli</td><td>6</td></tr><tr><td>0000-0003-4057-7165</td><td>Thomas F Hofmann</td><td>72</td></tr><tr><td>0000-0003-4057-7165</td><td>Thomas Hoffmann</td><td>72</td></tr><tr><td>0000-0002-7027-0060</td><td>Monica Aggarwal</td><td>0</td></tr><tr><td>0000-0001-5595-2971</td><td>Marta Cabello</td><td>3</td></tr><tr><td>0000-0003-4609-5159</td><td>Mohamed Zbair</td><td>4</td></tr><tr><td>0000-0003-3488-4935</td><td>Esther H Lips</td><td>3</td></tr><tr><td>0000-0001-8326-5730</td><td>Sandrine Marchetti</td><td>6</td></tr><tr><td>0000-0001-7320-6673</td><td>Thomas Pinkney</td><td>3</td></tr><tr><td>0000-0002-1159-0582</td><td>Wei Pan</td><td>4</td></tr><tr><td>0000-0003-0739-0518</td><td>Stefano Zacchini</td><td>0</td></tr><tr><td>0000-0002-3928-9265</td><td>Elizabeth Capano</td><td>1</td></tr><tr><td>0000-0002-3993-9520</td><td>William Jorgensen</td><td>69</td></tr><tr><td>0000-0002-3993-9520</td><td>William L Jorgensen</td><td>69</td></tr><tr><td>0000-0002-2569-2432</td><td>Da-Yin Chen</td><td>0</td></tr><tr><td>0000-0002-9222-3791</td><td>Caroline Beck</td><td>6</td></tr><tr><td>0000-0002-5286-2783</td><td>Fernando Rafael Arias</td><td>5</td></tr><tr><td>0000-0001-5800-3712</td><td>Gregory P Howard</td><td>2</td></tr><tr><td>0000-0003-2958-4479</td><td>Alexey Danilov</td><td>8</td></tr><tr><td>0000-0003-2958-4479</td><td>A B Danilov</td><td>8</td></tr><tr><td>0000-0003-2958-4479</td><td>Al B Danilov</td><td>8</td></tr><tr><td>0000-0002-8295-7716</td><td>Martine Culty</td><td>0</td></tr><tr><td>0000-0001-6889-3667</td><td>Magdalena Plebanski</td><td>34</td></tr><tr><td>0000-0001-6889-3667</td><td>Cordelia Selomulya</td><td>34</td></tr><tr><td>0000-0002-1174-7535</td><td>Darae Ko</td><td>0</td></tr><tr><td>0000-0001-8065-2639</td><td>Tao Xi</td><td>1</td></tr><tr><td>0000-0002-0635-2547</td><td>Nicolas Farina</td><td>19</td></tr><tr><td>0000-0003-1637-2522</td><td>Li Zhang</td><td>2</td></tr><tr><td>0000-0002-7840-6145</td><td>Guillermo J Ortega</td><td>4</td></tr><tr><td>0000-0002-0635-2547</td><td>N Farina</td><td>19</td></tr><tr><td>0000-0001-7571-4858</td><td>Yi-Gang Huang</td><td>6</td></tr><tr><td>0000-0001-7829-3382</td><td>Emily Moraes Roges</td><td>0</td></tr><tr><td>0000-0001-8823-8440</td><td>Seitaro Fujishima</td><td>6</td></tr><tr><td>0000-0003-0145-4736</td><td>Beatrice Nolan</td><td>12</td></tr><tr><td>0000-0003-4800-3019</td><td>Peter Steinmann</td><td>44</td></tr><tr><td>0000-0003-4800-3019</td><td>P Steinmann</td><td>44</td></tr><tr><td>0000-0003-0816-0781</td><td>Charlotte M Easterling</td><td>5</td></tr><tr><td>0000-0001-8539-1087</td><td>Seung-Chun Park</td><td>6</td></tr><tr><td>0000-0001-7817-1318</td><td>Scott J Miller</td><td>83</td></tr><tr><td>0000-0002-8839-4520</td><td>Erika Aparecida Silveira</td><td>18</td></tr><tr><td>0000-0002-8839-4520</td><td>Érika Aparecida Silveira</td><td>18</td></tr><tr><td>0000-0002-5199-8232</td><td>Uzman Khan</td><td>1</td></tr><tr><td>0000-0002-7526-3695</td><td>Jixi Guo</td><td>1</td></tr><tr><td>0000-0002-0048-8216</td><td>Abolghasem Sadeghi-Niaraki</td><td>2</td></tr><tr><td>0000-0002-4096-5419</td><td>Wenhui Li</td><td>3</td></tr><tr><td>0000-0002-8206-7481</td><td>Jaime Portilla</td><td>2</td></tr><tr><td>0000-0003-4915-5823</td><td>Consiglia Pacelli</td><td>6</td></tr><tr><td>0000-0002-3764-9060</td><td>Huadong Pei</td><td>0</td></tr><tr><td>0000-0003-1570-0010</td><td>Wei Wu</td><td>0</td></tr><tr><td>0000-0001-6471-1811</td><td>Vera Mahler</td><td>37</td></tr><tr><td>0000-0002-4120-9316</td><td>Erwan Delrieu-Trottin</td><td>6</td></tr><tr><td>0000-0001-6471-1811</td><td>V Mahler</td><td>37</td></tr><tr><td>0000-0001-7635-7944</td><td>Françoise Mascart</td><td>2</td></tr><tr><td>0000-0002-6841-1733</td><td>Kelly A Doroshenk</td><td>6</td></tr><tr><td>0000-0002-1506-5494</td><td>Emilia Huerta-Sánchez</td><td>4</td></tr><tr><td>0000-0002-0698-5299</td><td>Sarah M Zala</td><td>3</td></tr><tr><td>0000-0001-7530-9019</td><td>Merve Ergun Dönmez</td><td>1</td></tr><tr><td>0000-0002-4470-4451</td><td>Yan Luo</td><td>0</td></tr><tr><td>0000-0003-1199-9879</td><td>David A Nicewicz</td><td>4</td></tr><tr><td>0000-0002-5035-7396</td><td>Durga Prasanna Misra</td><td>13</td></tr><tr><td>0000-0002-0860-8761</td><td>Sae Kyun Jang</td><td>7</td></tr><tr><td>0000-0002-0109-5991</td><td>Randy Taplitz</td><td>7</td></tr><tr><td>0000-0003-0924-9841</td><td>Agnieszka Kwiatek</td><td>2</td></tr><tr><td>0000-0003-1707-5263</td><td>Anu Eskelinen</td><td>35</td></tr><tr><td>0000-0002-4176-6825</td><td>Jennifer H Yu</td><td>1</td></tr><tr><td>0000-0002-5478-6964</td><td>Lu Cheng</td><td>4</td></tr><tr><td>0000-0001-6337-4438</td><td>Juan Zhang</td><td>1</td></tr><tr><td>0000-0002-5881-4758</td><td>Jorge Otero</td><td>2</td></tr><tr><td>0000-0001-9904-9952</td><td>Mindy Goldman</td><td>4</td></tr><tr><td>0000-0003-2868-5155</td><td>Matthias Kuhn</td><td>4</td></tr><tr><td>0000-0003-2941-2298</td><td>Debra Nestel</td><td>5</td></tr><tr><td>0000-0003-1309-1506</td><td>R Avellana Moreno</td><td>0</td></tr><tr><td>0000-0002-5815-6193</td><td>Steven G Terra</td><td>2</td></tr><tr><td>0000-0003-3956-3073</td><td>Carlos Otto Heise</td><td>34</td></tr><tr><td>0000-0001-6549-8207</td><td>Zachary Conrad Hartman</td><td>8</td></tr><tr><td>0000-0001-6549-8207</td><td>Zachary C Hartman</td><td>8</td></tr><tr><td>0000-0001-7160-3456</td><td>Jaeseol Park</td><td>7</td></tr><tr><td>0000-0001-7459-9202</td><td>He Li</td><td>5</td></tr><tr><td>0000-0003-0929-9419</td><td>Grzegorz Rudzki</td><td>1</td></tr></tbody></table></div>"
      ]
     },
     "metadata": {
      "application/vnd.databricks.v1+output": {
       "addedWidgets": {},
       "aggData": [],
       "aggError": "",
       "aggOverflow": false,
       "aggSchema": [],
       "aggSeriesLimitReached": false,
       "aggType": "",
       "arguments": {},
       "columnCustomDisplayInfos": {},
       "data": [
        [
         "0000-0002-7880-5920",
         "Wei Wang",
         3
        ],
        [
         "0000-0003-1393-0971",
         "Lili Zou",
         1
        ],
        [
         "0000-0002-1735-8792",
         "Javier C Angulo",
         6
        ],
        [
         "0000-0002-3716-2455",
         "Jaakko Kaprio",
         79
        ],
        [
         "0000-0002-1735-8792",
         "Javier Angulo",
         6
        ],
        [
         "0000-0003-0632-3356",
         "Sofia Morra",
         1
        ],
        [
         "0000-0003-1841-1169",
         "Chao Jiang",
         0
        ],
        [
         "0000-0002-7066-2558",
         "Jane Parker",
         23
        ],
        [
         "0000-0002-4664-6056",
         "Marjorie Rhodes",
         0
        ],
        [
         "0000-0002-6404-9917",
         "Katja Hebestreit",
         4
        ],
        [
         "0000-0003-2416-0693",
         "Siyuan Feng",
         2
        ],
        [
         "0000-0001-5316-0241",
         "Jochen Utikal",
         20
        ],
        [
         "0000-0002-1530-2402",
         "Nhu Hoa Thi Tran",
         4
        ],
        [
         "0000-0001-5316-0241",
         "Jochen S Utikal",
         20
        ],
        [
         "0000-0002-6532-5856",
         "Petr Karlovsky",
         5
        ],
        [
         "0000-0002-5315-3102",
         "Gina M Wilson",
         0
        ],
        [
         "0000-0002-6563-0877",
         "Krzysztof J Filipiak",
         31
        ],
        [
         "0000-0002-6563-0877",
         "Jerzy R Ladny",
         31
        ],
        [
         "0000-0002-0865-2236",
         "Kyunga Kim",
         49
        ],
        [
         "0000-0001-8626-9788",
         "Rebecca Dargue",
         7
        ],
        [
         "0000-0002-8636-4491",
         "Yusuke Aoki",
         0
        ],
        [
         "0000-0002-5983-1859",
         "He Ma",
         0
        ],
        [
         "0000-0002-1993-8985",
         "Alison A Bayly",
         1
        ],
        [
         "0000-0001-6175-9422",
         "Peng Xie",
         6
        ],
        [
         "0000-0003-3353-2188",
         "Francisco M Gutierrez-Mariscal",
         9
        ],
        [
         "0000-0003-3353-2188",
         "Francisco Miguel Gutierrez-Mariscal",
         9
        ],
        [
         "0000-0003-1618-1056",
         "Minhaeng Cho",
         27
        ],
        [
         "0000-0001-5953-9084",
         "Ian Teasdale",
         5
        ],
        [
         "0000-0002-8582-5436",
         "Ji Hyun Lee",
         2
        ],
        [
         "0000-0003-0316-8303",
         "Rebecca E Graff",
         13
        ],
        [
         "0000-0002-8061-8585",
         "Baogang Wang",
         0
        ],
        [
         "0000-0002-9915-5138",
         "Aleksey V Smirnov",
         16
        ],
        [
         "0000-0001-6130-8533",
         "Sara Bernardi",
         15
        ],
        [
         "0000-0001-8508-7130",
         "Wenhao Dai",
         13
        ],
        [
         "0000-0001-8563-9468",
         "Isabel Gràcia",
         3
        ],
        [
         "0000-0001-5987-3576",
         "Manuela Ceccarelli",
         6
        ],
        [
         "0000-0001-5987-3576",
         "M Ceccarelli",
         6
        ],
        [
         "0000-0003-4057-7165",
         "Thomas F Hofmann",
         72
        ],
        [
         "0000-0003-4057-7165",
         "Thomas Hoffmann",
         72
        ],
        [
         "0000-0002-7027-0060",
         "Monica Aggarwal",
         0
        ],
        [
         "0000-0001-5595-2971",
         "Marta Cabello",
         3
        ],
        [
         "0000-0003-4609-5159",
         "Mohamed Zbair",
         4
        ],
        [
         "0000-0003-3488-4935",
         "Esther H Lips",
         3
        ],
        [
         "0000-0001-8326-5730",
         "Sandrine Marchetti",
         6
        ],
        [
         "0000-0001-7320-6673",
         "Thomas Pinkney",
         3
        ],
        [
         "0000-0002-1159-0582",
         "Wei Pan",
         4
        ],
        [
         "0000-0003-0739-0518",
         "Stefano Zacchini",
         0
        ],
        [
         "0000-0002-3928-9265",
         "Elizabeth Capano",
         1
        ],
        [
         "0000-0002-3993-9520",
         "William Jorgensen",
         69
        ],
        [
         "0000-0002-3993-9520",
         "William L Jorgensen",
         69
        ],
        [
         "0000-0002-2569-2432",
         "Da-Yin Chen",
         0
        ],
        [
         "0000-0002-9222-3791",
         "Caroline Beck",
         6
        ],
        [
         "0000-0002-5286-2783",
         "Fernando Rafael Arias",
         5
        ],
        [
         "0000-0001-5800-3712",
         "Gregory P Howard",
         2
        ],
        [
         "0000-0003-2958-4479",
         "Alexey Danilov",
         8
        ],
        [
         "0000-0003-2958-4479",
         "A B Danilov",
         8
        ],
        [
         "0000-0003-2958-4479",
         "Al B Danilov",
         8
        ],
        [
         "0000-0002-8295-7716",
         "Martine Culty",
         0
        ],
        [
         "0000-0001-6889-3667",
         "Magdalena Plebanski",
         34
        ],
        [
         "0000-0001-6889-3667",
         "Cordelia Selomulya",
         34
        ],
        [
         "0000-0002-1174-7535",
         "Darae Ko",
         0
        ],
        [
         "0000-0001-8065-2639",
         "Tao Xi",
         1
        ],
        [
         "0000-0002-0635-2547",
         "Nicolas Farina",
         19
        ],
        [
         "0000-0003-1637-2522",
         "Li Zhang",
         2
        ],
        [
         "0000-0002-7840-6145",
         "Guillermo J Ortega",
         4
        ],
        [
         "0000-0002-0635-2547",
         "N Farina",
         19
        ],
        [
         "0000-0001-7571-4858",
         "Yi-Gang Huang",
         6
        ],
        [
         "0000-0001-7829-3382",
         "Emily Moraes Roges",
         0
        ],
        [
         "0000-0001-8823-8440",
         "Seitaro Fujishima",
         6
        ],
        [
         "0000-0003-0145-4736",
         "Beatrice Nolan",
         12
        ],
        [
         "0000-0003-4800-3019",
         "Peter Steinmann",
         44
        ],
        [
         "0000-0003-4800-3019",
         "P Steinmann",
         44
        ],
        [
         "0000-0003-0816-0781",
         "Charlotte M Easterling",
         5
        ],
        [
         "0000-0001-8539-1087",
         "Seung-Chun Park",
         6
        ],
        [
         "0000-0001-7817-1318",
         "Scott J Miller",
         83
        ],
        [
         "0000-0002-8839-4520",
         "Erika Aparecida Silveira",
         18
        ],
        [
         "0000-0002-8839-4520",
         "Érika Aparecida Silveira",
         18
        ],
        [
         "0000-0002-5199-8232",
         "Uzman Khan",
         1
        ],
        [
         "0000-0002-7526-3695",
         "Jixi Guo",
         1
        ],
        [
         "0000-0002-0048-8216",
         "Abolghasem Sadeghi-Niaraki",
         2
        ],
        [
         "0000-0002-4096-5419",
         "Wenhui Li",
         3
        ],
        [
         "0000-0002-8206-7481",
         "Jaime Portilla",
         2
        ],
        [
         "0000-0003-4915-5823",
         "Consiglia Pacelli",
         6
        ],
        [
         "0000-0002-3764-9060",
         "Huadong Pei",
         0
        ],
        [
         "0000-0003-1570-0010",
         "Wei Wu",
         0
        ],
        [
         "0000-0001-6471-1811",
         "Vera Mahler",
         37
        ],
        [
         "0000-0002-4120-9316",
         "Erwan Delrieu-Trottin",
         6
        ],
        [
         "0000-0001-6471-1811",
         "V Mahler",
         37
        ],
        [
         "0000-0001-7635-7944",
         "Françoise Mascart",
         2
        ],
        [
         "0000-0002-6841-1733",
         "Kelly A Doroshenk",
         6
        ],
        [
         "0000-0002-1506-5494",
         "Emilia Huerta-Sánchez",
         4
        ],
        [
         "0000-0002-0698-5299",
         "Sarah M Zala",
         3
        ],
        [
         "0000-0001-7530-9019",
         "Merve Ergun Dönmez",
         1
        ],
        [
         "0000-0002-4470-4451",
         "Yan Luo",
         0
        ],
        [
         "0000-0003-1199-9879",
         "David A Nicewicz",
         4
        ],
        [
         "0000-0002-5035-7396",
         "Durga Prasanna Misra",
         13
        ],
        [
         "0000-0002-0860-8761",
         "Sae Kyun Jang",
         7
        ],
        [
         "0000-0002-0109-5991",
         "Randy Taplitz",
         7
        ],
        [
         "0000-0003-0924-9841",
         "Agnieszka Kwiatek",
         2
        ],
        [
         "0000-0003-1707-5263",
         "Anu Eskelinen",
         35
        ],
        [
         "0000-0002-4176-6825",
         "Jennifer H Yu",
         1
        ],
        [
         "0000-0002-5478-6964",
         "Lu Cheng",
         4
        ],
        [
         "0000-0001-6337-4438",
         "Juan Zhang",
         1
        ],
        [
         "0000-0002-5881-4758",
         "Jorge Otero",
         2
        ],
        [
         "0000-0001-9904-9952",
         "Mindy Goldman",
         4
        ],
        [
         "0000-0003-2868-5155",
         "Matthias Kuhn",
         4
        ],
        [
         "0000-0003-2941-2298",
         "Debra Nestel",
         5
        ],
        [
         "0000-0003-1309-1506",
         "R Avellana Moreno",
         0
        ],
        [
         "0000-0002-5815-6193",
         "Steven G Terra",
         2
        ],
        [
         "0000-0003-3956-3073",
         "Carlos Otto Heise",
         34
        ],
        [
         "0000-0001-6549-8207",
         "Zachary Conrad Hartman",
         8
        ],
        [
         "0000-0001-6549-8207",
         "Zachary C Hartman",
         8
        ],
        [
         "0000-0001-7160-3456",
         "Jaeseol Park",
         7
        ],
        [
         "0000-0001-7459-9202",
         "He Li",
         5
        ],
        [
         "0000-0003-0929-9419",
         "Grzegorz Rudzki",
         1
        ]
       ],
       "datasetInfos": [],
       "dbfsResultPath": null,
       "isJsonSchema": true,
       "metadata": {},
       "overflow": false,
       "plotOptions": {
        "customPlotOptions": {},
        "displayType": "table",
        "pivotAggregation": null,
        "pivotColumns": null,
        "xColumns": null,
        "yColumns": null
       },
       "removedWidgets": [],
       "schema": [
        {
         "metadata": "{}",
         "name": "orcid",
         "type": "\"string\""
        },
        {
         "metadata": "{}",
         "name": "author_name",
         "type": "\"string\""
        },
        {
         "metadata": "{}",
         "name": "degree",
         "type": "\"long\""
        }
       ],
       "type": "table"
      }
     },
     "output_type": "display_data"
    },
    {
     "output_type": "display_data",
     "data": {
      "text/html": [
       "<style scoped>\n",
       "  .table-result-container {\n",
       "    max-height: 300px;\n",
       "    overflow: auto;\n",
       "  }\n",
       "  table, th, td {\n",
       "    border: 1px solid black;\n",
       "    border-collapse: collapse;\n",
       "  }\n",
       "  th, td {\n",
       "    padding: 5px;\n",
       "  }\n",
       "  th {\n",
       "    text-align: left;\n",
       "  }\n",
       "</style><div class='table-result-container'><table class='table-result'><thead style='background-color: white'><tr><th>src</th><th>dst</th><th>weight</th></tr></thead><tbody><tr><td>0000-0001-7817-1318</td><td>0000-0002-3993-9520</td><td>60</td></tr><tr><td>0000-0001-7817-1318</td><td>0000-0003-4057-7165</td><td>60</td></tr><tr><td>0000-0001-7459-9202</td><td>0000-0002-4096-5419</td><td>1</td></tr><tr><td>0000-0002-3993-9520</td><td>0000-0003-4057-7165</td><td>60</td></tr><tr><td>0000-0001-5800-3712</td><td>0000-0001-6889-3667</td><td>1</td></tr></tbody></table></div>"
      ]
     },
     "metadata": {
      "application/vnd.databricks.v1+output": {
       "addedWidgets": {},
       "aggData": [],
       "aggError": "",
       "aggOverflow": false,
       "aggSchema": [],
       "aggSeriesLimitReached": false,
       "aggType": "",
       "arguments": {},
       "columnCustomDisplayInfos": {},
       "data": [
        [
         "0000-0001-7817-1318",
         "0000-0002-3993-9520",
         60
        ],
        [
         "0000-0001-7817-1318",
         "0000-0003-4057-7165",
         60
        ],
        [
         "0000-0001-7459-9202",
         "0000-0002-4096-5419",
         1
        ],
        [
         "0000-0002-3993-9520",
         "0000-0003-4057-7165",
         60
        ],
        [
         "0000-0001-5800-3712",
         "0000-0001-6889-3667",
         1
        ]
       ],
       "datasetInfos": [],
       "dbfsResultPath": null,
       "isJsonSchema": true,
       "metadata": {},
       "overflow": false,
       "plotOptions": {
        "customPlotOptions": {},
        "displayType": "table",
        "pivotAggregation": null,
        "pivotColumns": null,
        "xColumns": null,
        "yColumns": null
       },
       "removedWidgets": [],
       "schema": [
        {
         "metadata": "{}",
         "name": "src",
         "type": "\"string\""
        },
        {
         "metadata": "{}",
         "name": "dst",
         "type": "\"string\""
        },
        {
         "metadata": "{}",
         "name": "weight",
         "type": "\"long\""
        }
       ],
       "type": "table"
      }
     },
     "output_type": "display_data"
    }
   ],
   "source": [
    "\n",
    "\n",
    "from pyspark.sql.functions import explode, col, regexp_replace, count, coalesce\n",
    "\n",
    "# 1. Leer tabla con autores\n",
    "df_pubmed = spark.table(\"pubmed_db.coautor_2020\")\n",
    "\n",
    "# 2. Explode autores, filtrar ORCID válido\n",
    "df_authors = df_pubmed.select(\"pmid\", explode(\"authors\").alias(\"author\")) \\\n",
    "    .select(\n",
    "        \"pmid\",\n",
    "        regexp_replace(col(\"author.orcid\"), \"https://orcid.org/\", \"\").alias(\"orcid\"),\n",
    "        col(\"author.fullname\").alias(\"author_name\")\n",
    "    ).filter(col(\"orcid\").rlike(\"^[0-9]{4}-[0-9]{4}-[0-9]{4}-[0-9]{4}$\"))\n",
    "\n",
    "# 3. Crear aristas de coautoría (pares de ORCID por artículo)\n",
    "df_edges = df_authors.alias(\"a1\").join(df_authors.alias(\"a2\"), on=\"pmid\") \\\n",
    "    .filter(col(\"a1.orcid\") < col(\"a2.orcid\")) \\\n",
    "    .select(col(\"a1.orcid\").alias(\"src\"), col(\"a2.orcid\").alias(\"dst\"))\n",
    "\n",
    "# 4. Calcular peso (número de colaboraciones)\n",
    "df_weighted_edges = df_edges.groupBy(\"src\", \"dst\").count().withColumnRenamed(\"count\", \"weight\")\n",
    "\n",
    "# 5. Calcular grado para cada autor\n",
    "df_degree_src = df_weighted_edges.groupBy(\"src\").agg(count(\"*\").alias(\"degree_src\"))\n",
    "df_degree_dst = df_weighted_edges.groupBy(\"dst\").agg(count(\"*\").alias(\"degree_dst\"))\n",
    "\n",
    "df_degree = df_degree_src.join(df_degree_dst, df_degree_src.src == df_degree_dst.dst, \"full_outer\") \\\n",
    "    .selectExpr(\n",
    "        \"coalesce(src, dst) as orcid\",\n",
    "        \"coalesce(degree_src, 0) + coalesce(degree_dst, 0) as degree\"\n",
    "    )\n",
    "\n",
    "# 6. Unir nombres y grado\n",
    "df_authors_unique = df_authors.select(\"orcid\", \"author_name\").distinct()\n",
    "\n",
    "df_nodes = df_authors_unique.join(df_degree, on=\"orcid\", how=\"left\").fillna(0)\n",
    "\n",
    "# 7. Guardar tablas en Delta (reemplaza rutas según tu workspace)\n",
    "df_nodes.write.format(\"delta\").mode(\"overwrite\").saveAsTable(\"pubmed_coauthor_nodes_2020\")\n",
    "df_weighted_edges.write.format(\"delta\").mode(\"overwrite\").saveAsTable(\"pubmed_coauthor_edges_2020\")\n",
    "\n",
    "# 8. Mostrar muestra pequeña para visualización (100 nodos + aristas relacionadas)\n",
    "sample_nodes = df_nodes.limit(100).select(\"orcid\").collect()\n",
    "sample_ids = [row[\"orcid\"] for row in sample_nodes]\n",
    "\n",
    "sample_edges = df_weighted_edges \\\n",
    "    .filter((col(\"src\").isin(sample_ids)) & (col(\"dst\").isin(sample_ids)))\n",
    "\n",
    "display(df_nodes.filter(col(\"orcid\").isin(sample_ids)))\n",
    "display(sample_edges)"
   ]
  },
  {
   "cell_type": "markdown",
   "metadata": {
    "application/vnd.databricks.v1+cell": {
     "cellMetadata": {
      "byteLimit": 2048000,
      "rowLimit": 10000
     },
     "inputWidgets": {},
     "nuid": "f4884242-40e5-4a04-9597-fbf80b96b0db",
     "showTitle": false,
     "tableResultSettingsMap": {},
     "title": ""
    }
   },
   "source": [
    "## Crear **visualizaacion**"
   ]
  },
  {
   "cell_type": "code",
   "execution_count": 0,
   "metadata": {
    "application/vnd.databricks.v1+cell": {
     "cellMetadata": {
      "byteLimit": 2048000,
      "rowLimit": 10000
     },
     "inputWidgets": {},
     "nuid": "c5baff90-fde4-4376-9074-ffdb55873273",
     "showTitle": false,
     "tableResultSettingsMap": {},
     "title": ""
    }
   },
   "outputs": [
    {
     "output_type": "stream",
     "name": "stderr",
     "output_type": "stream",
     "text": [
      "/root/.ipykernel/14445/command-4367526046110877-670272670:28: MatplotlibDeprecationWarning: The get_cmap function was deprecated in Matplotlib 3.7 and will be removed two minor releases later. Use ``matplotlib.colormaps[name]`` or ``matplotlib.colormaps.get_cmap(obj)`` instead.\n  cmap_nodes = cm.get_cmap('viridis')\n/root/.ipykernel/14445/command-4367526046110877-670272670:45: MatplotlibDeprecationWarning: The get_cmap function was deprecated in Matplotlib 3.7 and will be removed two minor releases later. Use ``matplotlib.colormaps[name]`` or ``matplotlib.colormaps.get_cmap(obj)`` instead.\n  cmap_edges = cm.get_cmap('plasma')\n"
     ]
    },
    {
     "output_type": "stream",
     "name": "stdout",
     "output_type": "stream",
     "text": [
      "✅ GEXF exportado: /dbfs/FileStore/pubmed/sample_graph_topN_viz_2020.gexf\n"
     ]
    }
   ],
   "source": [
    "\n",
    "\n",
    "# ------------------------------\n",
    "# 0) Librerías\n",
    "# ------------------------------\n",
    "import networkx as nx\n",
    "import pandas as pd\n",
    "import matplotlib.cm as cm\n",
    "import matplotlib.colors as mcolors\n",
    "from pyspark.sql.functions import col\n",
    "\n",
    "# ------------------------------\n",
    "# 1) Pasa muestra a Pandas\n",
    "# ------------------------------\n",
    "# Filtra solo los nodos en la muestra (por ejemplo ORCID)\n",
    "nodes_pd = df_nodes.filter(col(\"orcid\").isin(sample_ids)).toPandas()\n",
    "\n",
    "# Filtra TOP N coautorías (mayores pesos)\n",
    "TOP_N = 20\n",
    "edges_pd = sample_edges.orderBy(col(\"weight\").desc()).limit(TOP_N).toPandas()\n",
    "\n",
    "# ------------------------------\n",
    "# 2) Normalizar degree → tamaño y color de nodos\n",
    "# ------------------------------\n",
    "max_degree = nodes_pd[\"degree\"].max()\n",
    "nodes_pd[\"viz_size\"] = nodes_pd[\"degree\"] / max_degree * 30  # Tamaño máx ajusta a gusto (p.ej. 30)\n",
    "\n",
    "# Paleta viridis para nodos\n",
    "norm_degree = mcolors.Normalize(vmin=0, vmax=max_degree)\n",
    "cmap_nodes = cm.get_cmap('viridis')\n",
    "\n",
    "def degree_to_color(degree):\n",
    "    rgba = cmap_nodes(norm_degree(degree))\n",
    "    r, g, b, a = [int(255*x) if i < 3 else x for i, x in enumerate(rgba)]\n",
    "    return {'r': r, 'g': g, 'b': b, 'a': a}\n",
    "\n",
    "nodes_pd[\"viz_color\"] = nodes_pd[\"degree\"].apply(degree_to_color)\n",
    "\n",
    "# ------------------------------\n",
    "# 3) Normalizar weight → grosor y color de aristas\n",
    "# ------------------------------\n",
    "max_weight = edges_pd[\"weight\"].max()\n",
    "edges_pd[\"viz_thickness\"] = edges_pd[\"weight\"] / max_weight * 10  # Grosor máx 10\n",
    "\n",
    "# Paleta plasma para aristas\n",
    "norm_weight = mcolors.Normalize(vmin=0, vmax=max_weight)\n",
    "cmap_edges = cm.get_cmap('plasma')\n",
    "\n",
    "def weight_to_color(weight):\n",
    "    rgba = cmap_edges(norm_weight(weight))\n",
    "    r, g, b, a = [int(255*x) if i < 3 else x for i, x in enumerate(rgba)]\n",
    "    return {'r': r, 'g': g, 'b': b, 'a': a}\n",
    "\n",
    "edges_pd[\"viz_color\"] = edges_pd[\"weight\"].apply(weight_to_color)\n",
    "\n",
    "# ------------------------------\n",
    "# 4) Crear grafo con viz\n",
    "# ------------------------------\n",
    "G = nx.Graph()\n",
    "\n",
    "# Añadir nodos con label y tamaño\n",
    "for idx, row in nodes_pd.iterrows():\n",
    "    G.add_node(\n",
    "        row[\"orcid\"],\n",
    "        label=row[\"author_name\"],\n",
    "        degree=row[\"degree\"],\n",
    "        viz={'size': row[\"viz_size\"], 'color': row[\"viz_color\"]}\n",
    "    )\n",
    "\n",
    "# Añadir solo aristas TOP N\n",
    "for idx, row in edges_pd.iterrows():\n",
    "    G.add_edge(\n",
    "        row[\"src\"],\n",
    "        row[\"dst\"],\n",
    "        weight=row[\"weight\"],\n",
    "        viz={'thickness': row[\"viz_thickness\"], 'color': row[\"viz_color\"]}\n",
    "    )\n",
    "\n",
    "# ------------------------------\n",
    "# 5) Guardar GEXF listo para Gephi\n",
    "# ------------------------------\n",
    "nx.write_gexf(G, \"/dbfs/FileStore/pubmed/sample_graph_topN_viz_2020.gexf\")\n",
    "\n",
    "print(\"✅ GEXF exportado: /dbfs/FileStore/pubmed/sample_graph_topN_viz_2020.gexf\")\n",
    "\n",
    "\n",
    "## https://3132215626649366.6.gcp.databricks.com/files/pubmed/sample_graph_topN_viz_2022.gexf"
   ]
  }
 ],
 "metadata": {
  "application/vnd.databricks.v1+notebook": {
   "computePreferences": null,
   "dashboards": [],
   "environmentMetadata": {
    "base_environment": "",
    "environment_version": "2"
   },
   "inputWidgetPreferences": null,
   "language": "python",
   "notebookMetadata": {
    "mostRecentlyExecutedCommandWithImplicitDF": {
     "commandId": 4367526046110873,
     "dataframes": [
      "_sqldf"
     ]
    },
    "pythonIndentUnit": 4
   },
   "notebookName": "COAUTOR_2020",
   "widgets": {}
  },
  "language_info": {
   "name": "python"
  }
 },
 "nbformat": 4,
 "nbformat_minor": 0
}