{
 "cells": [
  {
   "cell_type": "code",
   "execution_count": 0,
   "metadata": {
    "application/vnd.databricks.v1+cell": {
     "cellMetadata": {
      "byteLimit": 2048000,
      "rowLimit": 10000
     },
     "inputWidgets": {},
     "nuid": "09d9bdb9-15f4-4eae-b53f-1d32e8b41a4b",
     "showTitle": false,
     "tableResultSettingsMap": {},
     "title": ""
    }
   },
   "outputs": [
    {
     "output_type": "execute_result",
     "data": {
      "text/plain": [
       "True"
      ]
     },
     "execution_count": 5,
     "metadata": {},
     "output_type": "execute_result"
    }
   ],
   "source": [
    "# Borra carpeta y todo dentro\n",
    "dbutils.fs.rm(\"dbfs:/FileStore/exports\", recurse=True)"
   ]
  },
  {
   "cell_type": "markdown",
   "metadata": {
    "application/vnd.databricks.v1+cell": {
     "cellMetadata": {},
     "inputWidgets": {},
     "nuid": "1b164567-c86a-41ce-9349-88a0aa0c0e01",
     "showTitle": false,
     "tableResultSettingsMap": {},
     "title": ""
    }
   },
   "source": [
    "## Connection a Power **BI**"
   ]
  },
  {
   "cell_type": "code",
   "execution_count": 0,
   "metadata": {
    "application/vnd.databricks.v1+cell": {
     "cellMetadata": {
      "byteLimit": 2048000,
      "implicitDf": true,
      "rowLimit": 10000
     },
     "inputWidgets": {},
     "nuid": "5ebf9d8a-99f4-48ea-bd49-eaa20b3ef3ef",
     "showTitle": false,
     "tableResultSettingsMap": {},
     "title": ""
    }
   },
   "outputs": [
    {
     "output_type": "display_data",
     "data": {
      "text/html": [
       "<style scoped>\n",
       "  .table-result-container {\n",
       "    max-height: 300px;\n",
       "    overflow: auto;\n",
       "  }\n",
       "  table, th, td {\n",
       "    border: 1px solid black;\n",
       "    border-collapse: collapse;\n",
       "  }\n",
       "  th, td {\n",
       "    padding: 5px;\n",
       "  }\n",
       "  th {\n",
       "    text-align: left;\n",
       "  }\n",
       "</style><div class='table-result-container'><table class='table-result'><thead style='background-color: white'><tr><th>database</th><th>tableName</th><th>isTemporary</th></tr></thead><tbody><tr><td>pubmed_db</td><td>author_orci</td><td>false</td></tr><tr><td>pubmed_db</td><td>coautor</td><td>false</td></tr><tr><td>pubmed_db</td><td>coautor_2020</td><td>false</td></tr><tr><td>pubmed_db</td><td>coautor_2021</td><td>false</td></tr><tr><td>pubmed_db</td><td>coautor_2022</td><td>false</td></tr><tr><td>pubmed_db</td><td>coautor_2023</td><td>false</td></tr><tr><td>pubmed_db</td><td>coautor_2024</td><td>false</td></tr><tr><td>pubmed_db</td><td>coautor_2025</td><td>false</td></tr><tr><td>pubmed_db</td><td>coautor_all</td><td>false</td></tr><tr><td>pubmed_db</td><td>m_articulo</td><td>false</td></tr><tr><td>pubmed_db</td><td>m_autor</td><td>false</td></tr><tr><td>pubmed_db</td><td>m_revista</td><td>false</td></tr><tr><td>pubmed_db</td><td>n_institucion</td><td>false</td></tr><tr><td>pubmed_db</td><td>n_issn</td><td>false</td></tr><tr><td>pubmed_db</td><td>n_language</td><td>false</td></tr></tbody></table></div>"
      ]
     },
     "metadata": {
      "application/vnd.databricks.v1+output": {
       "addedWidgets": {},
       "aggData": [],
       "aggError": "",
       "aggOverflow": false,
       "aggSchema": [],
       "aggSeriesLimitReached": false,
       "aggType": "",
       "arguments": {},
       "columnCustomDisplayInfos": {},
       "data": [
        [
         "pubmed_db",
         "author_orci",
         false
        ],
        [
         "pubmed_db",
         "coautor",
         false
        ],
        [
         "pubmed_db",
         "coautor_2020",
         false
        ],
        [
         "pubmed_db",
         "coautor_2021",
         false
        ],
        [
         "pubmed_db",
         "coautor_2022",
         false
        ],
        [
         "pubmed_db",
         "coautor_2023",
         false
        ],
        [
         "pubmed_db",
         "coautor_2024",
         false
        ],
        [
         "pubmed_db",
         "coautor_2025",
         false
        ],
        [
         "pubmed_db",
         "coautor_all",
         false
        ],
        [
         "pubmed_db",
         "m_articulo",
         false
        ],
        [
         "pubmed_db",
         "m_autor",
         false
        ],
        [
         "pubmed_db",
         "m_revista",
         false
        ],
        [
         "pubmed_db",
         "n_institucion",
         false
        ],
        [
         "pubmed_db",
         "n_issn",
         false
        ],
        [
         "pubmed_db",
         "n_language",
         false
        ]
       ],
       "datasetInfos": [
        {
         "name": "_sqldf",
         "schema": {
          "fields": [
           {
            "metadata": {},
            "name": "database",
            "nullable": false,
            "type": "string"
           },
           {
            "metadata": {},
            "name": "tableName",
            "nullable": false,
            "type": "string"
           },
           {
            "metadata": {},
            "name": "isTemporary",
            "nullable": false,
            "type": "boolean"
           }
          ],
          "type": "struct"
         },
         "tableIdentifier": null,
         "typeStr": "pyspark.sql.dataframe.DataFrame"
        }
       ],
       "dbfsResultPath": null,
       "isJsonSchema": true,
       "metadata": {
        "createTempViewForImplicitDf": true,
        "dataframeName": "_sqldf",
        "executionCount": 3
       },
       "overflow": false,
       "plotOptions": {
        "customPlotOptions": {},
        "displayType": "table",
        "pivotAggregation": null,
        "pivotColumns": null,
        "xColumns": null,
        "yColumns": null
       },
       "removedWidgets": [],
       "schema": [
        {
         "metadata": "{}",
         "name": "database",
         "type": "\"string\""
        },
        {
         "metadata": "{}",
         "name": "tableName",
         "type": "\"string\""
        },
        {
         "metadata": "{}",
         "name": "isTemporary",
         "type": "\"boolean\""
        }
       ],
       "type": "table"
      }
     },
     "output_type": "display_data"
    }
   ],
   "source": [
    "%sql\n",
    "use pubmed_db;\n",
    "SHOW TABLES IN pubmed_db;"
   ]
  },
  {
   "cell_type": "code",
   "execution_count": 0,
   "metadata": {
    "application/vnd.databricks.v1+cell": {
     "cellMetadata": {
      "byteLimit": 2048000,
      "rowLimit": 10000
     },
     "inputWidgets": {},
     "nuid": "03f70c9f-bcc9-4f66-8ab4-335ce76d094f",
     "showTitle": false,
     "tableResultSettingsMap": {},
     "title": ""
    }
   },
   "outputs": [
    {
     "output_type": "stream",
     "name": "stdout",
     "output_type": "stream",
     "text": [
      "+--------------------+\n|      current_user()|\n+--------------------+\n|icamposbarreiro@g...|\n+--------------------+\n\n"
     ]
    }
   ],
   "source": [
    "spark.sql(\"SELECT current_user()\").show()"
   ]
  }
 ],
 "metadata": {
  "application/vnd.databricks.v1+notebook": {
   "computePreferences": null,
   "dashboards": [],
   "environmentMetadata": {
    "base_environment": "",
    "environment_version": "2"
   },
   "inputWidgetPreferences": null,
   "language": "python",
   "notebookMetadata": {
    "mostRecentlyExecutedCommandWithImplicitDF": {
     "commandId": 6578786862395333,
     "dataframes": [
      "_sqldf"
     ]
    },
    "pythonIndentUnit": 4
   },
   "notebookName": "05_Conection_a_prower_bi",
   "widgets": {}
  },
  "language_info": {
   "name": "python"
  }
 },
 "nbformat": 4,
 "nbformat_minor": 0
}